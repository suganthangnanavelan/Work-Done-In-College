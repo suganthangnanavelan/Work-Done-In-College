{
 "cells": [
  {
   "cell_type": "markdown",
   "id": "6b192e2a-14e9-4707-b1c1-e8f5aa32a919",
   "metadata": {},
   "source": [
    "### __Import Required Libraries__"
   ]
  },
  {
   "cell_type": "code",
   "execution_count": 1,
   "id": "95be04fa-500c-4308-9784-b07bb42d5232",
   "metadata": {},
   "outputs": [],
   "source": [
    "import pandas as pd\n",
    "import matplotlib.pyplot as plt"
   ]
  },
  {
   "cell_type": "markdown",
   "id": "e5ff8a35-769d-4eda-b5f3-d3c9ba7a2dce",
   "metadata": {},
   "source": [
    "##### __1. Importing the dataset__"
   ]
  },
  {
   "cell_type": "code",
   "execution_count": 2,
   "id": "69caa184-219d-4b01-8a30-1ea9ba61dcff",
   "metadata": {},
   "outputs": [
    {
     "name": "stdout",
     "output_type": "stream",
     "text": [
      "(29580, 4)\n"
     ]
    }
   ],
   "source": [
    "df = pd.read_csv('data/raw_sales.csv', index_col = 'datesold')\n",
    "print(df.shape)"
   ]
  },
  {
   "cell_type": "markdown",
   "id": "f8273eed-a0e9-4d52-a183-350a7393a290",
   "metadata": {},
   "source": [
    "##### __2. Display the first few rows to peek at the data, the last few rows__"
   ]
  },
  {
   "cell_type": "code",
   "execution_count": 3,
   "id": "490892d7-df7d-4c0f-9f8a-63883ce7432f",
   "metadata": {},
   "outputs": [
    {
     "data": {
      "text/html": [
       "<div>\n",
       "<style scoped>\n",
       "    .dataframe tbody tr th:only-of-type {\n",
       "        vertical-align: middle;\n",
       "    }\n",
       "\n",
       "    .dataframe tbody tr th {\n",
       "        vertical-align: top;\n",
       "    }\n",
       "\n",
       "    .dataframe thead th {\n",
       "        text-align: right;\n",
       "    }\n",
       "</style>\n",
       "<table border=\"1\" class=\"dataframe\">\n",
       "  <thead>\n",
       "    <tr style=\"text-align: right;\">\n",
       "      <th></th>\n",
       "      <th>postcode</th>\n",
       "      <th>price</th>\n",
       "      <th>propertyType</th>\n",
       "      <th>bedrooms</th>\n",
       "    </tr>\n",
       "    <tr>\n",
       "      <th>datesold</th>\n",
       "      <th></th>\n",
       "      <th></th>\n",
       "      <th></th>\n",
       "      <th></th>\n",
       "    </tr>\n",
       "  </thead>\n",
       "  <tbody>\n",
       "    <tr>\n",
       "      <th>2007-02-07 0:00:00</th>\n",
       "      <td>2607</td>\n",
       "      <td>525000</td>\n",
       "      <td>house</td>\n",
       "      <td>4</td>\n",
       "    </tr>\n",
       "    <tr>\n",
       "      <th>2007-02-27 0:00:00</th>\n",
       "      <td>2906</td>\n",
       "      <td>290000</td>\n",
       "      <td>house</td>\n",
       "      <td>3</td>\n",
       "    </tr>\n",
       "    <tr>\n",
       "      <th>2007-03-07 0:00:00</th>\n",
       "      <td>2905</td>\n",
       "      <td>328000</td>\n",
       "      <td>house</td>\n",
       "      <td>3</td>\n",
       "    </tr>\n",
       "    <tr>\n",
       "      <th>2007-03-09 0:00:00</th>\n",
       "      <td>2905</td>\n",
       "      <td>380000</td>\n",
       "      <td>house</td>\n",
       "      <td>4</td>\n",
       "    </tr>\n",
       "    <tr>\n",
       "      <th>2007-03-21 0:00:00</th>\n",
       "      <td>2906</td>\n",
       "      <td>310000</td>\n",
       "      <td>house</td>\n",
       "      <td>3</td>\n",
       "    </tr>\n",
       "  </tbody>\n",
       "</table>\n",
       "</div>"
      ],
      "text/plain": [
       "                    postcode   price propertyType  bedrooms\n",
       "datesold                                                   \n",
       "2007-02-07 0:00:00      2607  525000        house         4\n",
       "2007-02-27 0:00:00      2906  290000        house         3\n",
       "2007-03-07 0:00:00      2905  328000        house         3\n",
       "2007-03-09 0:00:00      2905  380000        house         4\n",
       "2007-03-21 0:00:00      2906  310000        house         3"
      ]
     },
     "execution_count": 3,
     "metadata": {},
     "output_type": "execute_result"
    }
   ],
   "source": [
    "df.head()"
   ]
  },
  {
   "cell_type": "code",
   "execution_count": 4,
   "id": "24ae00c8-949b-4047-80ed-4f0631992c3f",
   "metadata": {},
   "outputs": [
    {
     "data": {
      "text/html": [
       "<div>\n",
       "<style scoped>\n",
       "    .dataframe tbody tr th:only-of-type {\n",
       "        vertical-align: middle;\n",
       "    }\n",
       "\n",
       "    .dataframe tbody tr th {\n",
       "        vertical-align: top;\n",
       "    }\n",
       "\n",
       "    .dataframe thead th {\n",
       "        text-align: right;\n",
       "    }\n",
       "</style>\n",
       "<table border=\"1\" class=\"dataframe\">\n",
       "  <thead>\n",
       "    <tr style=\"text-align: right;\">\n",
       "      <th></th>\n",
       "      <th>postcode</th>\n",
       "      <th>price</th>\n",
       "      <th>propertyType</th>\n",
       "      <th>bedrooms</th>\n",
       "    </tr>\n",
       "    <tr>\n",
       "      <th>datesold</th>\n",
       "      <th></th>\n",
       "      <th></th>\n",
       "      <th></th>\n",
       "      <th></th>\n",
       "    </tr>\n",
       "  </thead>\n",
       "  <tbody>\n",
       "    <tr>\n",
       "      <th>2019-07-25 0:00:00</th>\n",
       "      <td>2900</td>\n",
       "      <td>500000</td>\n",
       "      <td>unit</td>\n",
       "      <td>3</td>\n",
       "    </tr>\n",
       "    <tr>\n",
       "      <th>2019-07-25 0:00:00</th>\n",
       "      <td>2612</td>\n",
       "      <td>560000</td>\n",
       "      <td>unit</td>\n",
       "      <td>2</td>\n",
       "    </tr>\n",
       "    <tr>\n",
       "      <th>2019-07-26 0:00:00</th>\n",
       "      <td>2912</td>\n",
       "      <td>464950</td>\n",
       "      <td>unit</td>\n",
       "      <td>2</td>\n",
       "    </tr>\n",
       "    <tr>\n",
       "      <th>2019-07-26 0:00:00</th>\n",
       "      <td>2601</td>\n",
       "      <td>589000</td>\n",
       "      <td>unit</td>\n",
       "      <td>2</td>\n",
       "    </tr>\n",
       "    <tr>\n",
       "      <th>2019-07-26 0:00:00</th>\n",
       "      <td>2612</td>\n",
       "      <td>775000</td>\n",
       "      <td>unit</td>\n",
       "      <td>2</td>\n",
       "    </tr>\n",
       "  </tbody>\n",
       "</table>\n",
       "</div>"
      ],
      "text/plain": [
       "                    postcode   price propertyType  bedrooms\n",
       "datesold                                                   \n",
       "2019-07-25 0:00:00      2900  500000         unit         3\n",
       "2019-07-25 0:00:00      2612  560000         unit         2\n",
       "2019-07-26 0:00:00      2912  464950         unit         2\n",
       "2019-07-26 0:00:00      2601  589000         unit         2\n",
       "2019-07-26 0:00:00      2612  775000         unit         2"
      ]
     },
     "execution_count": 4,
     "metadata": {},
     "output_type": "execute_result"
    }
   ],
   "source": [
    "df.tail()"
   ]
  },
  {
   "cell_type": "markdown",
   "id": "9c24bbd0-75f0-4eb6-863d-7960337bcb77",
   "metadata": {},
   "source": [
    "##### __3. Print the summary statistics__"
   ]
  },
  {
   "cell_type": "code",
   "execution_count": 5,
   "id": "bf0037dd-41b5-4c55-ae5c-8dfa5cb11f90",
   "metadata": {},
   "outputs": [
    {
     "data": {
      "text/html": [
       "<div>\n",
       "<style scoped>\n",
       "    .dataframe tbody tr th:only-of-type {\n",
       "        vertical-align: middle;\n",
       "    }\n",
       "\n",
       "    .dataframe tbody tr th {\n",
       "        vertical-align: top;\n",
       "    }\n",
       "\n",
       "    .dataframe thead th {\n",
       "        text-align: right;\n",
       "    }\n",
       "</style>\n",
       "<table border=\"1\" class=\"dataframe\">\n",
       "  <thead>\n",
       "    <tr style=\"text-align: right;\">\n",
       "      <th></th>\n",
       "      <th>count</th>\n",
       "      <th>mean</th>\n",
       "      <th>std</th>\n",
       "      <th>min</th>\n",
       "      <th>25%</th>\n",
       "      <th>50%</th>\n",
       "      <th>75%</th>\n",
       "      <th>max</th>\n",
       "    </tr>\n",
       "  </thead>\n",
       "  <tbody>\n",
       "    <tr>\n",
       "      <th>postcode</th>\n",
       "      <td>29580.0</td>\n",
       "      <td>2730.249730</td>\n",
       "      <td>146.717292</td>\n",
       "      <td>2600.0</td>\n",
       "      <td>2607.0</td>\n",
       "      <td>2615.0</td>\n",
       "      <td>2905.0</td>\n",
       "      <td>2914.0</td>\n",
       "    </tr>\n",
       "    <tr>\n",
       "      <th>price</th>\n",
       "      <td>29580.0</td>\n",
       "      <td>609736.262204</td>\n",
       "      <td>281707.905374</td>\n",
       "      <td>56500.0</td>\n",
       "      <td>440000.0</td>\n",
       "      <td>550000.0</td>\n",
       "      <td>705000.0</td>\n",
       "      <td>8000000.0</td>\n",
       "    </tr>\n",
       "    <tr>\n",
       "      <th>bedrooms</th>\n",
       "      <td>29580.0</td>\n",
       "      <td>3.250169</td>\n",
       "      <td>0.951275</td>\n",
       "      <td>0.0</td>\n",
       "      <td>3.0</td>\n",
       "      <td>3.0</td>\n",
       "      <td>4.0</td>\n",
       "      <td>5.0</td>\n",
       "    </tr>\n",
       "  </tbody>\n",
       "</table>\n",
       "</div>"
      ],
      "text/plain": [
       "            count           mean            std      min       25%       50%  \\\n",
       "postcode  29580.0    2730.249730     146.717292   2600.0    2607.0    2615.0   \n",
       "price     29580.0  609736.262204  281707.905374  56500.0  440000.0  550000.0   \n",
       "bedrooms  29580.0       3.250169       0.951275      0.0       3.0       3.0   \n",
       "\n",
       "               75%        max  \n",
       "postcode    2905.0     2914.0  \n",
       "price     705000.0  8000000.0  \n",
       "bedrooms       4.0        5.0  "
      ]
     },
     "execution_count": 5,
     "metadata": {},
     "output_type": "execute_result"
    }
   ],
   "source": [
    "df.describe().T"
   ]
  },
  {
   "cell_type": "markdown",
   "id": "fb7299b8-90fe-4dae-93a1-496129bc928a",
   "metadata": {},
   "source": [
    "##### __4. Filter data for a specific year__"
   ]
  },
  {
   "cell_type": "code",
   "execution_count": 6,
   "id": "6a533c7b-6786-4789-9a18-0f19125de32d",
   "metadata": {},
   "outputs": [
    {
     "data": {
      "text/plain": [
       "522377.2108843537"
      ]
     },
     "execution_count": 6,
     "metadata": {},
     "output_type": "execute_result"
    }
   ],
   "source": [
    "df.index = pd.to_datetime(df.index)\n",
    "df['price'][df.index.year == 2007].mean()"
   ]
  },
  {
   "cell_type": "markdown",
   "id": "111029b6-fcc9-4f5e-a9d8-833ae27c039e",
   "metadata": {},
   "source": [
    "##### __5. Plot the average price per year__"
   ]
  },
  {
   "cell_type": "code",
   "execution_count": 7,
   "id": "71212203-c3e5-49ca-aa07-bbc12a2e0de6",
   "metadata": {},
   "outputs": [
    {
     "data": {
      "image/png": "[encoded data removed]",
      "text/plain": [
       "<Figure size 640x480 with 1 Axes>"
      ]
     },
     "metadata": {},
     "output_type": "display_data"
    }
   ],
   "source": [
    "group = df['price'].groupby(df.index.year).mean()\n",
    "plt.plot(group.index, group.values, color = 'r', label = 'Average_Price/Yr')\n",
    "plt.title('Average Price Year Wise')\n",
    "plt.legend()\n",
    "plt.show()"
   ]
  },
  {
   "cell_type": "markdown",
   "id": "0405f26e-b564-48a2-9fb5-6d89311a363e",
   "metadata": {},
   "source": [
    "##### __6. Count of properties sold per year__"
   ]
  },
  {
   "cell_type": "code",
   "execution_count": 8,
   "id": "7e1cb0fb-f494-49b1-adbc-89824b7e3855",
   "metadata": {},
   "outputs": [
    {
     "data": {
      "image/png": "[encoded data removed]",
      "text/plain": [
       "<Figure size 640x480 with 1 Axes>"
      ]
     },
     "metadata": {},
     "output_type": "display_data"
    }
   ],
   "source": [
    "group = df.groupby(df.index.year).count()\n",
    "plt.bar(group.index, group.values[:, 0], color = 'g', label = 'Property_Sold/Yr')\n",
    "plt.title('Property\\'s Sold Year Wise')\n",
    "plt.legend()\n",
    "plt.show()"
   ]
  },
  {
   "cell_type": "markdown",
   "id": "d9b4c518-05ec-41ba-956d-e145efc958fd",
   "metadata": {},
   "source": [
    "##### __7. Query for a specific date range (e.g., Jan 2010 to Dec 2015)__"
   ]
  },
  {
   "cell_type": "code",
   "execution_count": 9,
   "id": "17f1f390-9e5b-4bc1-882a-88d0331e3a12",
   "metadata": {},
   "outputs": [
    {
     "data": {
      "text/html": [
       "<div>\n",
       "<style scoped>\n",
       "    .dataframe tbody tr th:only-of-type {\n",
       "        vertical-align: middle;\n",
       "    }\n",
       "\n",
       "    .dataframe tbody tr th {\n",
       "        vertical-align: top;\n",
       "    }\n",
       "\n",
       "    .dataframe thead th {\n",
       "        text-align: right;\n",
       "    }\n",
       "</style>\n",
       "<table border=\"1\" class=\"dataframe\">\n",
       "  <thead>\n",
       "    <tr style=\"text-align: right;\">\n",
       "      <th></th>\n",
       "      <th>postcode</th>\n",
       "      <th>price</th>\n",
       "      <th>propertyType</th>\n",
       "      <th>bedrooms</th>\n",
       "    </tr>\n",
       "    <tr>\n",
       "      <th>datesold</th>\n",
       "      <th></th>\n",
       "      <th></th>\n",
       "      <th></th>\n",
       "      <th></th>\n",
       "    </tr>\n",
       "  </thead>\n",
       "  <tbody>\n",
       "    <tr>\n",
       "      <th>2010-01-04</th>\n",
       "      <td>2615</td>\n",
       "      <td>435000</td>\n",
       "      <td>house</td>\n",
       "      <td>3</td>\n",
       "    </tr>\n",
       "    <tr>\n",
       "      <th>2010-01-05</th>\n",
       "      <td>2904</td>\n",
       "      <td>712000</td>\n",
       "      <td>house</td>\n",
       "      <td>4</td>\n",
       "    </tr>\n",
       "    <tr>\n",
       "      <th>2010-01-06</th>\n",
       "      <td>2617</td>\n",
       "      <td>435000</td>\n",
       "      <td>house</td>\n",
       "      <td>4</td>\n",
       "    </tr>\n",
       "    <tr>\n",
       "      <th>2010-01-06</th>\n",
       "      <td>2606</td>\n",
       "      <td>1350000</td>\n",
       "      <td>house</td>\n",
       "      <td>5</td>\n",
       "    </tr>\n",
       "    <tr>\n",
       "      <th>2010-01-07</th>\n",
       "      <td>2905</td>\n",
       "      <td>612500</td>\n",
       "      <td>house</td>\n",
       "      <td>4</td>\n",
       "    </tr>\n",
       "    <tr>\n",
       "      <th>...</th>\n",
       "      <td>...</td>\n",
       "      <td>...</td>\n",
       "      <td>...</td>\n",
       "      <td>...</td>\n",
       "    </tr>\n",
       "    <tr>\n",
       "      <th>2015-12-23</th>\n",
       "      <td>2603</td>\n",
       "      <td>415000</td>\n",
       "      <td>unit</td>\n",
       "      <td>2</td>\n",
       "    </tr>\n",
       "    <tr>\n",
       "      <th>2015-12-23</th>\n",
       "      <td>2612</td>\n",
       "      <td>438000</td>\n",
       "      <td>unit</td>\n",
       "      <td>2</td>\n",
       "    </tr>\n",
       "    <tr>\n",
       "      <th>2015-12-23</th>\n",
       "      <td>2612</td>\n",
       "      <td>450000</td>\n",
       "      <td>unit</td>\n",
       "      <td>2</td>\n",
       "    </tr>\n",
       "    <tr>\n",
       "      <th>2015-12-23</th>\n",
       "      <td>2605</td>\n",
       "      <td>515000</td>\n",
       "      <td>unit</td>\n",
       "      <td>2</td>\n",
       "    </tr>\n",
       "    <tr>\n",
       "      <th>2015-12-24</th>\n",
       "      <td>2900</td>\n",
       "      <td>365000</td>\n",
       "      <td>unit</td>\n",
       "      <td>2</td>\n",
       "    </tr>\n",
       "  </tbody>\n",
       "</table>\n",
       "<p>13676 rows × 4 columns</p>\n",
       "</div>"
      ],
      "text/plain": [
       "            postcode    price propertyType  bedrooms\n",
       "datesold                                            \n",
       "2010-01-04      2615   435000        house         3\n",
       "2010-01-05      2904   712000        house         4\n",
       "2010-01-06      2617   435000        house         4\n",
       "2010-01-06      2606  1350000        house         5\n",
       "2010-01-07      2905   612500        house         4\n",
       "...              ...      ...          ...       ...\n",
       "2015-12-23      2603   415000         unit         2\n",
       "2015-12-23      2612   438000         unit         2\n",
       "2015-12-23      2612   450000         unit         2\n",
       "2015-12-23      2605   515000         unit         2\n",
       "2015-12-24      2900   365000         unit         2\n",
       "\n",
       "[13676 rows x 4 columns]"
      ]
     },
     "execution_count": 9,
     "metadata": {},
     "output_type": "execute_result"
    }
   ],
   "source": [
    "df2 = df[(df.index > '1/1/2010') & (df.index <= '31/12/2015')]\n",
    "df2"
   ]
  },
  {
   "cell_type": "markdown",
   "id": "28c84984-a5f0-4c46-963f-5c6e3336aed9",
   "metadata": {},
   "source": [
    "##### __8. Calculate the mean price month-wise (use Groupby)__"
   ]
  },
  {
   "cell_type": "code",
   "execution_count": 10,
   "id": "db344276-03ab-4fb5-bb62-5dbc0fc11852",
   "metadata": {},
   "outputs": [
    {
     "data": {
      "text/plain": [
       "datesold\n",
       "1     544888.799283\n",
       "2     563432.444644\n",
       "3     591471.616919\n",
       "4     576216.768116\n",
       "5     582079.192840\n",
       "6     567459.933735\n",
       "7     561843.308653\n",
       "8     565462.996815\n",
       "9     586977.304541\n",
       "10    597253.885895\n",
       "11    624797.507752\n",
       "12    597433.875000\n",
       "Name: price, dtype: float64"
      ]
     },
     "execution_count": 10,
     "metadata": {},
     "output_type": "execute_result"
    }
   ],
   "source": [
    "df2['price'].groupby(df2.index.month).mean()"
   ]
  },
  {
   "cell_type": "markdown",
   "id": "3f1afa45-d234-4f01-bf63-ea2a5a73f708",
   "metadata": {},
   "source": [
    "##### __9. Perform a histogram plot__"
   ]
  },
  {
   "cell_type": "code",
   "execution_count": 11,
   "id": "f0d19cd6-8800-4b7b-b827-6c8fb43d72d9",
   "metadata": {},
   "outputs": [
    {
     "data": {
      "image/png": "[encoded data removed]",
      "text/plain": [
       "<Figure size 640x480 with 1 Axes>"
      ]
     },
     "metadata": {},
     "output_type": "display_data"
    }
   ],
   "source": [
    "plt.plot(df['price'])\n",
    "plt.title('Price Distribution Time-Series')\n",
    "plt.show()"
   ]
  },
  {
   "cell_type": "markdown",
   "id": "b33230fa-a886-4639-926a-cb60f0398745",
   "metadata": {},
   "source": [
    "##### __10. Print the property price > 5Lakhs__"
   ]
  },
  {
   "cell_type": "code",
   "execution_count": 12,
   "id": "42695276-9e68-4e56-90a6-02a10e78ed14",
   "metadata": {},
   "outputs": [
    {
     "data": {
      "text/html": [
       "<div>\n",
       "<style scoped>\n",
       "    .dataframe tbody tr th:only-of-type {\n",
       "        vertical-align: middle;\n",
       "    }\n",
       "\n",
       "    .dataframe tbody tr th {\n",
       "        vertical-align: top;\n",
       "    }\n",
       "\n",
       "    .dataframe thead th {\n",
       "        text-align: right;\n",
       "    }\n",
       "</style>\n",
       "<table border=\"1\" class=\"dataframe\">\n",
       "  <thead>\n",
       "    <tr style=\"text-align: right;\">\n",
       "      <th></th>\n",
       "      <th>postcode</th>\n",
       "      <th>price</th>\n",
       "      <th>propertyType</th>\n",
       "      <th>bedrooms</th>\n",
       "    </tr>\n",
       "    <tr>\n",
       "      <th>datesold</th>\n",
       "      <th></th>\n",
       "      <th></th>\n",
       "      <th></th>\n",
       "      <th></th>\n",
       "    </tr>\n",
       "  </thead>\n",
       "  <tbody>\n",
       "    <tr>\n",
       "      <th>2007-02-07</th>\n",
       "      <td>2607</td>\n",
       "      <td>525000</td>\n",
       "      <td>house</td>\n",
       "      <td>4</td>\n",
       "    </tr>\n",
       "    <tr>\n",
       "      <th>2007-04-30</th>\n",
       "      <td>2606</td>\n",
       "      <td>1530000</td>\n",
       "      <td>house</td>\n",
       "      <td>4</td>\n",
       "    </tr>\n",
       "    <tr>\n",
       "      <th>2007-06-27</th>\n",
       "      <td>2612</td>\n",
       "      <td>850000</td>\n",
       "      <td>house</td>\n",
       "      <td>4</td>\n",
       "    </tr>\n",
       "    <tr>\n",
       "      <th>2007-06-28</th>\n",
       "      <td>2904</td>\n",
       "      <td>765000</td>\n",
       "      <td>house</td>\n",
       "      <td>4</td>\n",
       "    </tr>\n",
       "    <tr>\n",
       "      <th>2007-06-30</th>\n",
       "      <td>2615</td>\n",
       "      <td>517000</td>\n",
       "      <td>house</td>\n",
       "      <td>4</td>\n",
       "    </tr>\n",
       "    <tr>\n",
       "      <th>...</th>\n",
       "      <td>...</td>\n",
       "      <td>...</td>\n",
       "      <td>...</td>\n",
       "      <td>...</td>\n",
       "    </tr>\n",
       "    <tr>\n",
       "      <th>2019-07-23</th>\n",
       "      <td>2912</td>\n",
       "      <td>549950</td>\n",
       "      <td>unit</td>\n",
       "      <td>3</td>\n",
       "    </tr>\n",
       "    <tr>\n",
       "      <th>2019-07-24</th>\n",
       "      <td>2601</td>\n",
       "      <td>590000</td>\n",
       "      <td>unit</td>\n",
       "      <td>1</td>\n",
       "    </tr>\n",
       "    <tr>\n",
       "      <th>2019-07-25</th>\n",
       "      <td>2612</td>\n",
       "      <td>560000</td>\n",
       "      <td>unit</td>\n",
       "      <td>2</td>\n",
       "    </tr>\n",
       "    <tr>\n",
       "      <th>2019-07-26</th>\n",
       "      <td>2601</td>\n",
       "      <td>589000</td>\n",
       "      <td>unit</td>\n",
       "      <td>2</td>\n",
       "    </tr>\n",
       "    <tr>\n",
       "      <th>2019-07-26</th>\n",
       "      <td>2612</td>\n",
       "      <td>775000</td>\n",
       "      <td>unit</td>\n",
       "      <td>2</td>\n",
       "    </tr>\n",
       "  </tbody>\n",
       "</table>\n",
       "<p>17873 rows × 4 columns</p>\n",
       "</div>"
      ],
      "text/plain": [
       "            postcode    price propertyType  bedrooms\n",
       "datesold                                            \n",
       "2007-02-07      2607   525000        house         4\n",
       "2007-04-30      2606  1530000        house         4\n",
       "2007-06-27      2612   850000        house         4\n",
       "2007-06-28      2904   765000        house         4\n",
       "2007-06-30      2615   517000        house         4\n",
       "...              ...      ...          ...       ...\n",
       "2019-07-23      2912   549950         unit         3\n",
       "2019-07-24      2601   590000         unit         1\n",
       "2019-07-25      2612   560000         unit         2\n",
       "2019-07-26      2601   589000         unit         2\n",
       "2019-07-26      2612   775000         unit         2\n",
       "\n",
       "[17873 rows x 4 columns]"
      ]
     },
     "execution_count": 12,
     "metadata": {},
     "output_type": "execute_result"
    }
   ],
   "source": [
    "df[df['price'] > 500000]"
   ]
  }
 ],
 "metadata": {
  "kernelspec": {
   "display_name": "Python 3 (ipykernel)",
   "language": "python",
   "name": "python3"
  },
  "language_info": {
   "codemirror_mode": {
    "name": "ipython",
    "version": 3
   },
   "file_extension": ".py",
   "mimetype": "text/x-python",
   "name": "python",
   "nbconvert_exporter": "python",
   "pygments_lexer": "ipython3",
   "version": "3.12.4"
  }
 },
 "nbformat": 4,
 "nbformat_minor": 5
}
