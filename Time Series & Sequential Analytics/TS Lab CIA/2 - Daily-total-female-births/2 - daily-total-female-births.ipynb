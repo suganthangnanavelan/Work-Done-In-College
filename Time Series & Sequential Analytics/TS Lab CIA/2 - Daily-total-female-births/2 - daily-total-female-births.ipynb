{
 "cells": [
  {
   "cell_type": "code",
   "execution_count": null,
   "id": "487cf97a-4bd0-433b-8c0b-db8eb551354a",
   "metadata": {},
   "outputs": [],
   "source": [
    "import pandas as pd\n",
    "import numpy as np\n",
    "import matplotlib.pyplot as plt\n",
    "import seaborn as sns\n",
    "from statsmodels.tsa.stattools import adfuller\n",
    "from statsmodels.tsa.seasonal import seasonal_decompose"
   ]
  },
  {
   "cell_type": "code",
   "execution_count": null,
   "id": "dd6a9dc6-1e40-4fd1-8be4-6c69b50d82d8",
   "metadata": {},
   "outputs": [],
   "source": [
    "df = pd.read_csv('daily-total-female-births.csv')\n",
    "print(\"Dataset Loaded Successfully\")\n",
    "df.head()"
   ]
  },
  {
   "cell_type": "code",
   "execution_count": null,
   "id": "1aee6411-6105-4d85-ac03-b7b8ec2d190d",
   "metadata": {},
   "outputs": [],
   "source": [
    "df['Date'] = pd.to_datetime(df['Date'])\n",
    "df.set_index('Date', inplace=True)\n",
    "df.info()"
   ]
  },
  {
   "cell_type": "code",
   "execution_count": null,
   "id": "64c2371b-1ac2-47e6-89be-9d6456c55c90",
   "metadata": {},
   "outputs": [],
   "source": [
    "print(\"\\nDataset Summary:\")\n",
    "df.describe()"
   ]
  },
  {
   "cell_type": "code",
   "execution_count": null,
   "id": "81010eaa-b416-47b3-b727-e86da7f8161b",
   "metadata": {},
   "outputs": [],
   "source": [
    "df['Year'] = df.index.year\n",
    "df['Month_Num'] = df.index.month\n",
    "yearly_data = df.groupby('Year')['Births'].sum()\n",
    "monthly_data = df.groupby('Month_Num')['Births'].mean()\n",
    "print(\"\\nYearly Data:\")\n",
    "display(yearly_data.head())\n",
    "print(\"\\nMonthly Data:\")\n",
    "display(monthly_data.head())"
   ]
  },
  {
   "cell_type": "code",
   "execution_count": null,
   "id": "ca8b19ba-18e3-45c9-8ba9-ba2a1e386cfe",
   "metadata": {},
   "outputs": [],
   "source": [
    "plt.figure(figsize=(12, 6))\n",
    "df['Births'].plot(title='Daily Total Female Births Over Time')\n",
    "plt.xlabel('Year')\n",
    "plt.ylabel('Number of Births')\n",
    "plt.show()"
   ]
  },
  {
   "cell_type": "code",
   "execution_count": null,
   "id": "21e2a172-9b10-4ac1-acc5-e08fcccb9c83",
   "metadata": {},
   "outputs": [],
   "source": [
    "plt.figure(figsize=(8, 5))\n",
    "plt.hist(df['Births'], bins=20, edgecolor='black')\n",
    "plt.title(\"Histogram of Birth Counts\")\n",
    "plt.xlabel(\"Births\")\n",
    "plt.ylabel(\"Frequency\")\n",
    "plt.show()"
   ]
  },
  {
   "cell_type": "code",
   "execution_count": null,
   "id": "425a688c-5125-463d-9061-273ce4558db4",
   "metadata": {},
   "outputs": [],
   "source": [
    "sns.kdeplot(df['Births'], fill=True)\n",
    "plt.title(\"Density Plot of Birth Counts\")\n",
    "plt.show()"
   ]
  },
  {
   "cell_type": "code",
   "execution_count": null,
   "id": "91058ea5-efb8-4d74-b1a5-3820deca3417",
   "metadata": {},
   "outputs": [],
   "source": [
    "sns.boxplot(df['Births'])\n",
    "plt.title(\"Box and Whisker Plot of Birth Counts\")\n",
    "plt.show()"
   ]
  },
  {
   "cell_type": "code",
   "execution_count": null,
   "id": "ae19d7a0-af99-4c07-9250-13098bf9f436",
   "metadata": {},
   "outputs": [],
   "source": [
    "df['Rolling_Mean_3'] = df['Births'].rolling(3).mean()\n",
    "df['Expanding_Mean'] = df['Births'].expanding().mean()\n",
    "df.head()"
   ]
  },
  {
   "cell_type": "code",
   "execution_count": null,
   "id": "9dd9ff6c-4b3b-46d1-85cf-daf6af100b48",
   "metadata": {},
   "outputs": [],
   "source": [
    "df_resampled = df.resample('W').mean()  # Weekly resampling\n",
    "interpolated_df = df.interpolate(method='linear')  # Linear interpolation\n",
    "interpolated_df.head()"
   ]
  },
  {
   "cell_type": "code",
   "execution_count": null,
   "id": "bfa32ab5-48ee-4aff-8217-881e8429ebe8",
   "metadata": {},
   "outputs": [],
   "source": [
    "#(ADF Test)\n",
    "print(\"\\nPerforming ADF Test for Stationarity:\")\n",
    "adf_result = adfuller(df['Births'])\n",
    "print(f\"ADF Statistic: {adf_result[0]}\")\n",
    "print(f\"p-value: {adf_result[1]}\")\n",
    "print(f\"Critical Values: {adf_result[4]}\")"
   ]
  },
  {
   "cell_type": "code",
   "execution_count": null,
   "id": "4aecf4be-05a1-4bae-8b6b-c5f5e5f49480",
   "metadata": {},
   "outputs": [],
   "source": [
    "decomposed = seasonal_decompose(df['Births'], model='additive', period=7)\n",
    "plt.figure(figsize=(12, 8))\n",
    "plt.subplot(411)\n",
    "plt.plot(df['Births'], label='Original')\n",
    "plt.legend(loc='best')\n",
    "plt.subplot(412)\n",
    "plt.plot(decomposed.trend, label='Trend')\n",
    "plt.legend(loc='best')\n",
    "plt.subplot(413)\n",
    "plt.plot(decomposed.seasonal, label='Seasonality')\n",
    "plt.legend(loc='best')\n",
    "plt.subplot(414)\n",
    "plt.plot(decomposed.resid, label='Residuals')\n",
    "plt.legend(loc='best')\n",
    "plt.tight_layout()\n",
    "plt.show()"
   ]
  }
 ],
 "metadata": {
  "kernelspec": {
   "display_name": "Python 3 (ipykernel)",
   "language": "python",
   "name": "python3"
  },
  "language_info": {
   "codemirror_mode": {
    "name": "ipython",
    "version": 3
   },
   "file_extension": ".py",
   "mimetype": "text/x-python",
   "name": "python",
   "nbconvert_exporter": "python",
   "pygments_lexer": "ipython3",
   "version": "3.12.4"
  }
 },
 "nbformat": 4,
 "nbformat_minor": 5
}
