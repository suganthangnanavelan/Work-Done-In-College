{
 "cells": [
  {
   "cell_type": "code",
   "execution_count": null,
   "id": "8c277840-b16a-423e-9f4f-f3b803c2c2ee",
   "metadata": {},
   "outputs": [],
   "source": [
    "import pandas as pd\n",
    "import numpy as np\n",
    "import matplotlib.pyplot as plt\n",
    "import seaborn as sns\n",
    "from statsmodels.tsa.stattools import adfuller, kpss\n",
    "from statsmodels.graphics.tsaplots import plot_acf, plot_pacf"
   ]
  },
  {
   "cell_type": "code",
   "execution_count": null,
   "id": "9eb2b98c-9f4b-4f11-8773-ab7288365a2c",
   "metadata": {},
   "outputs": [],
   "source": [
    "import warnings\n",
    "warnings.filterwarnings('ignore')"
   ]
  },
  {
   "cell_type": "code",
   "execution_count": null,
   "id": "6a81c3aa-f769-4e32-b02c-1e4976f7f1a4",
   "metadata": {},
   "outputs": [],
   "source": [
    "file_path = \"shampoo_sales.csv\"\n",
    "shampoo_data = pd.read_csv(file_path)\n",
    "\n",
    "shampoo_data['Date'] = pd.to_datetime(shampoo_data['Month'], format=\"%m-%y\")\n",
    "shampoo_data.set_index('Date', inplace=True)\n",
    "shampoo_data.drop(columns=['Month'], inplace=True)\n",
    "shampoo_data.head()"
   ]
  },
  {
   "cell_type": "code",
   "execution_count": null,
   "id": "448b1106-37c9-43b8-9b79-fd370c2046c6",
   "metadata": {},
   "outputs": [],
   "source": [
    "print(shampoo_data.info())\n",
    "print(shampoo_data.describe())"
   ]
  },
  {
   "cell_type": "code",
   "execution_count": null,
   "id": "a63051e2-dc07-433c-a473-d6529d40b374",
   "metadata": {},
   "outputs": [],
   "source": [
    "plt.figure(figsize=(10, 5))\n",
    "plt.plot(shampoo_data['Sales'], marker='o', linestyle='-')\n",
    "plt.title(\"Shampoo Sales Over Time\")\n",
    "plt.show()"
   ]
  },
  {
   "cell_type": "code",
   "execution_count": null,
   "id": "49fb7080-639b-4bba-a96f-0afe16fae498",
   "metadata": {},
   "outputs": [],
   "source": [
    "plt.scatter(shampoo_data.index, shampoo_data['Sales'])\n",
    "plt.title(\"Scatter Plot of Shampoo Sales\")\n",
    "plt.show()"
   ]
  },
  {
   "cell_type": "code",
   "execution_count": null,
   "id": "90c8cac6-eb8b-4352-a644-0511715e3a38",
   "metadata": {},
   "outputs": [],
   "source": [
    "plot_acf(shampoo_data['Sales'])\n",
    "plt.show()\n",
    "\n",
    "plot_pacf(shampoo_data['Sales'])\n",
    "plt.show()"
   ]
  },
  {
   "cell_type": "code",
   "execution_count": null,
   "id": "4e996648-7825-45cb-812a-628c53a16c4a",
   "metadata": {},
   "outputs": [],
   "source": [
    "plt.figure(figsize=(8, 5))\n",
    "sns.histplot(shampoo_data['Sales'], bins=20, kde=True, edgecolor='black')\n",
    "plt.title(\"Histogram of Shampoo Sales\")\n",
    "plt.show()"
   ]
  },
  {
   "cell_type": "code",
   "execution_count": null,
   "id": "17b1e87a-bd61-4a01-851d-41527be0b032",
   "metadata": {},
   "outputs": [],
   "source": [
    "sns.kdeplot(shampoo_data['Sales'], fill=True)\n",
    "plt.title(\"Density Plot of Shampoo Sales\")\n",
    "plt.show()"
   ]
  },
  {
   "cell_type": "code",
   "execution_count": null,
   "id": "10c9d944-fe80-43a0-9300-4cb8ea57d5d3",
   "metadata": {},
   "outputs": [],
   "source": [
    "plt.figure(figsize=(8, 6))\n",
    "sns.heatmap(shampoo_data.corr(), annot=True, cmap='coolwarm')\n",
    "plt.title(\"Correlation Heatmap\")\n",
    "plt.show()"
   ]
  },
  {
   "cell_type": "code",
   "execution_count": null,
   "id": "c77ab9ee-e024-4f5b-b7bf-db2332496f83",
   "metadata": {},
   "outputs": [],
   "source": [
    "upsampled = shampoo_data.resample('D').interpolate(method='linear')\n",
    "\n",
    "plt.figure(figsize=(12, 5))\n",
    "plt.plot(upsampled['Sales'], label='Linear Interpolation', color='blue')\n",
    "plt.title(\"Upsampled Data (Daily)\")\n",
    "plt.legend()\n",
    "plt.show()"
   ]
  },
  {
   "cell_type": "code",
   "execution_count": null,
   "id": "65cbf554-b568-4841-8572-5454723505a2",
   "metadata": {},
   "outputs": [],
   "source": [
    "upsampled_quadratic = shampoo_data.resample('D').interpolate(method='quadratic')\n",
    "\n",
    "plt.figure(figsize=(12, 5))\n",
    "plt.plot(upsampled_quadratic['Sales'], label='Quadratic Interpolation', color='red')\n",
    "plt.title(\"Upsampled Data (Quadratic)\")\n",
    "plt.legend()\n",
    "plt.show()"
   ]
  },
  {
   "cell_type": "code",
   "execution_count": null,
   "id": "0cb91482-23cb-45f1-8dc9-bf6def1f1383",
   "metadata": {},
   "outputs": [],
   "source": [
    "def adf_test(series):\n",
    "    result = adfuller(series.dropna())\n",
    "    print(\"ADF Statistic:\", result[0])\n",
    "    print(\"p-value:\", result[1])\n",
    "    print(\"Stationary\" if result[1] < 0.05 else \"Non-Stationary\")\n",
    "\n",
    "print(\"\\nADF Test Results:\")\n",
    "adf_test(shampoo_data['Sales'])\n",
    "\n",
    "def kpss_test(series):\n",
    "    result = kpss(series.dropna(), regression='c')\n",
    "    print(\"KPSS Statistic:\", result[0])\n",
    "    print(\"p-value:\", result[1])\n",
    "    print(\"Stationary\" if result[1] > 0.05 else \"Non-Stationary\")\n",
    "\n",
    "print(\"\\nKPSS Test Results:\")\n",
    "kpss_test(shampoo_data['Sales'])"
   ]
  }
 ],
 "metadata": {
  "kernelspec": {
   "display_name": "Python 3 (ipykernel)",
   "language": "python",
   "name": "python3"
  },
  "language_info": {
   "codemirror_mode": {
    "name": "ipython",
    "version": 3
   },
   "file_extension": ".py",
   "mimetype": "text/x-python",
   "name": "python",
   "nbconvert_exporter": "python",
   "pygments_lexer": "ipython3",
   "version": "3.12.4"
  }
 },
 "nbformat": 4,
 "nbformat_minor": 5
}
