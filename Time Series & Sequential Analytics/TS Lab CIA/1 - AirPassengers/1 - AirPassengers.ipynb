{
 "cells": [
  {
   "cell_type": "code",
   "execution_count": null,
   "id": "87ec015f-1801-4aae-a7ae-3c16428341ba",
   "metadata": {},
   "outputs": [],
   "source": [
    "import pandas as pd\n",
    "import numpy as np\n",
    "import matplotlib.pyplot as plt\n",
    "import seaborn as sns\n",
    "from statsmodels.tsa.stattools import adfuller\n",
    "from statsmodels.tsa.seasonal import seasonal_decompose"
   ]
  },
  {
   "cell_type": "code",
   "execution_count": null,
   "id": "44d66930-1a1c-4088-868f-2f433939e8fc",
   "metadata": {},
   "outputs": [],
   "source": [
    "df = pd.read_csv('AirPassengers.csv')\n",
    "print(\"Dataset Loaded Successfully\")\n",
    "df.head()"
   ]
  },
  {
   "cell_type": "code",
   "execution_count": null,
   "id": "cdc1ab64-0857-4bc6-b09a-58f8531a8f4b",
   "metadata": {},
   "outputs": [],
   "source": [
    "df['Month'] = pd.to_datetime(df['Month'])\n",
    "df.set_index('Month', inplace=True)\n",
    "df.info()"
   ]
  },
  {
   "cell_type": "code",
   "execution_count": null,
   "id": "38df2890-85ae-4bf4-a612-7d2a0b1ce1ac",
   "metadata": {},
   "outputs": [],
   "source": [
    "print(\"\\nDataset Summary:\")\n",
    "df.describe()"
   ]
  },
  {
   "cell_type": "code",
   "execution_count": null,
   "id": "a2347abf-db03-4b8a-be92-6dc2c617367e",
   "metadata": {},
   "outputs": [],
   "source": [
    "df['Year'] = df.index.year\n",
    "df['Month_Num'] = df.index.month\n",
    "yearly_data = df.groupby('Year')['#Passengers'].sum()\n",
    "monthly_data = df.groupby('Month_Num')['#Passengers'].mean()\n",
    "print(\"\\nYearly Data:\")\n",
    "print(yearly_data.head())\n",
    "print(\"\\nMonthly Data:\")\n",
    "print(monthly_data.head())"
   ]
  },
  {
   "cell_type": "code",
   "execution_count": null,
   "id": "0bee4ef4-6272-410a-87a7-119f68ea98b1",
   "metadata": {},
   "outputs": [],
   "source": [
    "plt.figure(figsize=(12, 6))\n",
    "df['#Passengers'].plot(title='Air Passengers Over Time')\n",
    "plt.xlabel('Year')\n",
    "plt.ylabel('Number of Passengers')\n",
    "plt.show()"
   ]
  },
  {
   "cell_type": "code",
   "execution_count": null,
   "id": "e7917c24-12a4-4932-a9e7-3d0d1bff8244",
   "metadata": {},
   "outputs": [],
   "source": [
    "plt.figure(figsize=(8, 5))\n",
    "plt.hist(df['#Passengers'], bins=20, edgecolor='black')\n",
    "plt.title(\"Histogram of Passenger Counts\")\n",
    "plt.xlabel(\"Passengers\")\n",
    "plt.ylabel(\"Frequency\")\n",
    "plt.show()"
   ]
  },
  {
   "cell_type": "code",
   "execution_count": null,
   "id": "1e34240f-9035-4653-bf4d-b7d4dcad71fc",
   "metadata": {},
   "outputs": [],
   "source": [
    "sns.kdeplot(df['#Passengers'], fill=True)\n",
    "plt.title(\"Density Plot of Passenger Counts\")\n",
    "plt.show()"
   ]
  },
  {
   "cell_type": "code",
   "execution_count": null,
   "id": "d136e68a-4d9f-44dd-a604-32a4901cb579",
   "metadata": {},
   "outputs": [],
   "source": [
    "plt.figure(figsize=(8, 6))\n",
    "sns.heatmap(df.corr(), annot=True, cmap='coolwarm')\n",
    "plt.title(\"Correlation Heatmap\")\n",
    "plt.show()"
   ]
  },
  {
   "cell_type": "code",
   "execution_count": null,
   "id": "dcd61b6d-a5bd-4ac8-a8a9-ff67aacef211",
   "metadata": {},
   "outputs": [],
   "source": [
    "df['Rolling_Mean_3'] = df['#Passengers'].rolling(3).mean()\n",
    "df['Expanding_Mean'] = df['#Passengers'].expanding().mean()\n",
    "df.head()"
   ]
  },
  {
   "cell_type": "code",
   "execution_count": null,
   "id": "8fc86da3-a4c2-4bd4-adc0-71b00483aaea",
   "metadata": {},
   "outputs": [],
   "source": [
    "#ADF test\n",
    "print(\"\\nPerforming ADF Test for Stationarity:\")\n",
    "adf_result = adfuller(df['#Passengers'])\n",
    "print(f\"ADF Statistic: {adf_result[0]}\")\n",
    "print(f\"p-value: {adf_result[1]}\")\n",
    "print(f\"Critical Values: {adf_result[4]}\")"
   ]
  },
  {
   "cell_type": "code",
   "execution_count": null,
   "id": "49a5b13c-b883-47c9-af10-792cf8cca8f4",
   "metadata": {},
   "outputs": [],
   "source": [
    "decomposed = seasonal_decompose(df['#Passengers'], model='additive', period=12)\n",
    "plt.figure(figsize=(12, 8))\n",
    "plt.subplot(411)\n",
    "plt.plot(df['#Passengers'], label='Original')\n",
    "plt.legend(loc='best')\n",
    "plt.subplot(412)\n",
    "plt.plot(decomposed.trend, label='Trend')\n",
    "plt.legend(loc='best')\n",
    "plt.subplot(413)\n",
    "plt.plot(decomposed.seasonal, label='Seasonality')\n",
    "plt.legend(loc='best')\n",
    "plt.subplot(414)\n",
    "plt.plot(decomposed.resid, label='Residuals')\n",
    "plt.legend(loc='best')\n",
    "plt.tight_layout()\n",
    "plt.show()"
   ]
  }
 ],
 "metadata": {
  "kernelspec": {
   "display_name": "Python 3 (ipykernel)",
   "language": "python",
   "name": "python3"
  },
  "language_info": {
   "codemirror_mode": {
    "name": "ipython",
    "version": 3
   },
   "file_extension": ".py",
   "mimetype": "text/x-python",
   "name": "python",
   "nbconvert_exporter": "python",
   "pygments_lexer": "ipython3",
   "version": "3.12.4"
  }
 },
 "nbformat": 4,
 "nbformat_minor": 5
}
