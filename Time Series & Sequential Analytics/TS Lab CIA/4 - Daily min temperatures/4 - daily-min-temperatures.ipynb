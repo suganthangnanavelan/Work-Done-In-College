{
 "cells": [
  {
   "cell_type": "code",
   "execution_count": null,
   "id": "2c567c90-c151-45bc-ad51-a03c9f6c5a0c",
   "metadata": {},
   "outputs": [],
   "source": [
    "import pandas as pd\n",
    "import numpy as np\n",
    "import matplotlib.pyplot as plt\n",
    "import seaborn as sns\n",
    "from statsmodels.tsa.stattools import adfuller, kpss\n",
    "from statsmodels.graphics.tsaplots import plot_acf, plot_pacf"
   ]
  },
  {
   "cell_type": "code",
   "execution_count": null,
   "id": "4a535f5e-3527-499c-b532-9bed43f58ef3",
   "metadata": {},
   "outputs": [],
   "source": [
    "import warnings\n",
    "warnings.filterwarnings('ignore')"
   ]
  },
  {
   "cell_type": "code",
   "execution_count": null,
   "id": "8f787d89-dc3e-437f-ad0e-8cbae432cd18",
   "metadata": {},
   "outputs": [],
   "source": [
    "file_path = \"daily-min-temperatures.csv\"\n",
    "temp_data = pd.read_csv(file_path)\n",
    "\n",
    "temp_data['Date'] = pd.to_datetime(temp_data['Date'])\n",
    "temp_data.set_index('Date', inplace=True)\n",
    "temp_data.head()"
   ]
  },
  {
   "cell_type": "code",
   "execution_count": null,
   "id": "eaf1a6f5-c399-41c5-9a35-66893c12ae5d",
   "metadata": {},
   "outputs": [],
   "source": [
    "print(temp_data.info())\n",
    "print(temp_data.describe())\n",
    "\n",
    "temp_data['Year'] = temp_data.index.year\n",
    "temp_data['Month'] = temp_data.index.month\n",
    "temp_data['Day'] = temp_data.index.dayofyear\n",
    "\n",
    "temp_data['Temp_Lag_1'] = temp_data['Temp'].shift(1)\n",
    "temp_data['Temp_Lag_7'] = temp_data['Temp'].shift(7)\n",
    "temp_data.head()"
   ]
  },
  {
   "cell_type": "code",
   "execution_count": null,
   "id": "666c1147-bc0a-435e-b35c-325b16292a00",
   "metadata": {},
   "outputs": [],
   "source": [
    "plt.figure(figsize=(8, 5))\n",
    "sns.histplot(temp_data['Temp'], bins=20, kde=True, edgecolor='black')\n",
    "plt.title(\"Histogram of Daily Minimum Temperatures\")\n",
    "plt.show()"
   ]
  },
  {
   "cell_type": "code",
   "execution_count": null,
   "id": "b1ab5241-0a0a-4d56-9366-9bae7b537b21",
   "metadata": {},
   "outputs": [],
   "source": [
    "sns.kdeplot(temp_data['Temp'], fill=True)\n",
    "plt.title(\"Density Plot of Daily Minimum Temperatures\")\n",
    "plt.show()"
   ]
  },
  {
   "cell_type": "code",
   "execution_count": null,
   "id": "103a7d8d-0576-4923-a842-6e3f2a59cf24",
   "metadata": {},
   "outputs": [],
   "source": [
    "sns.pairplot(temp_data[['Temp', 'Temp_Lag_1', 'Temp_Lag_7']])\n",
    "plt.show()"
   ]
  },
  {
   "cell_type": "code",
   "execution_count": null,
   "id": "d3befd1c-6221-4664-9ee3-123f765e9180",
   "metadata": {},
   "outputs": [],
   "source": [
    "plot_acf(temp_data['Temp'].dropna())\n",
    "plt.show()"
   ]
  },
  {
   "cell_type": "code",
   "execution_count": null,
   "id": "82cd23c3-6bac-470e-8c84-78faa2db4eec",
   "metadata": {},
   "outputs": [],
   "source": [
    "plot_pacf(temp_data['Temp'].dropna())\n",
    "plt.show()"
   ]
  },
  {
   "cell_type": "code",
   "execution_count": null,
   "id": "09a30d1c-79b4-4b24-8fbe-785ea2bbd2c4",
   "metadata": {},
   "outputs": [],
   "source": [
    "temp_data['Rolling_Mean_7'] = temp_data['Temp'].rolling(window=7).mean()\n",
    "temp_data['Expanding_Mean'] = temp_data['Temp'].expanding().mean()\n",
    "temp_data.head()"
   ]
  },
  {
   "cell_type": "code",
   "execution_count": null,
   "id": "4400f982-a7b1-4cd6-8601-17737c701bb9",
   "metadata": {},
   "outputs": [],
   "source": [
    "def adf_test(series):\n",
    "    result = adfuller(series.dropna())\n",
    "    print(\"ADF Statistic:\", result[0])\n",
    "    print(\"p-value:\", result[1])\n",
    "    print(\"Stationary\" if result[1] < 0.05 else \"Non-Stationary\")\n",
    "\n",
    "print(\"\\nADF Test Results:\")\n",
    "adf_test(temp_data['Temp'])\n",
    "\n",
    "def kpss_test(series):\n",
    "    result = kpss(series.dropna(), regression='c')\n",
    "    print(\"KPSS Statistic:\", result[0])\n",
    "    print(\"p-value:\", result[1])\n",
    "    print(\"Stationary\" if result[1] > 0.05 else \"Non-Stationary\")\n",
    "\n",
    "print(\"\\nKPSS Test Results:\")\n",
    "kpss_test(temp_data['Temp'])"
   ]
  }
 ],
 "metadata": {
  "kernelspec": {
   "display_name": "Python 3 (ipykernel)",
   "language": "python",
   "name": "python3"
  },
  "language_info": {
   "codemirror_mode": {
    "name": "ipython",
    "version": 3
   },
   "file_extension": ".py",
   "mimetype": "text/x-python",
   "name": "python",
   "nbconvert_exporter": "python",
   "pygments_lexer": "ipython3",
   "version": "3.12.4"
  }
 },
 "nbformat": 4,
 "nbformat_minor": 5
}
