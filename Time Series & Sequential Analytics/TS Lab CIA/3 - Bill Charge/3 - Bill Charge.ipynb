{
 "cells": [
  {
   "cell_type": "code",
   "execution_count": null,
   "id": "5a3e5b8d-cfa8-4e7d-9641-3bf6a3366818",
   "metadata": {},
   "outputs": [],
   "source": [
    "import pandas as pd\n",
    "import numpy as np\n",
    "import matplotlib.pyplot as plt\n",
    "import seaborn as sns\n",
    "from statsmodels.tsa.stattools import adfuller\n",
    "from statsmodels.graphics.tsaplots import plot_acf, plot_pacf"
   ]
  },
  {
   "cell_type": "code",
   "execution_count": null,
   "id": "08f9b3df-ed97-4353-9a21-1a5b1894263c",
   "metadata": {},
   "outputs": [],
   "source": [
    "bill_data = pd.read_csv(\"bill charge.csv\")\n",
    "bill_data.head()"
   ]
  },
  {
   "cell_type": "code",
   "execution_count": null,
   "id": "b66bbac2-8762-46d7-a4ea-374d5088a62b",
   "metadata": {},
   "outputs": [],
   "source": [
    "print(\"Dataset Loaded Successfully\")\n",
    "display(bill_data.info())\n",
    "display(bill_data.head())"
   ]
  },
  {
   "cell_type": "code",
   "execution_count": null,
   "id": "8c1f8430-5973-4533-aac8-56aa7bdd6507",
   "metadata": {},
   "outputs": [],
   "source": [
    "bill_data['Date'] = pd.to_datetime(bill_data['Date'])\n",
    "\n",
    "bill_data['Year'] = bill_data['Date'].dt.year\n",
    "bill_data['Month'] = bill_data['Date'].dt.month\n",
    "\n",
    "bill_data_numeric = bill_data[['Date', 'Bill Charge', 'Year', 'Month']]\n",
    "\n",
    "grouped = bill_data_numeric.groupby(['Year', 'Month'])['Bill Charge'].sum().reset_index()"
   ]
  },
  {
   "cell_type": "code",
   "execution_count": null,
   "id": "74b2cf18-25d6-4707-8b32-81b588106545",
   "metadata": {},
   "outputs": [],
   "source": [
    "plt.figure(figsize=(12, 5))\n",
    "sns.histplot(bill_data['Bill Charge'], bins=20, kde=True)\n",
    "plt.title(\"Histogram of Bill Charges\")\n",
    "plt.show()"
   ]
  },
  {
   "cell_type": "code",
   "execution_count": null,
   "id": "c4e0af23-6eb9-477f-9a96-680f330b4a77",
   "metadata": {},
   "outputs": [],
   "source": [
    "sns.kdeplot(bill_data['Bill Charge'], fill=True)\n",
    "plt.title(\"Density Plot of Bill Charges\")\n",
    "plt.show()"
   ]
  },
  {
   "cell_type": "code",
   "execution_count": null,
   "id": "9a0540e9-6a05-47cf-8bd3-af5dfbc6d1c4",
   "metadata": {},
   "outputs": [],
   "source": [
    "plot_acf(bill_data['Bill Charge'])\n",
    "plt.show()\n",
    "\n",
    "plot_pacf(bill_data['Bill Charge'])\n",
    "plt.show()"
   ]
  },
  {
   "cell_type": "code",
   "execution_count": null,
   "id": "728ec23f-b955-4aa8-887c-71a32f87df5a",
   "metadata": {},
   "outputs": [],
   "source": [
    "bill_data['Rolling_Mean_3'] = bill_data['Bill Charge'].rolling(window=3).mean()\n",
    "bill_data['Expanding_Mean'] = bill_data['Bill Charge'].expanding().mean()\n",
    "bill_data.head()"
   ]
  },
  {
   "cell_type": "code",
   "execution_count": null,
   "id": "65a31329-f845-4f31-84f5-7620bcd7913e",
   "metadata": {},
   "outputs": [],
   "source": [
    "adf_result = adfuller(bill_data['Bill Charge'])\n",
    "print(\"ADF Statistic:\", adf_result[0])\n",
    "print(\"p-value:\", adf_result[1])"
   ]
  },
  {
   "cell_type": "code",
   "execution_count": null,
   "id": "ea818bd6-58b8-4cbe-a1ae-311a5409c4d6",
   "metadata": {},
   "outputs": [],
   "source": [
    "bill_data['Date'] = pd.to_datetime(bill_data['Date'])\n",
    "\n",
    "bill_data.set_index('Date', inplace=True)\n",
    "\n",
    "bill_data['Bill Charge'] = pd.to_numeric(bill_data['Bill Charge'], errors='coerce')\n",
    "bill_data.dropna(subset=['Bill Charge'], inplace=True)\n"
   ]
  },
  {
   "cell_type": "code",
   "execution_count": null,
   "id": "512a802a-2039-45c7-8306-d99a2a0add4f",
   "metadata": {},
   "outputs": [],
   "source": [
    "bill_data = bill_data.drop_duplicates(keep = 'first')\n",
    "bill_data"
   ]
  }
 ],
 "metadata": {
  "kernelspec": {
   "display_name": "Python 3 (ipykernel)",
   "language": "python",
   "name": "python3"
  },
  "language_info": {
   "codemirror_mode": {
    "name": "ipython",
    "version": 3
   },
   "file_extension": ".py",
   "mimetype": "text/x-python",
   "name": "python",
   "nbconvert_exporter": "python",
   "pygments_lexer": "ipython3",
   "version": "3.12.4"
  }
 },
 "nbformat": 4,
 "nbformat_minor": 5
}
