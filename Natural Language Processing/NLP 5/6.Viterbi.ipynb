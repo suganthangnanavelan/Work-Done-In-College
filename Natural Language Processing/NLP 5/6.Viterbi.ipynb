{
 "cells": [
  {
   "cell_type": "code",
   "execution_count": 1,
   "id": "054ed639-31cd-489c-87d7-6f910bdff677",
   "metadata": {},
   "outputs": [],
   "source": [
    "states = ['cp', 'ip']\n",
    "ip = [1.0, 0.0]\n",
    "stp = [[0.7, 0.3], [0.5, 0.5]]\n",
    "op = ['lem', 'ice', 'cola']\n",
    "opp = [[0.3, 0.1, 0.6], [0.2, 0.7, 0.1]]"
   ]
  },
  {
   "cell_type": "code",
   "execution_count": 2,
   "id": "11e5e731-7595-450d-866e-cdd0f488d20f",
   "metadata": {},
   "outputs": [],
   "source": [
    "def viterbi_algorithm(op):\n",
    "    delta = []\n",
    "    psi = []\n",
    "\n",
    "    # Initialize the delta and psi matrices\n",
    "    for _ in range(len(op)):\n",
    "        delta.append([0.0, 0.0])\n",
    "        psi.append([0, 0])\n",
    "\n",
    "    # Initialization step\n",
    "    for i in range(len(states)):\n",
    "        delta[0][i] = ip[i] * opp[i][0]\n",
    "\n",
    "    # Recursion step\n",
    "    for t in range(1, len(op)):\n",
    "        for j in range(len(states)):\n",
    "            max_prob = 0.0\n",
    "            max_state = 0\n",
    "\n",
    "            for i in range(len(states)):\n",
    "                prob = delta[t - 1][i] * stp[i][j] * opp[j][t]\n",
    "                if prob > max_prob:\n",
    "                    max_prob = prob\n",
    "                    max_state = i\n",
    "\n",
    "            delta[t][j] = max_prob\n",
    "            psi[t][j] = max_state\n",
    "\n",
    "    # Termination step\n",
    "    best_path_prob = max(delta[-1])\n",
    "    best_last_state = delta[-1].index(best_path_prob)\n",
    "\n",
    "    # Backtrack to find the best tag sequence\n",
    "    best_path = [best_last_state]\n",
    "    for t in range(len(op) - 1, 0, -1):\n",
    "        best_last_state = psi[t][best_last_state]\n",
    "        best_path.insert(0, best_last_state)\n",
    "\n",
    "    return best_path, best_path_prob"
   ]
  },
  {
   "cell_type": "code",
   "execution_count": 3,
   "id": "9a2c4fc4-ba8e-4d4f-9f58-8f225919508b",
   "metadata": {},
   "outputs": [
    {
     "name": "stdout",
     "output_type": "stream",
     "text": [
      "Best Tag Sequence: ['cp', 'ip', 'cp']\n",
      "Probability of the Best Tag Sequence: 0.0189\n"
     ]
    }
   ],
   "source": [
    "# Call the Viterbi algorithm\n",
    "best_tag_sequence, probability = viterbi_algorithm(op)\n",
    "\n",
    "# Print the best tag sequence and its probability\n",
    "print(\"Best Tag Sequence:\", [states[i] for i in best_tag_sequence])\n",
    "print(\"Probability of the Best Tag Sequence:\", probability)"
   ]
  }
 ],
 "metadata": {
  "kernelspec": {
   "display_name": "Python 3 (ipykernel)",
   "language": "python",
   "name": "python3"
  },
  "language_info": {
   "codemirror_mode": {
    "name": "ipython",
    "version": 3
   },
   "file_extension": ".py",
   "mimetype": "text/x-python",
   "name": "python",
   "nbconvert_exporter": "python",
   "pygments_lexer": "ipython3",
   "version": "3.12.4"
  }
 },
 "nbformat": 4,
 "nbformat_minor": 5
}
