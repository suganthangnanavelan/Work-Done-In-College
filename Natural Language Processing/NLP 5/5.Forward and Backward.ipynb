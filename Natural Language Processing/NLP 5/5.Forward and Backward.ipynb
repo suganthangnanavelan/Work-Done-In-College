{
 "cells": [
  {
   "cell_type": "code",
   "execution_count": 1,
   "id": "d0c4e603-f344-4cc6-bed7-870a28b98725",
   "metadata": {},
   "outputs": [],
   "source": [
    "states = ['cp', 'ip']\n",
    "ip = [1.0, 0.0]\n",
    "stp = [[0.7, 0.3], [0.5, 0.5]]\n",
    "op = ['lem', 'ice', 'cola']\n",
    "opp = [[0.3, 0.1, 0.6], [0.2, 0.7, 0.1]]"
   ]
  },
  {
   "cell_type": "code",
   "execution_count": 2,
   "id": "674dac88-a26e-4af4-93cf-d8467f98a872",
   "metadata": {},
   "outputs": [],
   "source": [
    "def forward_alg():\n",
    "    alpha = []\n",
    "    for _ in range(len(op)+1):\n",
    "        alpha.append([0,0])\n",
    "\n",
    "    '''alpha[0][0] = 1.0\n",
    "    alpha[0][1] = 0.0\n",
    "    #print(alpha)'''\n",
    "    \n",
    "    for i in range(len(alpha)):\n",
    "        if i == 0:\n",
    "            alpha[i][0] = ip[0]\n",
    "            alpha[i][1] = ip[1]\n",
    "            continue\n",
    "        \n",
    "        alpha[i][0] = float(float(stp[0][0]*opp[0][i-1]*alpha[i-1][0]) + float(stp[1][0]*opp[1][i-1]*alpha[i-1][1]))\n",
    "\n",
    "        alpha[i][1] = float(float(stp[1][1]*opp[1][i-1]*alpha[i-1][1]) + float(stp[0][1]*opp[0][i-1]*alpha[i-1][0]))\n",
    "\n",
    "    return alpha"
   ]
  },
  {
   "cell_type": "code",
   "execution_count": 3,
   "id": "da4ffe33-f516-40ae-a721-0afee9db9f31",
   "metadata": {},
   "outputs": [
    {
     "name": "stdout",
     "output_type": "stream",
     "text": [
      "[1.0, 0.0]\n",
      "[0.21, 0.09]\n",
      "[0.0462, 0.0378]\n",
      "[0.021293999999999997, 0.010206]\n",
      "\n",
      "Probability of whole sequence :  0.0315\n"
     ]
    }
   ],
   "source": [
    "alpha = forward_alg()\n",
    "pos_alpha = 0.0\n",
    "for i in alpha:\n",
    "    pos_alpha = sum(i)\n",
    "    print(i)\n",
    "    \n",
    "print(\"\\nProbability of whole sequence : \",pos_alpha)"
   ]
  },
  {
   "cell_type": "code",
   "execution_count": 4,
   "id": "81593ceb-34b6-4dff-82f3-d04dd379d8a5",
   "metadata": {},
   "outputs": [],
   "source": [
    "def backward_alg():\n",
    "    beta = []\n",
    "    for _ in range(len(op)+1):\n",
    "        beta.append([0.0,0.0])\n",
    "\n",
    "    beta[len(op)][0] = 1.0\n",
    "    beta[len(op)][1] = 1.0\n",
    "    #print(beta)\n",
    "\n",
    "    for i in range(len(op)-1,-1,-1):\n",
    "        \n",
    "        beta[i][0] = float(float(stp[0][0]*opp[0][i]*beta[i+1][0]) + float(stp[0][1]*opp[0][i]*beta[i+1][1]))\n",
    "\n",
    "        beta[i][1] = float(float(stp[1][1]*opp[1][i]*beta[i+1][1]) + float(stp[1][0]*opp[1][i]*beta[i+1][0]))\n",
    "\n",
    "    return beta"
   ]
  },
  {
   "cell_type": "code",
   "execution_count": 5,
   "id": "d982baed-e8e7-4abf-935c-f2f50ac3e4bc",
   "metadata": {},
   "outputs": [
    {
     "name": "stdout",
     "output_type": "stream",
     "text": [
      "[0.0315, 0.029]\n",
      "[0.045, 0.245]\n",
      "[0.6, 0.1]\n",
      "[1.0, 1.0]\n",
      "\n",
      "Probability of whole sequence :  0.0315\n"
     ]
    }
   ],
   "source": [
    "beta = backward_alg()\n",
    "for i in beta:\n",
    "    print(i)\n",
    "pos_beta = beta[0][0]*ip[0] + beta[0][1]*ip[1]\n",
    "print(\"\\nProbability of whole sequence : \",pos_beta)"
   ]
  }
 ],
 "metadata": {
  "kernelspec": {
   "display_name": "Python 3 (ipykernel)",
   "language": "python",
   "name": "python3"
  },
  "language_info": {
   "codemirror_mode": {
    "name": "ipython",
    "version": 3
   },
   "file_extension": ".py",
   "mimetype": "text/x-python",
   "name": "python",
   "nbconvert_exporter": "python",
   "pygments_lexer": "ipython3",
   "version": "3.12.4"
  }
 },
 "nbformat": 4,
 "nbformat_minor": 5
}
