{
 "cells": [
  {
   "cell_type": "code",
   "execution_count": 1,
   "id": "d2e8ca01-88e6-4574-ac39-df95af94d592",
   "metadata": {},
   "outputs": [
    {
     "name": "stdout",
     "output_type": "stream",
     "text": [
      "Words most similar to 'programming':\n",
      "the: 0.1783\n",
      "i: 0.1607\n",
      "a: 0.1056\n",
      "great: 0.0922\n",
      "python: 0.0270\n"
     ]
    },
    {
     "name": "stderr",
     "output_type": "stream",
     "text": [
      "[nltk_data] Downloading package punkt to\n",
      "[nltk_data]     C:\\Users\\sugan\\AppData\\Roaming\\nltk_data...\n",
      "[nltk_data]   Package punkt is already up-to-date!\n"
     ]
    }
   ],
   "source": [
    "#Implement word2vec model to explore the semantic similarity between the words.\n",
    "import gensim\n",
    "from gensim.models import Word2Vec\n",
    "import nltk\n",
    "nltk.download('punkt')\n",
    "from nltk.tokenize import word_tokenize\n",
    "sentences = ['I love programming', 'Python is great', 'I enjoy machine learning',\n",
    "             'TensorFlow is a powerful tool', 'AI is the future']\n",
    "\n",
    "tokenized_sentences = [word_tokenize(sentence.lower()) for sentence in sentences]\n",
    "\n",
    "\n",
    "model_w2v = Word2Vec(sentences=tokenized_sentences, vector_size=100, window=5, min_count=1, workers=4)\n",
    "\n",
    "#  word vectors (semantic similarity)\n",
    "word = 'programming'\n",
    "similar_words = model_w2v.wv.most_similar(word, topn=5)\n",
    "print(f\"Words most similar to '{word}':\")\n",
    "for sim_word, sim_score in similar_words:\n",
    "    print(f\"{sim_word}: {sim_score:.4f}\")\n",
    "model_w2v.save(\"word2vec_model.bin\")\n",
    "#loaded_model = Word2Vec.load(\"word2vec_model.bin\")"
   ]
  }
 ],
 "metadata": {
  "kernelspec": {
   "display_name": "Python 3 (ipykernel)",
   "language": "python",
   "name": "python3"
  },
  "language_info": {
   "codemirror_mode": {
    "name": "ipython",
    "version": 3
   },
   "file_extension": ".py",
   "mimetype": "text/x-python",
   "name": "python",
   "nbconvert_exporter": "python",
   "pygments_lexer": "ipython3",
   "version": "3.12.4"
  }
 },
 "nbformat": 4,
 "nbformat_minor": 5
}
