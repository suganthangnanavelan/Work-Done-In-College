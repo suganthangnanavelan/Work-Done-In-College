{
 "cells": [
  {
   "cell_type": "code",
   "execution_count": 1,
   "id": "fcbaa054-0d06-4ac6-86f6-817121de6640",
   "metadata": {},
   "outputs": [
    {
     "name": "stdout",
     "output_type": "stream",
     "text": [
      "Inside probability of S: 21.400000000000002\n",
      "Inside probability of NP: 18.479999999999997\n",
      "Inside probability of VP: 17.120000000000005\n",
      "Inside probability of Det: 0.0\n",
      "Inside probability of N: 0.0\n",
      "Inside probability of V: 0.0\n",
      "Total inside probability: 21.400000000000002\n"
     ]
    }
   ],
   "source": [
    "from collections import defaultdict\n",
    "from itertools import product\n",
    "\n",
    "def cyk_algorithm(words, pcfg_rules):\n",
    "    n = len(words)\n",
    "    table = [[defaultdict(float) for _ in range(n)] for _ in range(n)]\n",
    "\n",
    "    # Initialization\n",
    "    for i, word in enumerate(words):\n",
    "        for nt, (prob, terminals) in pcfg_rules.items():\n",
    "            if word in terminals:\n",
    "                table[i][i][nt] = prob\n",
    "\n",
    "    # CYK Algorithm\n",
    "    for length in range(2, n + 1):\n",
    "        for i in range(n - length + 1):\n",
    "            j = i + length - 1\n",
    "            for k in range(i, j):\n",
    "                for A, (prob_A, _) in pcfg_rules.items():\n",
    "                    for B, (prob_B, _) in pcfg_rules.items():\n",
    "                        for C in table[i][k]:\n",
    "                            for D in table[k + 1][j]:\n",
    "                                prob = prob_A * prob_B * pcfg_rules[A][1].count(C) * pcfg_rules[B][1].count(D)\n",
    "                                table[i][j][A] += prob\n",
    "\n",
    "    return table\n",
    "\n",
    "# Example PCFG rules (non-terminal -> (probability, [productions]))\n",
    "pcfg_rules = {\n",
    "    'S': (1.0, ['NP', 'VP']),\n",
    "    'NP': (0.7, ['Det', 'N']),\n",
    "    'VP': (0.8, ['V', 'NP']),\n",
    "    'Det': (1.0, ['the']),\n",
    "    'N': (0.6, ['cat', 'dog']),\n",
    "    'V': (0.9, ['chased'])\n",
    "}\n",
    "\n",
    "# Example input sentence\n",
    "words = ['the', 'cat', 'chased', 'the', 'dog']\n",
    "\n",
    "# Call CYK algorithm to get inside probabilities\n",
    "table = cyk_algorithm(words, pcfg_rules)\n",
    "\n",
    "# Inside probabilities for non-terminals in the top cell of the table\n",
    "inside_probabilities = table[0][-1]\n",
    "\n",
    "# Print inside probabilities\n",
    "for nt, prob in inside_probabilities.items():\n",
    "    print(f'Inside probability of {nt}: {prob}')\n",
    "\n",
    "# Total inside probability (probability of the whole sentence)\n",
    "total_probability = inside_probabilities['S']\n",
    "print(f'Total inside probability: {total_probability}')"
   ]
  }
 ],
 "metadata": {
  "kernelspec": {
   "display_name": "Python 3 (ipykernel)",
   "language": "python",
   "name": "python3"
  },
  "language_info": {
   "codemirror_mode": {
    "name": "ipython",
    "version": 3
   },
   "file_extension": ".py",
   "mimetype": "text/x-python",
   "name": "python",
   "nbconvert_exporter": "python",
   "pygments_lexer": "ipython3",
   "version": "3.12.4"
  }
 },
 "nbformat": 4,
 "nbformat_minor": 5
}
