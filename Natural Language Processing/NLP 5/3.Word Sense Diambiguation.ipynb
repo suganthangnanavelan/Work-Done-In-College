{
 "cells": [
  {
   "cell_type": "code",
   "execution_count": 1,
   "id": "378d2a7f-b3ec-4228-b436-58e4c551adf1",
   "metadata": {},
   "outputs": [
    {
     "name": "stderr",
     "output_type": "stream",
     "text": [
      "[nltk_data] Downloading package stopwords to\n",
      "[nltk_data]     C:\\Users\\sugan\\AppData\\Roaming\\nltk_data...\n",
      "[nltk_data]   Package stopwords is already up-to-date!\n",
      "[nltk_data] Downloading package punkt to\n",
      "[nltk_data]     C:\\Users\\sugan\\AppData\\Roaming\\nltk_data...\n",
      "[nltk_data]   Package punkt is already up-to-date!\n"
     ]
    }
   ],
   "source": [
    "import nltk\n",
    "nltk.download('stopwords')\n",
    "nltk.download('punkt')\n",
    "from nltk.corpus import stopwords\n",
    "from nltk.tokenize import word_tokenize"
   ]
  },
  {
   "cell_type": "code",
   "execution_count": 2,
   "id": "e5418f7e-eb6c-4663-af6e-1f05e5e3ee14",
   "metadata": {},
   "outputs": [],
   "source": [
    "import pandas as pd\n",
    "import math"
   ]
  },
  {
   "cell_type": "code",
   "execution_count": 3,
   "id": "b902b1ab-918a-47d9-b57c-3ab140756a71",
   "metadata": {},
   "outputs": [],
   "source": [
    "f=open(\"sample2.txt\")\n",
    "text=f.read()\n",
    "data=text.splitlines()"
   ]
  },
  {
   "cell_type": "code",
   "execution_count": 4,
   "id": "7636c47c-2f57-49ff-ab65-f326ed209def",
   "metadata": {},
   "outputs": [],
   "source": [
    "ds=list()\n",
    "for i in data:\n",
    "  tokens=word_tokenize(i)\n",
    "  ds.append(tokens)"
   ]
  },
  {
   "cell_type": "code",
   "execution_count": 5,
   "id": "4ed7e570-1bb2-447b-9762-4db619615a23",
   "metadata": {},
   "outputs": [
    {
     "name": "stdout",
     "output_type": "stream",
     "text": [
      "['chair', 'put', 'coat', ',', 'back', 'Furniture']\n",
      "['chair', 'IT', 'department', 'Furniture']\n",
      "['where', 'here', 'put', 'chair', 'Furniture']\n",
      "['CSE', 'chair', 'head', 'Position']\n"
     ]
    }
   ],
   "source": [
    "for i in ds:\n",
    "    print(i)"
   ]
  },
  {
   "cell_type": "code",
   "execution_count": 6,
   "id": "5b5525b9-9c64-4604-ad57-37d6674bfee9",
   "metadata": {},
   "outputs": [
    {
     "name": "stdin",
     "output_type": "stream",
     "text": [
      "enter sentence: coat black chair\n",
      "enter word to find sense: chair\n"
     ]
    },
    {
     "name": "stdout",
     "output_type": "stream",
     "text": [
      "-2.0 -3.0\n"
     ]
    }
   ],
   "source": [
    "test_sen = input(\"enter sentence:\")\n",
    "test_sen = test_sen.split(\" \")\n",
    "sense_word = input(\"enter word to find sense:\")\n",
    "\n",
    " #let us assume that there are two senses(furniture,position)\n",
    "cf = float(text.count(\"Furniture\"))\n",
    "cp = float(text.count(\"Position\"))\n",
    "#12 unique vocabularies\n",
    "scoref = math.log2((cf+1)/(cf+cp+12))\n",
    "scorep = math.log2((cp+1)/(cf+cp+12))\n",
    "print(scoref,scorep)"
   ]
  },
  {
   "cell_type": "code",
   "execution_count": 7,
   "id": "11de99e1-3654-4c51-acf3-fd1f9daeaa0b",
   "metadata": {},
   "outputs": [],
   "source": [
    "fur = list()\n",
    "pos = list()\n",
    "for i in ds:\n",
    "  if(\"Furniture\" in i):\n",
    "    fur.append(i)\n",
    "  else:\n",
    "    pos.append(i)"
   ]
  },
  {
   "cell_type": "code",
   "execution_count": 8,
   "id": "69385d62-91b3-4df5-a11d-7a60c73401e5",
   "metadata": {},
   "outputs": [
    {
     "name": "stdout",
     "output_type": "stream",
     "text": [
      "f:  1\n",
      "pf:  0.13333333333333333\n",
      "p:  0\n",
      "pp:  0.07692307692307693\n",
      "final scoref -4.906890595608519\n",
      "final scorep -6.700439718141093\n",
      "f:  0\n",
      "pf:  0.06666666666666667\n",
      "p:  0\n",
      "pp:  0.07692307692307693\n",
      "final scoref -5.906890595608519\n",
      "final scorep -6.700439718141093\n",
      "f:  3\n",
      "pf:  0.26666666666666666\n",
      "p:  1\n",
      "pp:  0.15384615384615385\n",
      "final scoref -3.9068905956085187\n",
      "final scorep -5.700439718141093\n"
     ]
    }
   ],
   "source": [
    "for word in test_sen:\n",
    "  p=0\n",
    "  f=0\n",
    "  for i in fur:\n",
    "    if(word in i):\n",
    "      f=f+1\n",
    "  for i in pos:\n",
    "    if(word in i):\n",
    "      p=p+1\n",
    "  print(\"f: \",f)\n",
    "  print(\"pf: \",(f+1)/(cf+12))\n",
    "  print(\"p: \",p)\n",
    "  print(\"pp: \",(p+1)/(cp+12))\n",
    "  final_scoref= scoref + math.log2(((f+1)/(cf+12)))\n",
    "  print(\"final scoref\",final_scoref)\n",
    "  final_scorep= scorep + math.log2(((p+1)/(cp+12)))\n",
    "  print(\"final scorep\",final_scorep)"
   ]
  },
  {
   "cell_type": "code",
   "execution_count": 9,
   "id": "49bba1b5-0bfb-4dc8-92a3-0560ae2f01e1",
   "metadata": {},
   "outputs": [
    {
     "name": "stdout",
     "output_type": "stream",
     "text": [
      "the given  chair is of sense Furniture in the given sentence\n"
     ]
    }
   ],
   "source": [
    "if(final_scorep > final_scoref):\n",
    "  print(\"the given \",sense_word,\"is of sense Position in the given sentence\")\n",
    "else:\n",
    "  print(\"the given \",sense_word,\"is of sense Furniture in the given sentence\")"
   ]
  }
 ],
 "metadata": {
  "kernelspec": {
   "display_name": "Python 3 (ipykernel)",
   "language": "python",
   "name": "python3"
  },
  "language_info": {
   "codemirror_mode": {
    "name": "ipython",
    "version": 3
   },
   "file_extension": ".py",
   "mimetype": "text/x-python",
   "name": "python",
   "nbconvert_exporter": "python",
   "pygments_lexer": "ipython3",
   "version": "3.12.4"
  }
 },
 "nbformat": 4,
 "nbformat_minor": 5
}
