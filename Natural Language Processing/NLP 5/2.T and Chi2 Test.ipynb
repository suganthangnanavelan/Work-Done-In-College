{
 "cells": [
  {
   "cell_type": "code",
   "execution_count": 1,
   "id": "fbde4a26-a923-4b2a-a20a-5010ae791ff0",
   "metadata": {},
   "outputs": [
    {
     "name": "stderr",
     "output_type": "stream",
     "text": [
      "[nltk_data] Downloading package stopwords to\n",
      "[nltk_data]     C:\\Users\\sugan\\AppData\\Roaming\\nltk_data...\n",
      "[nltk_data]   Package stopwords is already up-to-date!\n",
      "[nltk_data] Downloading package punkt to\n",
      "[nltk_data]     C:\\Users\\sugan\\AppData\\Roaming\\nltk_data...\n",
      "[nltk_data]   Package punkt is already up-to-date!\n"
     ]
    },
    {
     "data": {
      "text/plain": [
       "True"
      ]
     },
     "execution_count": 1,
     "metadata": {},
     "output_type": "execute_result"
    }
   ],
   "source": [
    "import nltk\n",
    "nltk.download('stopwords')\n",
    "nltk.download('punkt')"
   ]
  },
  {
   "cell_type": "code",
   "execution_count": 2,
   "id": "80964614-3a9a-4ec4-8765-08c2ad506753",
   "metadata": {},
   "outputs": [
    {
     "name": "stdout",
     "output_type": "stream",
     "text": [
      "['#', '#', '#', 'The', 'Impact', 'of', 'Social', 'Media', 'on', 'Modern', 'Communication', 'In', 'the', 'digital', 'age', ',', 'social', 'media', 'has', 'revolutionized', 'the', 'way', 'people', 'communicate', ',', 'offering', 'unprecedented', 'access', 'to', 'information', 'and', 'creating', 'new', 'ways', 'to', 'interact', '.', 'Platforms', 'like', 'Facebook', ',', 'Twitter', ',', 'Instagram', ',', 'and', 'TikTok', 'have', 'connected', 'individuals', 'from', 'across', 'the', 'globe', ',', 'allowing', 'for', 'the', 'instant', 'exchange', 'of', 'ideas', ',', 'images', ',', 'and', 'experiences', '.', 'However', ',', 'the', 'rise', 'of', 'social', 'media', 'has', 'also', 'raised', 'significant', 'concerns', 'about', 'its', 'impact', 'on', 'human', 'relationships', ',', 'mental', 'health', ',', 'and', 'societal', 'dynamics', '.', 'This', 'essay', 'explores', 'the', 'positive', 'and', 'negative', 'effects', 'of', 'social', 'media', 'on', 'modern', 'communication', '.', 'On', 'the', 'positive', 'side', ',', 'social', 'media', 'has', 'made', 'communication', 'more', 'convenient', 'and', 'accessible', 'than', 'ever', 'before', '.', 'In', 'the', 'past', ',', 'staying', 'in', 'touch', 'with', 'friends', 'and', 'family', 'required', 'physical', 'mail', ',', 'phone', 'calls', ',', 'or', 'face-to-face', 'interactions', '.', 'Now', ',', 'platforms', 'like', 'Facebook', 'and', 'WhatsApp', 'allow', 'people', 'to', 'send', 'messages', ',', 'share', 'updates', ',', 'and', 'make', 'video', 'calls', 'at', 'any', 'time', ',', 'from', 'anywhere', 'in', 'the', 'world', '.', 'This', 'has', 'facilitated', 'long-distance', 'relationships', ',', 'strengthened', 'bonds', 'among', 'friends', 'and', 'family', ',', 'and', 'made', 'it', 'easier', 'to', 'stay', 'connected', 'with', 'people', 'who', 'may', 'otherwise', 'be', 'difficult', 'to', 'reach', '.', 'Moreover', ',', 'social', 'media', 'has', 'democratized', 'communication', ',', 'allowing', 'individuals', 'to', 'express', 'their', 'opinions', 'and', 'ideas', 'to', 'a', 'global', 'audience', '.', 'This', 'has', 'had', 'a', 'profound', 'effect', 'on', 'activism', 'and', 'social', 'movements', '.', 'For', 'example', ',', 'platforms', 'like', 'Twitter', 'and', 'Instagram', 'have', 'played', 'crucial', 'roles', 'in', 'raising', 'awareness', 'about', 'issues', 'such', 'as', 'climate', 'change', ',', 'racial', 'injustice', ',', 'and', 'political', 'corruption', '.', 'Activists', 'can', 'mobilize', 'support', ',', 'organize', 'protests', ',', 'and', 'share', 'important', 'information', 'in', 'real', 'time', '.', 'The', 'viral', 'nature', 'of', 'social', 'media', 'also', 'means', 'that', 'messages', 'can', 'reach', 'millions', 'of', 'people', 'in', 'a', 'matter', 'of', 'hours', ',', 'making', 'it', 'an', 'invaluable', 'tool', 'for', 'social', 'change', '.', 'However', ',', 'social', 'media', \"'s\", 'influence', 'is', 'not', 'entirely', 'positive', '.', 'One', 'of', 'the', 'primary', 'concerns', 'is', 'the', 'effect', 'it', 'has', 'on', 'face-to-face', 'communication', 'skills', '.', 'As', 'people', 'spend', 'more', 'time', 'interacting', 'online', ',', 'they', 'may', 'become', 'less', 'adept', 'at', 'having', 'meaningful', 'in-person', 'conversations', '.', 'Social', 'media', 'interactions', 'tend', 'to', 'be', 'more', 'superficial', ',', 'with', 'users', 'often', 'relying', 'on', 'emojis', ',', 'likes', ',', 'or', 'short', 'messages', 'rather', 'than', 'engaging', 'in', 'deep', ',', 'thoughtful', 'discussions', '.', 'This', 'can', 'result', 'in', 'a', 'decline', 'in', 'the', 'quality', 'of', 'personal', 'relationships', ',', 'as', 'online', 'communication', 'often', 'lacks', 'the', 'nuances', 'and', 'emotional', 'depth', 'found', 'in', 'face-to-face', 'conversations', '.', 'Another', 'issue', 'is', 'the', 'impact', 'of', 'social', 'media', 'on', 'mental', 'health', '.', 'Studies', 'have', 'shown', 'that', 'excessive', 'use', 'of', 'platforms', 'like', 'Instagram', 'and', 'Facebook', 'can', 'lead', 'to', 'feelings', 'of', 'isolation', ',', 'anxiety', ',', 'and', 'depression', '.', 'Constant', 'comparison', 'to', 'others', ',', 'especially', 'when', 'viewing', 'curated', ',', 'idealized', 'images', 'of', 'other', 'people', \"'s\", 'lives', ',', 'can', 'lead', 'to', 'low', 'self-esteem', 'and', 'body', 'image', 'issues', '.', 'The', 'pressure', 'to', 'present', 'a', 'perfect', 'life', 'online', ',', 'coupled', 'with', 'the', 'fear', 'of', 'missing', 'out', '(', 'FOMO', ')', ',', 'can', 'also', 'contribute', 'to', 'heightened', 'stress', 'and', 'dissatisfaction', '.', 'Additionally', ',', 'cyberbullying', 'and', 'online', 'harassment', 'have', 'become', 'increasingly', 'prevalent', ',', 'leading', 'to', 'harmful', 'consequences', 'for', 'individuals', ',', 'particularly', 'teenagers', '.', 'Furthermore', ',', 'social', 'media', 'can', 'exacerbate', 'the', 'spread', 'of', 'misinformation', '.', 'Fake', 'news', ',', 'conspiracy', 'theories', ',', 'and', 'misleading', 'content', 'can', 'spread', 'rapidly', 'across', 'platforms', ',', 'influencing', 'public', 'opinion', 'and', 'distorting', 'perceptions', 'of', 'reality', '.', 'The', 'algorithms', 'that', 'govern', 'social', 'media', 'platforms', 'often', 'prioritize', 'content', 'that', 'generates', 'engagement', ',', 'meaning', 'sensational', 'or', 'controversial', 'material', 'is', 'more', 'likely', 'to', 'be', 'shared', 'and', 'seen', 'by', 'a', 'wide', 'audience', '.', 'This', 'can', 'create', 'echo', 'chambers', 'where', 'individuals', 'are', 'exposed', 'only', 'to', 'information', 'that', 'confirms', 'their', 'existing', 'beliefs', ',', 'reinforcing', 'polarization', 'and', 'division', 'in', 'society', '.', 'In', 'conclusion', ',', 'social', 'media', 'has', 'undeniably', 'transformed', 'modern', 'communication', ',', 'making', 'it', 'easier', 'to', 'connect', 'with', 'others', 'and', 'share', 'information', 'on', 'a', 'global', 'scale', '.', 'However', ',', 'its', 'impact', 'on', 'face-to-face', 'interactions', ',', 'mental', 'health', ',', 'and', 'the', 'spread', 'of', 'misinformation', 'presents', 'significant', 'challenges', '.', 'As', 'social', 'media', 'continues', 'to', 'evolve', ',', 'it', 'is', 'crucial', 'that', 'users', 'and', 'society', 'as', 'a', 'whole', 'strike', 'a', 'balance', ',', 'using', 'these', 'platforms', 'in', 'ways', 'that', 'enhance', 'communication', 'while', 'minimizing', 'their', 'negative', 'effects', '.']\n"
     ]
    }
   ],
   "source": [
    "from nltk.corpus import stopwords\n",
    "from nltk.tokenize import word_tokenize\n",
    "\n",
    "f=open(\"sample1.txt\",\"r\")\n",
    "text=f.read()\n",
    "\n",
    "stop_words = set(stopwords.words(\"english\"))\n",
    "word_tokens = word_tokenize(text)\n",
    "fil_text = [word for word in word_tokens if word.lower() not in stop_words]\n",
    "print(word_tokens)"
   ]
  },
  {
   "cell_type": "code",
   "execution_count": 3,
   "id": "ba06d703-8acf-47bc-b5cf-164e1af401c5",
   "metadata": {},
   "outputs": [
    {
     "name": "stdin",
     "output_type": "stream",
     "text": [
      "enter the critical value :  1\n"
     ]
    },
    {
     "name": "stdout",
     "output_type": "stream",
     "text": [
      "0.7496463932107497\n",
      "[',', 'share', 0.7496463932107497]\n"
     ]
    }
   ],
   "source": [
    "import random\n",
    "def collocation(w1,w2):\n",
    "    nl=list()\n",
    "    N=len(word_tokens)\n",
    "    prob_w1=word_tokens.count(w1)/N\n",
    "    prob_w2=word_tokens.count(w2)/N\n",
    "    pop_mean=prob_w1*prob_w2\n",
    "    count_w1w2=0\n",
    "    for i in range(len(word_tokens)-1):\n",
    "        if(word_tokens[i]==w1 and word_tokens[i+1]==w2):\n",
    "            count_w1w2=count_w1w2+1\n",
    "    sam_mean=count_w1w2/N\n",
    "    t=(sam_mean-pop_mean)/(sam_mean/N)**0.5\n",
    "    cv=input(\"enter the critical value : \")\n",
    "    if(float(t) > float(cv)):\n",
    "        print(f\"hypothesis rejected thus the given words ('{w1}', '{w2}') form a collocation\")\n",
    "    print(t)\n",
    "    nl.append(w1)\n",
    "    nl.append(w2)\n",
    "    nl.append(t)\n",
    "    print(nl)\n",
    "fcol=list()\n",
    "i = random.randint(0,len(word_tokens))\n",
    "#for i in range(len(word_tokens)-1):\n",
    "w1=word_tokens[i]\n",
    "w2=word_tokens[i+1]\n",
    "fcol.append(collocation(w1,w2))"
   ]
  },
  {
   "cell_type": "code",
   "execution_count": 4,
   "id": "2b3fa554-68cb-445d-bd94-86c1a95b9790",
   "metadata": {},
   "outputs": [
    {
     "name": "stdin",
     "output_type": "stream",
     "text": [
      "enter the critical value :  2\n"
     ]
    },
    {
     "name": "stdout",
     "output_type": "stream",
     "text": [
      "hypothesis accepted thus the given words ('to', 'express') does not form a collocation\n"
     ]
    }
   ],
   "source": [
    "import random\n",
    "def collocation(w1,w2):\n",
    "  nl=list()\n",
    "  N=len(word_tokens)\n",
    "  count_w1=word_tokens.count(w1)\n",
    "  count_w2=word_tokens.count(w2)\n",
    "\n",
    "  Exp_w1w2= ((count_w1*count_w2)/N)  \n",
    "  Exp_w1nw2= ((count_w1*(N-count_w2))/N)\n",
    "  Exp_nw1w2= (((N-count_w1)*count_w2)/N)\n",
    "  Exp_nw1nw2= (((N-count_w1)*(N-count_w2)/N))\n",
    "\n",
    "  j=0\n",
    "  count_w1w2=0\n",
    "  for i in range(len(word_tokens)):\n",
    "    if(word_tokens[i]==w1 and word_tokens[i+1]==w2):\n",
    "      count_w1w2=count_w1w2+1\n",
    "  count_w1w2=j\n",
    "  \n",
    "  Obs_w1w2=count_w1w2\n",
    "  Obs_w1nw2=count_w1-count_w1w2\n",
    "  Obs_nw1w2=count_w2-count_w1w2\n",
    "  Obs_nw1nw2=N-count_w1w2\n",
    "\n",
    "  X= (((Obs_w1w2-Exp_w1w2)**2)/Exp_w1w2) + (((Obs_w1nw2-Exp_w1nw2)**2)/Exp_w1nw2) + (((Obs_nw1w2-Exp_nw1w2)**2)/Exp_nw1w2) + (((Obs_nw1nw2-Exp_nw1nw2)**2)/Exp_nw1nw2)\n",
    "  cv=int(input(\"enter the critical value : \"))\n",
    "  if(float(X) > float(cv)):\n",
    "    print(f\"hypothesis rejected thus the given words ('{w1}', '{w2}') form a collocation\")\n",
    "    print(X)\n",
    "    nl.append(w1)\n",
    "    nl.append(w2)\n",
    "    nl.append(X)\n",
    "  else:print(f\"hypothesis accepted thus the given words ('{w1}', '{w2}') does not form a collocation\")\n",
    "  return nl\n",
    "    \n",
    "fcol=list()\n",
    "i = random.randint(0,len(word_tokens))\n",
    "#for i in range(len(word_tokens)-1):\n",
    "w1=word_tokens[i]\n",
    "w2=word_tokens[i+1]\n",
    "fcol.append(collocation(w1,w2))"
   ]
  }
 ],
 "metadata": {
  "kernelspec": {
   "display_name": "Python 3 (ipykernel)",
   "language": "python",
   "name": "python3"
  },
  "language_info": {
   "codemirror_mode": {
    "name": "ipython",
    "version": 3
   },
   "file_extension": ".py",
   "mimetype": "text/x-python",
   "name": "python",
   "nbconvert_exporter": "python",
   "pygments_lexer": "ipython3",
   "version": "3.12.4"
  }
 },
 "nbformat": 4,
 "nbformat_minor": 5
}
