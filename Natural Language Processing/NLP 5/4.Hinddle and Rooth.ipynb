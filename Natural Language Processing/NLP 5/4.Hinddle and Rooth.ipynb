{
 "cells": [
  {
   "cell_type": "code",
   "execution_count": 1,
   "id": "fb6ea3e5-356f-49e6-add7-9ea4730f9f0a",
   "metadata": {},
   "outputs": [
    {
     "name": "stdin",
     "output_type": "stream",
     "text": [
      "Enter the preposition :  with\n",
      "Enter the noun :  phone\n",
      "Enter the Verb :  wait\n"
     ]
    },
    {
     "name": "stdout",
     "output_type": "stream",
     "text": [
      "[('saw', 'phone')]\n",
      "[('went', 'meeting'), ('meeting', 'yesterday')]\n",
      "[('told', 'man'), ('man', 'wait')]\n",
      "[('gave', 'book')]\n",
      "[('saw', 'cat')]\n",
      "{'saw': 2, 'phone': 1, 'went': 1, 'meeting': 1, 'yesterday': 1, 'told': 1, 'man': 1, 'wait': 1, 'gave': 1, 'book': 1, 'cat': 1}\n",
      "{'phone': 1, 'yesterday': 2, 'wait': 2, 'book': 1, 'cat': 1}\n",
      "0\n",
      "1\n",
      "0\n",
      "1\n",
      "no attachment\n"
     ]
    }
   ],
   "source": [
    "import nltk\n",
    "import math\n",
    "from nltk.tokenize import word_tokenize\n",
    "import string\n",
    "from nltk.corpus import stopwords\n",
    "from nltk import bigrams\n",
    "\n",
    "prep = input(\"Enter the preposition : \")\n",
    "noun = input(\"Enter the noun : \")\n",
    "verb = input(\"Enter the Verb : \")\n",
    "\n",
    "stop_words = set(stopwords.words(\"english\"))\n",
    "\n",
    "sentences = [\n",
    "    \"Saw the phone with me.\",\n",
    "    \"Went to the meeting yesterday.\",\n",
    "    \"Told the man to wait.\",\n",
    "    \"Gave the book to her.\",\n",
    "    \"Saw the cat with her.\"\n",
    "]\n",
    "\n",
    "unigram = {}\n",
    "bigram = {}\n",
    "\n",
    "for sentence in sentences:\n",
    "    tokens = word_tokenize(sentence)\n",
    "    tokens = [token.lower() for token in tokens if token not in string.punctuation and token not in stop_words]\n",
    "    bigr = list(bigrams(tokens))\n",
    "    print(bigr)\n",
    "    for word in tokens:\n",
    "        if word in unigram:\n",
    "            unigram[word]+=1\n",
    "        else:\n",
    "            unigram[word] = 1\n",
    "    for bi in bigr:\n",
    "        if word in bigram:\n",
    "            bigram[word]+=1\n",
    "        else:\n",
    "            bigram[word] = 1\n",
    "\n",
    "print(unigram)\n",
    "print(bigram)\n",
    "\n",
    "bigram.setdefault((noun.lower(),prep.lower()),0)\n",
    "bigram.setdefault((verb.lower(),prep.lower()),0)\n",
    "unigram.setdefault(noun.lower(),0)\n",
    "unigram.setdefault(verb.lower(),0)\n",
    "unigram.setdefault(prep.lower(),0)\n",
    "\n",
    "print(bigram[(noun.lower(),prep.lower())])\n",
    "print(unigram[noun.lower()])\n",
    "print(bigram[(verb.lower(),prep.lower())])\n",
    "print(unigram[verb.lower()])\n",
    "\n",
    "pn = bigram[(noun.lower(),prep.lower())]/unigram[noun.lower()]\n",
    "pv = bigram[(verb.lower(),prep.lower())]/unigram[verb.lower()]\n",
    "\n",
    "try: \n",
    "    lam = math.log2((pv*(1-pn))/pn)\n",
    "    if lam < 1:\n",
    "        print(\"attached with noun\")\n",
    "    else:\n",
    "        print(\"attached with verb\")\n",
    "except ZeroDivisionError as e:\n",
    "    print(\"no attachment\")\n",
    "        "
   ]
  }
 ],
 "metadata": {
  "kernelspec": {
   "display_name": "Python 3 (ipykernel)",
   "language": "python",
   "name": "python3"
  },
  "language_info": {
   "codemirror_mode": {
    "name": "ipython",
    "version": 3
   },
   "file_extension": ".py",
   "mimetype": "text/x-python",
   "name": "python",
   "nbconvert_exporter": "python",
   "pygments_lexer": "ipython3",
   "version": "3.12.4"
  }
 },
 "nbformat": 4,
 "nbformat_minor": 5
}
