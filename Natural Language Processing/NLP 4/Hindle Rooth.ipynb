{
  "nbformat": 4,
  "nbformat_minor": 0,
  "metadata": {
    "colab": {
      "provenance": []
    },
    "kernelspec": {
      "name": "python3",
      "display_name": "Python 3"
    },
    "language_info": {
      "name": "python"
    }
  },
  "cells": [
    {
      "cell_type": "code",
      "execution_count": null,
      "metadata": {
        "id": "jhIxDAyla1Rq",
        "colab": {
          "base_uri": "https://localhost:8080/"
        },
        "outputId": "b0f9ca4f-75ef-4d95-9ba4-ca9bf971666c"
      },
      "outputs": [
        {
          "output_type": "stream",
          "name": "stderr",
          "text": [
            "[nltk_data] Downloading package stopwords to /root/nltk_data...\n",
            "[nltk_data]   Unzipping corpora/stopwords.zip.\n",
            "[nltk_data] Downloading package punkt to /root/nltk_data...\n",
            "[nltk_data]   Unzipping tokenizers/punkt.zip.\n",
            "[nltk_data] Downloading package averaged_perceptron_tagger to\n",
            "[nltk_data]     /root/nltk_data...\n",
            "[nltk_data]   Unzipping taggers/averaged_perceptron_tagger.zip.\n"
          ]
        },
        {
          "output_type": "execute_result",
          "data": {
            "text/plain": [
              "True"
            ]
          },
          "metadata": {},
          "execution_count": 1
        }
      ],
      "source": [
        "import nltk\n",
        "nltk.download('stopwords')\n",
        "nltk.download('punkt')\n",
        "from nltk.corpus import stopwords\n",
        "from nltk import pos_tag,word_tokenize\n",
        "import pandas as pd\n",
        "import math\n",
        "nltk.download('averaged_perceptron_tagger')"
      ]
    },
    {
      "cell_type": "code",
      "source": [
        "f=open(\"/content/hindlerooth.txt\")\n",
        "text=f.read()\n",
        "text=text.lower()\n",
        "words=word_tokenize(text)\n",
        "data=nltk.pos_tag(words)"
      ],
      "metadata": {
        "id": "M65v68aucH9W"
      },
      "execution_count": null,
      "outputs": []
    },
    {
      "cell_type": "code",
      "source": [
        "nouns=list()\n",
        "verbs=list()\n",
        "pp=list()\n",
        "for i in data:\n",
        "  if('NN' in i):\n",
        "    nouns.append(i)\n",
        "  if('VB' in i or 'VBS' in i):\n",
        "    verbs.append(i)\n",
        "  if('IN' in i):\n",
        "    pp.append(i)"
      ],
      "metadata": {
        "id": "pr4U8vEAjzwH"
      },
      "execution_count": null,
      "outputs": []
    },
    {
      "cell_type": "code",
      "source": [
        "nouns"
      ],
      "metadata": {
        "colab": {
          "base_uri": "https://localhost:8080/"
        },
        "id": "fb6UTKUx7gUV",
        "outputId": "cf34c33b-5434-461e-e4e2-dce7c3263298"
      },
      "execution_count": null,
      "outputs": [
        {
          "output_type": "execute_result",
          "data": {
            "text/plain": [
              "[('phrase', 'NN'),\n",
              " ('basis', 'NN'),\n",
              " ('strength', 'NN'),\n",
              " ('association', 'NN'),\n",
              " ('preposition', 'NN'),\n",
              " ('basis', 'NN'),\n",
              " ('distribution', 'NN'),\n",
              " ('corpus', 'NN'),\n",
              " ('approach', 'NN'),\n",
              " ('solution', 'NN'),\n",
              " ('case', 'NN'),\n",
              " ('reasoning', 'NN')]"
            ]
          },
          "metadata": {},
          "execution_count": 6
        }
      ]
    },
    {
      "cell_type": "code",
      "source": [
        "#fixing individual tables for nouns verbs preposition with their counts\n",
        "nounc=dict.fromkeys(nouns)\n",
        "verbc=dict.fromkeys(verbs)\n",
        "ppc=dict.fromkeys(pp)"
      ],
      "metadata": {
        "id": "yHTcsN-klZ0O"
      },
      "execution_count": null,
      "outputs": []
    },
    {
      "cell_type": "code",
      "source": [
        "nounc"
      ],
      "metadata": {
        "colab": {
          "base_uri": "https://localhost:8080/"
        },
        "id": "rHVHkaWP7lMp",
        "outputId": "3e4c8b70-fc51-45c1-9dbb-c9958448c1fa"
      },
      "execution_count": null,
      "outputs": [
        {
          "output_type": "execute_result",
          "data": {
            "text/plain": [
              "{('phrase', 'NN'): None,\n",
              " ('basis', 'NN'): None,\n",
              " ('strength', 'NN'): None,\n",
              " ('association', 'NN'): None,\n",
              " ('preposition', 'NN'): None,\n",
              " ('distribution', 'NN'): None,\n",
              " ('corpus', 'NN'): None,\n",
              " ('approach', 'NN'): None,\n",
              " ('solution', 'NN'): None,\n",
              " ('case', 'NN'): None,\n",
              " ('reasoning', 'NN'): None}"
            ]
          },
          "metadata": {},
          "execution_count": 8
        }
      ]
    },
    {
      "cell_type": "code",
      "source": [
        "for i in nouns:\n",
        "  nounc[i]=data.count(i)\n",
        "for i in verbs:\n",
        "  verbc[i]=data.count(i)\n",
        "for i in pp:\n",
        "  ppc[i]=data.count(i)\n",
        "  "
      ],
      "metadata": {
        "id": "l4YNloOhmDDV"
      },
      "execution_count": null,
      "outputs": []
    },
    {
      "cell_type": "code",
      "source": [
        "bigram=list(nltk.bigrams(data))"
      ],
      "metadata": {
        "id": "Wzwa_Wgtmvvm"
      },
      "execution_count": null,
      "outputs": []
    },
    {
      "cell_type": "code",
      "source": [
        "#fixing bigram tables for nouns verbs  with their counts\n",
        "nwpc=dict.fromkeys(nouns)\n",
        "vwpc=dict.fromkeys(verbs)"
      ],
      "metadata": {
        "id": "jfEzRufTnH0l"
      },
      "execution_count": null,
      "outputs": []
    },
    {
      "cell_type": "code",
      "source": [
        "nc=0\n",
        "for i in bigram:\n",
        "  for j in nouns:\n",
        "    for k in pp:\n",
        "      if((j,k) == i):\n",
        "        nwpc[j]=[bigram.count(i),k]\n",
        "      else:\n",
        "        nwpc[j]=[int(0),k]\n",
        "\n",
        "  for j in verbs:\n",
        "    for k in pp:\n",
        "      if((j,k) in i):\n",
        "        vwpc[j]=[bigram.count(i),k]\n",
        "      else:\n",
        "        vwpc[j]=[int(0),k]\n"
      ],
      "metadata": {
        "id": "bq5F0Bwim_St"
      },
      "execution_count": null,
      "outputs": []
    },
    {
      "cell_type": "code",
      "source": [
        "wo=input(\"enter the word: \")\n",
        "w=list()\n",
        "w.append(wo)"
      ],
      "metadata": {
        "colab": {
          "base_uri": "https://localhost:8080/"
        },
        "id": "JrejQG5xcgrl",
        "outputId": "eb4c36e2-271a-448f-8a27-748df0e1f880"
      },
      "execution_count": null,
      "outputs": [
        {
          "name": "stdout",
          "output_type": "stream",
          "text": [
            "enter the word: propose\n"
          ]
        }
      ]
    },
    {
      "cell_type": "code",
      "source": [
        "wordp=nltk.pos_tag(w)\n",
        "nw=0\n",
        "vw=0"
      ],
      "metadata": {
        "id": "_PkEizz2eMZl"
      },
      "execution_count": null,
      "outputs": []
    },
    {
      "cell_type": "code",
      "source": [
        "v=input(\"enter the verb: \")\n",
        "ve=list()\n",
        "ve.append(v)\n",
        "verbp=nltk.pos_tag(ve)\n",
        "n=input(\"enter the noun: \")\n",
        "no=list()\n",
        "no.append(n)\n",
        "nounp=nltk.pos_tag(no)"
      ],
      "metadata": {
        "colab": {
          "base_uri": "https://localhost:8080/"
        },
        "id": "VC2OqFzdcJ_F",
        "outputId": "cb49b323-aa84-49eb-8ead-c788dd8869e9"
      },
      "execution_count": null,
      "outputs": [
        {
          "name": "stdout",
          "output_type": "stream",
          "text": [
            "enter the verb: that\n",
            "enter the noun: many\n"
          ]
        }
      ]
    },
    {
      "cell_type": "code",
      "source": [
        "nb=bigram.count((nounp,wordp))\n",
        "vb=bigram.count((verbp,wordp))"
      ],
      "metadata": {
        "id": "bTTJPX5rvgdG"
      },
      "execution_count": null,
      "outputs": []
    },
    {
      "cell_type": "code",
      "source": [
        "ino=nounc[nounp[0]]\n",
        "ive=verbc[verbp[0]]"
      ],
      "metadata": {
        "id": "uJl0UGMtyh3-",
        "colab": {
          "base_uri": "https://localhost:8080/",
          "height": 182
        },
        "outputId": "eeab3d26-88f4-4a1f-ec00-f6e6a787017d"
      },
      "execution_count": null,
      "outputs": [
        {
          "output_type": "error",
          "ename": "KeyError",
          "evalue": "ignored",
          "traceback": [
            "\u001b[0;31m---------------------------------------------------------------------------\u001b[0m",
            "\u001b[0;31mKeyError\u001b[0m                                  Traceback (most recent call last)",
            "\u001b[0;32m<ipython-input-17-ad269234b9f8>\u001b[0m in \u001b[0;36m<cell line: 1>\u001b[0;34m()\u001b[0m\n\u001b[0;32m----> 1\u001b[0;31m \u001b[0mino\u001b[0m\u001b[0;34m=\u001b[0m\u001b[0mnounc\u001b[0m\u001b[0;34m[\u001b[0m\u001b[0mnounp\u001b[0m\u001b[0;34m[\u001b[0m\u001b[0;36m0\u001b[0m\u001b[0;34m]\u001b[0m\u001b[0;34m]\u001b[0m\u001b[0;34m\u001b[0m\u001b[0;34m\u001b[0m\u001b[0m\n\u001b[0m\u001b[1;32m      2\u001b[0m \u001b[0mive\u001b[0m\u001b[0;34m=\u001b[0m\u001b[0mverbc\u001b[0m\u001b[0;34m[\u001b[0m\u001b[0mverbp\u001b[0m\u001b[0;34m[\u001b[0m\u001b[0;36m0\u001b[0m\u001b[0;34m]\u001b[0m\u001b[0;34m]\u001b[0m\u001b[0;34m\u001b[0m\u001b[0;34m\u001b[0m\u001b[0m\n",
            "\u001b[0;31mKeyError\u001b[0m: ('many', 'JJ')"
          ]
        }
      ]
    },
    {
      "cell_type": "code",
      "source": [
        "v=float((vb)/(ive))\n",
        "n=float((nb)/(ino))"
      ],
      "metadata": {
        "id": "kvyeLQgIzhg2"
      },
      "execution_count": null,
      "outputs": []
    },
    {
      "cell_type": "code",
      "source": [
        "if(n==0):\n",
        "  lam=0\n",
        "else:\n",
        "  lam=math.log2((v*(1-n))/n)"
      ],
      "metadata": {
        "id": "4lbMcyb9yZjO"
      },
      "execution_count": null,
      "outputs": []
    },
    {
      "cell_type": "code",
      "source": [
        "if(lam<0):\n",
        "  print(\"the preposition is attached with the noun : \",nounp,lam)\n",
        "else:\n",
        "  print(\"the preposition is attached with the verb: \",verbp,lam)"
      ],
      "metadata": {
        "colab": {
          "base_uri": "https://localhost:8080/"
        },
        "id": "xUsvOU2QgoaO",
        "outputId": "704cd53f-4457-404c-cf60-b034ce909f35"
      },
      "execution_count": null,
      "outputs": [
        {
          "output_type": "stream",
          "name": "stdout",
          "text": [
            "the preposition is attached with the verb:  [('run', 'VB')] 0\n"
          ]
        }
      ]
    }
  ]
}