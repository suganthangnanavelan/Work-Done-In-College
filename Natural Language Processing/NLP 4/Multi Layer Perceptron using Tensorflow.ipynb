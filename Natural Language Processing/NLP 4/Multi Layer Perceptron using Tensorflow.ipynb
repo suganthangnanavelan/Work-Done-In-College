{
  "nbformat": 4,
  "nbformat_minor": 0,
  "metadata": {
    "colab": {
      "provenance": []
    },
    "kernelspec": {
      "name": "python3",
      "display_name": "Python 3"
    },
    "language_info": {
      "name": "python"
    }
  },
  "cells": [
    {
      "cell_type": "code",
      "execution_count": null,
      "metadata": {
        "colab": {
          "base_uri": "https://localhost:8080/"
        },
        "id": "iKCv_ddTtLfj",
        "outputId": "9bc5c8fe-e290-4f9f-8dfc-07b049e3d032"
      },
      "outputs": [
        {
          "output_type": "stream",
          "name": "stdout",
          "text": [
            "Epoch 1/10\n",
            "1/1 [==============================] - 2s 2s/step - loss: 0.6106 - accuracy: 0.8000\n",
            "Epoch 2/10\n",
            "1/1 [==============================] - 0s 15ms/step - loss: 0.5906 - accuracy: 0.8000\n",
            "Epoch 3/10\n",
            "1/1 [==============================] - 0s 16ms/step - loss: 0.5712 - accuracy: 0.8000\n",
            "Epoch 4/10\n",
            "1/1 [==============================] - 0s 15ms/step - loss: 0.5523 - accuracy: 0.8000\n",
            "Epoch 5/10\n",
            "1/1 [==============================] - 0s 13ms/step - loss: 0.5339 - accuracy: 1.0000\n",
            "Epoch 6/10\n",
            "1/1 [==============================] - 0s 13ms/step - loss: 0.5158 - accuracy: 1.0000\n",
            "Epoch 7/10\n",
            "1/1 [==============================] - 0s 13ms/step - loss: 0.4982 - accuracy: 1.0000\n",
            "Epoch 8/10\n",
            "1/1 [==============================] - 0s 11ms/step - loss: 0.4810 - accuracy: 1.0000\n",
            "Epoch 9/10\n",
            "1/1 [==============================] - 0s 12ms/step - loss: 0.4644 - accuracy: 1.0000\n",
            "Epoch 10/10\n",
            "1/1 [==============================] - 0s 12ms/step - loss: 0.4482 - accuracy: 1.0000\n",
            "1/1 [==============================] - 0s 193ms/step - loss: 0.6465 - accuracy: 0.5000\n",
            "Accuracy: 0.5\n"
          ]
        }
      ],
      "source": [
        "import numpy as np\n",
        "import tensorflow as tf\n",
        "from sklearn.feature_extraction.text import CountVectorizer\n",
        "from sklearn.model_selection import train_test_split\n",
        "\n",
        "# Sample text data\n",
        "texts = [\n",
        "    \"This is a positive review\",\n",
        "    \"I enjoyed the movie a lot\",\n",
        "    \"Great performance by the actors\",\n",
        "    \"The plot was intriguing\",\n",
        "    \"Negative feedback about the service\",\n",
        "    \"Disappointed with the product quality\",\n",
        "    \"Worst experience ever\"\n",
        "]\n",
        "\n",
        "# Sample labels\n",
        "labels = [1, 1, 1, 1, 0, 0, 0]\n",
        "\n",
        "# Convert text data into numerical feature vectors\n",
        "vectorizer = CountVectorizer()\n",
        "X = vectorizer.fit_transform(texts).toarray()\n",
        "y = np.array(labels)\n",
        "\n",
        "# Split the data into training and testing sets\n",
        "X_train, X_test, y_train, y_test = train_test_split(X, y, test_size=0.2, random_state=42)\n",
        "\n",
        "# Define the MLP architecture\n",
        "n_features = X_train.shape[1]\n",
        "n_classes = 2\n",
        "n_hidden_units = 100\n",
        "\n",
        "# Convert labels to one-hot encoding\n",
        "y_train_encoded = tf.keras.utils.to_categorical(y_train, num_classes=n_classes)\n",
        "\n",
        "# Create the MLP model\n",
        "model = tf.keras.Sequential([\n",
        "    tf.keras.layers.Dense(n_hidden_units, activation='relu', input_shape=(n_features,)),\n",
        "    tf.keras.layers.Dense(n_classes, activation='softmax')\n",
        "])\n",
        "\n",
        "# Compile the model\n",
        "model.compile(optimizer='adam', loss='categorical_crossentropy', metrics=['accuracy'])\n",
        "\n",
        "# Train the model\n",
        "model.fit(X_train, y_train_encoded, epochs=10, batch_size=16)\n",
        "\n",
        "# Evaluate the model on the testing set\n",
        "y_test_encoded = tf.keras.utils.to_categorical(y_test, num_classes=n_classes)\n",
        "loss, accuracy = model.evaluate(X_test, y_test_encoded)\n",
        "print(\"Accuracy:\", accuracy)\n"
      ]
    }
  ]
}