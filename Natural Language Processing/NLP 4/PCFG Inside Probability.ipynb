{
  "cells": [
    {
      "cell_type": "code",
      "execution_count": null,
      "id": "34e1ff7e",
      "metadata": {
        "id": "34e1ff7e"
      },
      "outputs": [],
      "source": [
        "import pickle\n",
        "from copy import deepcopy\n",
        "class Rule:\n",
        "    def __init__(self,left,right,probability):\n",
        "        self.right = right\n",
        "        self.left = left\n",
        "        self.probability = probability\n",
        "    \n",
        "    def __str__(self):\n",
        "        return f\"{self.left}->{self.right} {self.probability}\"\n",
        "    \n",
        "    def __repr__(self):\n",
        "        return self.__str__()"
      ]
    },
    {
      "cell_type": "code",
      "execution_count": null,
      "id": "96244823",
      "metadata": {
        "id": "96244823"
      },
      "outputs": [],
      "source": [
        "def find_rule_with_word(terminal):\n",
        "    a=[]\n",
        "    for i in rules:\n",
        "        for j in i.right:\n",
        "            if j == terminal:\n",
        "                a.append(i)\n",
        "    return a"
      ]
    },
    {
      "cell_type": "code",
      "execution_count": null,
      "id": "95d5e21a",
      "metadata": {
        "id": "95d5e21a"
      },
      "outputs": [],
      "source": [
        "def loop_print(i):\n",
        "    for j in i:\n",
        "        print(j)"
      ]
    },
    {
      "cell_type": "code",
      "execution_count": null,
      "id": "341b944a",
      "metadata": {
        "scrolled": true,
        "id": "341b944a",
        "outputId": "4aa6fdfe-c823-411f-b84f-92392f508651"
      },
      "outputs": [
        {
          "name": "stdout",
          "output_type": "stream",
          "text": [
            "Enter no of rules : 12\n",
            "----------\n",
            "Rule 1\n",
            "Enter left side of the rule : S\n",
            "Enter right side of the rule in single string : NP VP\n",
            "Enter probability of the rule : 1\n",
            "----------\n",
            "Rule 2\n",
            "Enter left side of the rule : PP\n",
            "Enter right side of the rule in single string : P NP\n",
            "Enter probability of the rule : 1\n",
            "----------\n",
            "Rule 3\n",
            "Enter left side of the rule : VP\n",
            "Enter right side of the rule in single string : V NP\n",
            "Enter probability of the rule : .7\n",
            "----------\n",
            "Rule 4\n",
            "Enter left side of the rule : VP\n",
            "Enter right side of the rule in single string : VP PP\n",
            "Enter probability of the rule : .3\n",
            "----------\n",
            "Rule 5\n",
            "Enter left side of the rule : P\n",
            "Enter right side of the rule in single string : WITH\n",
            "Enter probability of the rule : 1\n",
            "----------\n",
            "Rule 6\n",
            "Enter left side of the rule : V\n",
            "Enter right side of the rule in single string : SAW\n",
            "Enter probability of the rule : 1\n",
            "----------\n",
            "Rule 7\n",
            "Enter left side of the rule : NP\n",
            "Enter right side of the rule in single string : NP PP\n",
            "Enter probability of the rule : .4\n",
            "----------\n",
            "Rule 8\n",
            "Enter left side of the rule : NP\n",
            "Enter right side of the rule in single string : MANI\n",
            "Enter probability of the rule : .1\n",
            "----------\n",
            "Rule 9\n",
            "Enter left side of the rule : NP\n",
            "Enter right side of the rule in single string : EARS\n",
            "Enter probability of the rule : .18\n",
            "----------\n",
            "Rule 10\n",
            "Enter left side of the rule : NP\n",
            "Enter right side of the rule in single string : SAW\n",
            "Enter probability of the rule : .04\n",
            "----------\n",
            "Rule 11\n",
            "Enter left side of the rule : NP\n",
            "Enter right side of the rule in single string : STARS\n",
            "Enter probability of the rule : .18\n",
            "----------\n",
            "Rule 12\n",
            "Enter left side of the rule : NP\n",
            "Enter right side of the rule in single string : TELESCOPE\n",
            "Enter probability of the rule : .1\n"
          ]
        }
      ],
      "source": [
        "Z = int(input(\"Enter no of rules : \"))\n",
        "rules=[]\n",
        "for i in range(Z):\n",
        "    print(\"-\"*10)\n",
        "    print(f\"Rule {i+1}\")\n",
        "    key = input(\"Enter left side of the rule : \").upper()\n",
        "    value = input(\"Enter right side of the rule in single string : \").upper().split()\n",
        "    probability = float(input(\"Enter probability of the rule : \"))\n",
        "    rule = Rule(key,value,probability)\n",
        "    rules.append(rule)\n",
        "    \n",
        "pickle.dump(rules,open(\"rules.data\",\"wb\"))"
      ]
    },
    {
      "cell_type": "code",
      "execution_count": null,
      "id": "f501b86a",
      "metadata": {
        "scrolled": true,
        "id": "f501b86a",
        "outputId": "1e51b337-4760-4dd5-b314-d1d606641bf5"
      },
      "outputs": [
        {
          "name": "stdout",
          "output_type": "stream",
          "text": [
            "12\n",
            "S->['NP', 'VP'] 1.0\n",
            "PP->['P', 'NP'] 1.0\n",
            "VP->['V', 'NP'] 0.7\n",
            "VP->['VP', 'PP'] 0.3\n",
            "P->['WITH'] 1.0\n",
            "V->['SAW'] 1.0\n",
            "NP->['NP', 'PP'] 0.4\n",
            "NP->['MANI'] 0.1\n",
            "NP->['EARS'] 0.18\n",
            "NP->['SAW'] 0.04\n",
            "NP->['STARS'] 0.18\n",
            "NP->['TELESCOPE'] 0.1\n"
          ]
        }
      ],
      "source": [
        "# Comment if entering manually if not then load from file\n",
        "rules = pickle.load(open(\"rules.data\",\"rb\"))\n",
        "z = len(rules)\n",
        "print(z)\n",
        "for i in rules:\n",
        "    print(i)"
      ]
    },
    {
      "cell_type": "code",
      "execution_count": null,
      "id": "42e04fce",
      "metadata": {
        "id": "42e04fce",
        "outputId": "c503e838-ebde-43e0-f880-a136d8b01e1a"
      },
      "outputs": [
        {
          "name": "stdout",
          "output_type": "stream",
          "text": [
            "Total probability should be one. Its is 0.9999999999999999 for NP\n"
          ]
        }
      ],
      "source": [
        "# Check condition for rules\n",
        "\n",
        "non_terminals = [\"S\",\"NP\",\"N\",\"VP\",\"V\",\"PP\",\"P\"]\n",
        "total_prob = {i:0 for i in non_terminals}\n",
        "for i in rules:\n",
        "    if i.left not in non_terminals:\n",
        "        print(f\"Left side should be non terminal. The rule {i.left}-> {i.right} {i.probability} breaks it\")\n",
        "    total_prob[i.left]+=i.probability\n",
        "\n",
        "\n",
        "for i in total_prob:\n",
        "    if total_prob[i] != 1.0 and total_prob[i] != 0:\n",
        "        print(f\"Total probability should be one. Its is {total_prob[i]} for {i}\")"
      ]
    },
    {
      "cell_type": "code",
      "execution_count": null,
      "id": "533c01e8",
      "metadata": {
        "id": "533c01e8",
        "outputId": "e520f096-f62c-4e4f-d90e-e1f256d7ff13"
      },
      "outputs": [
        {
          "name": "stdout",
          "output_type": "stream",
          "text": [
            "Enter no of words : 5\n",
            "Enter word 1 : MANI\n",
            "Enter word 2 : SAW\n",
            "Enter word 3 : STARS\n",
            "Enter word 4 : WITH\n",
            "Enter word 5 : TELESCOPE\n"
          ]
        }
      ],
      "source": [
        "words = [input(f\"Enter word {i+1} : \").upper() for i in range(int(input(\"Enter no of words : \")))]"
      ]
    },
    {
      "cell_type": "code",
      "execution_count": null,
      "id": "d32ac427",
      "metadata": {
        "id": "d32ac427",
        "outputId": "594d8993-0cf0-4f5c-c3ec-1cc62685c2d1"
      },
      "outputs": [
        {
          "name": "stdout",
          "output_type": "stream",
          "text": [
            "00 14\n",
            "01 24\n",
            "02 34\n",
            "03 44\n"
          ]
        },
        {
          "data": {
            "text/plain": [
              "[((0, 0), (1, 4)), ((0, 1), (2, 4)), ((0, 2), (3, 4)), ((0, 3), (4, 4))]"
            ]
          },
          "execution_count": 200,
          "metadata": {},
          "output_type": "execute_result"
        }
      ],
      "source": [
        "def find_possible_combinations(x,y,debug=False):\n",
        "    comb = []\n",
        "    for i in range(x,y):\n",
        "        if debug :print(f\"{x}{i} {i+1}{y}\")\n",
        "        comb.append(((x,i),(i+1,y)))\n",
        "    return comb\n",
        "find_possible_combinations(0,4,debug=True)"
      ]
    },
    {
      "cell_type": "code",
      "execution_count": null,
      "id": "90b7b465",
      "metadata": {
        "scrolled": false,
        "id": "90b7b465"
      },
      "outputs": [],
      "source": [
        "matrix=[[[] for j in range(len(words))] for i in range(len(words))]\n",
        "for i in range(len(words)):\n",
        "    for j in range(len(words)):\n",
        "        # Loop for diagonal loopings\n",
        "        if i+j < 5:\n",
        "            x=j\n",
        "            y=i+j\n",
        "            if x == y:\n",
        "                matrix[x][y] = find_rule_with_word(words[x])\n",
        "            else:\n",
        "                comb = find_possible_combinations(x,y)\n",
        "                data=[]\n",
        "                for k in comb:\n",
        "                    f = matrix[k[0][0]][k[0][1]]\n",
        "                    g = matrix[k[1][0]][k[1][1]]\n",
        "                    for p in f:\n",
        "                        for q in g:\n",
        "                            for r in rules:\n",
        "                                if r.right == [p.left,q.left]:  \n",
        "                                    z\n",
        "                                    a = deepcopy(r)\n",
        "                                    a.probability = p.probability*q.probability*r.probability\n",
        "                                    data.append(a)\n",
        "                                    \n",
        "                matrix[x][y] = data"
      ]
    },
    {
      "cell_type": "code",
      "execution_count": null,
      "id": "8e624e07",
      "metadata": {
        "id": "8e624e07",
        "outputId": "fd7c1e27-b1dd-4167-d3b8-a1f296d3d73b"
      },
      "outputs": [
        {
          "name": "stdout",
          "output_type": "stream",
          "text": [
            "0 0 [NP->['MANI'] 0.1]\n",
            "0 1 []\n",
            "0 2 [S->['NP', 'VP'] 0.0126]\n",
            "0 3 []\n",
            "0 4 [S->['NP', 'VP'] 0.000504, S->['NP', 'VP'] 0.000378]\n",
            "1 0 []\n",
            "1 1 [V->['SAW'] 1.0, NP->['SAW'] 0.04]\n",
            "1 2 [VP->['V', 'NP'] 0.126]\n",
            "1 3 []\n",
            "1 4 [VP->['V', 'NP'] 0.005039999999999999, VP->['VP', 'PP'] 0.00378]\n",
            "2 0 []\n",
            "2 1 []\n",
            "2 2 [NP->['STARS'] 0.18]\n",
            "2 3 []\n",
            "2 4 [NP->['NP', 'PP'] 0.0072]\n",
            "3 0 []\n",
            "3 1 []\n",
            "3 2 []\n",
            "3 3 [P->['WITH'] 1.0]\n",
            "3 4 [PP->['P', 'NP'] 0.1]\n",
            "4 0 []\n",
            "4 1 []\n",
            "4 2 []\n",
            "4 3 []\n",
            "4 4 [NP->['TELESCOPE'] 0.1]\n"
          ]
        }
      ],
      "source": [
        "for i in range(5):\n",
        "    for j in range(5):\n",
        "        print(i,j,matrix[i][j])"
      ]
    },
    {
      "cell_type": "code",
      "execution_count": null,
      "id": "a6780263",
      "metadata": {
        "id": "a6780263",
        "outputId": "838ef4af-5626-4007-c844-7d4a83b39952"
      },
      "outputs": [
        {
          "data": {
            "text/plain": [
              "[S->['NP', 'VP'] 0.000504, S->['NP', 'VP'] 0.000378]"
            ]
          },
          "execution_count": 239,
          "metadata": {},
          "output_type": "execute_result"
        }
      ],
      "source": [
        "matrix[0][len(words)-1]"
      ]
    },
    {
      "cell_type": "code",
      "execution_count": null,
      "id": "5d172831",
      "metadata": {
        "id": "5d172831"
      },
      "outputs": [],
      "source": [
        "def all_same(items):\n",
        "    return all(x.left == items[0].left and x.right == items[0].right for x in items)"
      ]
    },
    {
      "cell_type": "code",
      "execution_count": null,
      "id": "63cb729b",
      "metadata": {
        "id": "63cb729b"
      },
      "outputs": [],
      "source": [
        "if all_same(matrix[0][len(words)-1]):\n",
        "    a = deepcopy(matrix[0][len(words)-1][0])\n",
        "    a.probability = sum([i.probability for i in matrix[0][len(words)-1]])\n",
        "    matrix[0][len(words)-1] = [a]"
      ]
    }
  ],
  "metadata": {
    "kernelspec": {
      "display_name": "Python 3",
      "language": "python",
      "name": "python3"
    },
    "language_info": {
      "codemirror_mode": {
        "name": "ipython",
        "version": 3
      },
      "file_extension": ".py",
      "mimetype": "text/x-python",
      "name": "python",
      "nbconvert_exporter": "python",
      "pygments_lexer": "ipython3",
      "version": "3.8.8"
    },
    "colab": {
      "provenance": []
    }
  },
  "nbformat": 4,
  "nbformat_minor": 5
}