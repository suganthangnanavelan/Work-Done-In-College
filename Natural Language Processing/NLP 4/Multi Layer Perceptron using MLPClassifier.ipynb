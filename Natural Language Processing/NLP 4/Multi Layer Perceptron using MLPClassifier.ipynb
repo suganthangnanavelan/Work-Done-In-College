{
  "nbformat": 4,
  "nbformat_minor": 0,
  "metadata": {
    "colab": {
      "provenance": []
    },
    "kernelspec": {
      "name": "python3",
      "display_name": "Python 3"
    },
    "language_info": {
      "name": "python"
    }
  },
  "cells": [
    {
      "cell_type": "code",
      "source": [
        "from sklearn.feature_extraction.text import CountVectorizer\n",
        "from sklearn.model_selection import train_test_split\n",
        "from sklearn.neural_network import MLPClassifier\n",
        "\n",
        "# Define the text data and labels\n",
        "texts = ['This is a good movie',\n",
        "         'I really enjoyed the book',\n",
        "         'The restaurant has excellent food',\n",
        "         'I did not like the concert',\n",
        "         'The weather today is beautiful',\n",
        "         'i hate this show',\n",
        "         'i hate that boy']\n",
        "\n",
        "labels = ['positive', 'positive', 'positive', 'negative', 'positive','negative','negative']\n",
        "\n",
        "# Split the data into training and testing sets\n",
        "X_train, X_test, y_train, y_test = train_test_split(texts, labels, test_size=0.2, random_state=42)\n",
        "\n",
        "# Vectorize the text data\n",
        "vectorizer = CountVectorizer()\n",
        "X_train = vectorizer.fit_transform(X_train)\n",
        "X_test = vectorizer.transform(X_test)\n",
        "\n",
        "# Initialize and train the MLP classifier\n",
        "mlp = MLPClassifier(hidden_layer_sizes=(100,), max_iter=1000, random_state=42)\n",
        "mlp.fit(X_train, y_train)\n",
        "\n",
        "# Evaluate the classifier on the test set\n",
        "accuracy = mlp.score(X_test, y_test)\n",
        "print(\"Accuracy:\", accuracy)\n",
        "\n",
        "# Make predictions on new data\n",
        "new_texts = ['The movie was average', 'I hate the new album']\n",
        "new_text_vectors = vectorizer.transform(new_texts)\n",
        "predictions = mlp.predict(new_text_vectors)\n",
        "print(\"Predictions:\", predictions)\n"
      ],
      "metadata": {
        "colab": {
          "base_uri": "https://localhost:8080/"
        },
        "id": "zO5ACNeLrxrA",
        "outputId": "732d5b12-39d7-4a4a-e240-9509d5016cc9"
      },
      "execution_count": null,
      "outputs": [
        {
          "output_type": "stream",
          "name": "stdout",
          "text": [
            "Accuracy: 0.5\n",
            "Predictions: ['positive' 'negative']\n"
          ]
        }
      ]
    },
    {
      "cell_type": "code",
      "source": [],
      "metadata": {
        "id": "bIhs1lRZsa-w"
      },
      "execution_count": null,
      "outputs": []
    }
  ]
}