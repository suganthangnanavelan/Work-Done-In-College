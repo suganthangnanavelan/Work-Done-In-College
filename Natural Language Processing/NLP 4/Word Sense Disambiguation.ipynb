{
  "nbformat": 4,
  "nbformat_minor": 0,
  "metadata": {
    "colab": {
      "provenance": []
    },
    "kernelspec": {
      "name": "python3",
      "display_name": "Python 3"
    },
    "language_info": {
      "name": "python"
    }
  },
  "cells": [
    {
      "cell_type": "code",
      "source": [
        "import nltk\n",
        "nltk.download('stopwords')\n",
        "nltk.download('punkt')\n",
        "from nltk.corpus import stopwords\n",
        "from nltk.tokenize import word_tokenize\n"
      ],
      "metadata": {
        "colab": {
          "base_uri": "https://localhost:8080/"
        },
        "id": "KDvyIgI9ZLkZ",
        "outputId": "0c673ef3-e356-4a9c-f020-9b792a85cb43"
      },
      "execution_count": null,
      "outputs": [
        {
          "output_type": "stream",
          "name": "stderr",
          "text": [
            "[nltk_data] Downloading package stopwords to /root/nltk_data...\n",
            "[nltk_data]   Unzipping corpora/stopwords.zip.\n",
            "[nltk_data] Downloading package punkt to /root/nltk_data...\n",
            "[nltk_data]   Unzipping tokenizers/punkt.zip.\n"
          ]
        }
      ]
    },
    {
      "cell_type": "code",
      "execution_count": null,
      "metadata": {
        "id": "MXOGUOL-XS7s"
      },
      "outputs": [],
      "source": [
        "import pandas as pd"
      ]
    },
    {
      "cell_type": "code",
      "source": [
        "import math"
      ],
      "metadata": {
        "id": "5kZKIKT8covZ"
      },
      "execution_count": null,
      "outputs": []
    },
    {
      "cell_type": "code",
      "source": [
        "f=open(\"/content/disambdata.txt\")\n",
        "text=f.read()\n",
        "data=text.splitlines()"
      ],
      "metadata": {
        "id": "BMz1DS8LXvPi"
      },
      "execution_count": null,
      "outputs": []
    },
    {
      "cell_type": "code",
      "source": [
        "ds=list()\n",
        "for i in data:\n",
        "  tokens=word_tokenize(i)\n",
        "  ds.append(tokens)"
      ],
      "metadata": {
        "id": "Y9THwHRKYwih"
      },
      "execution_count": null,
      "outputs": []
    },
    {
      "cell_type": "code",
      "source": [
        "for i in ds:\n",
        "  print(i)"
      ],
      "metadata": {
        "colab": {
          "base_uri": "https://localhost:8080/"
        },
        "id": "t7LEfaZVZZTw",
        "outputId": "7d014d16-6d03-4e6c-d9b8-454547bc2f97"
      },
      "execution_count": null,
      "outputs": [
        {
          "output_type": "stream",
          "name": "stdout",
          "text": [
            "['chair', 'put', 'coat', ',', 'back', 'Furniture']\n",
            "['chair', 'IT', 'department', 'Position']\n",
            "['where', 'here', 'put', 'chair', 'Furniture']\n",
            "['CSE', 'chair', 'head', 'Position']\n"
          ]
        }
      ]
    },
    {
      "cell_type": "code",
      "source": [
        "testsen=input(\"enter the sentence: \")"
      ],
      "metadata": {
        "id": "OfX0nA9QaD7A",
        "colab": {
          "base_uri": "https://localhost:8080/"
        },
        "outputId": "0b4e63cd-153f-4918-d259-0bd7fc0bdf21"
      },
      "execution_count": null,
      "outputs": [
        {
          "name": "stdout",
          "output_type": "stream",
          "text": [
            "enter the sentence: put coat head\n"
          ]
        }
      ]
    },
    {
      "cell_type": "code",
      "source": [
        "testsen=testsen.split(\" \")"
      ],
      "metadata": {
        "id": "xwwgOFRBaQew"
      },
      "execution_count": null,
      "outputs": []
    },
    {
      "cell_type": "code",
      "source": [
        "senseword=input(\"enter the word to find its sense in the given input : \")"
      ],
      "metadata": {
        "id": "ubJiXxQ8Z6nR",
        "colab": {
          "base_uri": "https://localhost:8080/"
        },
        "outputId": "36213890-6656-4186-c88c-039518a70028"
      },
      "execution_count": null,
      "outputs": [
        {
          "name": "stdout",
          "output_type": "stream",
          "text": [
            "enter the word to find its sense in the given input : chair\n"
          ]
        }
      ]
    },
    {
      "cell_type": "code",
      "source": [
        "cf=float(text.count(\"Furniture\"))\n",
        "cp=float(text.count(\"Position\")) "
      ],
      "metadata": {
        "id": "Egg8zEzpaZSY"
      },
      "execution_count": null,
      "outputs": []
    },
    {
      "cell_type": "code",
      "source": [
        "scoref=math.log2((cf+1)/(cp+cf+12))\n",
        "scorep=math.log2((cp+1)/(cp+cf+12))"
      ],
      "metadata": {
        "id": "Rv2ZhuvUbB8I"
      },
      "execution_count": null,
      "outputs": []
    },
    {
      "cell_type": "code",
      "source": [
        "fur=list()\n",
        "pos=list()"
      ],
      "metadata": {
        "id": "ZBPBMu2_gckA"
      },
      "execution_count": null,
      "outputs": []
    },
    {
      "cell_type": "code",
      "source": [
        "for i in ds:\n",
        "  if(\"Furniture\" in i):\n",
        "    fur.append(i)\n",
        "  else:\n",
        "    pos.append(i)"
      ],
      "metadata": {
        "id": "q_LGTZB5ggKm"
      },
      "execution_count": null,
      "outputs": []
    },
    {
      "cell_type": "code",
      "source": [
        "for word in testsen:\n",
        "  p=0\n",
        "  f=0\n",
        "  for i in fur:\n",
        "    if(word in i):\n",
        "      f=f+1\n",
        "  for i in pos:\n",
        "    if(word in i):\n",
        "      p=p+1\n",
        "  print(\"f: \",f)\n",
        "  print(\"pf: \",(f+1)/(cf+12))\n",
        "  print(\"p: \",p)\n",
        "  print(\"pp: \",(p+1)/(cp+12))\n",
        "  scoref= scoref + math.log2(((f+1)/(cf+12)))\n",
        "  print(\"scoref\",scoref)\n",
        "  scorep= scorep + math.log2(((p+1)/(cp+12)))"
      ],
      "metadata": {
        "id": "WPD4Cl58gwkA",
        "colab": {
          "base_uri": "https://localhost:8080/"
        },
        "outputId": "87ef965c-41bb-41fe-ddf3-a506471f2edf"
      },
      "execution_count": null,
      "outputs": [
        {
          "output_type": "stream",
          "name": "stdout",
          "text": [
            "f:  2\n",
            "pf:  0.21428571428571427\n",
            "p:  0\n",
            "pp:  0.07142857142857142\n",
            "scoref -4.637429920615292\n",
            "f:  1\n",
            "pf:  0.14285714285714285\n",
            "p:  0\n",
            "pp:  0.07142857142857142\n",
            "scoref -7.444784842672895\n",
            "f:  0\n",
            "pf:  0.07142857142857142\n",
            "p:  1\n",
            "pp:  0.14285714285714285\n",
            "scoref -11.252139764730499\n"
          ]
        }
      ]
    },
    {
      "cell_type": "code",
      "source": [
        "print(\"scorep\",scorep)\n",
        "print(\"scoref\",scoref)"
      ],
      "metadata": {
        "id": "LgytWXS6etK4",
        "colab": {
          "base_uri": "https://localhost:8080/"
        },
        "outputId": "341ea21f-00ad-47c2-b1c9-d39404e22535"
      },
      "execution_count": null,
      "outputs": [
        {
          "output_type": "stream",
          "name": "stdout",
          "text": [
            "scorep -12.837102265451655\n",
            "scoref -11.252139764730499\n"
          ]
        }
      ]
    },
    {
      "cell_type": "code",
      "source": [
        "if(scorep > scoref):\n",
        "  print(\"the given \",senseword,\"is of sense Position in the given sentence\")\n",
        "else:\n",
        "  print(\"the given \",senseword,\"is of sense Furniture in the given sentence\")"
      ],
      "metadata": {
        "id": "i6Ld7NvKeRiH",
        "colab": {
          "base_uri": "https://localhost:8080/"
        },
        "outputId": "7cdf6932-b4cf-4ac5-f537-43ec7cb402c4"
      },
      "execution_count": null,
      "outputs": [
        {
          "output_type": "stream",
          "name": "stdout",
          "text": [
            "the given  chair is of sense Furniture in the given sentence\n"
          ]
        }
      ]
    }
  ]
}