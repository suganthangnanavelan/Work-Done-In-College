{
  "nbformat": 4,
  "nbformat_minor": 0,
  "metadata": {
    "colab": {
      "provenance": []
    },
    "kernelspec": {
      "name": "python3",
      "display_name": "Python 3"
    },
    "language_info": {
      "name": "python"
    }
  },
  "cells": [
    {
      "cell_type": "code",
      "execution_count": null,
      "metadata": {
        "colab": {
          "base_uri": "https://localhost:8080/"
        },
        "id": "DF_ZwwBZYlOy",
        "outputId": "b520aae1-aca8-419e-d136-bf777f5b9d7f"
      },
      "outputs": [
        {
          "output_type": "stream",
          "name": "stderr",
          "text": [
            "[nltk_data] Downloading package stopwords to /root/nltk_data...\n",
            "[nltk_data]   Package stopwords is already up-to-date!\n",
            "[nltk_data] Downloading package punkt to /root/nltk_data...\n",
            "[nltk_data]   Package punkt is already up-to-date!\n"
          ]
        },
        {
          "output_type": "execute_result",
          "data": {
            "text/plain": [
              "True"
            ]
          },
          "metadata": {},
          "execution_count": 2
        }
      ],
      "source": [
        "import nltk\n",
        "nltk.download('stopwords')\n",
        "nltk.download('punkt')"
      ]
    },
    {
      "cell_type": "code",
      "source": [
        "from nltk.corpus import stopwords\n",
        "from nltk.tokenize import word_tokenize\n",
        "\n",
        "f=open(\"/content/sample.txt\",\"r\")\n",
        "text=f.read()\n",
        "\n",
        "stop_words = set(stopwords.words(\"english\"))\n",
        "word_tokens = word_tokenize(text)\n",
        "fil_text = [word for word in word_tokens if word not in stop_words]\n",
        "print(word_tokens)\n"
      ],
      "metadata": {
        "colab": {
          "base_uri": "https://localhost:8080/"
        },
        "id": "p1EFKoWCYmtH",
        "outputId": "4a56d953-65bf-4924-8bdb-91a976a3af47"
      },
      "execution_count": null,
      "outputs": [
        {
          "output_type": "stream",
          "name": "stdout",
          "text": [
            "['hi', 'this', 'is', 'a', 'sample', 'text', 'for', 'natural', 'language', 'processing', 'natural', 'language', 'processing', 'has', 'various', 'advantages', '.']\n"
          ]
        }
      ]
    },
    {
      "cell_type": "code",
      "source": [
        "def collocation(w1,w2):\n",
        "  nl=list()\n",
        "  N=len(word_tokens)\n",
        "  pw1=word_tokens.count(w1)\n",
        "  pw2=word_tokens.count(w2)\n",
        "  md=((pw1/N)*(pw2/N))\n",
        "  j=0\n",
        "  for i in range(len(word_tokens)):\n",
        "    if(word_tokens[i]==w1 and word_tokens[i+1]==w2):\n",
        "     j=j+1\n",
        "  pw12=j\n",
        "  x=pw12/N\n",
        "  s2=x\n",
        "  t=(x-md)/(x/N)**0.5\n",
        "  if(float(t) > float(cv)):\n",
        "    print(\"hypothesis rejected thus the given words( \",w1,\" \",w2,\" ) form a collocation\")\n",
        "    print(t)\n",
        "    nl.append(w1)\n",
        "    nl.append(w2)\n",
        "    nl.append(t)\n",
        "  return nl"
      ],
      "metadata": {
        "id": "F_3yVJF-Ys19"
      },
      "execution_count": null,
      "outputs": []
    },
    {
      "cell_type": "code",
      "source": [
        "cv=input(\"enter the critical value : \")"
      ],
      "metadata": {
        "colab": {
          "base_uri": "https://localhost:8080/"
        },
        "id": "A2sGU4O2alhl",
        "outputId": "dd8df949-19d2-441e-f421-1bca5f1fe98e"
      },
      "execution_count": null,
      "outputs": [
        {
          "name": "stdout",
          "output_type": "stream",
          "text": [
            "enter the critical value : 1\n"
          ]
        }
      ]
    },
    {
      "cell_type": "code",
      "source": [
        "fcol=list()\n",
        "for i in range(len(word_tokens)-1):\n",
        "    w1=word_tokens[i]\n",
        "    w2=word_tokens[i+1]\n",
        "    fcol.append(collocation(w1,w2))\n",
        "for i in fcol:\n",
        "  if(len(i) > 1):\n",
        "    if(fcol.count(i)>1):\n",
        "      fcol.remove(i)\n",
        "  else:\n",
        "    fcol.remove(i)\n",
        "    \n",
        "for i in fcol:\n",
        "  if(len(i) > 1):\n",
        "    print(i)"
      ],
      "metadata": {
        "colab": {
          "base_uri": "https://localhost:8080/"
        },
        "id": "rdNNhGmUYzC2",
        "outputId": "dc8b4b05-c546-4600-ae7c-c62bc3ed5ed5"
      },
      "execution_count": null,
      "outputs": [
        {
          "output_type": "stream",
          "name": "stdout",
          "text": [
            "hypothesis rejected thus the given words(  natural   language  ) form a collocation\n",
            "1.2478354962115543\n",
            "hypothesis rejected thus the given words(  language   processing  ) form a collocation\n",
            "1.2478354962115543\n",
            "hypothesis rejected thus the given words(  natural   language  ) form a collocation\n",
            "1.2478354962115543\n",
            "hypothesis rejected thus the given words(  language   processing  ) form a collocation\n",
            "1.2478354962115543\n",
            "['natural', 'language', 1.2478354962115543]\n",
            "['language', 'processing', 1.2478354962115543]\n"
          ]
        }
      ]
    }
  ]
}