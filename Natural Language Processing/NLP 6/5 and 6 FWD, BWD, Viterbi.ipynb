{
 "cells": [
  {
   "cell_type": "markdown",
   "id": "8bc54aa3-b46b-4077-983b-6420776ec43f",
   "metadata": {},
   "source": [
    "# Experiment 5 & 6 :\n",
    "\n",
    "<b>Implement forward and backward procedures using Hidden Markov Model to find the\n",
    "probability of a word sequence given a hidden Markov model.</b>\n",
    "\n",
    "<b>Implement Viterbi algorithm to find the probability of a word sequence, and the best tag\n",
    "sequence using Hidden Markov Model.</b>"
   ]
  },
  {
   "cell_type": "code",
   "execution_count": 31,
   "id": "b340e65d-d96d-49a1-bf9b-417eb908ad8a",
   "metadata": {},
   "outputs": [
    {
     "name": "stdout",
     "output_type": "stream",
     "text": [
      "[0.3, 0.4, 0.3]\n",
      "[0.095, 0.175, 0.08000000000000002]\n",
      "[0.021249999999999998, 0.06045, 0.0728]\n",
      "[0.008334999999999999, 0.020425, 0.01209]\n",
      "propability : 0.04085\n",
      "[1, 1, 1]\n",
      "[0.5, 0.5, 0.0]\n",
      "[0.15, 0.12000000000000001, 0.06999999999999999]\n",
      "[0.0675, 0.051500000000000004, 0.0]\n",
      "propability : 0.040850000000000004\n"
     ]
    }
   ],
   "source": [
    "states = ['CIA1', 'CIA2', 'CIA3']\n",
    "prior = [0.3, 0.4, 0.3]\n",
    "outputs = ['Good', 'Moderate', 'Poor']\n",
    "emission = [\n",
    "    [0.5, 0.3, 0.2],\n",
    "    [0.5, 0.4, 0.1],\n",
    "    [0.0, 0.7, 0.3]\n",
    "]\n",
    "transition = [\n",
    "    [0.5, 0.5, 0.0],\n",
    "    [0.1, 0.5, 0.4],\n",
    "    [0.0, 0.2, 0.8]\n",
    "]\n",
    "seq = \"Good Moderate Good\"\n",
    "seq = [outputs.index(x) for x in seq.split()]\n",
    "\n",
    "def HMMF(transition, emission, prior, seq) :\n",
    "    alpha = prior\n",
    "    states = len(alpha)\n",
    "    for i in range(len(seq)) :\n",
    "        print(alpha)\n",
    "        new_alpha = [sum(transition[s1][s2]*emission[s1][seq[i]]*alpha[s1] for s1 in range(states)) for s2 in range(states)]\n",
    "        alpha = new_alpha\n",
    "    print(alpha)\n",
    "    print(f\"propability : {sum(alpha)}\")\n",
    "\n",
    "def HMMB(transition, emission, prior, seq) :\n",
    "    states = len(prior)\n",
    "    beta = [1 for _ in range(states)]\n",
    "    for i in range(len(seq)-1, -1, -1) :\n",
    "        print(beta)\n",
    "        new_beta = [sum(transition[s1][s2]*emission[s1][seq[i]]*beta[s2] for s2 in range(states)) for s1 in range(states)]\n",
    "        beta = new_beta\n",
    "    print(beta)\n",
    "    print(f\"propability : {sum(beta[i]*prior[i] for i in range(states))}\")\n",
    "\n",
    "HMMF(transition, emission, prior, seq)\n",
    "HMMB(transition, emission, prior, seq)\n",
    "    "
   ]
  },
  {
   "cell_type": "code",
   "execution_count": 47,
   "id": "ab7154e2-7a14-438f-b6f3-dbd256d6fe9d",
   "metadata": {},
   "outputs": [],
   "source": [
    "def viterbi(transition, emission, prior, seq, states) :\n",
    "    delta = prior\n",
    "    n = len(prior)\n",
    "    psi = []\n",
    "    for i in range(len(seq)) :\n",
    "        print(delta)\n",
    "        values = [\n",
    "            [delta[s1]*transition[s1][s2]*emission[s1][seq[i]]for s1 in range(n)]\n",
    "            for s2 in range(n)]\n",
    "        new_delta = [max(value) for value in values]\n",
    "        psi.append([values[i].index(new_delta[i]) for i in range(n)])\n",
    "        delta = new_delta\n",
    "    print(delta)\n",
    "    bseq = []\n",
    "    bseq.append(delta.index(max(delta)))\n",
    "    for i in range(len(seq)-1, -1, -1) :\n",
    "        val = psi[i][bseq[-1]]\n",
    "        bseq.append(val)\n",
    "\n",
    "    print([states[i] for i in bseq[::-1]])\n",
    "    "
   ]
  },
  {
   "cell_type": "code",
   "execution_count": 48,
   "id": "aefd1ab7-cf20-4874-bad5-4dc61322a899",
   "metadata": {},
   "outputs": [
    {
     "name": "stdout",
     "output_type": "stream",
     "text": [
      "[0.3, 0.4, 0.3]\n",
      "[0.075, 0.1, 0.08000000000000002]\n",
      "[0.01125, 0.020000000000000004, 0.044800000000000006]\n",
      "[0.0028125, 0.005000000000000001, 0.004000000000000001]\n",
      "['CIA2', 'CIA2', 'CIA2', 'CIA2']\n"
     ]
    }
   ],
   "source": [
    "viterbi(transition, emission, prior, seq, states)"
   ]
  },
  {
   "cell_type": "code",
   "execution_count": null,
   "id": "fd92c7ae-6d8f-42a7-a95d-5b4a4b4dda9c",
   "metadata": {},
   "outputs": [],
   "source": []
  }
 ],
 "metadata": {
  "kernelspec": {
   "display_name": "Python 3 (ipykernel)",
   "language": "python",
   "name": "python3"
  },
  "language_info": {
   "codemirror_mode": {
    "name": "ipython",
    "version": 3
   },
   "file_extension": ".py",
   "mimetype": "text/x-python",
   "name": "python",
   "nbconvert_exporter": "python",
   "pygments_lexer": "ipython3",
   "version": "3.11.5"
  }
 },
 "nbformat": 4,
 "nbformat_minor": 5
}
