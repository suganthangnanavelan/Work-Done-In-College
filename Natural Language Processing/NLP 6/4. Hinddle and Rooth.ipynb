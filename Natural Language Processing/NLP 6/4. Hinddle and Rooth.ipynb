{
 "cells": [
  {
   "cell_type": "markdown",
   "id": "8b4fc6c3-60e4-4125-b0a0-64d3b83a7a85",
   "metadata": {},
   "source": [
    "# Experiment 4 :\n",
    "<b>Implement the Hindle and Rooth algorithm for solving the attachment ambiguity problem.</b>"
   ]
  },
  {
   "cell_type": "code",
   "execution_count": 68,
   "id": "1a6a36a7-daba-4c9f-8067-8262c924558c",
   "metadata": {},
   "outputs": [],
   "source": [
    "import nltk\n",
    "from nltk import word_tokenize, sent_tokenize, pos_tag\n",
    "from nltk.corpus import stopwords\n",
    "import string\n",
    "import math\n",
    "\n",
    "with open('lab4.txt', 'r') as f :\n",
    "    text = f.read()\n",
    "text = text.translate(str.maketrans('', '', string.punctuation))\n",
    "text.replace('\\n', '')\n",
    "tokens = word_tokenize(text)\n",
    "tokens = [word for word in tokens if word.lower() not in ['a', 'an', 'the']]\n",
    "bigrams = {}\n",
    "for bigram in zip(tokens[:-1], tokens[1:]) :\n",
    "    bigrams[bigram] = bigrams.get(bigram,0) + 1\n",
    "\n",
    "frequency = {}\n",
    "for word in tokens :\n",
    "    frequency[word] = frequency.get(word,0) + 1"
   ]
  },
  {
   "cell_type": "code",
   "execution_count": 61,
   "id": "fc5414ff-9e7b-43b2-bc54-a7c564ffc3d4",
   "metadata": {},
   "outputs": [],
   "source": [
    "# use this to get a list of available text files\n",
    "#print(gutenberg.fileids())"
   ]
  },
  {
   "cell_type": "code",
   "execution_count": 77,
   "id": "2a46a595-3c13-4d70-96a3-578ed19be1bc",
   "metadata": {},
   "outputs": [],
   "source": [
    "def hindle_and_rooth(verb, prop, noun, frequency, bigrams) :\n",
    "    nc = frequency.get(noun, 0)\n",
    "    vc = frequency.get(verb, 0)\n",
    "    pvc = bigrams.get((verb, prop), 0)\n",
    "    pnc = bigrams.get((prop, noun), 0)\n",
    "    P_VA = pvc/vc if vc > 0 else 0\n",
    "    P_NA = pnc/nc if nc > 0 else 0\n",
    "    print(P_VA, P_NA)\n",
    "\n",
    "    if not P_VA :\n",
    "        print(f\"No occuurance of {prop} with {verb}\")\n",
    "        print(f\"{prop} is attached with {noun} : Noun Attachment\")\n",
    "        return\n",
    "    if not P_NA :\n",
    "        print(f\"No occuurance of {prop} with {noun}\")\n",
    "        print(f\"{prop} is attached with {verb} : Verb Attachment\")\n",
    "        return\n",
    "\n",
    "    try :\n",
    "        x = (P_VA * (1 - P_NA))/P_NA\n",
    "        lam = math.log2(x)\n",
    "        if lam > 0 :\n",
    "            print(f\"{prop} is attached with {verb} : Verb Attachment\")\n",
    "        else :\n",
    "            print(f\"{prop} is attached with {noun} : Noun Attachment\")\n",
    "    except :\n",
    "        print(f\"DATA INSUFFUCIENCY TO ARRIVE AT THE CONCLUSION\")\n",
    "    finally :\n",
    "        print(f\"occurance of noun in corpus : {nc}\")\n",
    "        print(f\"occurance of verb in corpus : {vc}\")\n",
    "        print(f\"occurance of verb and prop : {pvc}\")\n",
    "        print(f\"occurance of noun and prop : {pnc}\")\n",
    "        print(f\"Propability of noun attachment : {P_NA}\")\n",
    "        print(f\"Propability of verb attachment : {P_VA}\")\n",
    "        \n",
    "        "
   ]
  },
  {
   "cell_type": "code",
   "execution_count": 78,
   "id": "af0598a4-dfad-4c05-b575-3a1e1d74c5b0",
   "metadata": {},
   "outputs": [
    {
     "name": "stdout",
     "output_type": "stream",
     "text": [
      "0.3333333333333333 1.0\n",
      "DATA INSUFFUCIENCY TO ARRIVE AT THE CONCLUSION\n",
      "occurance of noun in corpus : 2\n",
      "occurance of verb in corpus : 6\n",
      "occurance of verb and prop : 2\n",
      "occurance of noun and prop : 2\n",
      "Propability of noun attachment : 1.0\n",
      "Propability of verb attachment : 0.3333333333333333\n"
     ]
    }
   ],
   "source": [
    "hindle_and_rooth('sat', 'on', 'bench', frequency, bigrams)"
   ]
  },
  {
   "cell_type": "code",
   "execution_count": null,
   "id": "dd37851f-b4e9-4a99-9d2e-8b909db292a2",
   "metadata": {},
   "outputs": [],
   "source": []
  }
 ],
 "metadata": {
  "kernelspec": {
   "display_name": "Python 3 (ipykernel)",
   "language": "python",
   "name": "python3"
  },
  "language_info": {
   "codemirror_mode": {
    "name": "ipython",
    "version": 3
   },
   "file_extension": ".py",
   "mimetype": "text/x-python",
   "name": "python",
   "nbconvert_exporter": "python",
   "pygments_lexer": "ipython3",
   "version": "3.11.5"
  }
 },
 "nbformat": 4,
 "nbformat_minor": 5
}
