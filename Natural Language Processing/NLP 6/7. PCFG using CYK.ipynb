{
 "cells": [
  {
   "cell_type": "markdown",
   "id": "b624a9ba-0ae8-4c87-ae4c-476684d7e101",
   "metadata": {},
   "source": [
    "# Implement Probabilistic Context Free Grammar (PCFG) and find the inside probability of a word sequence using the CYK algorithm."
   ]
  },
  {
   "cell_type": "code",
   "execution_count": 21,
   "id": "a0748f9b-182a-42ac-847e-265497da12ad",
   "metadata": {},
   "outputs": [
    {
     "name": "stdin",
     "output_type": "stream",
     "text": [
      "Enter the number of rules :  12\n",
      "TAG 1 :  S\n",
      "RULE :  NP VP\n",
      "PROPABILITY :  1.0\n"
     ]
    },
    {
     "name": "stdout",
     "output_type": "stream",
     "text": [
      "\n"
     ]
    },
    {
     "name": "stdin",
     "output_type": "stream",
     "text": [
      "TAG 2 :  PP\n",
      "RULE :  P NP\n",
      "PROPABILITY :  1.0\n"
     ]
    },
    {
     "name": "stdout",
     "output_type": "stream",
     "text": [
      "\n"
     ]
    },
    {
     "name": "stdin",
     "output_type": "stream",
     "text": [
      "TAG 3 :  VP\n",
      "RULE :  V NP\n",
      "PROPABILITY :  0.7\n"
     ]
    },
    {
     "name": "stdout",
     "output_type": "stream",
     "text": [
      "\n"
     ]
    },
    {
     "name": "stdin",
     "output_type": "stream",
     "text": [
      "TAG 4 :  VP\n",
      "RULE :  VP PP\n",
      "PROPABILITY :  0.3\n"
     ]
    },
    {
     "name": "stdout",
     "output_type": "stream",
     "text": [
      "\n"
     ]
    },
    {
     "name": "stdin",
     "output_type": "stream",
     "text": [
      "TAG 5 :  P\n",
      "RULE :  WITH\n",
      "PROPABILITY :  1.0\n"
     ]
    },
    {
     "name": "stdout",
     "output_type": "stream",
     "text": [
      "\n"
     ]
    },
    {
     "name": "stdin",
     "output_type": "stream",
     "text": [
      "TAG 6 :  V\n",
      "RULE :  SAW\n",
      "PROPABILITY :  1.0\n"
     ]
    },
    {
     "name": "stdout",
     "output_type": "stream",
     "text": [
      "\n"
     ]
    },
    {
     "name": "stdin",
     "output_type": "stream",
     "text": [
      "TAG 7 :  NP\n",
      "RULE :  NP PP\n",
      "PROPABILITY :  0.4\n"
     ]
    },
    {
     "name": "stdout",
     "output_type": "stream",
     "text": [
      "\n"
     ]
    },
    {
     "name": "stdin",
     "output_type": "stream",
     "text": [
      "TAG 8 :  NP\n",
      "RULE :  ASTRONOMERS\n",
      "PROPABILITY :  0.1\n"
     ]
    },
    {
     "name": "stdout",
     "output_type": "stream",
     "text": [
      "\n"
     ]
    },
    {
     "name": "stdin",
     "output_type": "stream",
     "text": [
      "TAG 9 :  NP\n",
      "RULE :  EARS\n",
      "PROPABILITY :  0.18\n"
     ]
    },
    {
     "name": "stdout",
     "output_type": "stream",
     "text": [
      "\n"
     ]
    },
    {
     "name": "stdin",
     "output_type": "stream",
     "text": [
      "TAG 10 :  NP\n",
      "RULE :  SAW\n",
      "PROPABILITY :  0.04\n"
     ]
    },
    {
     "name": "stdout",
     "output_type": "stream",
     "text": [
      "\n"
     ]
    },
    {
     "name": "stdin",
     "output_type": "stream",
     "text": [
      "TAG 11 :  NP\n",
      "RULE :  STARS\n",
      "PROPABILITY :  0.18\n"
     ]
    },
    {
     "name": "stdout",
     "output_type": "stream",
     "text": [
      "\n"
     ]
    },
    {
     "name": "stdin",
     "output_type": "stream",
     "text": [
      "TAG 12 :  NP\n",
      "RULE :  TELESCOPE\n",
      "PROPABILITY :  0.1\n"
     ]
    },
    {
     "name": "stdout",
     "output_type": "stream",
     "text": [
      "\n"
     ]
    }
   ],
   "source": [
    "num = int(input(\"Enter the number of rules : \"))\n",
    "PCFG = {}\n",
    "for i in range(num) :\n",
    "    tag = input(f\"TAG {i+1} : \").upper()\n",
    "    rule = input(f\"RULE : \").upper()\n",
    "    prop = float(input(f\"PROPABILITY : \"))\n",
    "    print()\n",
    "    if tag in PCFG :\n",
    "        PCFG[tag].append((rule, prop))\n",
    "    else :\n",
    "        PCFG[tag] = [(rule, prop)]\n",
    "    "
   ]
  },
  {
   "cell_type": "code",
   "execution_count": 22,
   "id": "f811e0cd-554c-4149-ab46-4ee4abe8150d",
   "metadata": {},
   "outputs": [
    {
     "name": "stdin",
     "output_type": "stream",
     "text": [
      "Enter the Word Sequence :  ASTRONOMERS SAW STARS WITH EARS\n"
     ]
    }
   ],
   "source": [
    "word_seq = input(\"Enter the Word Sequence : \").upper().split(' ')"
   ]
  },
  {
   "cell_type": "code",
   "execution_count": 35,
   "id": "803ea9fe-2905-4fc2-aafb-75156645b579",
   "metadata": {},
   "outputs": [],
   "source": [
    "def CYK(word_seq, PCFG) :\n",
    "    PI = [[{} for _ in range(len(word_seq))] for _ in range(len(word_seq))]\n",
    "    BOOK = [[{} for _ in range(len(word_seq))] for _ in range(len(word_seq))]\n",
    "    for i in range(len(word_seq)) :\n",
    "        for tag, rule_list in PCFG.items() :\n",
    "            for rule, prop in rule_list :\n",
    "                if rule == word_seq[i] :\n",
    "                    PI[i][i][tag] = prop\n",
    "                    BOOK[i][i][tag] = word_seq[i]\n",
    "                \n",
    "\n",
    "    l = len(word_seq)\n",
    "    for c in range(1, l) :\n",
    "        for i in range(0, l-c) :\n",
    "            j = i + c\n",
    "            for m in range(i, j) :\n",
    "                for rule1 in PI[i][m] :\n",
    "                    for rule2 in PI[m+1][j] :\n",
    "                        entry = rule1 + \" \" + rule2\n",
    "                        for tag, rule_list in PCFG.items() :\n",
    "                            for rule, prop in rule_list :\n",
    "                                if rule == entry :\n",
    "                                    val = prop*PI[i][m][rule1]*PI[m+1][j][rule2]\n",
    "                                    if tag in PI[i][j] :\n",
    "                                        PI[i][j][tag] += val\n",
    "                                        BOOK[i][j][tag] += [(rule, m)]\n",
    "                                    else :\n",
    "                                        PI[i][j][tag] = val\n",
    "                                        BOOK[i][j][tag] = [(rule, m)]\n",
    "\n",
    "    return PI, BOOK\n",
    "                    \n",
    "                \n",
    "                "
   ]
  },
  {
   "cell_type": "code",
   "execution_count": 36,
   "id": "d52f8d91-260c-49c8-a63e-f378f8dd5698",
   "metadata": {},
   "outputs": [
    {
     "name": "stdout",
     "output_type": "stream",
     "text": [
      "[{'NP': 0.1}, {}, {'S': 0.0126}, {}, {'S': 0.0015875999999999998}]\n",
      "[{}, {'V': 1.0, 'NP': 0.04}, {'VP': 0.126}, {}, {'VP': 0.015875999999999998}]\n",
      "[{}, {}, {'NP': 0.18}, {}, {'NP': 0.01296}]\n",
      "[{}, {}, {}, {'P': 1.0}, {'PP': 0.18}]\n",
      "[{}, {}, {}, {}, {'NP': 0.18}]\n"
     ]
    }
   ],
   "source": [
    "PI, BOOK = CYK(word_seq, PCFG)\n",
    "for row in PI :\n",
    "    print(row)"
   ]
  },
  {
   "cell_type": "code",
   "execution_count": 37,
   "id": "7ec3e635-9e33-469f-975b-88d0c6236ddb",
   "metadata": {},
   "outputs": [
    {
     "name": "stdout",
     "output_type": "stream",
     "text": [
      "Propability of the given word sequence : {'S': 0.0015875999999999998}\n"
     ]
    }
   ],
   "source": [
    "n = len(word_seq)\n",
    "print(f\"Propability of the given word sequence : {PI[0][n-1]}\")"
   ]
  },
  {
   "cell_type": "code",
   "execution_count": 38,
   "id": "07c3e3d9-70be-433c-be83-97d004c258d9",
   "metadata": {},
   "outputs": [
    {
     "name": "stdout",
     "output_type": "stream",
     "text": [
      "[{'NP': 'ASTRONOMERS'}, {}, {'S': [('NP VP', 0)]}, {}, {'S': [('NP VP', 0)]}]\n",
      "[{}, {'V': 'SAW', 'NP': 'SAW'}, {'VP': [('V NP', 1)]}, {}, {'VP': [('V NP', 1), ('VP PP', 2)]}]\n",
      "[{}, {}, {'NP': 'STARS'}, {}, {'NP': [('NP PP', 2)]}]\n",
      "[{}, {}, {}, {'P': 'WITH'}, {'PP': [('P NP', 3)]}]\n",
      "[{}, {}, {}, {}, {'NP': 'EARS'}]\n"
     ]
    }
   ],
   "source": [
    "for row in BOOK :\n",
    "    print(row)"
   ]
  },
  {
   "cell_type": "code",
   "execution_count": null,
   "id": "a92dbc9f-1e5b-4370-9f73-5105f09b89d7",
   "metadata": {},
   "outputs": [],
   "source": []
  }
 ],
 "metadata": {
  "kernelspec": {
   "display_name": "Python 3 (ipykernel)",
   "language": "python",
   "name": "python3"
  },
  "language_info": {
   "codemirror_mode": {
    "name": "ipython",
    "version": 3
   },
   "file_extension": ".py",
   "mimetype": "text/x-python",
   "name": "python",
   "nbconvert_exporter": "python",
   "pygments_lexer": "ipython3",
   "version": "3.11.1"
  }
 },
 "nbformat": 4,
 "nbformat_minor": 5
}
