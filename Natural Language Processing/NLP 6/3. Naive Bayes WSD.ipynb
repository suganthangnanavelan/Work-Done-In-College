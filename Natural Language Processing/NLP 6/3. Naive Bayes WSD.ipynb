{
 "cells": [
  {
   "cell_type": "markdown",
   "id": "26e01d66-ef30-485e-9881-6d81cfba8004",
   "metadata": {},
   "source": [
    "# Experiment 3 :\n",
    "<b>Implement decision rule-based Naïve Bayes disambiguation method to find the sense of an\r\n",
    "ambiguous word with the given training set.</b>"
   ]
  },
  {
   "cell_type": "code",
   "execution_count": 58,
   "id": "81e97c34-fe56-467e-b7f0-a49732847a35",
   "metadata": {},
   "outputs": [],
   "source": [
    "import nltk\n",
    "from nltk import word_tokenize\n",
    "from nltk.corpus import stopwords\n",
    "import string\n",
    "import math\n",
    "\n",
    "#PRE-PROCESS THE SENTENCE by tokenizing and removing stopwords\n",
    "def process(sentence) :\n",
    "    sentence = sentence.translate(str.maketrans('', '', string.punctuation))\n",
    "    word_tokens = word_tokenize(sentence)\n",
    "    stops = set(stopwords.words('english'))\n",
    "    return [word for word in word_tokens if word.lower() not in stops]\n",
    "\n",
    "with open('lab3.txt', 'r') as f :\n",
    "    text = f.read()\n",
    "dataset = {}\n",
    "for data in text.split('\\n') :\n",
    "    sentence, sense = data.split(':')\n",
    "    if sense in dataset :\n",
    "        dataset[sense].append(sentence)\n",
    "    else :\n",
    "        dataset[sense] = [sentence]\n",
    "\n"
   ]
  },
  {
   "cell_type": "code",
   "execution_count": 59,
   "id": "f76f3399-bb88-4dac-896d-b971756b9954",
   "metadata": {},
   "outputs": [],
   "source": [
    "formatted_dataset = {sense : [] for sense in dataset}\n",
    "for sense, sentences in dataset.items() :\n",
    "    for sentence in sentences :\n",
    "        formatted_dataset[sense] += process(sentence)"
   ]
  },
  {
   "cell_type": "code",
   "execution_count": 60,
   "id": "0286919d-2ef3-4b85-a3ff-9f4485976b77",
   "metadata": {},
   "outputs": [],
   "source": [
    "vocabulary = {}\n",
    "for words in formatted_dataset.values() :\n",
    "    for word in words :\n",
    "        if word in vocabulary :\n",
    "            vocabulary[word] += 1\n",
    "        else :\n",
    "            vocabulary[word] = 1\n",
    "                \n",
    "priors = {sense : len(dataset[sense])/len(dataset) for sense in dataset}\n",
    "\n",
    "conditionals  = {}\n",
    "for word in vocabulary :\n",
    "    conditionals[word] = dict()\n",
    "    for sense in dataset :\n",
    "        count_wc = formatted_dataset[sense].count(word)\n",
    "        count_c = len(dataset[sense])\n",
    "        prop = (count_wc + 1) / (count_c + len(vocabulary))\n",
    "        conditionals[word][sense] = prop\n",
    "    "
   ]
  },
  {
   "cell_type": "code",
   "execution_count": 61,
   "id": "4f5d059c-4fde-4655-b8d5-680132870a06",
   "metadata": {},
   "outputs": [],
   "source": [
    "def naive_bayes(sentence, priors, conditionals) :\n",
    "    words = process(sentence)\n",
    "    scores = {}\n",
    "    for sense in priors :\n",
    "        value = math.log(priors[sense])\n",
    "        for word in words :\n",
    "            if word in conditionals :\n",
    "                value += math.log(conditionals[word][sense])\n",
    "            else :\n",
    "                value += math.log(1e-10)\n",
    "        scores[sense] = value\n",
    "\n",
    "    sense_predicted = max(scores, key = scores.get)\n",
    "    print(f\"{sentence}\\nSENSE : {sense_predicted}\\nSCORE : {scores[sense_predicted]}\")\n",
    "    \n"
   ]
  },
  {
   "cell_type": "code",
   "execution_count": 62,
   "id": "adb227ad-78bb-454d-b0a4-5764014f2ed9",
   "metadata": {},
   "outputs": [
    {
     "name": "stdout",
     "output_type": "stream",
     "text": [
      "The light breeze was refreshing on a warm summer day.\n",
      "SENSE :  Light (not intense)\n",
      "SCORE : -25.59000306801089\n",
      "She preferred light exercise, like walking and yoga.\n",
      "SENSE :  Light (not intense)\n",
      "SCORE : -26.113251211775438\n",
      "This box is so light I can carry it with one hand.\n",
      "SENSE :  Light (not heavy)\n",
      "SCORE : -20.61710810189748\n",
      "The light from the lamp was too bright for my eyes.\n",
      "SENSE :  Light (brightness)\n",
      "SCORE : -16.37372796051489\n",
      "The light jacket was just perfect for the cool evening air.\n",
      "SENSE :  Light (not heavy)\n",
      "SCORE : -26.40093328422722\n",
      "The light color of the walls made the room look bigger.\n",
      "SENSE :  Light (color/appearance)\n",
      "SCORE : -29.476708265454747\n",
      "He gave a light chuckle when he heard the funny joke.\n",
      "SENSE :  Light (mood/atmosphere)\n",
      "SCORE : -27.078332107819023\n",
      "I ordered a light meal because I wasn’t very hungry.\n",
      "SENSE :  Light (not intense)\n",
      "SCORE : -39.65089331873625\n",
      "She wore a light dress for the summer party.\n",
      "SENSE :  Light (color/appearance)\n",
      "SCORE : -20.61710810189748\n",
      "The light from the fireworks illuminated the night sky.\n",
      "SENSE :  Light (brightness)\n",
      "SCORE : -20.653475746068356\n"
     ]
    }
   ],
   "source": [
    "test_data = ['The light breeze was refreshing on a warm summer day.',\n",
    " 'She preferred light exercise, like walking and yoga.',\n",
    " 'This box is so light I can carry it with one hand.',\n",
    " 'The light from the lamp was too bright for my eyes.',\n",
    " 'The light jacket was just perfect for the cool evening air.',\n",
    " 'The light color of the walls made the room look bigger.',\n",
    " 'He gave a light chuckle when he heard the funny joke.',\n",
    " 'I ordered a light meal because I wasn’t very hungry.',\n",
    " 'She wore a light dress for the summer party.',\n",
    " 'The light from the fireworks illuminated the night sky.']\n",
    "\n",
    "for data in test_data :\n",
    "    naive_bayes(data, priors, conditionals)"
   ]
  },
  {
   "cell_type": "code",
   "execution_count": null,
   "id": "c0e4a3b9-458b-47f0-9c39-c324116f24b3",
   "metadata": {},
   "outputs": [],
   "source": []
  }
 ],
 "metadata": {
  "kernelspec": {
   "display_name": "Python 3 (ipykernel)",
   "language": "python",
   "name": "python3"
  },
  "language_info": {
   "codemirror_mode": {
    "name": "ipython",
    "version": 3
   },
   "file_extension": ".py",
   "mimetype": "text/x-python",
   "name": "python",
   "nbconvert_exporter": "python",
   "pygments_lexer": "ipython3",
   "version": "3.11.5"
  }
 },
 "nbformat": 4,
 "nbformat_minor": 5
}
