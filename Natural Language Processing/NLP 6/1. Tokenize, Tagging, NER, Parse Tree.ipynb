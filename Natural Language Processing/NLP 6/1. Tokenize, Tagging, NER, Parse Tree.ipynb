{
 "cells": [
  {
   "cell_type": "markdown",
   "id": "1a144d85-fe3b-4392-854b-f194b5583f23",
   "metadata": {},
   "source": [
    "# Experiment 1 :\n",
    "<b>Perform the following task using NLTK: Tokenize and tag some text, identify named entities, display a parse tree and find the ambiguity of the sentence using parse tree</b>"
   ]
  },
  {
   "cell_type": "code",
   "execution_count": 1,
   "id": "46410704-680c-4baa-b3d4-33645fa19ddb",
   "metadata": {},
   "outputs": [
    {
     "name": "stdout",
     "output_type": "stream",
     "text": [
      "--------------------------------------------------\n",
      "TOKENIZED SENTENCES\n",
      "--------------------------------------------------\n",
      "1. [Emma by Jane Austen 1816]  VOLUME I  CHAPTER I   Emma Woodhouse, handsome, clever, and rich, with a comfortable home and happy disposition, seemed to unite some of the best blessings of existence; and had lived nearly twenty-one years in the world with very little to distress or vex her.\n",
      "2. She was the youngest of the two daughters of a most affectionate, indulgent father; and had, in consequence of her sister's marriage, been mistress of his house from a very early period.\n",
      "3. Her mother had died too long ago for her to have more than an indistinct remembrance of her caresses; and her place had been supplied by an excellent woman as governess, who had fallen little short of a mother in affection.\n",
      "4. Sixteen years had Miss Taylor been in Mr. Woodhouse's family, less as a governess than a friend, very fond of both daughters, but particularly of Emma.\n",
      "5. Between _them_ it was more the intimacy of sisters.\n",
      "6. Even before Miss Taylor had ceased to hold the nominal office of governess, the mildness\n",
      "\n",
      "--------------------------------------------------\n",
      "TOKENIZED WORDS\n",
      "--------------------------------------------------\n",
      "['Emma', 'by', 'Jane', 'Austen', '1816', 'VOLUME', 'I', 'CHAPTER', 'I', 'Emma', 'Woodhouse', 'handsome', 'clever', 'and', 'rich', 'with', 'a', 'comfortable', 'home', 'and', 'happy', 'disposition', 'seemed', 'to', 'unite', 'some', 'of', 'the', 'best', 'blessings', 'of', 'existence', 'and', 'had', 'lived', 'nearly', 'twentyone', 'years', 'in', 'the', 'world', 'with', 'very', 'little', 'to', 'distress', 'or', 'vex', 'her']\n",
      "['She', 'was', 'the', 'youngest', 'of', 'the', 'two', 'daughters', 'of', 'a', 'most', 'affectionate', 'indulgent', 'father', 'and', 'had', 'in', 'consequence', 'of', 'her', 'sisters', 'marriage', 'been', 'mistress', 'of', 'his', 'house', 'from', 'a', 'very', 'early', 'period']\n",
      "['Her', 'mother', 'had', 'died', 'too', 'long', 'ago', 'for', 'her', 'to', 'have', 'more', 'than', 'an', 'indistinct', 'remembrance', 'of', 'her', 'caresses', 'and', 'her', 'place', 'had', 'been', 'supplied', 'by', 'an', 'excellent', 'woman', 'as', 'governess', 'who', 'had', 'fallen', 'little', 'short', 'of', 'a', 'mother', 'in', 'affection']\n",
      "['Sixteen', 'years', 'had', 'Miss', 'Taylor', 'been', 'in', 'Mr', 'Woodhouses', 'family', 'less', 'as', 'a', 'governess', 'than', 'a', 'friend', 'very', 'fond', 'of', 'both', 'daughters', 'but', 'particularly', 'of', 'Emma']\n",
      "['Between', 'them', 'it', 'was', 'more', 'the', 'intimacy', 'of', 'sisters']\n",
      "['Even', 'before', 'Miss', 'Taylor', 'had', 'ceased', 'to', 'hold', 'the', 'nominal', 'office', 'of', 'governess', 'the', 'mildness']\n",
      "\n",
      "--------------------------------------------------\n",
      "SENTENCES WITHOUT STOPWORDS\n",
      "--------------------------------------------------\n",
      "1. Emma Jane Austen 1816 VOLUME CHAPTER Emma Woodhouse handsome clever rich comfortable home happy disposition seemed unite best blessings existence lived nearly twentyone years world little distress vex\n",
      "2. youngest two daughters affectionate indulgent father consequence sisters marriage mistress house early period\n",
      "3. mother died long ago indistinct remembrance caresses place supplied excellent woman governess fallen little short mother affection\n",
      "4. Sixteen years Miss Taylor Mr Woodhouses family less governess friend fond daughters particularly Emma\n",
      "5. intimacy sisters\n",
      "6. Even Miss Taylor ceased hold nominal office governess mildness\n",
      "\n",
      "--------------------------------------------------\n",
      "SENTENCES AFTER STEMMING\n",
      "--------------------------------------------------\n",
      "1. emma by jane austen 1816 volum i chapter i emma woodhous handsom clever and rich with a comfort home and happi disposit seem to unit some of the best bless of exist and had live nearli twentyon year in the world with veri littl to distress or vex her\n",
      "2. she wa the youngest of the two daughter of a most affection indulg father and had in consequ of her sister marriag been mistress of hi hous from a veri earli period\n",
      "3. her mother had die too long ago for her to have more than an indistinct remembr of her caress and her place had been suppli by an excel woman as gover who had fallen littl short of a mother in affect\n",
      "4. sixteen year had miss taylor been in mr woodhous famili less as a gover than a friend veri fond of both daughter but particularli of emma\n",
      "5. between them it wa more the intimaci of sister\n",
      "6. even befor miss taylor had ceas to hold the nomin offic of gover the mild\n",
      "\n",
      "--------------------------------------------------\n",
      "SENTENCES AFTER LEMMATIZATION\n",
      "--------------------------------------------------\n",
      "1. Emma by Jane Austen 1816 VOLUME I CHAPTER I Emma Woodhouse handsome clever and rich with a comfortable home and happy disposition seemed to unite some of the best blessing of existence and had lived nearly twentyone year in the world with very little to distress or vex her\n",
      "2. She wa the youngest of the two daughter of a most affectionate indulgent father and had in consequence of her sister marriage been mistress of his house from a very early period\n",
      "3. Her mother had died too long ago for her to have more than an indistinct remembrance of her caress and her place had been supplied by an excellent woman a governess who had fallen little short of a mother in affection\n",
      "4. Sixteen year had Miss Taylor been in Mr Woodhouses family le a a governess than a friend very fond of both daughter but particularly of Emma\n",
      "5. Between them it wa more the intimacy of sister\n",
      "6. Even before Miss Taylor had ceased to hold the nominal office of governess the mildness\n"
     ]
    }
   ],
   "source": [
    "import nltk\n",
    "from nltk import sent_tokenize, word_tokenize, pos_tag, ne_chunk\n",
    "from nltk.corpus import gutenberg, stopwords\n",
    "from nltk.stem import PorterStemmer, WordNetLemmatizer\n",
    "from nltk.tree import Tree\n",
    "from nltk.parse import RecursiveDescentParser\n",
    "import string\n",
    "\n",
    "sentences = gutenberg.raw('austen-emma.txt')[:999]\n",
    "\n",
    "#Tokenization : using nltk.sent_tokenize, nltk.word_tokenize\n",
    "sent_tokens = sent_tokenize(sentences)\n",
    "print('-'*50 + \"\\nTOKENIZED SENTENCES\\n\" + '-'*50)\n",
    "for i, sentence in enumerate(sent_tokens) :\n",
    "    sentence = sentence.replace('\\n', ' ')\n",
    "    print(rf\"{i+1}. {sentence}\")\n",
    "\n",
    "word_tokens = []; print()\n",
    "print('-'*50 + \"\\nTOKENIZED WORDS\\n\" + '-'*50)\n",
    "for sentence in sent_tokens :\n",
    "    translator = str.maketrans('', '', string.punctuation)\n",
    "    sentence = sentence.translate(translator)\n",
    "    word_tokens.append(word_tokenize(sentence))\n",
    "    print(word_tokens[-1], end = '\\n')\n",
    "\n",
    "#Removal of stopwords : using nltk.corpus.stopwords\n",
    "stops = set(stopwords.words('english')); print()\n",
    "print('-'*50 + \"\\nSENTENCES WITHOUT STOPWORDS\\n\" + '-'*50)\n",
    "for i, tokens in enumerate(word_tokens) :\n",
    "    sentence = ' '.join(word for word in tokens if word.lower() not in stops)\n",
    "    print(rf\"{i+1}. {sentence}\")\n",
    "\n",
    "#Stemming : using nltk.stem.PorterStemmer\n",
    "stemmer = PorterStemmer(); print()\n",
    "print('-'*50 + \"\\nSENTENCES AFTER STEMMING\\n\" + '-'*50)\n",
    "for i, tokens in enumerate(word_tokens) :\n",
    "    sentence = ' '.join(stemmer.stem(word) for word in tokens)\n",
    "    print(rf\"{i+1}. {sentence}\")\n",
    "\n",
    "#Lemmatization : using nltk.stem.WordNetLemmatizer\n",
    "lemmatizer = WordNetLemmatizer(); print()\n",
    "print('-'*50 + \"\\nSENTENCES AFTER LEMMATIZATION\\n\" + '-'*50)\n",
    "for i, tokens in enumerate(word_tokens) :\n",
    "    sentence = ' '.join(lemmatizer.lemmatize(word) for word in tokens)\n",
    "    print(rf\"{i+1}. {sentence}\")\n"
   ]
  },
  {
   "cell_type": "code",
   "execution_count": 2,
   "id": "a8f0edc0-167d-4c7a-bbce-530c5a146861",
   "metadata": {},
   "outputs": [
    {
     "name": "stdout",
     "output_type": "stream",
     "text": [
      "--------------------------------------------------\n",
      "TAGGED TOKENS\n",
      "--------------------------------------------------\n",
      "1. [('Emma', 'NN'), ('by', 'IN'), ('Jane', 'NNP'), ('Austen', 'NNP'), ('1816', 'CD'), ('VOLUME', 'NNP'), ('I', 'PRP'), ('CHAPTER', 'VBP'), ('I', 'PRP'), ('Emma', 'NNP'), ('Woodhouse', 'NNP'), ('handsome', 'VBD'), ('clever', 'NN'), ('and', 'CC'), ('rich', 'JJ'), ('with', 'IN'), ('a', 'DT'), ('comfortable', 'JJ'), ('home', 'NN'), ('and', 'CC'), ('happy', 'JJ'), ('disposition', 'NN'), ('seemed', 'VBD'), ('to', 'TO'), ('unite', 'VB'), ('some', 'DT'), ('of', 'IN'), ('the', 'DT'), ('best', 'JJS'), ('blessings', 'NNS'), ('of', 'IN'), ('existence', 'NN'), ('and', 'CC'), ('had', 'VBD'), ('lived', 'VBN'), ('nearly', 'RB'), ('twentyone', 'CD'), ('years', 'NNS'), ('in', 'IN'), ('the', 'DT'), ('world', 'NN'), ('with', 'IN'), ('very', 'RB'), ('little', 'JJ'), ('to', 'TO'), ('distress', 'VB'), ('or', 'CC'), ('vex', 'VB'), ('her', 'PRP$')]\n",
      "\n",
      "2. [('She', 'PRP'), ('was', 'VBD'), ('the', 'DT'), ('youngest', 'JJS'), ('of', 'IN'), ('the', 'DT'), ('two', 'CD'), ('daughters', 'NNS'), ('of', 'IN'), ('a', 'DT'), ('most', 'RBS'), ('affectionate', 'JJ'), ('indulgent', 'NN'), ('father', 'NN'), ('and', 'CC'), ('had', 'VBD'), ('in', 'IN'), ('consequence', 'NN'), ('of', 'IN'), ('her', 'PRP$'), ('sisters', 'NNS'), ('marriage', 'VBP'), ('been', 'VBN'), ('mistress', 'NN'), ('of', 'IN'), ('his', 'PRP$'), ('house', 'NN'), ('from', 'IN'), ('a', 'DT'), ('very', 'RB'), ('early', 'JJ'), ('period', 'NN')]\n",
      "\n",
      "3. [('Her', 'PRP$'), ('mother', 'NN'), ('had', 'VBD'), ('died', 'VBN'), ('too', 'RB'), ('long', 'RB'), ('ago', 'RB'), ('for', 'IN'), ('her', 'PRP$'), ('to', 'TO'), ('have', 'VB'), ('more', 'JJR'), ('than', 'IN'), ('an', 'DT'), ('indistinct', 'JJ'), ('remembrance', 'NN'), ('of', 'IN'), ('her', 'PRP$'), ('caresses', 'NNS'), ('and', 'CC'), ('her', 'PRP$'), ('place', 'NN'), ('had', 'VBD'), ('been', 'VBN'), ('supplied', 'VBN'), ('by', 'IN'), ('an', 'DT'), ('excellent', 'JJ'), ('woman', 'NN'), ('as', 'IN'), ('governess', 'NN'), ('who', 'WP'), ('had', 'VBD'), ('fallen', 'VBN'), ('little', 'JJ'), ('short', 'JJ'), ('of', 'IN'), ('a', 'DT'), ('mother', 'NN'), ('in', 'IN'), ('affection', 'NN')]\n",
      "\n",
      "4. [('Sixteen', 'JJ'), ('years', 'NNS'), ('had', 'VBD'), ('Miss', 'NNP'), ('Taylor', 'NNP'), ('been', 'VBN'), ('in', 'IN'), ('Mr', 'NNP'), ('Woodhouses', 'NNP'), ('family', 'NN'), ('less', 'CC'), ('as', 'IN'), ('a', 'DT'), ('governess', 'NN'), ('than', 'IN'), ('a', 'DT'), ('friend', 'JJ'), ('very', 'RB'), ('fond', 'NN'), ('of', 'IN'), ('both', 'DT'), ('daughters', 'NNS'), ('but', 'CC'), ('particularly', 'RB'), ('of', 'IN'), ('Emma', 'NNP')]\n",
      "\n",
      "5. [('Between', 'IN'), ('them', 'PRP'), ('it', 'PRP'), ('was', 'VBD'), ('more', 'RBR'), ('the', 'DT'), ('intimacy', 'NN'), ('of', 'IN'), ('sisters', 'NNS')]\n",
      "\n",
      "6. [('Even', 'RB'), ('before', 'IN'), ('Miss', 'NNP'), ('Taylor', 'NNP'), ('had', 'VBD'), ('ceased', 'VBN'), ('to', 'TO'), ('hold', 'VB'), ('the', 'DT'), ('nominal', 'JJ'), ('office', 'NN'), ('of', 'IN'), ('governess', 'NN'), ('the', 'DT'), ('mildness', 'NN')]\n",
      "\n"
     ]
    }
   ],
   "source": [
    "#Tagging tokens with its parts of speech: using nltk.pos_tag\n",
    "print('-'*50 + \"\\nTAGGED TOKENS\\n\" + '-'*50)\n",
    "tags = []\n",
    "for i, tokens in enumerate(word_tokens) :\n",
    "    tags += [pos_tag(tokens)] \n",
    "    print(f\"{i+1}. {tags[-1]}\\n\")"
   ]
  },
  {
   "cell_type": "code",
   "execution_count": 3,
   "id": "d97e2c48-7b41-4b09-a429-6f81dd2644f8",
   "metadata": {},
   "outputs": [
    {
     "name": "stdout",
     "output_type": "stream",
     "text": [
      "--------------------------------------------------\n",
      "NAMED ENTITIES\n",
      "--------------------------------------------------\n",
      "ENTITY : Emma, LABEL : GPE\n",
      "ENTITY : Jane Austen, LABEL : PERSON\n",
      "ENTITY : Emma Woodhouse, LABEL : PERSON\n",
      "ENTITY : Miss Taylor, LABEL : PERSON\n",
      "ENTITY : Emma, LABEL : GPE\n",
      "ENTITY : Miss Taylor, LABEL : PERSON\n"
     ]
    }
   ],
   "source": [
    "#Named entities recogonization : using nltk.ne_chunk\n",
    "print('-'*50 + \"\\nNAMED ENTITIES\\n\" + '-'*50)\n",
    "ne = []\n",
    "for i, tag in enumerate(tags) :\n",
    "    ne += [ne_chunk(tag)] \n",
    "    for subtree in ne[-1] :\n",
    "        if isinstance(subtree, Tree) :\n",
    "            words = [word for word,tag in subtree.leaves()]\n",
    "            label = subtree.label()\n",
    "            print(f\"ENTITY : {' '.join(words)}, LABEL : {label}\")\n",
    "    "
   ]
  },
  {
   "cell_type": "code",
   "execution_count": 4,
   "id": "21223618-2544-42ca-b6b5-61ad138b7d3c",
   "metadata": {},
   "outputs": [],
   "source": [
    "#To extract the list of all tags in nltk\n",
    "# tagdict = nltk.data.load('help/tagsets/upenn_tagset.pickle')"
   ]
  },
  {
   "cell_type": "code",
   "execution_count": 3,
   "id": "b5849635-4186-40d4-95d6-539226f04fb5",
   "metadata": {},
   "outputs": [],
   "source": [
    "import nltk\n",
    "from nltk import word_tokenize\n",
    "from nltk.parse import RecursiveDescentParser"
   ]
  },
  {
   "cell_type": "code",
   "execution_count": 4,
   "id": "5cc00f51-fb75-49f2-ab56-b01503e2eef2",
   "metadata": {},
   "outputs": [
    {
     "name": "stdout",
     "output_type": "stream",
     "text": [
      "PARSE TREES : \n",
      "                      S                             \n",
      "      ________________|_______                       \n",
      "     |                        VP                    \n",
      "     |             ___________|_________             \n",
      "     |            |       |             PP          \n",
      "     |            |       |         ____|___         \n",
      "     NP           |       NP       |        NP      \n",
      "  ___|_____       |    ___|___     |     ___|____    \n",
      " AT       NNS     V   AT      NN   IN   AT       NN \n",
      " |         |      |   |       |    |    |        |   \n",
      "The     children ate the     cake with  a      spoon\n",
      "\n",
      "                      S                         \n",
      "      ________________|___                       \n",
      "     |                    VP                    \n",
      "     |             _______|____                  \n",
      "     |            |            NP               \n",
      "     |            |    ________|____             \n",
      "     |            |   |   |         PP          \n",
      "     |            |   |   |     ____|___         \n",
      "     NP           |   |   |    |        NP      \n",
      "  ___|_____       |   |   |    |     ___|____    \n",
      " AT       NNS     V   AT  NN   IN   AT       NN \n",
      " |         |      |   |   |    |    |        |   \n",
      "The     children ate the cake with  a      spoon\n",
      "\n"
     ]
    }
   ],
   "source": [
    "#Displaying a ParseTree and finding the ambiguity of a given sentence\n",
    "grammar = nltk.CFG.fromstring(\"\"\"\n",
    "    S -> NP VP\n",
    "    NP -> AT NNS | AT NN | AT NNS PP | AT NN PP\n",
    "    VP -> V NP PP | V NP\n",
    "    PP -> IN NP\n",
    "    AT -> \"The\" | \"the\" | \"a\"\n",
    "    NNS -> \"children\"\n",
    "    V -> \"ate\"\n",
    "    NN -> \"cake\" | \"spoon\"\n",
    "    IN -> \"with\"\n",
    "\"\"\")\n",
    "\n",
    "#parser = RecursiveDescentParser(grammar) #Can use nltk.ChartParser too\n",
    "parser = RecursiveDescentParser(grammer)\n",
    "print(\"PARSE TREES : \")\n",
    "\n",
    "tokens = word_tokenize(\"The children ate the cake with a spoon\")\n",
    "\n",
    "for tree in parser.parse(tokens) :\n",
    "    tree.pretty_print()"
   ]
  },
  {
   "cell_type": "code",
   "execution_count": null,
   "id": "092acc71-a390-4f6b-a6f7-c2e3fe2a82d5",
   "metadata": {},
   "outputs": [],
   "source": []
  }
 ],
 "metadata": {
  "kernelspec": {
   "display_name": "Python 3 (ipykernel)",
   "language": "python",
   "name": "python3"
  },
  "language_info": {
   "codemirror_mode": {
    "name": "ipython",
    "version": 3
   },
   "file_extension": ".py",
   "mimetype": "text/x-python",
   "name": "python",
   "nbconvert_exporter": "python",
   "pygments_lexer": "ipython3",
   "version": "3.12.4"
  }
 },
 "nbformat": 4,
 "nbformat_minor": 5
}
