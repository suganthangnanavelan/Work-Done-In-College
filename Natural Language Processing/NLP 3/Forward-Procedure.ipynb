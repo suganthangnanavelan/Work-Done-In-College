{
 "cells": [
  {
   "cell_type": "code",
   "execution_count": 1,
   "id": "066dae08-5367-4db1-a54a-a52f4c9a1879",
   "metadata": {},
   "outputs": [
    {
     "name": "stdin",
     "output_type": "stream",
     "text": [
      "Enter the states (comma-separated):  cp,ip\n",
      "Enter the possible observations (comma-separated):  lem,icet,cola\n",
      "Enter the observation sequence as space-separated names (options: ['lem', 'icet', 'cola']):  lem icet cola\n"
     ]
    },
    {
     "name": "stdout",
     "output_type": "stream",
     "text": [
      "\n",
      "Enter the state transition probabilities:\n"
     ]
    },
    {
     "name": "stdin",
     "output_type": "stream",
     "text": [
      "P(cp | cp):  0.7\n",
      "P(ip | cp):  0.5\n",
      "P(cp | ip):  0.3\n",
      "P(ip | ip):  0.5\n"
     ]
    },
    {
     "name": "stdout",
     "output_type": "stream",
     "text": [
      "\n",
      "Enter the emission probabilities:\n"
     ]
    },
    {
     "name": "stdin",
     "output_type": "stream",
     "text": [
      "P(lem | cp):  0.3\n",
      "P(icet | cp):  0.1\n",
      "P(cola | cp):  0.6\n",
      "P(lem | ip):  0.2\n",
      "P(icet | ip):  0.7\n",
      "P(cola | ip):  0.1\n"
     ]
    },
    {
     "name": "stdout",
     "output_type": "stream",
     "text": [
      "\n",
      "Enter the initial state probabilities (comma-separated):\n"
     ]
    },
    {
     "name": "stdin",
     "output_type": "stream",
     "text": [
      "Enter initial probabilities for ['cp', 'ip']:  1.0,0.0\n"
     ]
    },
    {
     "name": "stdout",
     "output_type": "stream",
     "text": [
      "\n",
      "Forward Matrix:\n",
      " [[0.3     0.021   0.02772]\n",
      " [0.      0.105   0.0063 ]]\n",
      "Probability of the observation sequence: 0.034019999999999995\n"
     ]
    }
   ],
   "source": [
    "import numpy as np\n",
    "\n",
    "# Step 1: Define states and observations based on user input\n",
    "states = list(map(str.strip, input(\"Enter the states (comma-separated): \").split(',')))\n",
    "observations = list(map(str.strip, input(\"Enter the possible observations (comma-separated): \").split(',')))\n",
    "\n",
    "# Step 2: Get user input for the observation sequence\n",
    "observation_seq = list(map(str.strip, input(f\"Enter the observation sequence as space-separated names (options: {observations}): \").split()))\n",
    "\n",
    "# Step 3: Convert observation sequence to indices\n",
    "try:\n",
    "    observation_indices = [observations.index(obs) for obs in observation_seq]\n",
    "except ValueError as e:\n",
    "    print(f\"Error: {e}. Please make sure your observation sequence contains only valid options: {observations}.\")\n",
    "    exit()\n",
    "\n",
    "# Step 4: Get user input for the transition matrix\n",
    "print(\"\\nEnter the state transition probabilities:\")\n",
    "transition_matrix = np.zeros((len(states), len(states)))\n",
    "for i in range(len(states)):\n",
    "    for j in range(len(states)):\n",
    "        transition_matrix[i, j] = float(input(f\"P({states[j]} | {states[i]}): \"))\n",
    "\n",
    "# Step 5: Get user input for the emission matrix\n",
    "print(\"\\nEnter the emission probabilities:\")\n",
    "emission_matrix = np.zeros((len(states), len(observations)))\n",
    "for i in range(len(states)):\n",
    "    for j in range(len(observations)):\n",
    "        emission_matrix[i, j] = float(input(f\"P({observations[j]} | {states[i]}): \"))\n",
    "\n",
    "# Step 6: Set initial state probabilities (ask the user to input them)\n",
    "initial_probabilities = np.zeros(len(states))\n",
    "print(\"\\nEnter the initial state probabilities (comma-separated):\")\n",
    "initial_probabilities = list(map(float, input(f\"Enter initial probabilities for {states}: \").split(',')))\n",
    "\n",
    "# Step 7: Forward Procedure\n",
    "def forward_procedure(observation_seq, transition_matrix, emission_matrix, initial_probabilities):\n",
    "    num_states = len(transition_matrix)\n",
    "    num_observations = len(observation_seq)\n",
    "    \n",
    "    # Initialize the forward matrix\n",
    "    forward_matrix = np.zeros((num_states, num_observations))\n",
    "    \n",
    "    # Initialization step\n",
    "    for i in range(num_states):\n",
    "        forward_matrix[i, 0] = initial_probabilities[i] * emission_matrix[i, observation_seq[0]]\n",
    "    \n",
    "    # Recursion step\n",
    "    for t in range(1, num_observations):\n",
    "        for j in range(num_states):\n",
    "            forward_matrix[j, t] = sum(forward_matrix[i, t - 1] * transition_matrix[i, j] for i in range(num_states)) * emission_matrix[j, observation_seq[t]]\n",
    "    \n",
    "    # Termination step\n",
    "    prob_observation = sum(forward_matrix[i, num_observations - 1] for i in range(num_states))\n",
    "    \n",
    "    return forward_matrix, prob_observation\n",
    "\n",
    "# Step 8: Compute the forward matrix and the probability of the observation sequence\n",
    "forward_matrix, prob_observation = forward_procedure(observation_indices, transition_matrix, emission_matrix, initial_probabilities)\n",
    "\n",
    "# Display the results\n",
    "print(\"\\nForward Matrix:\\n\", forward_matrix)\n",
    "print(\"Probability of the observation sequence:\", prob_observation)"
   ]
  },
  {
   "cell_type": "code",
   "execution_count": 2,
   "id": "c414199a-30b3-40bf-9e1e-f64ce2c930ea",
   "metadata": {},
   "outputs": [
    {
     "name": "stdin",
     "output_type": "stream",
     "text": [
      "Enter the states (comma-separated):  1,2,3\n",
      "Enter the possible observations (comma-separated):  up,down,unchanged\n",
      "Enter the observation sequence as space-separated names (options: ['up', 'down', 'unchanged']):  up up up up up\n"
     ]
    },
    {
     "name": "stdout",
     "output_type": "stream",
     "text": [
      "\n",
      "Enter the state transition probabilities:\n"
     ]
    },
    {
     "name": "stdin",
     "output_type": "stream",
     "text": [
      "P(1 | 1):  0.6\n",
      "P(2 | 1):  0.2\n",
      "P(3 | 1):  0.2\n",
      "P(1 | 2):  0.5\n",
      "P(2 | 2):  0.3\n",
      "P(3 | 2):  0.2\n",
      "P(1 | 3):  0.4\n",
      "P(2 | 3):  0.1\n",
      "P(3 | 3):  0.5\n"
     ]
    },
    {
     "name": "stdout",
     "output_type": "stream",
     "text": [
      "\n",
      "Enter the emission probabilities:\n"
     ]
    },
    {
     "name": "stdin",
     "output_type": "stream",
     "text": [
      "P(up | 1):  0.7\n",
      "P(down | 1):  0.1\n",
      "P(unchanged | 1):  0.2\n",
      "P(up | 2):  0.1\n",
      "P(down | 2):  0.6\n",
      "P(unchanged | 2):  0.3\n",
      "P(up | 3):  0.3\n",
      "P(down | 3):  0.3\n",
      "P(unchanged | 3):  0.4\n"
     ]
    },
    {
     "name": "stdout",
     "output_type": "stream",
     "text": [
      "\n",
      "Enter the initial state probabilities (comma-separated):\n"
     ]
    },
    {
     "name": "stdin",
     "output_type": "stream",
     "text": [
      "Enter initial probabilities for ['1', '2', '3']:  0.5,0.2,0.3\n"
     ]
    },
    {
     "name": "stdout",
     "output_type": "stream",
     "text": [
      "\n",
      "Forward Matrix:\n",
      " [[0.35       0.1792     0.088235   0.04318006 0.02110624]\n",
      " [0.02       0.0085     0.004196   0.00205675 0.00100569]\n",
      " [0.09       0.0357     0.016617   0.00803841 0.00391997]]\n",
      "Probability of the observation sequence: 0.026031900399999995\n"
     ]
    }
   ],
   "source": [
    "import numpy as np\n",
    "\n",
    "# Step 1: Define states and observations based on user input\n",
    "states = list(map(str.strip, input(\"Enter the states (comma-separated): \").split(',')))\n",
    "observations = list(map(str.strip, input(\"Enter the possible observations (comma-separated): \").split(',')))\n",
    "\n",
    "# Step 2: Get user input for the observation sequence\n",
    "observation_seq = list(map(str.strip, input(f\"Enter the observation sequence as space-separated names (options: {observations}): \").split()))\n",
    "\n",
    "# Step 3: Convert observation sequence to indices\n",
    "try:\n",
    "    observation_indices = [observations.index(obs) for obs in observation_seq]\n",
    "except ValueError as e:\n",
    "    print(f\"Error: {e}. Please make sure your observation sequence contains only valid options: {observations}.\")\n",
    "    exit()\n",
    "\n",
    "# Step 4: Get user input for the transition matrix\n",
    "print(\"\\nEnter the state transition probabilities:\")\n",
    "transition_matrix = np.zeros((len(states), len(states)))\n",
    "for i in range(len(states)):\n",
    "    for j in range(len(states)):\n",
    "        transition_matrix[i, j] = float(input(f\"P({states[j]} | {states[i]}): \"))\n",
    "\n",
    "# Step 5: Get user input for the emission matrix\n",
    "print(\"\\nEnter the emission probabilities:\")\n",
    "emission_matrix = np.zeros((len(states), len(observations)))\n",
    "for i in range(len(states)):\n",
    "    for j in range(len(observations)):\n",
    "        emission_matrix[i, j] = float(input(f\"P({observations[j]} | {states[i]}): \"))\n",
    "\n",
    "# Step 6: Set initial state probabilities (ask the user to input them)\n",
    "initial_probabilities = np.zeros(len(states))\n",
    "print(\"\\nEnter the initial state probabilities (comma-separated):\")\n",
    "initial_probabilities = list(map(float, input(f\"Enter initial probabilities for {states}: \").split(',')))\n",
    "\n",
    "# Step 7: Forward Procedure\n",
    "def forward_procedure(observation_seq, transition_matrix, emission_matrix, initial_probabilities):\n",
    "    num_states = len(transition_matrix)\n",
    "    num_observations = len(observation_seq)\n",
    "    \n",
    "    # Initialize the forward matrix\n",
    "    forward_matrix = np.zeros((num_states, num_observations))\n",
    "    \n",
    "    # Initialization step\n",
    "    for i in range(num_states):\n",
    "        forward_matrix[i, 0] = initial_probabilities[i] * emission_matrix[i, observation_seq[0]]\n",
    "    \n",
    "    # Recursion step\n",
    "    for t in range(1, num_observations):\n",
    "        for j in range(num_states):\n",
    "            forward_matrix[j, t] = sum(forward_matrix[i, t - 1] * transition_matrix[i, j] for i in range(num_states)) * emission_matrix[j, observation_seq[t]]\n",
    "    \n",
    "    # Termination step\n",
    "    prob_observation = sum(forward_matrix[i, num_observations - 1] for i in range(num_states))\n",
    "    \n",
    "    return forward_matrix, prob_observation\n",
    "\n",
    "# Step 8: Compute the forward matrix and the probability of the observation sequence\n",
    "forward_matrix, prob_observation = forward_procedure(observation_indices, transition_matrix, emission_matrix, initial_probabilities)\n",
    "\n",
    "# Display the results\n",
    "print(\"\\nForward Matrix:\\n\", forward_matrix)\n",
    "print(\"Probability of the observation sequence:\", prob_observation)"
   ]
  },
  {
   "cell_type": "code",
   "execution_count": 4,
   "id": "b20e9075-2efe-4f34-83ab-0d80e28f6066",
   "metadata": {},
   "outputs": [
    {
     "name": "stdin",
     "output_type": "stream",
     "text": [
      "Enter the states(comma-separated): cp,ip\n",
      "Enter the possible observations(comma-separated): lem,icet,cola\n",
      "Enter the observation sequence as space_separated names(options:['lem', 'icet', 'cola']): lem icet cola\n"
     ]
    },
    {
     "name": "stdout",
     "output_type": "stream",
     "text": [
      "\n",
      "Enter the state transition probabilities:\n"
     ]
    },
    {
     "name": "stdin",
     "output_type": "stream",
     "text": [
      "P(cp|cp): 0.7\n",
      "P(ip|cp): 0.5\n",
      "P(cp|ip): 0.3\n",
      "P(ip|ip): 0.5\n"
     ]
    },
    {
     "name": "stdout",
     "output_type": "stream",
     "text": [
      "\n",
      "Enter the emission probabilities:\n"
     ]
    },
    {
     "name": "stdin",
     "output_type": "stream",
     "text": [
      "P(lem|cp): 0.3\n",
      "P(icet|cp): 0.1\n",
      "P(cola|cp): 0.6\n",
      "P(lem|ip): 0.2\n",
      "P(icet|ip): 0.7\n",
      "P(cola|ip): 0.1\n"
     ]
    },
    {
     "name": "stdout",
     "output_type": "stream",
     "text": [
      "\n",
      "Enter the initial state probabilities(comma-separated):\n"
     ]
    },
    {
     "name": "stdin",
     "output_type": "stream",
     "text": [
      "Enter initial probabilities for['cp', 'ip']: 1.0,0.0\n"
     ]
    },
    {
     "name": "stdout",
     "output_type": "stream",
     "text": [
      "\n",
      "Forward Matrix:\n",
      " [[0.3     0.021   0.02772]\n",
      " [0.      0.105   0.0063 ]]\n",
      "Probability of observation sequence: 0.034019999999999995\n",
      "\n",
      "Backward Matrix:\n",
      " [[0.1134 0.47   1.    ]\n",
      " [0.0946 0.23   1.    ]]\n",
      "Probability of observation sequence: 0.03401999999999999\n"
     ]
    }
   ],
   "source": [
    "import numpy as np\n",
    "states=list(map(str.strip,input(\"Enter the states(comma-separated):\").split(',')))\n",
    "observations=list(map(str.strip,input(\"Enter the possible observations(comma-separated):\").split(',')))\n",
    "observation_seq=list(map(str.strip,input(f\"Enter the observation sequence as space_separated names(options:{observations}):\").split()))\n",
    "try:\n",
    "    observation_indices=[]\n",
    "    for obs in observation_seq:\n",
    "        observation_indices.append(observations.index(obs))\n",
    "except ValueError as e:\n",
    "    print(f\"Error:{e}.Please make sure your observation sequence contains only valid options:{observations}.\")\n",
    "    exit()\n",
    "print(\"\\nEnter the state transition probabilities:\")\n",
    "transition_matrix=np.zeros((len(states),len(states)))\n",
    "for i in range(len(states)):\n",
    "    for j in range(len(states)):\n",
    "        transition_matrix[i,j]=float(input(f\"P({states[j]}|{states[i]}):\"))\n",
    "print(\"\\nEnter the emission probabilities:\")\n",
    "emission_matrix=np.zeros((len(states),len(observations)))\n",
    "for i in range(len(states)):\n",
    "    for j in range(len(observations)):\n",
    "        emission_matrix[i,j]=float(input(f\"P({observations[j]}|{states[i]}):\"))\n",
    "initial_probabilities=np.zeros(len(states))\n",
    "print(\"\\nEnter the initial state probabilities(comma-separated):\")\n",
    "initial_probabilities=list(map(float,input(f\"Enter initial probabilities for{states}:\").split(',')))\n",
    "\n",
    "def forward_procedure(observation_seq,transition_matrix,emission_matrix,initial_probabilities):\n",
    "    num_states=len(transition_matrix)\n",
    "    num_observations=len(observation_seq)\n",
    "    forward_matrix=np.zeros((num_states,num_observations))\n",
    "    for i in range(num_states):\n",
    "        forward_matrix[i, 0]=initial_probabilities[i] * emission_matrix[i, observation_seq[0]]\n",
    "    for t in range(1,num_observations):\n",
    "        for j in range(num_states):\n",
    "            forward_matrix[j,t]=sum(forward_matrix[i,t-1]*transition_matrix[i,j] for i in range(num_states))*emission_matrix[j,observation_seq[t]]\n",
    "    prob_observation=sum(forward_matrix[i,num_observations-1]for i in range(num_states))\n",
    "    return forward_matrix,prob_observation\n",
    "\n",
    "forward_matrix,prob_observation=forward_procedure(observation_indices,transition_matrix,emission_matrix,initial_probabilities)\n",
    "print(\"\\nForward Matrix:\\n\",forward_matrix)\n",
    "print(\"Probability of observation sequence:\",prob_observation)\n",
    "\n",
    "def backward_procedure(observation_seq,transition_matrix,emission_matrix,initial_probabilities):\n",
    "    num_states=len(transition_matrix)\n",
    "    num_observations=len(observation_seq)\n",
    "    backward_matrix=np.zeros((num_states,num_observations))\n",
    "    backward_matrix[:,num_observations-1]=1\n",
    "    for  t in range(num_observations-2,-1,-1):\n",
    "        for i in range(num_states):\n",
    "            backward_matrix[i,t]=sum(transition_matrix[i,j]*emission_matrix[j, observation_seq[t+1]]*backward_matrix[j,t+1]for j in range(num_states))\n",
    "    prob_observation=sum(initial_probabilities[i]*emission_matrix[i, observation_seq[0]]*backward_matrix[i,0]for i in range(num_states))\n",
    "    return backward_matrix,prob_observation\n",
    "\n",
    "backward_matrix,prob_observation=backward_procedure(observation_indices,transition_matrix,emission_matrix,initial_probabilities)\n",
    "print(\"\\nBackward Matrix:\\n\",backward_matrix)\n",
    "print(\"Probability of observation sequence:\",prob_observation)"
   ]
  },
  {
   "cell_type": "code",
   "execution_count": null,
   "id": "cc4631ba-95a1-406f-93c1-898d224acceb",
   "metadata": {},
   "outputs": [],
   "source": []
  }
 ],
 "metadata": {
  "kernelspec": {
   "display_name": "Python 3 (ipykernel)",
   "language": "python",
   "name": "python3"
  },
  "language_info": {
   "codemirror_mode": {
    "name": "ipython",
    "version": 3
   },
   "file_extension": ".py",
   "mimetype": "text/x-python",
   "name": "python",
   "nbconvert_exporter": "python",
   "pygments_lexer": "ipython3",
   "version": "3.11.7"
  }
 },
 "nbformat": 4,
 "nbformat_minor": 5
}
