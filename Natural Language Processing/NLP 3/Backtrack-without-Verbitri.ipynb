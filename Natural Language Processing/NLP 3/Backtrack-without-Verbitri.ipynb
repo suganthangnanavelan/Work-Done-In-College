{
 "cells": [
  {
   "cell_type": "code",
   "execution_count": 4,
   "id": "5cca4bd6-6e02-4c91-a85b-a58b90d4cfd2",
   "metadata": {},
   "outputs": [
    {
     "name": "stdin",
     "output_type": "stream",
     "text": [
      "Enter the states (comma-separated):  1,2,3\n",
      "Enter the possible observations (comma-separated):  up,down,unchanged\n",
      "Enter the observation sequence as space-separated names (options: ['up', 'down', 'unchanged']):  up up up up up\n"
     ]
    },
    {
     "name": "stdout",
     "output_type": "stream",
     "text": [
      "\n",
      "Enter the state transition probabilities:\n"
     ]
    },
    {
     "name": "stdin",
     "output_type": "stream",
     "text": [
      "P(1 | 1):  0.6\n",
      "P(2 | 1):  0.2\n",
      "P(3 | 1):  0.2\n",
      "P(1 | 2):  0.5\n",
      "P(2 | 2):  0.3\n",
      "P(3 | 2):  0.2\n",
      "P(1 | 3):  0.4\n",
      "P(2 | 3):  0.1\n",
      "P(3 | 3):  0.5\n"
     ]
    },
    {
     "name": "stdout",
     "output_type": "stream",
     "text": [
      "\n",
      "Enter the emission probabilities:\n"
     ]
    },
    {
     "name": "stdin",
     "output_type": "stream",
     "text": [
      "P(up | 1):  0.7\n",
      "P(down | 1):  0.1\n",
      "P(unchanged | 1):  0.2\n",
      "P(up | 2):  0.1\n",
      "P(down | 2):  0.6\n",
      "P(unchanged | 2):  0.3\n",
      "P(up | 3):  0.3\n",
      "P(down | 3):  0.3\n",
      "P(unchanged | 3):  0.4\n"
     ]
    },
    {
     "name": "stdout",
     "output_type": "stream",
     "text": [
      "\n",
      "Enter the initial state probabilities (comma-separated):\n"
     ]
    },
    {
     "name": "stdin",
     "output_type": "stream",
     "text": [
      "Enter initial probabilities for ['1', '2', '3']:  0.5,0.2,0.3\n"
     ]
    },
    {
     "name": "stdout",
     "output_type": "stream",
     "text": [
      "\n",
      "Backward Matrix:\n",
      " [[0.05859736 0.1199     0.2452     0.5        1.        ]\n",
      " [0.05125318 0.104882   0.2146     0.44       1.        ]\n",
      " [0.04997512 0.102362   0.2104     0.44       1.        ]]\n",
      "Probability of the observation sequence (using backward procedure): 0.026031900399999995\n"
     ]
    }
   ],
   "source": [
    "import numpy as np\n",
    "\n",
    "# Step 1: Define states and observations based on user input\n",
    "states = list(map(str.strip, input(\"Enter the states (comma-separated): \").split(',')))\n",
    "observations = list(map(str.strip, input(\"Enter the possible observations (comma-separated): \").split(',')))\n",
    "\n",
    "# Step 2: Get user input for the observation sequence\n",
    "observation_seq = list(map(str.strip, input(f\"Enter the observation sequence as space-separated names (options: {observations}): \").split()))\n",
    "\n",
    "# Step 3: Convert observation sequence to indices\n",
    "try:\n",
    "    observation_indices = [observations.index(obs) for obs in observation_seq]\n",
    "except ValueError as e:\n",
    "    print(f\"Error: {e}. Please make sure your observation sequence contains only valid options: {observations}.\")\n",
    "    exit()\n",
    "\n",
    "# Step 4: Get user input for the transition matrix\n",
    "print(\"\\nEnter the state transition probabilities:\")\n",
    "transition_matrix = np.zeros((len(states), len(states)))\n",
    "for i in range(len(states)):\n",
    "    for j in range(len(states)):\n",
    "        transition_matrix[i, j] = float(input(f\"P({states[j]} | {states[i]}): \"))\n",
    "\n",
    "# Step 5: Get user input for the emission matrix\n",
    "print(\"\\nEnter the emission probabilities:\")\n",
    "emission_matrix = np.zeros((len(states), len(observations)))\n",
    "for i in range(len(states)):\n",
    "    for j in range(len(observations)):\n",
    "        emission_matrix[i, j] = float(input(f\"P({observations[j]} | {states[i]}): \"))\n",
    "\n",
    "# Step 6: Set initial state probabilities (ask the user to input them)\n",
    "initial_probabilities = np.zeros(len(states))\n",
    "print(\"\\nEnter the initial state probabilities (comma-separated):\")\n",
    "initial_probabilities = list(map(float, input(f\"Enter initial probabilities for {states}: \").split(',')))\n",
    "\n",
    "# Step 7: Backward Procedure\n",
    "def backward_procedure(observation_seq, transition_matrix, emission_matrix):\n",
    "    num_states = len(transition_matrix)\n",
    "    num_observations = len(observation_seq)\n",
    "    \n",
    "    # Initialize the backward matrix\n",
    "    backward_matrix = np.zeros((num_states, num_observations))\n",
    "    \n",
    "    # Initialization step: Fill the last column with 1 (termination condition)\n",
    "    backward_matrix[:, num_observations - 1] = 1\n",
    "    \n",
    "    # Recursion step\n",
    "    for t in range(num_observations - 2, -1, -1):\n",
    "        for i in range(num_states):\n",
    "            backward_matrix[i, t] = sum(transition_matrix[i, j] * emission_matrix[j, observation_seq[t + 1]] * backward_matrix[j, t + 1] for j in range(num_states))\n",
    "    \n",
    "    # Compute the probability of the observation sequence\n",
    "    prob_observation = sum(initial_probabilities[i] * emission_matrix[i, observation_seq[0]] * backward_matrix[i, 0] for i in range(num_states))\n",
    "    \n",
    "    return backward_matrix, prob_observation\n",
    "\n",
    "# Step 8: Compute the backward matrix and the probability of the observation sequence\n",
    "backward_matrix, prob_observation_backward = backward_procedure(observation_indices, transition_matrix, emission_matrix)\n",
    "print(\"\\nBackward Matrix:\\n\", backward_matrix)\n",
    "print(\"Probability of the observation sequence (using backward procedure):\", prob_observation_backward)\n"
   ]
  },
  {
   "cell_type": "code",
   "execution_count": null,
   "id": "98d61f25-ccf6-4bdc-b8fe-1bdadf8cbfaf",
   "metadata": {},
   "outputs": [],
   "source": []
  }
 ],
 "metadata": {
  "kernelspec": {
   "display_name": "Python 3 (ipykernel)",
   "language": "python",
   "name": "python3"
  },
  "language_info": {
   "codemirror_mode": {
    "name": "ipython",
    "version": 3
   },
   "file_extension": ".py",
   "mimetype": "text/x-python",
   "name": "python",
   "nbconvert_exporter": "python",
   "pygments_lexer": "ipython3",
   "version": "3.11.7"
  }
 },
 "nbformat": 4,
 "nbformat_minor": 5
}
