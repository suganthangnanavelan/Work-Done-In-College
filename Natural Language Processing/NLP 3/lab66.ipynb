{
 "cells": [
  {
   "cell_type": "code",
   "execution_count": 1,
   "id": "4f47e82a-1f08-4a66-a2f2-d09e61b65279",
   "metadata": {},
   "outputs": [
    {
     "name": "stdin",
     "output_type": "stream",
     "text": [
      "Enter the states (comma-separated):  cp,ip\n",
      "Enter the possible observations (comma-separated):  lem,ice-t,cola\n",
      "Enter the observation sequence as space-separated names (options: ['lem', 'ice-t', 'cola']):  lem ice-t cola\n"
     ]
    },
    {
     "name": "stdout",
     "output_type": "stream",
     "text": [
      "\n",
      "Enter the state transition probabilities:\n"
     ]
    },
    {
     "name": "stdin",
     "output_type": "stream",
     "text": [
      "P(cp | cp):  0.7\n",
      "P(ip | cp):  0.5\n",
      "P(cp | ip):  0.3\n",
      "P(ip | ip):  0.5\n"
     ]
    },
    {
     "name": "stdout",
     "output_type": "stream",
     "text": [
      "\n",
      "Enter the emission probabilities:\n"
     ]
    },
    {
     "name": "stdin",
     "output_type": "stream",
     "text": [
      "P(lem | cp):  0.3\n",
      "P(ice-t | cp):  0.1\n",
      "P(cola | cp):  0.6\n",
      "P(lem | ip):  0.2\n",
      "P(ice-t | ip):  0.7\n",
      "P(cola | ip):  0.1\n"
     ]
    },
    {
     "name": "stdout",
     "output_type": "stream",
     "text": [
      "\n",
      "Enter the initial state probabilities (comma-separated):\n"
     ]
    },
    {
     "name": "stdin",
     "output_type": "stream",
     "text": [
      "Enter initial probabilities for ['cp', 'ip']:  1.0,0.0\n"
     ]
    },
    {
     "name": "stdout",
     "output_type": "stream",
     "text": [
      "\n",
      "Forward Matrix:\n",
      " [[0.3     0.021   0.02772]\n",
      " [0.      0.105   0.0063 ]]\n",
      "Probability of the observation sequence: 0.034019999999999995\n"
     ]
    },
    {
     "data": {
      "image/png": "[encoded data removed]",
      "text/plain": [
       "<Figure size 640x480 with 1 Axes>"
      ]
     },
     "metadata": {},
     "output_type": "display_data"
    }
   ],
   "source": [
    "import numpy as np\n",
    "import networkx as nx\n",
    "import matplotlib.pyplot as plt\n",
    "\n",
    "# Step 1: Define states and observations based on user input\n",
    "states = list(map(str.strip, input(\"Enter the states (comma-separated): \").split(',')))\n",
    "observations = list(map(str.strip, input(\"Enter the possible observations (comma-separated): \").split(',')))\n",
    "\n",
    "# Step 2: Get user input for the observation sequence\n",
    "observation_seq = list(map(str.strip, input(f\"Enter the observation sequence as space-separated names (options: {observations}): \").split()))\n",
    "\n",
    "# Step 3: Convert observation sequence to indices\n",
    "try:\n",
    "    observation_indices = [observations.index(obs) for obs in observation_seq]\n",
    "except ValueError as e:\n",
    "    print(f\"Error: {e}. Please make sure your observation sequence contains only valid options: {observations}.\")\n",
    "    exit()\n",
    "\n",
    "# Step 4: Get user input for the transition matrix\n",
    "print(\"\\nEnter the state transition probabilities:\")\n",
    "transition_matrix = np.zeros((len(states), len(states)))\n",
    "for i in range(len(states)):\n",
    "    for j in range(len(states)):\n",
    "        transition_matrix[i, j] = float(input(f\"P({states[j]} | {states[i]}): \"))\n",
    "\n",
    "# Step 5: Get user input for the emission matrix\n",
    "print(\"\\nEnter the emission probabilities:\")\n",
    "emission_matrix = np.zeros((len(states), len(observations)))\n",
    "for i in range(len(states)):\n",
    "    for j in range(len(observations)):\n",
    "        emission_matrix[i, j] = float(input(f\"P({observations[j]} | {states[i]}): \"))\n",
    "\n",
    "# Step 6: Set initial state probabilities (ask the user to input them)\n",
    "initial_probabilities = np.zeros(len(states))\n",
    "print(\"\\nEnter the initial state probabilities (comma-separated):\")\n",
    "initial_probabilities = list(map(float, input(f\"Enter initial probabilities for {states}: \").split(',')))\n",
    "\n",
    "# Step 7: Forward Procedure\n",
    "def forward_procedure(observation_seq, transition_matrix, emission_matrix, initial_probabilities):\n",
    "    num_states = len(transition_matrix)\n",
    "    num_observations = len(observation_seq)\n",
    "    \n",
    "    # Initialize the forward matrix\n",
    "    forward_matrix = np.zeros((num_states, num_observations))\n",
    "    \n",
    "    # Initialization step\n",
    "    for i in range(num_states):\n",
    "        forward_matrix[i, 0] = initial_probabilities[i] * emission_matrix[i, observation_seq[0]]\n",
    "    \n",
    "    # Recursion step\n",
    "    for t in range(1, num_observations):\n",
    "        for j in range(num_states):\n",
    "            forward_matrix[j, t] = sum(forward_matrix[i, t - 1] * transition_matrix[i, j] for i in range(num_states)) * emission_matrix[j, observation_seq[t]]\n",
    "    \n",
    "    # Termination step\n",
    "    prob_observation = sum(forward_matrix[i, num_observations - 1] for i in range(num_states))\n",
    "    \n",
    "    return forward_matrix, prob_observation\n",
    "\n",
    "# Step 8: Compute the forward matrix and the probability of the observation sequence\n",
    "forward_matrix, prob_observation = forward_procedure(observation_indices, transition_matrix, emission_matrix, initial_probabilities)\n",
    "\n",
    "# Display the results\n",
    "print(\"\\nForward Matrix:\\n\", forward_matrix)\n",
    "print(\"Probability of the observation sequence:\", prob_observation)\n",
    "\n",
    "# Step 9: Visualize the HMM\n",
    "G = nx.DiGraph()\n",
    "\n",
    "# Add nodes with state names\n",
    "for state in states:\n",
    "    G.add_node(state, shape='circle')\n",
    "\n",
    "# Add edges with transition probabilities\n",
    "for i in range(len(states)):\n",
    "    for j in range(len(states)):\n",
    "        if transition_matrix[i, j] > 0:\n",
    "            G.add_edge(states[i], states[j], weight=transition_matrix[i, j])\n",
    "\n",
    "# Draw the graph\n",
    "pos = nx.spring_layout(G)\n",
    "edges = G.edges(data=True)\n",
    "nx.draw(G, pos, with_labels=True, node_size=2000, node_color='lightblue', font_size=10, font_weight='bold', arrows=True)\n",
    "nx.draw_networkx_edge_labels(G, pos, edge_labels={(u, v): f'{d[\"weight\"]:.2f}' for u, v, d in edges})\n",
    "\n",
    "plt.title(\"Hidden Markov Model Network\")\n",
    "plt.show()\n"
   ]
  },
  {
   "cell_type": "code",
   "execution_count": 3,
   "id": "ca80fd1f-cf54-4560-a5a7-47599cf73aae",
   "metadata": {},
   "outputs": [
    {
     "name": "stdin",
     "output_type": "stream",
     "text": [
      "Enter the states (comma-separated):  low,high\n",
      "Enter the possible observations (comma-separated):  snow,rain,dry,sunny\n",
      "Enter the observation sequence as space-separated names (options: ['snow', 'rain', 'dry', 'sunny']):  rain dry sunny snow\n"
     ]
    },
    {
     "name": "stdout",
     "output_type": "stream",
     "text": [
      "\n",
      "Enter the state transition probabilities:\n"
     ]
    },
    {
     "name": "stdin",
     "output_type": "stream",
     "text": [
      "P(low | low):  0.3\n",
      "P(high | low):  0.5\n",
      "P(low | high):  0.7\n",
      "P(high | high):  0.5\n"
     ]
    },
    {
     "name": "stdout",
     "output_type": "stream",
     "text": [
      "\n",
      "Enter the emission probabilities:\n"
     ]
    },
    {
     "name": "stdin",
     "output_type": "stream",
     "text": [
      "P(snow | low):  0.1\n",
      "P(rain | low):  0.3\n",
      "P(dry | low):  0.6\n",
      "P(sunny | low):  0\n",
      "P(snow | high):  0\n",
      "P(rain | high):  0.2\n",
      "P(dry | high):  0.3\n",
      "P(sunny | high):  0.5\n"
     ]
    },
    {
     "name": "stdout",
     "output_type": "stream",
     "text": [
      "\n",
      "Enter the initial state probabilities (comma-separated):\n"
     ]
    },
    {
     "name": "stdin",
     "output_type": "stream",
     "text": [
      "Enter initial probabilities for ['low', 'high']:  0.6,0.4\n"
     ]
    },
    {
     "name": "stdout",
     "output_type": "stream",
     "text": [
      "\n",
      "Forward Matrix:\n",
      " [[0.18      0.066     0.        0.0018375]\n",
      " [0.08      0.039     0.02625   0.       ]]\n",
      "Probability of the observation sequence: 0.0018375\n"
     ]
    },
    {
     "data": {
      "image/png": "[encoded data removed]",
      "text/plain": [
       "<Figure size 640x480 with 1 Axes>"
      ]
     },
     "metadata": {},
     "output_type": "display_data"
    }
   ],
   "source": [
    "import numpy as np\n",
    "import networkx as nx\n",
    "import matplotlib.pyplot as plt\n",
    "\n",
    "# Step 1: Define states and observations based on user input\n",
    "states = list(map(str.strip, input(\"Enter the states (comma-separated): \").split(',')))\n",
    "observations = list(map(str.strip, input(\"Enter the possible observations (comma-separated): \").split(',')))\n",
    "\n",
    "# Step 2: Get user input for the observation sequence\n",
    "observation_seq = list(map(str.strip, input(f\"Enter the observation sequence as space-separated names (options: {observations}): \").split()))\n",
    "\n",
    "# Step 3: Convert observation sequence to indices\n",
    "try:\n",
    "    observation_indices = [observations.index(obs) for obs in observation_seq]\n",
    "except ValueError as e:\n",
    "    print(f\"Error: {e}. Please make sure your observation sequence contains only valid options: {observations}.\")\n",
    "    exit()\n",
    "\n",
    "# Step 4: Get user input for the transition matrix\n",
    "print(\"\\nEnter the state transition probabilities:\")\n",
    "transition_matrix = np.zeros((len(states), len(states)))\n",
    "for i in range(len(states)):\n",
    "    for j in range(len(states)):\n",
    "        transition_matrix[i, j] = float(input(f\"P({states[j]} | {states[i]}): \"))\n",
    "\n",
    "# Step 5: Get user input for the emission matrix\n",
    "print(\"\\nEnter the emission probabilities:\")\n",
    "emission_matrix = np.zeros((len(states), len(observations)))\n",
    "for i in range(len(states)):\n",
    "    for j in range(len(observations)):\n",
    "        emission_matrix[i, j] = float(input(f\"P({observations[j]} | {states[i]}): \"))\n",
    "\n",
    "# Step 6: Set initial state probabilities (ask the user to input them)\n",
    "initial_probabilities = np.zeros(len(states))\n",
    "print(\"\\nEnter the initial state probabilities (comma-separated):\")\n",
    "initial_probabilities = list(map(float, input(f\"Enter initial probabilities for {states}: \").split(',')))\n",
    "\n",
    "# Step 7: Forward Procedure\n",
    "def forward_procedure(observation_seq, transition_matrix, emission_matrix, initial_probabilities):\n",
    "    num_states = len(transition_matrix)\n",
    "    num_observations = len(observation_seq)\n",
    "    \n",
    "    # Initialize the forward matrix\n",
    "    forward_matrix = np.zeros((num_states, num_observations))\n",
    "    \n",
    "    # Initialization step\n",
    "    for i in range(num_states):\n",
    "        forward_matrix[i, 0] = initial_probabilities[i] * emission_matrix[i, observation_seq[0]]\n",
    "    \n",
    "    # Recursion step\n",
    "    for t in range(1, num_observations):\n",
    "        for j in range(num_states):\n",
    "            forward_matrix[j, t] = sum(forward_matrix[i, t - 1] * transition_matrix[i, j] for i in range(num_states)) * emission_matrix[j, observation_seq[t]]\n",
    "    \n",
    "    # Termination step\n",
    "    prob_observation = sum(forward_matrix[i, num_observations - 1] for i in range(num_states))\n",
    "    \n",
    "    return forward_matrix, prob_observation\n",
    "\n",
    "# Step 8: Compute the forward matrix and the probability of the observation sequence\n",
    "forward_matrix, prob_observation = forward_procedure(observation_indices, transition_matrix, emission_matrix, initial_probabilities)\n",
    "\n",
    "# Display the results\n",
    "print(\"\\nForward Matrix:\\n\", forward_matrix)\n",
    "print(\"Probability of the observation sequence:\", prob_observation)\n",
    "\n",
    "# Step 9: Visualize the HMM\n",
    "G = nx.DiGraph()\n",
    "\n",
    "# Add nodes with state names\n",
    "for state in states:\n",
    "    G.add_node(state, shape='circle')\n",
    "\n",
    "# Add edges with transition probabilities\n",
    "for i in range(len(states)):\n",
    "    for j in range(len(states)):\n",
    "        if transition_matrix[i, j] > 0:\n",
    "            G.add_edge(states[i], states[j], weight=transition_matrix[i, j])\n",
    "\n",
    "# Draw the graph\n",
    "pos = nx.spring_layout(G)\n",
    "edges = G.edges(data=True)\n",
    "nx.draw(G, pos, with_labels=True, node_size=2000, node_color='lightblue', font_size=10, font_weight='bold', arrows=True)\n",
    "nx.draw_networkx_edge_labels(G, pos, edge_labels={(u, v): f'{d[\"weight\"]:.2f}' for u, v, d in edges})\n",
    "\n",
    "plt.title(\"Hidden Markov Model Network\")\n",
    "plt.show()\n"
   ]
  },
  {
   "cell_type": "code",
   "execution_count": 1,
   "id": "55377792-128f-4ddf-be66-27fb6b5abf56",
   "metadata": {},
   "outputs": [
    {
     "name": "stdin",
     "output_type": "stream",
     "text": [
      "Enter the states (comma-separated):  regen,sonne,wolken\n",
      "Enter the possible observations (comma-separated):  tro,etro,efeu,feu\n",
      "Enter the observation sequence as space-separated names (options: ['tro', 'etro', 'efeu', 'feu']):  tro etro efeu feu\n"
     ]
    },
    {
     "name": "stdout",
     "output_type": "stream",
     "text": [
      "\n",
      "Enter the state transition probabilities:\n"
     ]
    },
    {
     "name": "stdin",
     "output_type": "stream",
     "text": [
      "P(regen | regen):  0.375\n",
      "P(sonne | regen):  0.25\n",
      "P(wolken | regen):  0.375\n",
      "P(regen | sonne):  0.125\n",
      "P(sonne | sonne):  0.5\n",
      "P(wolken | sonne):  0.375\n",
      "P(regen | wolken):  0.375\n",
      "P(sonne | wolken):  0.25\n",
      "P(wolken | wolken):  0.125\n"
     ]
    },
    {
     "name": "stdout",
     "output_type": "stream",
     "text": [
      "\n",
      "Enter the emission probabilities:\n"
     ]
    },
    {
     "name": "stdin",
     "output_type": "stream",
     "text": [
      "P(tro | regen):  0.05\n",
      "P(etro | regen):  0.1\n",
      "P(efeu | regen):  0.35\n",
      "P(feu | regen):  0.5\n",
      "P(tro | sonne):  0.6\n",
      "P(etro | sonne):  0.2\n",
      "P(efeu | sonne):  0.15\n",
      "P(feu | sonne):  0.05\n",
      "P(tro | wolken):  0.25\n",
      "P(etro | wolken):  0.25\n",
      "P(efeu | wolken):  0.25\n",
      "P(feu | wolken):  0.25\n"
     ]
    },
    {
     "name": "stdout",
     "output_type": "stream",
     "text": [
      "\n",
      "Enter the initial state probabilities (comma-separated):\n"
     ]
    },
    {
     "name": "stdin",
     "output_type": "stream",
     "text": [
      "Enter initial probabilities for ['regen', 'sonne', 'wolken']:  1,1,1\n"
     ]
    },
    {
     "name": "stdout",
     "output_type": "stream",
     "text": [
      "\n",
      "Forward Matrix:\n",
      " [[5.00000000e-02 1.87500000e-02 1.47656250e-02 5.37597656e-03]\n",
      " [6.00000000e-01 7.50000000e-02 8.90625000e-03 5.43945313e-04]\n",
      " [2.50000000e-01 6.87500000e-02 1.09375000e-02 2.56103516e-03]]\n",
      "Probability of the observation sequence: 0.00848095703125\n"
     ]
    },
    {
     "data": {
      "image/png": "[encoded data removed]",
      "text/plain": [
       "<Figure size 640x480 with 1 Axes>"
      ]
     },
     "metadata": {},
     "output_type": "display_data"
    }
   ],
   "source": [
    "import numpy as np\n",
    "import networkx as nx\n",
    "import matplotlib.pyplot as plt\n",
    "\n",
    "# Step 1: Define states and observations based on user input\n",
    "states = list(map(str.strip, input(\"Enter the states (comma-separated): \").split(',')))\n",
    "observations = list(map(str.strip, input(\"Enter the possible observations (comma-separated): \").split(',')))\n",
    "\n",
    "# Step 2: Get user input for the observation sequence\n",
    "observation_seq = list(map(str.strip, input(f\"Enter the observation sequence as space-separated names (options: {observations}): \").split()))\n",
    "\n",
    "# Step 3: Convert observation sequence to indices\n",
    "try:\n",
    "    observation_indices = [observations.index(obs) for obs in observation_seq]\n",
    "except ValueError as e:\n",
    "    print(f\"Error: {e}. Please make sure your observation sequence contains only valid options: {observations}.\")\n",
    "    exit()\n",
    "\n",
    "# Step 4: Get user input for the transition matrix\n",
    "print(\"\\nEnter the state transition probabilities:\")\n",
    "transition_matrix = np.zeros((len(states), len(states)))\n",
    "for i in range(len(states)):\n",
    "    for j in range(len(states)):\n",
    "        transition_matrix[i, j] = float(input(f\"P({states[j]} | {states[i]}): \"))\n",
    "\n",
    "# Step 5: Get user input for the emission matrix\n",
    "print(\"\\nEnter the emission probabilities:\")\n",
    "emission_matrix = np.zeros((len(states), len(observations)))\n",
    "for i in range(len(states)):\n",
    "    for j in range(len(observations)):\n",
    "        emission_matrix[i, j] = float(input(f\"P({observations[j]} | {states[i]}): \"))\n",
    "\n",
    "# Step 6: Set initial state probabilities (ask the user to input them)\n",
    "initial_probabilities = np.zeros(len(states))\n",
    "print(\"\\nEnter the initial state probabilities (comma-separated):\")\n",
    "initial_probabilities = list(map(float, input(f\"Enter initial probabilities for {states}: \").split(',')))\n",
    "\n",
    "# Step 7: Forward Procedure\n",
    "def forward_procedure(observation_seq, transition_matrix, emission_matrix, initial_probabilities):\n",
    "    num_states = len(transition_matrix)\n",
    "    num_observations = len(observation_seq)\n",
    "    \n",
    "    # Initialize the forward matrix\n",
    "    forward_matrix = np.zeros((num_states, num_observations))\n",
    "    \n",
    "    # Initialization step\n",
    "    for i in range(num_states):\n",
    "        forward_matrix[i, 0] = initial_probabilities[i] * emission_matrix[i, observation_seq[0]]\n",
    "    \n",
    "    # Recursion step\n",
    "    for t in range(1, num_observations):\n",
    "        for j in range(num_states):\n",
    "            forward_matrix[j, t] = sum(forward_matrix[i, t - 1] * transition_matrix[i, j] for i in range(num_states)) * emission_matrix[j, observation_seq[t]]\n",
    "    \n",
    "    # Termination step\n",
    "    prob_observation = sum(forward_matrix[i, num_observations - 1] for i in range(num_states))\n",
    "    \n",
    "    return forward_matrix, prob_observation\n",
    "\n",
    "# Step 8: Compute the forward matrix and the probability of the observation sequence\n",
    "forward_matrix, prob_observation = forward_procedure(observation_indices, transition_matrix, emission_matrix, initial_probabilities)\n",
    "\n",
    "# Display the results\n",
    "print(\"\\nForward Matrix:\\n\", forward_matrix)\n",
    "print(\"Probability of the observation sequence:\", prob_observation)\n",
    "\n",
    "# Step 9: Visualize the HMM\n",
    "G = nx.DiGraph()\n",
    "\n",
    "# Add nodes with state names\n",
    "for state in states:\n",
    "    G.add_node(state, shape='circle')\n",
    "\n",
    "# Add edges with transition probabilities\n",
    "for i in range(len(states)):\n",
    "    for j in range(len(states)):\n",
    "        if transition_matrix[i, j] > 0:\n",
    "            G.add_edge(states[i], states[j], weight=transition_matrix[i, j])\n",
    "\n",
    "# Draw the graph\n",
    "pos = nx.spring_layout(G)\n",
    "edges = G.edges(data=True)\n",
    "nx.draw(G, pos, with_labels=True, node_size=2000, node_color='lightblue', font_size=10, font_weight='bold', arrows=True)\n",
    "nx.draw_networkx_edge_labels(G, pos, edge_labels={(u, v): f'{d[\"weight\"]:.2f}' for u, v, d in edges})\n",
    "\n",
    "plt.title(\"Hidden Markov Model Network\")\n",
    "plt.show()\n"
   ]
  },
  {
   "cell_type": "code",
   "execution_count": 3,
   "id": "d95b96f8-271c-4a26-9b9c-5e23dccead23",
   "metadata": {},
   "outputs": [
    {
     "name": "stdin",
     "output_type": "stream",
     "text": [
      "Enter the states (comma-separated):  cp,ip\n",
      "Enter the possible observations (comma-separated):  lem,icet,cola\n",
      "Enter the observation sequence as space-separated names (options: ['lem', 'icet', 'cola']):  lem icet cola\n"
     ]
    },
    {
     "name": "stdout",
     "output_type": "stream",
     "text": [
      "\n",
      "Enter the state transition probabilities:\n"
     ]
    },
    {
     "name": "stdin",
     "output_type": "stream",
     "text": [
      "P(cp | cp):  0.7\n",
      "P(ip | cp):  0.5\n",
      "P(cp | ip):  0.3\n",
      "P(ip | ip):  0.5\n"
     ]
    },
    {
     "name": "stdout",
     "output_type": "stream",
     "text": [
      "\n",
      "Enter the emission probabilities:\n"
     ]
    },
    {
     "name": "stdin",
     "output_type": "stream",
     "text": [
      "P(lem | cp):  0.3\n",
      "P(icet | cp):  0.1\n",
      "P(cola | cp):  0.6\n",
      "P(lem | ip):  0.2\n",
      "P(icet | ip):  0.7\n",
      "P(cola | ip):  0.1\n"
     ]
    },
    {
     "name": "stdout",
     "output_type": "stream",
     "text": [
      "\n",
      "Enter the initial state probabilities (comma-separated):\n"
     ]
    },
    {
     "name": "stdin",
     "output_type": "stream",
     "text": [
      "Enter initial probabilities for ['cp', 'ip']:  1.0,0.0\n"
     ]
    },
    {
     "name": "stdout",
     "output_type": "stream",
     "text": [
      "\n",
      "Forward Matrix:\n",
      " [[0.3     0.021   0.02772]\n",
      " [0.      0.105   0.0063 ]]\n",
      "Probability of the observation sequence: 0.034019999999999995\n"
     ]
    }
   ],
   "source": [
    "import numpy as np\n",
    "\n",
    "# Step 1: Define states and observations based on user input\n",
    "states = list(map(str.strip, input(\"Enter the states (comma-separated): \").split(',')))\n",
    "observations = list(map(str.strip, input(\"Enter the possible observations (comma-separated): \").split(',')))\n",
    "\n",
    "# Step 2: Get user input for the observation sequence\n",
    "observation_seq = list(map(str.strip, input(f\"Enter the observation sequence as space-separated names (options: {observations}): \").split()))\n",
    "\n",
    "# Step 3: Convert observation sequence to indices\n",
    "try:\n",
    "    observation_indices = [observations.index(obs) for obs in observation_seq]\n",
    "except ValueError as e:\n",
    "    print(f\"Error: {e}. Please make sure your observation sequence contains only valid options: {observations}.\")\n",
    "    exit()\n",
    "\n",
    "# Step 4: Get user input for the transition matrix\n",
    "print(\"\\nEnter the state transition probabilities:\")\n",
    "transition_matrix = np.zeros((len(states), len(states)))\n",
    "for i in range(len(states)):\n",
    "    for j in range(len(states)):\n",
    "        transition_matrix[i, j] = float(input(f\"P({states[j]} | {states[i]}): \"))\n",
    "\n",
    "# Step 5: Get user input for the emission matrix\n",
    "print(\"\\nEnter the emission probabilities:\")\n",
    "emission_matrix = np.zeros((len(states), len(observations)))\n",
    "for i in range(len(states)):\n",
    "    for j in range(len(observations)):\n",
    "        emission_matrix[i, j] = float(input(f\"P({observations[j]} | {states[i]}): \"))\n",
    "\n",
    "# Step 6: Set initial state probabilities (ask the user to input them)\n",
    "initial_probabilities = np.zeros(len(states))\n",
    "print(\"\\nEnter the initial state probabilities (comma-separated):\")\n",
    "initial_probabilities = list(map(float, input(f\"Enter initial probabilities for {states}: \").split(',')))\n",
    "\n",
    "# Step 7: Forward Procedure\n",
    "def forward_procedure(observation_seq, transition_matrix, emission_matrix, initial_probabilities):\n",
    "    num_states = len(transition_matrix)\n",
    "    num_observations = len(observation_seq)\n",
    "    \n",
    "    # Initialize the forward matrix\n",
    "    forward_matrix = np.zeros((num_states, num_observations))\n",
    "    \n",
    "    # Initialization step\n",
    "    for i in range(num_states):\n",
    "        forward_matrix[i, 0] = initial_probabilities[i] * emission_matrix[i, observation_seq[0]]\n",
    "    \n",
    "    # Recursion step\n",
    "    for t in range(1, num_observations):\n",
    "        for j in range(num_states):\n",
    "            forward_matrix[j, t] = sum(forward_matrix[i, t - 1] * transition_matrix[i, j] for i in range(num_states)) * emission_matrix[j, observation_seq[t]]\n",
    "    \n",
    "    # Termination step\n",
    "    prob_observation = sum(forward_matrix[i, num_observations - 1] for i in range(num_states))\n",
    "    \n",
    "    return forward_matrix, prob_observation\n",
    "\n",
    "# Step 8: Compute the forward matrix and the probability of the observation sequence\n",
    "forward_matrix, prob_observation = forward_procedure(observation_indices, transition_matrix, emission_matrix, initial_probabilities)\n",
    "\n",
    "# Display the results\n",
    "print(\"\\nForward Matrix:\\n\", forward_matrix)\n",
    "print(\"Probability of the observation sequence:\", prob_observation)"
   ]
  },
  {
   "cell_type": "code",
   "execution_count": 10,
   "id": "c6078aa1-2549-47b6-aa50-3659e2daf554",
   "metadata": {},
   "outputs": [
    {
     "name": "stdout",
     "output_type": "stream",
     "text": [
      "['Hello', 'this', 'is', 'a', 'check']\n"
     ]
    }
   ],
   "source": [
    "x = \"Hello this is a check\"\n",
    "print(x.split())"
   ]
  },
  {
   "cell_type": "code",
   "execution_count": null,
   "id": "9ace9f9a-7725-42c6-ae7a-f289c9eb81ac",
   "metadata": {},
   "outputs": [],
   "source": []
  }
 ],
 "metadata": {
  "kernelspec": {
   "display_name": "Python 3 (ipykernel)",
   "language": "python",
   "name": "python3"
  },
  "language_info": {
   "codemirror_mode": {
    "name": "ipython",
    "version": 3
   },
   "file_extension": ".py",
   "mimetype": "text/x-python",
   "name": "python",
   "nbconvert_exporter": "python",
   "pygments_lexer": "ipython3",
   "version": "3.11.7"
  }
 },
 "nbformat": 4,
 "nbformat_minor": 5
}
