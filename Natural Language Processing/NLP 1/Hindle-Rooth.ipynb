{
 "cells": [
  {
   "cell_type": "code",
   "execution_count": 60,
   "metadata": {},
   "outputs": [
    {
     "name": "stdout",
     "output_type": "stream",
     "text": [
      "Hello World\n"
     ]
    }
   ],
   "source": [
    "print(\"Hello World\")"
   ]
  },
  {
   "cell_type": "code",
   "execution_count": 61,
   "metadata": {},
   "outputs": [],
   "source": [
    "import string\n",
    "from nltk.corpus import stopwords\n",
    "from nltk.util import bigrams \n",
    "from nltk.tokenize import word_tokenize\n",
    "import math\n",
    "from collections import defaultdict"
   ]
  },
  {
   "cell_type": "code",
   "execution_count": 62,
   "metadata": {},
   "outputs": [],
   "source": [
    "sentences = [\n",
    "    \"Saw the phone with me.\",\n",
    "    \"Went to the meeting yesterday.\",\n",
    "    \"Told the man to wait.\",\n",
    "    \"Gave the book to her.\",\n",
    "    \"Saw the cat with her.\"\n",
    "]"
   ]
  },
  {
   "cell_type": "code",
   "execution_count": 63,
   "metadata": {},
   "outputs": [],
   "source": [
    "preposition = \"to\"\n",
    "noun = \"man\"\n",
    "verb = \"wait\""
   ]
  },
  {
   "cell_type": "code",
   "execution_count": 64,
   "metadata": {},
   "outputs": [],
   "source": [
    "unigramD = defaultdict(int)\n",
    "bigramD = defaultdict(int)"
   ]
  },
  {
   "cell_type": "code",
   "execution_count": 65,
   "metadata": {},
   "outputs": [],
   "source": [
    "stops = stopwords.words(\"english\")\n",
    "for line in sentences:\n",
    "    tokens = line.lower()\n",
    "    tokens = word_tokenize(line)\n",
    "    tokens = [i for i in tokens if i not in stops and i not in string.punctuation]\n",
    "\n",
    "    for token in tokens:\n",
    "        unigramD[token] += 1\n",
    "    \n",
    "    for bigram in bigrams(tokens):\n",
    "        bigramD[bigram] += 1"
   ]
  },
  {
   "cell_type": "code",
   "execution_count": 66,
   "metadata": {},
   "outputs": [
    {
     "data": {
      "text/plain": [
       "(0.0, 0.0, 1.0)"
      ]
     },
     "execution_count": 66,
     "metadata": {},
     "output_type": "execute_result"
    }
   ],
   "source": [
    "p_verb_1 = bigramD[(verb,preposition)] / unigramD[noun]\n",
    "\n",
    "p_noun_1 = bigramD[(noun,preposition)] / unigramD[noun]\n",
    "\n",
    "p_noun_0 = 1 - p_noun_1\n",
    "\n",
    "p_verb_1, p_noun_1, p_noun_0"
   ]
  },
  {
   "cell_type": "code",
   "execution_count": 70,
   "metadata": {},
   "outputs": [
    {
     "data": {
      "text/plain": [
       "0"
      ]
     },
     "execution_count": 70,
     "metadata": {},
     "output_type": "execute_result"
    }
   ],
   "source": [
    "try: lammbda = math.log2(p_verb_1 * p_noun_0 / p_noun_1)\n",
    "except ZeroDivisionError as e: lammbda = 0\n",
    "lammbda"
   ]
  },
  {
   "cell_type": "code",
   "execution_count": 71,
   "metadata": {},
   "outputs": [
    {
     "name": "stdout",
     "output_type": "stream",
     "text": [
      "noun\n"
     ]
    }
   ],
   "source": [
    "if lammbda > 0:\n",
    "    print(\"verb\")\n",
    "else:\n",
    "    print(\"noun\")"
   ]
  }
 ],
 "metadata": {
  "kernelspec": {
   "display_name": "Python 3 (ipykernel)",
   "language": "python",
   "name": "python3"
  },
  "language_info": {
   "codemirror_mode": {
    "name": "ipython",
    "version": 3
   },
   "file_extension": ".py",
   "mimetype": "text/x-python",
   "name": "python",
   "nbconvert_exporter": "python",
   "pygments_lexer": "ipython3",
   "version": "3.12.4"
  }
 },
 "nbformat": 4,
 "nbformat_minor": 4
}
