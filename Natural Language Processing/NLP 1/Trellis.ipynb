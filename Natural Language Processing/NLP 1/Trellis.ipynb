{
 "cells": [
  {
   "cell_type": "markdown",
   "metadata": {},
   "source": [
    "## Forward"
   ]
  },
  {
   "cell_type": "code",
   "execution_count": 22,
   "metadata": {},
   "outputs": [
    {
     "name": "stdout",
     "output_type": "stream",
     "text": [
      "Hello world\n"
     ]
    }
   ],
   "source": [
    "print(\"Hello world\")"
   ]
  },
  {
   "cell_type": "code",
   "execution_count": 23,
   "metadata": {},
   "outputs": [],
   "source": [
    "EP = {'A': {'K': 0.4, 'T': 0.5}, 'B': {'K': 0.3, 'T': 0.3}}"
   ]
  },
  {
   "cell_type": "code",
   "execution_count": 24,
   "metadata": {},
   "outputs": [
    {
     "data": {
      "text/plain": [
       "(1, 0)"
      ]
     },
     "execution_count": 24,
     "metadata": {},
     "output_type": "execute_result"
    }
   ],
   "source": [
    "a = 1\n",
    "b = 0\n",
    "alpha_a = [a]\n",
    "alpha_b = [b]\n",
    "a,b"
   ]
  },
  {
   "cell_type": "code",
   "execution_count": 25,
   "metadata": {},
   "outputs": [],
   "source": [
    "seq = [\"K\", \"T\", \"K\"]"
   ]
  },
  {
   "cell_type": "code",
   "execution_count": 26,
   "metadata": {},
   "outputs": [
    {
     "data": {
      "text/plain": [
       "([1, 0.08000000000000002, 0.0656, 0.017920000000000002],\n",
       " [0, 0.32000000000000006, 0.07040000000000002, 0.029440000000000008])"
      ]
     },
     "execution_count": 26,
     "metadata": {},
     "output_type": "execute_result"
    }
   ],
   "source": [
    "for state in seq:\n",
    "    a_old = a \n",
    "\n",
    "    a = (a * 0.2 * EP[\"A\"][state]) + \\\n",
    "        (b * 0.6 * EP[\"B\"][state])\n",
    "    b = (a_old * 0.8 * EP[\"A\"][state]) + \\\n",
    "        (b * 0.4 * EP[\"B\"][state])\n",
    "    \n",
    "    alpha_a.append(a)\n",
    "    alpha_b.append(b)\n",
    "alpha_a, alpha_b"
   ]
  },
  {
   "cell_type": "markdown",
   "metadata": {},
   "source": [
    "## Backward"
   ]
  },
  {
   "cell_type": "code",
   "execution_count": 27,
   "metadata": {},
   "outputs": [],
   "source": [
    "EP = {'A': {'K': 0.4, 'T': 0.5}, 'B': {'K': 0.3, 'T': 0.3}}\n",
    "seq = [\"K\", \"T\", \"K\"]"
   ]
  },
  {
   "cell_type": "code",
   "execution_count": 28,
   "metadata": {},
   "outputs": [],
   "source": [
    "a = 1\n",
    "b = 1\n",
    "beta_a = [a]\n",
    "beta_b = [b]\n",
    "# Dont forget to include the first element"
   ]
  },
  {
   "cell_type": "code",
   "execution_count": 29,
   "metadata": {},
   "outputs": [
    {
     "data": {
      "text/plain": [
       "([1, 0.4000000000000001, 0.16, 0.047360000000000006],\n",
       " [1, 0.3, 0.10800000000000001, 0.041760000000000005])"
      ]
     },
     "execution_count": 29,
     "metadata": {},
     "output_type": "execute_result"
    }
   ],
   "source": [
    "for state in reversed(seq):\n",
    "    old_a = a\n",
    "    a = (a * 0.2 * EP[\"A\"][state]) + (b * 0.8 * EP[\"A\"][state])\n",
    "    b = (old_a * 0.6 * EP[\"B\"][state]) + (b * 0.4 * EP[\"B\"][state])\n",
    "\n",
    "    beta_a.append(a)\n",
    "    beta_b.append(b)\n",
    "beta_a, beta_b"
   ]
  },
  {
   "cell_type": "markdown",
   "metadata": {},
   "source": [
    "## Best State Sequence"
   ]
  },
  {
   "cell_type": "markdown",
   "metadata": {},
   "source": [
    "```python\n",
    "gamma = alpha * beta / sum(alpha * beta)\n",
    "```"
   ]
  },
  {
   "cell_type": "code",
   "execution_count": 30,
   "metadata": {},
   "outputs": [
    {
     "data": {
      "text/plain": [
       "([1.0, 0.25000000000000006, 0.57991513437058],\n",
       " [0.0, 0.75, 0.42008486562942016])"
      ]
     },
     "execution_count": 30,
     "metadata": {},
     "output_type": "execute_result"
    }
   ],
   "source": [
    "gamma_a = []\n",
    "gamma_b = []\n",
    "\n",
    "for i in range(3): # Multiply and Add\n",
    "    gA = (alpha_a[i]*beta_a[i])/((alpha_a[i]*beta_a[i])+(alpha_b[i]*beta_b[i]))\n",
    "    gB = (alpha_b[i]*beta_b[i])/((alpha_a[i]*beta_a[i])+(alpha_b[i]*beta_b[i]))\n",
    "    gamma_a.append(gA)\n",
    "    gamma_b.append(gB)\n",
    "\n",
    "gamma_a, gamma_b"
   ]
  },
  {
   "cell_type": "code",
   "execution_count": 31,
   "metadata": {},
   "outputs": [
    {
     "name": "stdout",
     "output_type": "stream",
     "text": [
      "ABA"
     ]
    }
   ],
   "source": [
    "for i in range(3):\n",
    "    print(\"A\" if gamma_a[i] > gamma_b[i] else \"B\", end=\"\")"
   ]
  }
 ],
 "metadata": {
  "kernelspec": {
   "display_name": "Python 3",
   "language": "python",
   "name": "python3"
  },
  "language_info": {
   "codemirror_mode": {
    "name": "ipython",
    "version": 3
   },
   "file_extension": ".py",
   "mimetype": "text/x-python",
   "name": "python",
   "nbconvert_exporter": "python",
   "pygments_lexer": "ipython3",
   "version": "3.12.7"
  }
 },
 "nbformat": 4,
 "nbformat_minor": 2
}
