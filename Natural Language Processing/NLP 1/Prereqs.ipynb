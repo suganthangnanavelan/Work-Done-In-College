{
 "cells": [
  {
   "cell_type": "code",
   "execution_count": 54,
   "metadata": {},
   "outputs": [],
   "source": [
    "from nltk.tokenize import word_tokenize\n",
    "from nltk.corpus import stopwords\n",
    "from nltk.util import bigrams\n",
    "import string"
   ]
  },
  {
   "cell_type": "code",
   "execution_count": 31,
   "metadata": {},
   "outputs": [],
   "source": [
    "sentences = [\n",
    "    \"I love studying data science.\",\n",
    "    \"Data science is an interesting field.\",\n",
    "    \"Science requires data for analysis.\",\n",
    "    \"Data is key in modern science.\",\n",
    "    \"Data science helps in business decision-making.\"\n",
    "]"
   ]
  },
  {
   "cell_type": "code",
   "execution_count": 32,
   "metadata": {},
   "outputs": [],
   "source": [
    "def process(line):\n",
    "    line = line.lower()\n",
    "    tokens = word_tokenize(line)\n",
    "\n",
    "    # stopwords\n",
    "    stops = set(stopwords.words('english'))\n",
    "    tokens = [i for i in tokens if i not in stops and i not in string.punctuation]\n",
    "    return tokens"
   ]
  },
  {
   "cell_type": "code",
   "execution_count": 36,
   "metadata": {},
   "outputs": [
    {
     "data": {
      "text/plain": [
       "[['love', 'studying', 'data', 'science'],\n",
       " ['data', 'science', 'interesting', 'field'],\n",
       " ['science', 'requires', 'data', 'analysis'],\n",
       " ['data', 'key', 'modern', 'science'],\n",
       " ['data', 'science', 'helps', 'business', 'decision-making']]"
      ]
     },
     "execution_count": 36,
     "metadata": {},
     "output_type": "execute_result"
    }
   ],
   "source": [
    "tokens = [process(i) for i in sentences]\n",
    "tokens"
   ]
  },
  {
   "cell_type": "code",
   "execution_count": 55,
   "metadata": {},
   "outputs": [],
   "source": [
    "def bgrm(l):\n",
    "    return bigrams(l)"
   ]
  },
  {
   "cell_type": "code",
   "execution_count": 59,
   "metadata": {},
   "outputs": [
    {
     "data": {
      "text/plain": [
       "[('love', 'studying'), ('studying', 'data'), ('data', 'science')]"
      ]
     },
     "execution_count": 59,
     "metadata": {},
     "output_type": "execute_result"
    }
   ],
   "source": [
    "bigrams_all = list(bgrm(tokens[0]))\n",
    "bigrams_all"
   ]
  },
  {
   "cell_type": "code",
   "execution_count": null,
   "metadata": {},
   "outputs": [],
   "source": []
  }
 ],
 "metadata": {
  "kernelspec": {
   "display_name": "Python 3",
   "language": "python",
   "name": "python3"
  },
  "language_info": {
   "codemirror_mode": {
    "name": "ipython",
    "version": 3
   },
   "file_extension": ".py",
   "mimetype": "text/x-python",
   "name": "python",
   "nbconvert_exporter": "python",
   "pygments_lexer": "ipython3",
   "version": "3.12.7"
  }
 },
 "nbformat": 4,
 "nbformat_minor": 2
}
