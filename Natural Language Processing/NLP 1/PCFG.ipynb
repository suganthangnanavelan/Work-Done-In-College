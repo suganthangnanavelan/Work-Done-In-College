{
 "cells": [
  {
   "cell_type": "markdown",
   "metadata": {},
   "source": [
    "LHS `->` RHS  \n",
    "Element1 `|` Element2 `|` Element3  \n",
    "`NP PP [0.4]` -- non-terminal symbol   \n",
    "`'he' [0.6]` -- terminal symbol "
   ]
  },
  {
   "cell_type": "code",
   "execution_count": 1,
   "metadata": {},
   "outputs": [],
   "source": [
    "grammarstring = \"\"\"\n",
    "S -> NP VP [1.0]\n",
    "NP -> NP PP [0.4] | 'he' [0.1] | 'dessert' [0.3] | 'lunch' [0.1] | 'saw' [0.1]\n",
    "PP -> Pre NP [1.0]\n",
    "VP -> Verb NP [0.3] | VP PP [0.7]\n",
    "Pre -> 'with' [0.6] | 'in' [0.4]\n",
    "Verb -> 'ate' [0.7] | 'saw' [0.3]\n",
    "\"\"\""
   ]
  },
  {
   "cell_type": "code",
   "execution_count": 2,
   "metadata": {},
   "outputs": [],
   "source": [
    "from nltk import PCFG, InsideChartParser \n",
    "# Remember InsideChartParser\n",
    "\n",
    "grammar = PCFG.fromstring(grammarstring)\n",
    "\n",
    "parser = InsideChartParser(grammar=grammar)"
   ]
  },
  {
   "cell_type": "code",
   "execution_count": 3,
   "metadata": {},
   "outputs": [
    {
     "data": {
      "text/plain": [
       "['he', 'saw', 'lunch', 'with', 'dessert']"
      ]
     },
     "execution_count": 3,
     "metadata": {},
     "output_type": "execute_result"
    }
   ],
   "source": [
    "from nltk.tokenize import word_tokenize\n",
    "\n",
    "sentence = \"he saw lunch with dessert\"\n",
    "\n",
    "tokens = word_tokenize(sentence)\n",
    "tokens"
   ]
  },
  {
   "cell_type": "code",
   "execution_count": 4,
   "metadata": {},
   "outputs": [
    {
     "name": "stdout",
     "output_type": "stream",
     "text": [
      "               S                       \n",
      "  _____________|____                    \n",
      " |                  VP                 \n",
      " |         _________|________           \n",
      " |        VP                 PP        \n",
      " |    ____|____          ____|_____     \n",
      " NP Verb       NP      Pre         NP  \n",
      " |   |         |        |          |    \n",
      " he saw      lunch     with     dessert\n",
      "\n",
      "Prob:  0.00011339999999999999\n",
      "           S                       \n",
      "  _________|____                    \n",
      " |              VP                 \n",
      " |    __________|___                \n",
      " |   |              NP             \n",
      " |   |      ________|____           \n",
      " |   |     |             PP        \n",
      " |   |     |         ____|_____     \n",
      " NP Verb   NP      Pre         NP  \n",
      " |   |     |        |          |    \n",
      " he saw  lunch     with     dessert\n",
      "\n",
      "Prob:  6.480000000000002e-05\n"
     ]
    }
   ],
   "source": [
    "trees = parser.parse(tokens)\n",
    "\n",
    "for tree in trees:\n",
    "    tree.pretty_print() # Remember this\n",
    "    print(\"Prob: \", tree.prob())# .prob"
   ]
  }
 ],
 "metadata": {
  "kernelspec": {
   "display_name": "Python 3",
   "language": "python",
   "name": "python3"
  },
  "language_info": {
   "codemirror_mode": {
    "name": "ipython",
    "version": 3
   },
   "file_extension": ".py",
   "mimetype": "text/x-python",
   "name": "python",
   "nbconvert_exporter": "python",
   "pygments_lexer": "ipython3",
   "version": "3.12.7"
  }
 },
 "nbformat": 4,
 "nbformat_minor": 2
}
