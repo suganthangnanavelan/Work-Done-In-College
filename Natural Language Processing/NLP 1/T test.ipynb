{
 "cells": [
  {
   "cell_type": "markdown",
   "metadata": {},
   "source": [
    "1. List out the sentences from the dataframe"
   ]
  },
  {
   "cell_type": "code",
   "execution_count": 1,
   "metadata": {},
   "outputs": [],
   "source": [
    "import pandas as pd\n",
    "import numpy as np\n",
    "from nltk.util import bigrams\n",
    "from nltk.corpus import stopwords   \n",
    "from nltk.tokenize import word_tokenize\n",
    "import string\n",
    "from collections import defaultdict"
   ]
  },
  {
   "cell_type": "code",
   "execution_count": 2,
   "metadata": {},
   "outputs": [
    {
     "data": {
      "text/html": [
       "<div>\n",
       "<style scoped>\n",
       "    .dataframe tbody tr th:only-of-type {\n",
       "        vertical-align: middle;\n",
       "    }\n",
       "\n",
       "    .dataframe tbody tr th {\n",
       "        vertical-align: top;\n",
       "    }\n",
       "\n",
       "    .dataframe thead th {\n",
       "        text-align: right;\n",
       "    }\n",
       "</style>\n",
       "<table border=\"1\" class=\"dataframe\">\n",
       "  <thead>\n",
       "    <tr style=\"text-align: right;\">\n",
       "      <th></th>\n",
       "      <th>Sastra University is located in Tamil Nadu.</th>\n",
       "    </tr>\n",
       "  </thead>\n",
       "  <tbody>\n",
       "    <tr>\n",
       "      <th>0</th>\n",
       "      <td>Students at Sastra University engage in rigoro...</td>\n",
       "    </tr>\n",
       "    <tr>\n",
       "      <th>1</th>\n",
       "      <td>The university's main campus, Sastra Tanjore, ...</td>\n",
       "    </tr>\n",
       "    <tr>\n",
       "      <th>2</th>\n",
       "      <td>Sastra University offers undergraduate and pos...</td>\n",
       "    </tr>\n",
       "    <tr>\n",
       "      <th>3</th>\n",
       "      <td>Sastra University's commitment to quality educ...</td>\n",
       "    </tr>\n",
       "    <tr>\n",
       "      <th>4</th>\n",
       "      <td>The university's reputation for excellence ext...</td>\n",
       "    </tr>\n",
       "  </tbody>\n",
       "</table>\n",
       "</div>"
      ],
      "text/plain": [
       "         Sastra University is located in Tamil Nadu.\n",
       "0  Students at Sastra University engage in rigoro...\n",
       "1  The university's main campus, Sastra Tanjore, ...\n",
       "2  Sastra University offers undergraduate and pos...\n",
       "3  Sastra University's commitment to quality educ...\n",
       "4  The university's reputation for excellence ext..."
      ]
     },
     "execution_count": 2,
     "metadata": {},
     "output_type": "execute_result"
    }
   ],
   "source": [
    "df = pd.read_csv(\"../sastralines.csv\")\n",
    "df.head()"
   ]
  },
  {
   "cell_type": "code",
   "execution_count": 3,
   "metadata": {},
   "outputs": [
    {
     "data": {
      "text/plain": [
       "['Students at Sastra University engage in rigorous academic pursuits.',\n",
       " \"The university's main campus, Sastra Tanjore, is known for its scenic beauty.\",\n",
       " 'Sastra University offers undergraduate and postgraduate programs in diverse disciplines.',\n",
       " \"Sastra University's commitment to quality education is evident in its faculty.\",\n",
       " \"The university's reputation for excellence extends beyond national borders.\"]"
      ]
     },
     "execution_count": 3,
     "metadata": {},
     "output_type": "execute_result"
    }
   ],
   "source": [
    "lines = df.iloc[:,0].tolist() #pandas series\n",
    "lines[:5]\n"
   ]
  },
  {
   "cell_type": "code",
   "execution_count": 4,
   "metadata": {},
   "outputs": [],
   "source": [
    "unigramD = defaultdict(int)\n",
    "bigramD = defaultdict(int)\n",
    "\n",
    "N = 0 # Wordcount\n",
    "for line in lines:\n",
    "    \n",
    "    tokens = [i for i in word_tokenize(line.lower()) if i not in set(stopwords.words(\"english\")) and i not in string.punctuation]\n",
    "    \n",
    "    for j in tokens:\n",
    "        unigramD[j] += 1\n",
    "        N+= 1\n",
    "    for j in list(bigrams(tokens)):\n",
    "        bigramD[j] += 1\n"
   ]
  },
  {
   "cell_type": "code",
   "execution_count": null,
   "metadata": {},
   "outputs": [],
   "source": []
  },
  {
   "cell_type": "markdown",
   "metadata": {},
   "source": [
    "4. Input words, critical value"
   ]
  },
  {
   "cell_type": "code",
   "execution_count": 5,
   "metadata": {},
   "outputs": [],
   "source": [
    "w1 = \"sastra\"\n",
    "w2 = \"university\"\n",
    "c = 2.0"
   ]
  },
  {
   "cell_type": "markdown",
   "metadata": {},
   "source": [
    "5. O,E"
   ]
  },
  {
   "cell_type": "code",
   "execution_count": 6,
   "metadata": {},
   "outputs": [],
   "source": [
    "import math"
   ]
  },
  {
   "cell_type": "code",
   "execution_count": 7,
   "metadata": {},
   "outputs": [
    {
     "data": {
      "text/plain": [
       "(0.08401084010840108, 0.011875647211756669, 12.715450067040848)"
      ]
     },
     "execution_count": 7,
     "metadata": {},
     "output_type": "execute_result"
    }
   ],
   "source": [
    "O = bigramD[(w1,w2)]/N \n",
    "E = unigramD[(w1)]/N * unigramD[(w2)]/N \n",
    "variance = E\n",
    "\n",
    "score = (O-E)/math.sqrt(variance/N)\n",
    "O,E,score"
   ]
  },
  {
   "cell_type": "code",
   "execution_count": 8,
   "metadata": {},
   "outputs": [
    {
     "name": "stdout",
     "output_type": "stream",
     "text": [
      "Reject Ho\n"
     ]
    }
   ],
   "source": [
    "if score > c:\n",
    "    print(\"Reject Ho\")\n",
    "else:\n",
    "    print(\"Accept Ho\")"
   ]
  }
 ],
 "metadata": {
  "kernelspec": {
   "display_name": "Python 3",
   "language": "python",
   "name": "python3"
  },
  "language_info": {
   "codemirror_mode": {
    "name": "ipython",
    "version": 3
   },
   "file_extension": ".py",
   "mimetype": "text/x-python",
   "name": "python",
   "nbconvert_exporter": "python",
   "pygments_lexer": "ipython3",
   "version": "3.12.7"
  }
 },
 "nbformat": 4,
 "nbformat_minor": 2
}
