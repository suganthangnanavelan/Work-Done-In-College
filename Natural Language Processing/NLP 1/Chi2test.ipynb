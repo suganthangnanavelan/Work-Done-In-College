{
 "cells": [
  {
   "cell_type": "code",
   "execution_count": 53,
   "metadata": {},
   "outputs": [],
   "source": [
    "sentences = [\n",
    "    \"I love studying data science.\",\n",
    "    \"Data science is an interesting field.\",\n",
    "    \"Science requires data for analysis.\",\n",
    "    \"Data is key in modern science.\",\n",
    "    \"Data science helps in business decision-making.\"\n",
    "]"
   ]
  },
  {
   "cell_type": "code",
   "execution_count": 54,
   "metadata": {},
   "outputs": [],
   "source": [
    "from nltk.util import bigrams\n",
    "from nltk.tokenize import word_tokenize\n",
    "from nltk.corpus import stopwords\n",
    "import string \n",
    "from collections import defaultdict"
   ]
  },
  {
   "cell_type": "code",
   "execution_count": 55,
   "metadata": {},
   "outputs": [
    {
     "data": {
      "text/plain": [
       "defaultdict(int,\n",
       "            {('love', 'studying'): 1,\n",
       "             ('studying', 'data'): 1,\n",
       "             ('data', 'science'): 3,\n",
       "             ('science', 'interesting'): 1,\n",
       "             ('interesting', 'field'): 1,\n",
       "             ('science', 'requires'): 1,\n",
       "             ('requires', 'data'): 1,\n",
       "             ('data', 'analysis'): 1,\n",
       "             ('data', 'key'): 1,\n",
       "             ('key', 'modern'): 1,\n",
       "             ('modern', 'science'): 1,\n",
       "             ('science', 'helps'): 1,\n",
       "             ('helps', 'business'): 1,\n",
       "             ('business', 'decision-making'): 1})"
      ]
     },
     "execution_count": 55,
     "metadata": {},
     "output_type": "execute_result"
    }
   ],
   "source": [
    "bigramdict = defaultdict(int)\n",
    "for i in sentences:\n",
    "    i = i.lower()\n",
    "    tokens = word_tokenize(i)\n",
    "    stops = set(stopwords.words('english'))\n",
    "    tokens = [i for i in tokens if i not in stops and i not in string.punctuation]\n",
    "    bigramlist = list(bigrams(tokens))\n",
    "\n",
    "    for j in bigramlist:\n",
    "        bigramdict[j] += 1\n",
    "\n",
    "bigramdict"
   ]
  },
  {
   "cell_type": "code",
   "execution_count": 56,
   "metadata": {},
   "outputs": [
    {
     "data": {
      "text/plain": [
       "('data', 'science')"
      ]
     },
     "execution_count": 56,
     "metadata": {},
     "output_type": "execute_result"
    }
   ],
   "source": [
    "##w1 = input(\"Enter word 1\").lower()\n",
    "##w2 = input(\"Enter word 2\").lower()\n",
    "w1 = \"data\"\n",
    "w2 = \"science\"\n",
    "w1,w2"
   ]
  },
  {
   "cell_type": "code",
   "execution_count": 57,
   "metadata": {},
   "outputs": [
    {
     "data": {
      "text/plain": [
       "[[3, 2, 0], [1, 10, 0], [0, 0, 0]]"
      ]
     },
     "execution_count": 57,
     "metadata": {},
     "output_type": "execute_result"
    }
   ],
   "source": [
    "C = [[0 for i in range(3)] for j in range(3)]\n",
    "\n",
    "# Filling the main matrix \n",
    "for key in bigramdict:\n",
    "    if key[0] == w1 and key[1] == w2:\n",
    "        C[0][0] += bigramdict[key]\n",
    "    if key[0] == w1 and key[1] != w2:\n",
    "        C[0][1] += bigramdict[key]\n",
    "    if key[0] != w1 and key[1] == w2:\n",
    "        C[1][0] += bigramdict[key]\n",
    "    if key[0] != w1 and key[1] != w2:\n",
    "        C[1][1] += bigramdict[key]\n",
    "C"
   ]
  },
  {
   "cell_type": "code",
   "execution_count": 58,
   "metadata": {},
   "outputs": [
    {
     "data": {
      "text/plain": [
       "[[3, 2, 5], [1, 10, 11], [4, 12, 0]]"
      ]
     },
     "execution_count": 58,
     "metadata": {},
     "output_type": "execute_result"
    }
   ],
   "source": [
    "# Filling the totals\n",
    "# Row 0\n",
    "C[0][2] = C[0][0] + C[0][1]\n",
    "# Row 1\n",
    "C[1][2] = C[1][0] + C[1][1]\n",
    "# Col 0\n",
    "C[2][0] = C[0][0] + C[1][0]\n",
    "# Col 1\n",
    "C[2][1] = C[0][1] + C[1][1]\n",
    "\n",
    "total = C[2][0] + C[2][1]\n",
    "C"
   ]
  },
  {
   "cell_type": "code",
   "execution_count": 59,
   "metadata": {},
   "outputs": [
    {
     "data": {
      "text/plain": [
       "[[1.25, 3.75], [2.75, 8.25]]"
      ]
     },
     "execution_count": 59,
     "metadata": {},
     "output_type": "execute_result"
    }
   ],
   "source": [
    "# Expectation matrix\n",
    "E = [[0 for i in range(2)] for j in range(2)]\n",
    "\n",
    "# 00: top,left\n",
    "E[0][0] = (C[0][2] * C[2][0]) / total\n",
    "# 01: top, right\n",
    "E[0][1] = (C[0][2] * C[2][1]) / total\n",
    "# 10: bottom, left\n",
    "E[1][0] = (C[1][2] * C[2][0]) / total\n",
    "# 11: bottom, right\n",
    "E[1][1] = (C[1][2] * C[2][1]) / total\n",
    "\n",
    "E"
   ]
  },
  {
   "cell_type": "code",
   "execution_count": 60,
   "metadata": {},
   "outputs": [
    {
     "data": {
      "text/plain": [
       "([3, 2, 1, 10], [1.25, 3.75, 2.75, 8.25])"
      ]
     },
     "execution_count": 60,
     "metadata": {},
     "output_type": "execute_result"
    }
   ],
   "source": [
    "# Flatten C\n",
    "O = [item for sublist in C[:2] for item in sublist[:2]]\n",
    "E = [item for sublist in E for item in sublist]\n",
    "O, E"
   ]
  },
  {
   "cell_type": "code",
   "execution_count": 61,
   "metadata": {},
   "outputs": [
    {
     "data": {
      "text/plain": [
       "4.38030303030303"
      ]
     },
     "execution_count": 61,
     "metadata": {},
     "output_type": "execute_result"
    }
   ],
   "source": [
    "score = 0\n",
    "for i in range(len(C)):\n",
    "    score += (O[i] - E[i])**2 / E[i]\n",
    "score"
   ]
  },
  {
   "cell_type": "code",
   "execution_count": 62,
   "metadata": {},
   "outputs": [
    {
     "name": "stdout",
     "output_type": "stream",
     "text": [
      "Reject Ho\n"
     ]
    }
   ],
   "source": [
    "# Critical Value \n",
    "c = 2 #EXAMPLE \n",
    "if score>c:\n",
    "    print(\"Reject Ho\")\n",
    "else:\n",
    "    print(\"Accept Ho\")"
   ]
  }
 ],
 "metadata": {
  "kernelspec": {
   "display_name": "Python 3",
   "language": "python",
   "name": "python3"
  },
  "language_info": {
   "codemirror_mode": {
    "name": "ipython",
    "version": 3
   },
   "file_extension": ".py",
   "mimetype": "text/x-python",
   "name": "python",
   "nbconvert_exporter": "python",
   "pygments_lexer": "ipython3",
   "version": "3.12.7"
  }
 },
 "nbformat": 4,
 "nbformat_minor": 2
}
