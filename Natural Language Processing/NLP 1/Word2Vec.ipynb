{
  "cells": [
    {
      "cell_type": "markdown",
      "metadata": {
        "id": "0aZKJeRc2JQz"
      },
      "source": []
    },
    {
      "cell_type": "code",
      "execution_count": 2,
      "metadata": {
        "colab": {
          "base_uri": "https://localhost:8080/"
        },
        "id": "G-jPBBIk1fPh",
        "outputId": "1504bba6-85fd-4a1a-c051-293ce006813a"
      },
      "outputs": [
        {
          "name": "stderr",
          "output_type": "stream",
          "text": [
            "[nltk_data] Downloading package punkt to /root/nltk_data...\n",
            "[nltk_data]   Unzipping tokenizers/punkt.zip.\n"
          ]
        },
        {
          "name": "stdout",
          "output_type": "stream",
          "text": [
            "Words most similar to 'programming':\n",
            "the: 0.1783\n",
            "i: 0.1607\n",
            "tool: 0.1056\n",
            "great: 0.0922\n",
            "python: 0.0270\n"
          ]
        }
      ],
      "source": [
        "#Implement word2vec model to explore the semantic similarity between the words.\n",
        "import gensim\n",
        "from gensim.models import Word2Vec\n",
        "import nltk\n",
        "nltk.download('punkt')\n",
        "from nltk.tokenize import word_tokenize\n",
        "sentences = ['I love programming', 'Python is great', 'I enjoy machine learning',\n",
        "             'TensorFlow is a powerful tool', 'AI is the future']\n",
        "\n",
        "tokenized_sentences = [word_tokenize(sentence.lower()) for sentence in sentences]\n",
        "\n",
        "\n",
        "model_w2v = Word2Vec(sentences=tokenized_sentences, vector_size=100, window=5, min_count=1, workers=4)\n",
        "\n",
        "#  word vectors (semantic similarity)\n",
        "word = 'programming'\n",
        "similar_words = model_w2v.wv.most_similar(word, topn=5)\n",
        "print(f\"Words most similar to '{word}':\")\n",
        "for sim_word, sim_score in similar_words:\n",
        "    print(f\"{sim_word}: {sim_score:.4f}\")\n",
        "model_w2v.save(\"word2vec_model.bin\")\n",
        "# loaded_model = Word2Vec.load(\"word2vec_model.bin\")\n"
      ]
    },
    {
      "cell_type": "code",
      "execution_count": null,
      "metadata": {
        "id": "ZjkrZu5411-K"
      },
      "outputs": [],
      "source": []
    }
  ],
  "metadata": {
    "accelerator": "GPU",
    "colab": {
      "gpuType": "T4",
      "provenance": []
    },
    "kernelspec": {
      "display_name": "Python 3",
      "name": "python3"
    },
    "language_info": {
      "name": "python"
    }
  },
  "nbformat": 4,
  "nbformat_minor": 0
}
