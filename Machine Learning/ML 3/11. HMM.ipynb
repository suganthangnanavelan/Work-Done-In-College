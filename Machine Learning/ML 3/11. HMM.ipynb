{
 "cells": [
  {
   "cell_type": "code",
   "execution_count": null,
   "id": "46edf90f-3dee-4f88-965d-2502f38e2cf6",
   "metadata": {},
   "outputs": [],
   "source": [
    "from hmmlearn import hmm\n",
    "import numpy as np\n",
    "\n",
    "# Observations\n",
    "observations = ['Walk', 'Shop', 'Clean']\n",
    "\n",
    "# Define model\n",
    "model = hmm.MultinomialHMM(n_components=2, n_trials=1, random_state=42)\n",
    "\n",
    "# Set start probabilities\n",
    "model.startprob_ = np.array([0.6, 0.4])\n",
    "\n",
    "# Set transition matrix\n",
    "model.transmat_ = np.array([\n",
    "    [0.7, 0.3],\n",
    "    \n",
    "    [0.4, 0.6]\n",
    "])\n",
    "\n",
    "# Set emission probabilities\n",
    "model.emissionprob_ = np.array([\n",
    "    [0.1, 0.4, 0.5],  # State 0 (Rainy)\n",
    "    [0.6, 0.3, 0.1],  # State 1 (Sunny)\n",
    "])\n",
    "\n",
    "# Define observation sequence (ONE-HOT encoded now)\n",
    "obs_seq = np.array([\n",
    "    [1, 0, 0],  # Walk\n",
    "    [0, 1, 0],  # Shop\n",
    "    [0, 0, 1]   # Clean\n",
    "])\n",
    "\n",
    "# Predict hidden states\n",
    "logprob, hidden_states = model.decode(obs_seq, algorithm=\"viterbi\")\n",
    "\n",
    "# Output\n",
    "print(\"Observation sequence:\", [\"Walk\", \"Shop\", \"Clean\"])\n",
    "print(\"Predicted hidden states:\", hidden_states)\n"
   ]
  },
  {
   "cell_type": "code",
   "execution_count": null,
   "id": "c7dc7b6f-fb55-4f1d-82fc-cdd45c47a433",
   "metadata": {},
   "outputs": [],
   "source": [
    "import matplotlib.pyplot as plt\n",
    "\n",
    "# Observations\n",
    "observations = ['Walk', 'Shop', 'Clean']\n",
    "\n",
    "# (Assuming you already have hidden_states from model.decode)\n",
    "\n",
    "# Plotting\n",
    "plt.figure(figsize=(8, 3))\n",
    "plt.plot(hidden_states, marker='o', linestyle='-', color='b')\n",
    "plt.yticks([0, 1], ['Rainy', 'Sunny'])\n",
    "plt.xticks(range(len(observations)), observations)\n",
    "plt.xlabel('Observation')\n",
    "plt.ylabel('Hidden State')\n",
    "plt.title('Hidden States Prediction')\n",
    "plt.grid(True)\n",
    "plt.show()\n"
   ]
  },
  {
   "cell_type": "code",
   "execution_count": null,
   "id": "5dc1a86e-05d2-4482-b390-fc135fd9b81a",
   "metadata": {},
   "outputs": [],
   "source": []
  }
 ],
 "metadata": {
  "kernelspec": {
   "display_name": "Python 3 (ipykernel)",
   "language": "python",
   "name": "python3"
  },
  "language_info": {
   "codemirror_mode": {
    "name": "ipython",
    "version": 3
   },
   "file_extension": ".py",
   "mimetype": "text/x-python",
   "name": "python",
   "nbconvert_exporter": "python",
   "pygments_lexer": "ipython3",
   "version": "3.12.4"
  }
 },
 "nbformat": 4,
 "nbformat_minor": 5
}
