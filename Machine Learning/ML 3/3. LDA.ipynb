{
 "cells": [
  {
   "cell_type": "code",
   "execution_count": null,
   "id": "4cb19356",
   "metadata": {},
   "outputs": [],
   "source": [
    "import matplotlib.pyplot as plt\n",
    "from sklearn import datasets\n",
    "from sklearn.discriminant_analysis import LinearDiscriminantAnalysis as LDA\n",
    "import pandas as pd\n",
    "import matplotlib.pyplot as plt\n",
    "from sklearn.preprocessing import StandardScaler\n",
    "import seaborn as sns\n",
    "from sklearn.metrics import confusion_matrix, ConfusionMatrixDisplay"
   ]
  },
  {
   "cell_type": "code",
   "execution_count": null,
   "id": "4bfb20c1",
   "metadata": {},
   "outputs": [],
   "source": [
    "url = \"https://archive.ics.uci.edu/ml/machine-learning-databases/balance-scale/balance-scale.data\"\n",
    "df = pd.read_csv(url, names=['class name','left-weight','left-distance','right-weight','right-distance'])"
   ]
  },
  {
   "cell_type": "code",
   "execution_count": null,
   "id": "c52d5405-9da9-40a9-9116-afe433e93046",
   "metadata": {},
   "outputs": [],
   "source": [
    "df"
   ]
  },
  {
   "cell_type": "code",
   "execution_count": null,
   "id": "1eaf20bd",
   "metadata": {},
   "outputs": [],
   "source": [
    "feature = ['left-weight','left-distance','right-weight','right-distance']\n",
    "x = df.loc[:,feature]\n",
    "y = df.loc[:,'class name']"
   ]
  },
  {
   "cell_type": "code",
   "execution_count": null,
   "id": "73208c45",
   "metadata": {},
   "outputs": [],
   "source": [
    "x = StandardScaler().fit_transform(x)"
   ]
  },
  {
   "cell_type": "code",
   "execution_count": null,
   "id": "0d5df04c",
   "metadata": {},
   "outputs": [],
   "source": [
    "lda = LDA(n_components=2)\n",
    "x_lda = lda.fit_transform(x, y)"
   ]
  },
  {
   "cell_type": "code",
   "execution_count": null,
   "id": "e262379f",
   "metadata": {},
   "outputs": [],
   "source": [
    "df_lda = pd.DataFrame(data = x_lda, columns = ['LDA1', 'LDA2'])\n",
    "df_lda['class name'] = y"
   ]
  },
  {
   "cell_type": "code",
   "execution_count": null,
   "id": "7e14b628",
   "metadata": {},
   "outputs": [],
   "source": [
    "plt.figure(figsize=(12, 6))\n",
    "plt.subplot(1, 2, 1)\n",
    "\n",
    "for target, color, marker in zip(df['class name'].unique(), ['r', 'g', 'b'], ['o', 's', '^']):\n",
    "    plt.scatter(x[y == target, 0], x[y == target, 1], c=color, marker=marker, label=target)\n",
    "\n",
    "plt.xlabel('Feature 1')\n",
    "plt.ylabel('Feature 2')\n",
    "plt.title('Before LDA')\n",
    "plt.legend()\n",
    "\n",
    "plt.subplot(1, 2, 2)\n",
    "\n",
    "for target, color, marker in zip(df_lda['class name'].unique(), ['r', 'g', 'b'], ['o', 's', '^']):\n",
    "    plt.scatter(df_lda[df_lda['class name'] == target]['LDA1'], \n",
    "                df_lda[df_lda['class name'] == target]['LDA2'], \n",
    "                c=color, marker=marker, label=target)\n",
    "\n",
    "plt.xlabel('LDA1')\n",
    "plt.ylabel('LDA2')\n",
    "plt.title('After LDA')\n",
    "plt.legend()\n",
    "\n",
    "plt.show()"
   ]
  },
  {
   "cell_type": "code",
   "execution_count": null,
   "id": "79b009f7",
   "metadata": {},
   "outputs": [],
   "source": [
    "plt.figure(figsize=(12, 6))\n",
    "plt.subplot(1, 2, 1)\n",
    "sns.heatmap(df.corr(numeric_only=True), annot=True, cmap='viridis')\n",
    "plt.title('Before LDA')\n",
    "\n",
    "df_lda = pd.DataFrame(data=x_lda, columns=['LDA1', 'LDA2'])\n",
    "#df_lda['class name'] = y\n",
    "plt.subplot(1, 2, 2)\n",
    "sns.heatmap(df_lda.corr(numeric_only=True), annot=True, cmap='viridis')\n",
    "plt.title('After LDA')\n",
    "\n",
    "plt.show()"
   ]
  },
  {
   "cell_type": "code",
   "execution_count": null,
   "id": "82622933",
   "metadata": {},
   "outputs": [],
   "source": [
    "y_pred = lda.predict(x)  \n",
    "\n",
    "cm = confusion_matrix(y, y_pred)\n",
    "\n",
    "disp = ConfusionMatrixDisplay(confusion_matrix=cm, display_labels=lda.classes_)\n",
    "disp.plot()\n",
    "plt.show()"
   ]
  },
  {
   "cell_type": "code",
   "execution_count": null,
   "id": "c5bbcdd2-9bbd-4bb2-91c8-62ed34f225cc",
   "metadata": {},
   "outputs": [],
   "source": [
    "sns.heatmap(cm,annot=True)"
   ]
  },
  {
   "cell_type": "code",
   "execution_count": null,
   "id": "a0135321-d81c-48bc-9c83-8430a3662a0a",
   "metadata": {},
   "outputs": [],
   "source": []
  }
 ],
 "metadata": {
  "kernelspec": {
   "display_name": "Python 3 (ipykernel)",
   "language": "python",
   "name": "python3"
  },
  "language_info": {
   "codemirror_mode": {
    "name": "ipython",
    "version": 3
   },
   "file_extension": ".py",
   "mimetype": "text/x-python",
   "name": "python",
   "nbconvert_exporter": "python",
   "pygments_lexer": "ipython3",
   "version": "3.12.4"
  }
 },
 "nbformat": 4,
 "nbformat_minor": 5
}
