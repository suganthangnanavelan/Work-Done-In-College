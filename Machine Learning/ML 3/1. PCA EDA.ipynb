{
 "cells": [
  {
   "cell_type": "markdown",
   "id": "d96121f7",
   "metadata": {},
   "source": [
    "replaced matplot with seaborn\n",
    "rotated plt.xticks(rotation=90)\n",
    "scatterplot for city-mpg vs highwaympg instead of bar plot\n",
    "Added a Missing default dict for all values\n",
    "taken length,width,height for 2 Component PCA"
   ]
  },
  {
   "cell_type": "code",
   "execution_count": null,
   "id": "fb8ab134",
   "metadata": {},
   "outputs": [],
   "source": [
    "import matplotlib.pyplot as plt\n",
    "import pandas as pd\n",
    "import numpy as np"
   ]
  },
  {
   "cell_type": "code",
   "execution_count": null,
   "id": "7b0ed5b3",
   "metadata": {},
   "outputs": [],
   "source": [
    "df = pd.read_csv(\"Automobile_data.csv\")"
   ]
  },
  {
   "cell_type": "code",
   "execution_count": null,
   "id": "fec34f55-5fe5-4fb6-bcc0-f4055bb13b1b",
   "metadata": {},
   "outputs": [],
   "source": []
  },
  {
   "cell_type": "code",
   "execution_count": null,
   "id": "184f6841-fc52-4ca0-b11f-b05917f9318f",
   "metadata": {},
   "outputs": [],
   "source": [
    "df.describe()"
   ]
  },
  {
   "cell_type": "code",
   "execution_count": null,
   "id": "ef71509f",
   "metadata": {},
   "outputs": [],
   "source": [
    "df.head"
   ]
  },
  {
   "cell_type": "code",
   "execution_count": null,
   "id": "fdf19690",
   "metadata": {},
   "outputs": [],
   "source": [
    "from collections import defaultdict\n",
    "Missing = defaultdict(int)\n",
    "for x in df:\n",
    "    for y in df[x]:\n",
    "        if y == \"?\":\n",
    "            Missing[x] +=1"
   ]
  },
  {
   "cell_type": "code",
   "execution_count": null,
   "id": "086900c0",
   "metadata": {},
   "outputs": [],
   "source": [
    "Missing"
   ]
  },
  {
   "cell_type": "code",
   "execution_count": null,
   "id": "dd6202b2",
   "metadata": {},
   "outputs": [],
   "source": [
    "df.shape"
   ]
  },
  {
   "cell_type": "code",
   "execution_count": null,
   "id": "a1db07e9",
   "metadata": {},
   "outputs": [],
   "source": [
    "df.dtypes"
   ]
  },
  {
   "cell_type": "code",
   "execution_count": null,
   "id": "173511bb",
   "metadata": {},
   "outputs": [],
   "source": [
    "plt.figure(figsize=(12,6))\n",
    "sns.countplot(x='make', data=df)\n",
    "plt.xlabel('Make')\n",
    "plt.ylabel('Distribution')\n",
    "plt.xticks(rotation=60)\n",
    "plt.title('Make Distribution')"
   ]
  },
  {
   "cell_type": "code",
   "execution_count": null,
   "id": "a2b24412",
   "metadata": {},
   "outputs": [],
   "source": [
    "plt.figure(figsize=(12,6))\n",
    "sns.countplot(x='make', data=df)\n",
    "plt.xlabel('Aspiration')\n",
    "plt.ylabel('Distribution')\n",
    "plt.xticks(rotation=60)\n",
    "plt.title('Aspiration Distribution')"
   ]
  },
  {
   "cell_type": "code",
   "execution_count": null,
   "id": "8691ca0d",
   "metadata": {},
   "outputs": [],
   "source": [
    "plt.figure(figsize=(12,6))\n",
    "sns.lineplot(data=df[\"wheel-base\"], linewidth=2.5,color=\"orange\")\n",
    "plt.xlabel('Wheel Base')\n",
    "plt.ylabel('Distribution')\n",
    "plt.title('Wheel Base Distribution')"
   ]
  },
  {
   "cell_type": "code",
   "execution_count": null,
   "id": "a955e558",
   "metadata": {},
   "outputs": [],
   "source": [
    "plt.figure(figsize=(12,6))\n",
    "sns.scatterplot(x=df[\"city-mpg\"], y=df[\"highway-mpg\"])\n",
    "plt.xlabel('Wheel Base')\n",
    "plt.ylabel('Distribution')\n",
    "plt.title('Wheel Base Distribution')"
   ]
  },
  {
   "cell_type": "code",
   "execution_count": null,
   "id": "9fa0a175",
   "metadata": {},
   "outputs": [],
   "source": [
    "x = df.iloc[:,10:13]"
   ]
  },
  {
   "cell_type": "code",
   "execution_count": null,
   "id": "6ab98574",
   "metadata": {},
   "outputs": [],
   "source": [
    "x"
   ]
  },
  {
   "cell_type": "code",
   "execution_count": null,
   "id": "264750f2",
   "metadata": {},
   "outputs": [],
   "source": [
    "df[\"body-style\"].unique()"
   ]
  },
  {
   "cell_type": "code",
   "execution_count": null,
   "id": "8008a442",
   "metadata": {},
   "outputs": [],
   "source": [
    "from sklearn.preprocessing import StandardScaler\n",
    "from sklearn.decomposition import PCA\n",
    "\n",
    "y = df[\"body-style\"]\n",
    "x = StandardScaler().fit_transform(x)\n",
    "pca = PCA(n_components=2)\n",
    "pct = pca.fit_transform(x)\n",
    "\n",
    "principal_df = pd.DataFrame(pct,columns=['pc1','pc2'])\n",
    "print(\"principal-df:\\n\",principal_df)\n",
    "\n",
    "finaldf= pd.concat([principal_df,df[\"body-style\"]],axis=1)\n",
    "print(\"finaldf:\\n\",finaldf)\n",
    "\n",
    "finaldf.head()"
   ]
  },
  {
   "cell_type": "code",
   "execution_count": null,
   "id": "17a39e75",
   "metadata": {},
   "outputs": [],
   "source": [
    "\n",
    "fig = plt.figure(figsize = (8,8))\n",
    "ax = fig.add_subplot(1,1,1)\n",
    "ax.set_xlabel('Principal Component 1', fontsize = 15)\n",
    "ax.set_ylabel('Principal Component 2', fontsize = 15)\n",
    "ax.set_title('2 component PCA', fontsize = 20)\n",
    "targets = df[\"body-style\"].unique()\n",
    "colors = ['r', 'g','b','orange','yellow']\n",
    "for target, color in zip(targets,colors):\n",
    "    indicesToKeep = finaldf[\"body-style\"] == target\n",
    "    ax.scatter(finaldf.loc[indicesToKeep, 'pc1'], finaldf.loc[indicesToKeep, 'pc2'], c = color, s = 50)\n",
    "    ax.legend(['Front','Rear'])\n",
    "    ax.grid()"
   ]
  },
  {
   "cell_type": "code",
   "execution_count": null,
   "id": "9eccee2c",
   "metadata": {},
   "outputs": [],
   "source": []
  }
 ],
 "metadata": {
  "kernelspec": {
   "display_name": "Python 3 (ipykernel)",
   "language": "python",
   "name": "python3"
  },
  "language_info": {
   "codemirror_mode": {
    "name": "ipython",
    "version": 3
   },
   "file_extension": ".py",
   "mimetype": "text/x-python",
   "name": "python",
   "nbconvert_exporter": "python",
   "pygments_lexer": "ipython3",
   "version": "3.12.4"
  }
 },
 "nbformat": 4,
 "nbformat_minor": 5
}
