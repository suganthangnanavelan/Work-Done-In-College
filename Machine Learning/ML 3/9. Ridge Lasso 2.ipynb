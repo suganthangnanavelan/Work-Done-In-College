{
 "cells": [
  {
   "cell_type": "code",
   "execution_count": null,
   "id": "d239aa84-e577-42a1-98d3-127530ffb38e",
   "metadata": {},
   "outputs": [],
   "source": [
    "import numpy as np\n",
    "import matplotlib.pyplot as plt\n",
    "from sklearn.linear_model import Ridge, Lasso\n",
    "from sklearn.datasets import make_regression\n",
    "\n",
    "# Create a sample dataset\n",
    "X, y = make_regression(n_samples=100, n_features=20, noise=0.1, random_state=42)\n",
    "\n",
    "# Range of alpha values (regularization strength)\n",
    "alphas = np.logspace(-3, 3, 100)\n",
    "\n",
    "ridge_coefs = []\n",
    "lasso_coefs = []\n",
    "\n",
    "for alpha in alphas:\n",
    "    # Ridge\n",
    "    ridge = Ridge(alpha=alpha)\n",
    "    ridge.fit(X, y)\n",
    "    ridge_coefs.append(ridge.coef_)\n",
    "    \n",
    "    # Lasso\n",
    "    lasso = Lasso(alpha=alpha, max_iter=10000)\n",
    "    lasso.fit(X, y)\n",
    "    lasso_coefs.append(lasso.coef_)\n",
    "\n",
    "ridge_coefs = np.array(ridge_coefs)\n",
    "lasso_coefs = np.array(lasso_coefs)\n",
    "\n",
    "# ----------------------\n",
    "# Ridge plot\n",
    "# ----------------------\n",
    "plt.figure(figsize=(10, 6))\n",
    "for i in range(X.shape[1]):\n",
    "    plt.plot(alphas, ridge_coefs[:, i], label=f'Feature {i}')\n",
    "plt.xscale('log')\n",
    "plt.title('Ridge Coefficients vs Alpha')\n",
    "plt.xlabel('Alpha (log scale)')\n",
    "plt.ylabel('Coefficient value')\n",
    "plt.grid(True)\n",
    "plt.legend(bbox_to_anchor=(1.05, 1), loc='upper left', fontsize=8)\n",
    "plt.tight_layout()\n",
    "plt.show()\n",
    "\n",
    "# ----------------------\n",
    "# Lasso plot\n",
    "# ----------------------\n",
    "plt.figure(figsize=(10, 6))\n",
    "for i in range(X.shape[1]):\n",
    "    plt.plot(alphas, lasso_coefs[:, i], label=f'Feature {i}')\n",
    "plt.xscale('log')\n",
    "plt.title('Lasso Coefficients vs Alpha')\n",
    "plt.xlabel('Alpha (log scale)')\n",
    "plt.ylabel('Coefficient value')\n",
    "plt.grid(True)\n",
    "plt.legend(bbox_to_anchor=(1.05, 1), loc='upper left', fontsize=8)\n",
    "plt.tight_layout()\n",
    "plt.show()\n"
   ]
  },
  {
   "cell_type": "code",
   "execution_count": null,
   "id": "afdde643-5984-485e-aa6d-508602cc8f51",
   "metadata": {},
   "outputs": [],
   "source": []
  }
 ],
 "metadata": {
  "kernelspec": {
   "display_name": "Python 3 (ipykernel)",
   "language": "python",
   "name": "python3"
  },
  "language_info": {
   "codemirror_mode": {
    "name": "ipython",
    "version": 3
   },
   "file_extension": ".py",
   "mimetype": "text/x-python",
   "name": "python",
   "nbconvert_exporter": "python",
   "pygments_lexer": "ipython3",
   "version": "3.12.4"
  }
 },
 "nbformat": 4,
 "nbformat_minor": 5
}
