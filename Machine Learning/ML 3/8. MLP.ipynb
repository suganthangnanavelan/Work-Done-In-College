{
 "cells": [
  {
   "cell_type": "code",
   "execution_count": null,
   "id": "17a00ba2-2808-4921-9df4-79a2911bc670",
   "metadata": {},
   "outputs": [],
   "source": [
    "import pandas as pd\n",
    "import numpy as np\n",
    "import matplotlib.pyplot as plt\n",
    "from sklearn.model_selection import train_test_split\n",
    "from sklearn.metrics import classification_report, confusion_matrix\n",
    "from sklearn.neural_network import MLPClassifier\n",
    "\n",
    "# Upload and read dataset\n",
    "df = pd.read_csv('heart.csv')\n",
    "print(f\"Dataset shape: {df.shape}\")\n",
    "\n",
    "# Normalize predictors\n",
    "target_column = 'target'\n",
    "predictors = [col for col in df.columns if col != target_column]\n",
    "df[predictors] = df[predictors] / df[predictors].max()\n",
    "\n",
    "# Split data\n",
    "X = df[predictors].values\n",
    "y = df[target_column].values\n",
    "X_train, X_test, y_train, y_test = train_test_split(X, y, test_size=0.3, random_state=40)\n",
    "print(f\"Training shape: {X_train.shape} | Testing shape: {X_test.shape}\")\n",
    "\n",
    "# Function to train and evaluate MLPClassifier\n",
    "def train_and_evaluate(activation, hidden_layers=(8,8,8), max_iter=500):\n",
    "    print(f\"\\nTraining with activation='{activation}' and hidden_layers={hidden_layers}\")\n",
    "    mlp = MLPClassifier(hidden_layer_sizes=hidden_layers, activation=activation,\n",
    "                        solver='adam', max_iter=max_iter, random_state=42)\n",
    "    mlp.fit(X_train, y_train)\n",
    "\n",
    "    predict_train = mlp.predict(X_train)\n",
    "    predict_test = mlp.predict(X_test)\n",
    "\n",
    "    print(\"\\nTrain Results:\")\n",
    "    print(confusion_matrix(y_train, predict_train))\n",
    "    print(classification_report(y_train, predict_train, zero_division=0))\n",
    "\n",
    "    print(\"\\nTest Results:\")\n",
    "    print(confusion_matrix(y_test, predict_test))\n",
    "    print(classification_report(y_test, predict_test, zero_division=0))\n",
    "\n",
    "\n",
    "# Try different activation functions\n",
    "for activation in ['relu', 'identity', 'tanh', 'logistic']:\n",
    "    train_and_evaluate(activation)\n",
    "\n",
    "# Try different hidden layer configuration\n",
    "train_and_evaluate('relu', hidden_layers=(10,10,10))\n"
   ]
  },
  {
   "cell_type": "code",
   "execution_count": null,
   "id": "171896d2-bf99-4d87-9cde-212df4c49cc1",
   "metadata": {},
   "outputs": [],
   "source": [
    "X_train"
   ]
  },
  {
   "cell_type": "code",
   "execution_count": null,
   "id": "59dd64e2-cca8-4b35-93d8-dbe7b30da280",
   "metadata": {},
   "outputs": [],
   "source": []
  }
 ],
 "metadata": {
  "kernelspec": {
   "display_name": "Python 3 (ipykernel)",
   "language": "python",
   "name": "python3"
  },
  "language_info": {
   "codemirror_mode": {
    "name": "ipython",
    "version": 3
   },
   "file_extension": ".py",
   "mimetype": "text/x-python",
   "name": "python",
   "nbconvert_exporter": "python",
   "pygments_lexer": "ipython3",
   "version": "3.12.4"
  }
 },
 "nbformat": 4,
 "nbformat_minor": 5
}
