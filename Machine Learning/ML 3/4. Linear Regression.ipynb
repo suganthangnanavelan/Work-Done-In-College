{
 "cells": [
  {
   "cell_type": "markdown",
   "id": "db8a58e5",
   "metadata": {},
   "source": [
    "<h1>Linear Regression</h1>"
   ]
  },
  {
   "cell_type": "code",
   "execution_count": null,
   "id": "de374599",
   "metadata": {},
   "outputs": [],
   "source": [
    "import pandas as pd\n",
    "import matplotlib.pyplot as plt\n",
    "import seaborn as sns\n",
    "from sklearn.linear_model import LinearRegression\n",
    "from sklearn.model_selection import train_test_split\n",
    "import numpy as np"
   ]
  },
  {
   "cell_type": "code",
   "execution_count": null,
   "id": "4dc9e310",
   "metadata": {},
   "outputs": [],
   "source": [
    "df = pd.read_csv('insurance.csv')\n",
    "df = df[df['charges'] <= 12000]"
   ]
  },
  {
   "cell_type": "code",
   "execution_count": null,
   "id": "7a7f33cd",
   "metadata": {},
   "outputs": [],
   "source": [
    "df"
   ]
  },
  {
   "cell_type": "markdown",
   "id": "a19e236b",
   "metadata": {},
   "source": [
    "<h2>Linear Data</h2>"
   ]
  },
  {
   "cell_type": "code",
   "execution_count": null,
   "id": "aef9d295",
   "metadata": {},
   "outputs": [],
   "source": [
    "X = np.array(df['age'].iloc[:200])\n",
    "y = np.array(df['charges'].iloc[:200])"
   ]
  },
  {
   "cell_type": "code",
   "execution_count": null,
   "id": "65c46210",
   "metadata": {},
   "outputs": [],
   "source": [
    "plt.figure(figsize = (12,6))\n",
    "plt.title(\"Age vs Charges Scatterplot\")\n",
    "plt.xlabel(\"Age\")\n",
    "plt.ylabel(\"Charges\")\n",
    "sns.scatterplot(x=X,y=y)"
   ]
  },
  {
   "cell_type": "code",
   "execution_count": null,
   "id": "5be82cb7",
   "metadata": {},
   "outputs": [],
   "source": [
    "X_train,X_test,y_train,y_test = train_test_split(X,y,test_size = 0.2, random_state = 0)"
   ]
  },
  {
   "cell_type": "code",
   "execution_count": null,
   "id": "5d670ad4",
   "metadata": {},
   "outputs": [],
   "source": [
    "model = LinearRegression()"
   ]
  },
  {
   "cell_type": "code",
   "execution_count": null,
   "id": "82ece089",
   "metadata": {},
   "outputs": [],
   "source": [
    "model.fit(X_train.reshape(-1,1),y_train)"
   ]
  },
  {
   "cell_type": "code",
   "execution_count": null,
   "id": "ca34672b",
   "metadata": {},
   "outputs": [],
   "source": [
    "y_pred_train = model.predict(X_train.reshape(-1,1))\n",
    "plt.figure(figsize=(12,6))\n",
    "plt.title(\"Train Set\")\n",
    "plt.xlabel(\"Age\")\n",
    "plt.ylabel(\"Charges\")\n",
    "sns.scatterplot(x=X_train,y=y_train)\n",
    "sns.lineplot(x=X_train,y=y_pred_train)"
   ]
  },
  {
   "cell_type": "code",
   "execution_count": null,
   "id": "b86971e5",
   "metadata": {},
   "outputs": [],
   "source": [
    "y_pred = model.predict(X_test.reshape(-1,1))\n",
    "plt.figure(figsize=(12,6))\n",
    "plt.title(\"Test Set\")\n",
    "plt.xlabel(\"Age\")\n",
    "plt.ylabel(\"Charges\")\n",
    "sns.scatterplot(x=X_test,y=y_test)\n",
    "sns.lineplot(x=X_test,y=y_pred)"
   ]
  },
  {
   "cell_type": "markdown",
   "id": "07b0706a",
   "metadata": {},
   "source": [
    "<h2>Non Linear Data</h2>"
   ]
  },
  {
   "cell_type": "code",
   "execution_count": null,
   "id": "ea4698f7",
   "metadata": {},
   "outputs": [],
   "source": [
    "X=np.array(df['bmi'].iloc[100:300])\n",
    "y=np.array(df['charges'].iloc[100:300])"
   ]
  },
  {
   "cell_type": "code",
   "execution_count": null,
   "id": "1e8db443",
   "metadata": {},
   "outputs": [],
   "source": [
    "plt.figure(figsize = (12,6))\n",
    "plt.title('BMI vs Charges Scatterplot')\n",
    "plt.xlabel(\"BMI\")\n",
    "plt.ylabel(\"Charges\")\n",
    "sns.scatterplot(x=X,y=y)"
   ]
  },
  {
   "cell_type": "code",
   "execution_count": null,
   "id": "6b7bf657",
   "metadata": {},
   "outputs": [],
   "source": [
    "X_train,X_test,y_train,y_test = train_test_split(X,y,test_size = 0.2, random_state = 0)"
   ]
  },
  {
   "cell_type": "code",
   "execution_count": null,
   "id": "e2e4f730",
   "metadata": {},
   "outputs": [],
   "source": [
    "model = LinearRegression()"
   ]
  },
  {
   "cell_type": "code",
   "execution_count": null,
   "id": "09b3f252",
   "metadata": {},
   "outputs": [],
   "source": [
    "model.fit(X_train.reshape(-1,1),y_train)"
   ]
  },
  {
   "cell_type": "code",
   "execution_count": null,
   "id": "4d56b6ab",
   "metadata": {},
   "outputs": [],
   "source": [
    "y_pred_train = model.predict(X_train.reshape(-1,1))\n",
    "plt.figure(figsize=(12,6))\n",
    "plt.title(\"Train Set\")\n",
    "plt.xlabel(\"BMI\")\n",
    "plt.ylabel(\"Charges\")\n",
    "sns.scatterplot(x=X_train,y=y_train)\n",
    "sns.lineplot(x=X_train,y=y_pred_train)"
   ]
  },
  {
   "cell_type": "code",
   "execution_count": null,
   "id": "9bff294b",
   "metadata": {},
   "outputs": [],
   "source": [
    "y_pred = model.predict(X_test.reshape(-1,1))\n",
    "plt.figure(figsize=(12,6))\n",
    "plt.title(\"Test Set\")\n",
    "plt.xlabel(\"BMI\")\n",
    "plt.ylabel(\"Charges\")\n",
    "sns.scatterplot(x=X_test,y=y_test)\n",
    "sns.lineplot(x=X_test,y=y_pred)"
   ]
  },
  {
   "cell_type": "code",
   "execution_count": null,
   "id": "235253ca-31cb-4ecd-89a5-2f0d71f50d1f",
   "metadata": {},
   "outputs": [],
   "source": []
  }
 ],
 "metadata": {
  "kernelspec": {
   "display_name": "Python 3 (ipykernel)",
   "language": "python",
   "name": "python3"
  },
  "language_info": {
   "codemirror_mode": {
    "name": "ipython",
    "version": 3
   },
   "file_extension": ".py",
   "mimetype": "text/x-python",
   "name": "python",
   "nbconvert_exporter": "python",
   "pygments_lexer": "ipython3",
   "version": "3.12.4"
  }
 },
 "nbformat": 4,
 "nbformat_minor": 5
}
