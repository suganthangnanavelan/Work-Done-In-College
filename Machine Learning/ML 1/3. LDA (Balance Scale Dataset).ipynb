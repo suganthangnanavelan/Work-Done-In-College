{
 "cells": [
  {
   "cell_type": "code",
   "execution_count": null,
   "id": "96ac04a5-6577-4da4-8454-3b10535351f8",
   "metadata": {},
   "outputs": [],
   "source": [
    "import pandas as pd\n",
    "import matplotlib.pyplot as plt\n",
    "from sklearn.preprocessing import StandardScaler\n",
    "from sklearn.discriminant_analysis import LinearDiscriminantAnalysis as LDA"
   ]
  },
  {
   "cell_type": "code",
   "execution_count": null,
   "id": "b1ffa4dc-488f-4238-877b-5cbd6fb48e4e",
   "metadata": {},
   "outputs": [],
   "source": [
    "cols = ['class name','left-weight','left-distance','right-weight','right-distance']\n",
    "df = pd.read_table('data/balance-scale.txt', delimiter = \",\", names=cols)\n",
    "print(\"Shape:\", df.shape)\n",
    "df.head()"
   ]
  },
  {
   "cell_type": "code",
   "execution_count": null,
   "id": "069bba36-4187-48e4-bc5b-d1443c1ee87c",
   "metadata": {},
   "outputs": [],
   "source": [
    "features = ['left-weight','left-distance','right-weight','right-distance']\n",
    "x = df.loc[:,features]\n",
    "y = df.loc[:,'class name']\n",
    "lda = LDA(n_components=2)\n",
    "lda_X = lda.fit(x,y).transform(x)"
   ]
  },
  {
   "cell_type": "code",
   "execution_count": null,
   "id": "66c2b6ac-6163-4f36-ae6b-3a9e32e578ce",
   "metadata": {},
   "outputs": [],
   "source": [
    "plt.scatter(lda_X[y == 'L', 0], lda_X[y == 'L', 1], s=50, c='orange', label='L')\n",
    "plt.scatter(lda_X[y == 'B', 0], lda_X[y == 'B', 1], s=50, c='blue', label='B')\n",
    "plt.scatter(lda_X[y == 'R', 0], lda_X[y == 'R', 1], s=50, c='green', label='R')\n",
    "plt.title('LDA plot for cmc DataSet')"
   ]
  }
 ],
 "metadata": {
  "kernelspec": {
   "display_name": "Python 3 (ipykernel)",
   "language": "python",
   "name": "python3"
  },
  "language_info": {
   "codemirror_mode": {
    "name": "ipython",
    "version": 3
   },
   "file_extension": ".py",
   "mimetype": "text/x-python",
   "name": "python",
   "nbconvert_exporter": "python",
   "pygments_lexer": "ipython3",
   "version": "3.12.4"
  }
 },
 "nbformat": 4,
 "nbformat_minor": 5
}
