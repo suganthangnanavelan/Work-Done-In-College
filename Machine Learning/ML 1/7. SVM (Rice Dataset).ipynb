{
 "cells": [
  {
   "cell_type": "code",
   "execution_count": null,
   "id": "4362a048-8226-4172-ad6b-97109238a33f",
   "metadata": {},
   "outputs": [],
   "source": [
    "import pandas as pd\n",
    "import numpy as np\n",
    "import seaborn as sns\n",
    "import matplotlib.pyplot as plt\n",
    "from sklearn.model_selection import train_test_split\n",
    "from sklearn.metrics import accuracy_score, classification_report, confusion_matrix, ConfusionMatrixDisplay, roc_curve, auc\n",
    "from sklearn.preprocessing import StandardScaler\n",
    "from sklearn.decomposition import PCA\n",
    "from sklearn.svm import SVC\n",
    "from sklearn.pipeline import make_pipeline\n",
    "from mlxtend.plotting import plot_decision_regions\n",
    "from scipy.io import arff"
   ]
  },
  {
   "cell_type": "code",
   "execution_count": null,
   "id": "921ad1a4-cb33-4a06-862e-3c172da5ca3a",
   "metadata": {},
   "outputs": [],
   "source": [
    "data = arff.loadarff(\"data/rice.arff\")\n",
    "df = pd.DataFrame(data[0])"
   ]
  },
  {
   "cell_type": "code",
   "execution_count": null,
   "id": "6c5497e5-76e2-461b-956a-e6fdb10707a9",
   "metadata": {},
   "outputs": [],
   "source": [
    "df['Class'] = df['Class'].map({b'Cammeo': 0, b'Osmancik': 1})\n",
    "X = df.drop(columns=['Class'])\n",
    "y = df['Class']\n",
    "X = PCA(n_components=2).fit_transform(X)"
   ]
  },
  {
   "cell_type": "code",
   "execution_count": null,
   "id": "029f62b3-db5d-4284-b829-2708342ed440",
   "metadata": {},
   "outputs": [],
   "source": [
    "X_train, X_test, y_train, y_test = train_test_split(X, y, test_size=0.2, random_state=42)\n",
    "\n",
    "models = [\n",
    "    SVC(kernel='linear', C=1, degree=5, gamma=\"auto\", probability=True),\n",
    "    SVC(kernel='rbf', C=1, gamma='scale', probability=True),\n",
    "    SVC(kernel='poly', C=1, degree=5, gamma=\"auto\", probability=True)\n",
    "]"
   ]
  },
  {
   "cell_type": "code",
   "execution_count": null,
   "id": "cad66559-bd1e-4dbb-b656-453aa8a4d0a0",
   "metadata": {},
   "outputs": [],
   "source": [
    "for model in models:\n",
    "    pipeline = make_pipeline(StandardScaler(), model)\n",
    "    pipeline.fit(X_train, y_train)\n",
    "    y_pred = pipeline.predict(X_test)\n",
    "    \n",
    "    print(f\"SVM ({model.kernel} kernel) Accuracy: {accuracy_score(y_test, y_pred):.2f}\")\n",
    "    print(classification_report(y_test, y_pred))\n",
    "    \n",
    "    plot_decision_regions(X=X_train, y=y_train.values, clf=pipeline, legend=2)\n",
    "    plt.title(f'SVM Decision Region Boundary ({model.kernel} kernel)')\n",
    "    plt.show()\n",
    "    \n",
    "    ConfusionMatrixDisplay(confusion_matrix(y_test, y_pred), display_labels=[0, 1]).plot(cmap='Blues')\n",
    "    plt.show()\n",
    "    \n",
    "    y_pred_proba = pipeline.predict_proba(X_test)[:, 1]\n",
    "    fpr, tpr, _ = roc_curve(y_test, y_pred_proba)\n",
    "    roc_auc = auc(fpr, tpr)\n",
    "    plt.plot(fpr, tpr, label=f'ROC curve (area = {roc_auc:.2f})')\n",
    "    plt.plot([0, 1], [0, 1], 'k--', label='No Skill')\n",
    "    plt.xlabel('False Positive Rate')\n",
    "    plt.ylabel('True Positive Rate')\n",
    "    plt.title('ROC Curve for Rice Classification')\n",
    "    plt.legend()\n",
    "    plt.show()"
   ]
  }
 ],
 "metadata": {
  "kernelspec": {
   "display_name": "Python 3 (ipykernel)",
   "language": "python",
   "name": "python3"
  },
  "language_info": {
   "codemirror_mode": {
    "name": "ipython",
    "version": 3
   },
   "file_extension": ".py",
   "mimetype": "text/x-python",
   "name": "python",
   "nbconvert_exporter": "python",
   "pygments_lexer": "ipython3",
   "version": "3.12.4"
  }
 },
 "nbformat": 4,
 "nbformat_minor": 5
}
