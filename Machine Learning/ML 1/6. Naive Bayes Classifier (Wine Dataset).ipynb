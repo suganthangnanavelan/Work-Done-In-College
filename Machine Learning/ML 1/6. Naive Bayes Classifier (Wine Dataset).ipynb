{
 "cells": [
  {
   "cell_type": "code",
   "execution_count": null,
   "id": "939c616d-2779-4e21-adcf-1d070898d65b",
   "metadata": {},
   "outputs": [],
   "source": [
    "from sklearn import datasets\n",
    "from sklearn.metrics import confusion_matrix, ConfusionMatrixDisplay\n",
    "from sklearn.model_selection import train_test_split\n",
    "from sklearn.naive_bayes import GaussianNB\n",
    "import pandas as pd"
   ]
  },
  {
   "cell_type": "code",
   "execution_count": null,
   "id": "17720a0d-e788-4b1d-b2b2-a542f6b824a2",
   "metadata": {},
   "outputs": [],
   "source": [
    "wine = pd.read_csv('data/wine-dataset.csv')\n",
    "print(wine.shape)"
   ]
  },
  {
   "cell_type": "code",
   "execution_count": null,
   "id": "a050923e-4382-4ff7-93bf-446b117c0ef5",
   "metadata": {},
   "outputs": [],
   "source": [
    "X = wine.iloc[:, :13]\n",
    "X.head()"
   ]
  },
  {
   "cell_type": "code",
   "execution_count": null,
   "id": "9f1a4355-718e-40ed-b892-3e3d03c4ef3c",
   "metadata": {},
   "outputs": [],
   "source": [
    "y = wine.iloc[:, 13]\n",
    "y"
   ]
  },
  {
   "cell_type": "code",
   "execution_count": null,
   "id": "dd3f31ef-c0d2-48dd-9fb7-338c10f9fbf9",
   "metadata": {},
   "outputs": [],
   "source": [
    "X_train, X_test, y_train, y_test = train_test_split(X, y, random_state = 0)\n",
    "\n",
    "gnb = GaussianNB().fit(X_train, y_train)\n",
    "gnb_predictions = gnb.predict(X_test)\n",
    "accuracy = gnb.score(X_test, y_test)\n",
    "accuracy\n",
    "cm = confusion_matrix(y_test, gnb_predictions)\n",
    "ConfusionMatrixDisplay(cm).plot()"
   ]
  }
 ],
 "metadata": {
  "kernelspec": {
   "display_name": "Python 3 (ipykernel)",
   "language": "python",
   "name": "python3"
  },
  "language_info": {
   "codemirror_mode": {
    "name": "ipython",
    "version": 3
   },
   "file_extension": ".py",
   "mimetype": "text/x-python",
   "name": "python",
   "nbconvert_exporter": "python",
   "pygments_lexer": "ipython3",
   "version": "3.12.4"
  }
 },
 "nbformat": 4,
 "nbformat_minor": 5
}
