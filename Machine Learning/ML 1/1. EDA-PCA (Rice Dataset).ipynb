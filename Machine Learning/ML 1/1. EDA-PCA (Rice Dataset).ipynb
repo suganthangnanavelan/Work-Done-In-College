{
 "cells": [
  {
   "cell_type": "code",
   "execution_count": null,
   "id": "d27dd480-bff5-4179-8b5d-145b15fe2527",
   "metadata": {},
   "outputs": [],
   "source": [
    "import numpy as np\n",
    "import pandas as pd\n",
    "import seaborn as sns\n",
    "import scipy\n",
    "import matplotlib.pyplot as plt"
   ]
  },
  {
   "cell_type": "code",
   "execution_count": null,
   "id": "c34c5236-de26-47a7-b047-c084519f6ef7",
   "metadata": {},
   "outputs": [],
   "source": [
    "data, _ = scipy.io.arff.loadarff('data/rice.arff')\n",
    "df = pd.DataFrame(data)\n",
    "print(\"Shape:\", df.shape)\n",
    "df.head()"
   ]
  },
  {
   "cell_type": "code",
   "execution_count": null,
   "id": "9ef13fe2-6f7f-4e9e-97bf-f44c0b10694e",
   "metadata": {},
   "outputs": [],
   "source": [
    "df.describe()"
   ]
  },
  {
   "cell_type": "code",
   "execution_count": null,
   "id": "0a51ae34-5fa4-4f78-a08c-de89bcc1f6b2",
   "metadata": {},
   "outputs": [],
   "source": [
    "df.info()"
   ]
  },
  {
   "cell_type": "code",
   "execution_count": null,
   "id": "3a30c508-273f-46cd-8ecd-8361b255488b",
   "metadata": {},
   "outputs": [],
   "source": [
    "df.isnull().sum()"
   ]
  },
  {
   "cell_type": "code",
   "execution_count": null,
   "id": "f0651a71-0bc1-489e-ad5f-7b080a9cb978",
   "metadata": {},
   "outputs": [],
   "source": [
    "sns.countplot(df, x='Class', hue='Class')\n",
    "plt.title(\"Class Distribution\")\n",
    "plt.show()"
   ]
  },
  {
   "cell_type": "code",
   "execution_count": null,
   "id": "e2d1c93f-e097-4b08-b9ff-48c7d5fd9659",
   "metadata": {},
   "outputs": [],
   "source": [
    "print(\"Mean of Features\")\n",
    "df.iloc[:, :-1].mean()"
   ]
  },
  {
   "cell_type": "code",
   "execution_count": null,
   "id": "0977bb62-192e-43f4-8cd9-e054ea3526b9",
   "metadata": {},
   "outputs": [],
   "source": [
    "cov = df.iloc[:, :-1].cov().round(3)\n",
    "print(\"Covariance Matrix\")\n",
    "cov"
   ]
  },
  {
   "cell_type": "code",
   "execution_count": null,
   "id": "e2862d9a-76b9-4367-a135-0fc36ae60478",
   "metadata": {},
   "outputs": [],
   "source": [
    "eigen_vals, eigen_vecs = np.linalg.eig(cov)\n",
    "mapping = {round(eigen_vals[i], 2): eigen_vecs[:, i].round(2) \n",
    "           for i in range(len(eigen_vals))}\n",
    "print(\"Eigen Value-Vector Pairs:\")\n",
    "mapping"
   ]
  },
  {
   "cell_type": "code",
   "execution_count": null,
   "id": "06a3c671-6cae-44c7-9960-56702042c0e5",
   "metadata": {},
   "outputs": [],
   "source": [
    "n = 2\n",
    "sorted_eigen_vals = sorted(mapping.keys(), reverse=True)\n",
    "top_eigen_vals = sorted_eigen_vals[:n]\n",
    "top_eigen_vals"
   ]
  },
  {
   "cell_type": "code",
   "execution_count": null,
   "id": "6473c348-871e-428d-a3d6-7942fc0df706",
   "metadata": {},
   "outputs": [],
   "source": [
    "projection_matrix = np.array([mapping[val] for val in top_eigen_vals]).T\n",
    "projection_matrix"
   ]
  },
  {
   "cell_type": "code",
   "execution_count": null,
   "id": "6014c705-cb9a-470f-905f-ec05eb5f89f9",
   "metadata": {},
   "outputs": [],
   "source": [
    "X = df.iloc[:, :-1].values\n",
    "reduced_data = X.dot(projection_matrix)\n",
    "reduced_df = pd.DataFrame(reduced_data, columns=[f'PC{i+1}' for i in range(n)])\n",
    "reduced_df['Class'] = df['Class'].values\n",
    "reduced_df.head()"
   ]
  },
  {
   "cell_type": "code",
   "execution_count": null,
   "id": "f53faa36-3044-4a48-9512-f7bc947bd9ba",
   "metadata": {},
   "outputs": [],
   "source": [
    "sns.scatterplot(data=reduced_df, x='PC1', y='PC2', hue='Class')\n",
    "plt.title('Principle Component Analysis')\n",
    "plt.show()"
   ]
  }
 ],
 "metadata": {
  "kernelspec": {
   "display_name": "Python 3 (ipykernel)",
   "language": "python",
   "name": "python3"
  },
  "language_info": {
   "codemirror_mode": {
    "name": "ipython",
    "version": 3
   },
   "file_extension": ".py",
   "mimetype": "text/x-python",
   "name": "python",
   "nbconvert_exporter": "python",
   "pygments_lexer": "ipython3",
   "version": "3.12.4"
  }
 },
 "nbformat": 4,
 "nbformat_minor": 5
}
