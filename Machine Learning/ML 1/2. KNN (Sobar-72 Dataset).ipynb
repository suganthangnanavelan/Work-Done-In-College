{
 "cells": [
  {
   "cell_type": "code",
   "execution_count": null,
   "id": "838f3d63-f48d-4003-8a20-767d87d5d63b",
   "metadata": {
    "id": "10424106"
   },
   "outputs": [],
   "source": [
    "import numpy as np\n",
    "import pandas as pd\n",
    "import seaborn as sns\n",
    "import matplotlib.pyplot as plt\n",
    "from sklearn.model_selection import train_test_split\n",
    "from sklearn.preprocessing import StandardScaler\n",
    "from sklearn.decomposition import PCA\n",
    "from sklearn.neighbors import KNeighborsClassifier\n",
    "from sklearn import metrics\n",
    "from mlxtend.plotting import plot_decision_regions\n",
    "from scipy.cluster.hierarchy import dendrogram, linkage\n",
    "from scipy.spatial import Voronoi, voronoi_plot_2d"
   ]
  },
  {
   "cell_type": "code",
   "execution_count": null,
   "id": "5a30696e-2e04-4ead-90c7-21dbd6b1d75d",
   "metadata": {
    "id": "10424106"
   },
   "outputs": [],
   "source": [
    "df = pd.read_csv(\"data/sobar-72.csv\")\n",
    "display(df.head())\n",
    "display(df.info())"
   ]
  },
  {
   "cell_type": "code",
   "execution_count": null,
   "id": "35e3b9f1-f5ed-4dd1-8a4d-aeb7fe77bea2",
   "metadata": {
    "id": "10424106"
   },
   "outputs": [],
   "source": [
    "cols = [\n",
    "    'behavior_sexualRisk', 'intention_aggregation', 'attitude_consistency',\n",
    "    'norm_significantPerson', 'perception_vulnerability', 'motivation_strength',\n",
    "    'socialSupport_emotionality', 'empowerment_knowledge', 'ca_cervix'\n",
    "]\n",
    "sns.pairplot(df[cols], hue='ca_cervix')\n",
    "plt.show()"
   ]
  },
  {
   "cell_type": "code",
   "execution_count": null,
   "id": "09bb4a6d-3807-44cb-b15e-2e6b3ff20d02",
   "metadata": {
    "id": "10424106"
   },
   "outputs": [],
   "source": [
    "X = df.drop(columns=['ca_cervix'])\n",
    "y = df['ca_cervix']"
   ]
  },
  {
   "cell_type": "code",
   "execution_count": null,
   "id": "5a235b36-2136-4924-a6a3-834fde3e541c",
   "metadata": {
    "id": "10424106"
   },
   "outputs": [],
   "source": [
    "X_scaled = StandardScaler().fit_transform(X)\n",
    "X_pca = PCA(n_components=2).fit_transform(X_scaled)\n",
    "X_train, X_test, y_train, y_test = train_test_split(X_pca, y, test_size=0.4, random_state=4)"
   ]
  },
  {
   "cell_type": "code",
   "execution_count": null,
   "id": "7db3c778-fb6f-4509-8598-5df6928058e2",
   "metadata": {
    "id": "10424106"
   },
   "outputs": [],
   "source": [
    "similarities = ['euclidean', 'manhattan', 'minkowski']\n",
    "for sim in similarities:\n",
    "    knn = KNeighborsClassifier(n_neighbors=5, metric=sim)\n",
    "    knn.fit(X_train, y_train)\n",
    "    y_pred = knn.predict(X_test)\n",
    "\n",
    "    plot_decision_regions(X_train, np.array(y_train), clf=knn, legend=2)\n",
    "    plt.xlabel('X')\n",
    "    plt.ylabel('Y')\n",
    "    plt.title(f'KNN with K=5 using {sim.capitalize()} Distance')\n",
    "    plt.show()"
   ]
  },
  {
   "cell_type": "code",
   "execution_count": null,
   "id": "f4fee956-56f9-487d-b1fd-a2c32536fa0f",
   "metadata": {
    "id": "10424106"
   },
   "outputs": [],
   "source": [
    "k_values, accuracies = [], []\n",
    "for k in range(1, 10):\n",
    "    knn = KNeighborsClassifier(n_neighbors=k)\n",
    "    knn.fit(X_train, y_train)\n",
    "    y_pred = knn.predict(X_test)\n",
    "    k_values.append(k)\n",
    "    accuracies.append(metrics.accuracy_score(y_test, y_pred))\n",
    "\n",
    "plt.figure(figsize=(4, 2))\n",
    "plt.plot(k_values, accuracies, marker='o')\n",
    "plt.title('K Value vs Accuracy')\n",
    "plt.xlabel('K')\n",
    "plt.ylabel('Accuracy')\n",
    "plt.grid()\n",
    "plt.show()"
   ]
  },
  {
   "cell_type": "code",
   "execution_count": null,
   "id": "6ecc3e38-c791-48eb-ad01-a8149a2380ae",
   "metadata": {
    "id": "10424106"
   },
   "outputs": [],
   "source": [
    "plt.scatter(X_test[:, 0], X_test[:, 1], c=y_pred, cmap='coolwarm', edgecolors='k')\n",
    "plt.title('Test Data Predictions')\n",
    "plt.grid()\n",
    "plt.show()"
   ]
  },
  {
   "cell_type": "code",
   "execution_count": null,
   "id": "9f40e9af-601f-4b4e-aadc-c3b27d4e4f11",
   "metadata": {
    "id": "10424106"
   },
   "outputs": [],
   "source": [
    "unique_labels = np.unique(y)\n",
    "label_mapping = {label: i for i, label in enumerate(unique_labels)}\n",
    "y_mapped = np.array([label_mapping[label] for label in y])\n",
    "\n",
    "linked = linkage(X_pca, method='single')\n",
    "\n",
    "plt.figure(figsize=(10, 7))\n",
    "dendrogram(linked, orientation='top', distance_sort='descending', labels=y_mapped, show_leaf_counts=True)\n",
    "plt.title('Dendrogram for KNN')\n",
    "plt.xlabel('Data Points')\n",
    "plt.ylabel('Distance')\n",
    "plt.show()"
   ]
  },
  {
   "cell_type": "code",
   "execution_count": null,
   "id": "5164b3a8-26f4-4855-a551-d5f9790b9975",
   "metadata": {
    "id": "10424106"
   },
   "outputs": [],
   "source": [
    "vor = Voronoi(X_pca)\n",
    "fig = voronoi_plot_2d(vor, show_vertices=False, line_colors='black', line_width=2, line_alpha=0.6, point_size=10)\n",
    "\n",
    "plt.scatter(X_pca[:, 0], X_pca[:, 1], c=y, cmap='viridis', s=50, edgecolors='k')\n",
    "plt.title('Voronoi Diagram with Target Variable')\n",
    "plt.xlabel('X')\n",
    "plt.ylabel('Y')\n",
    "plt.show()"
   ]
  }
 ],
 "metadata": {
  "colab": {
   "provenance": []
  },
  "kernelspec": {
   "display_name": "Python 3 (ipykernel)",
   "language": "python",
   "name": "python3"
  },
  "language_info": {
   "codemirror_mode": {
    "name": "ipython",
    "version": 3
   },
   "file_extension": ".py",
   "mimetype": "text/x-python",
   "name": "python",
   "nbconvert_exporter": "python",
   "pygments_lexer": "ipython3",
   "version": "3.12.4"
  }
 },
 "nbformat": 4,
 "nbformat_minor": 5
}
