{
 "cells": [
  {
   "cell_type": "code",
   "execution_count": null,
   "id": "b96a1a1c-b14e-409e-ab95-075ba7b80df3",
   "metadata": {},
   "outputs": [],
   "source": [
    "import pandas as pd\n",
    "import numpy as np\n",
    "import seaborn as sns\n",
    "import matplotlib.pyplot as plt\n",
    "from sklearn.preprocessing import StandardScaler\n",
    "from sklearn.decomposition import PCA\n",
    "\n",
    "import warnings\n",
    "warnings.filterwarnings('ignore')"
   ]
  },
  {
   "cell_type": "code",
   "execution_count": null,
   "id": "a27b3cce-5a43-4443-a2c0-964a15d4d5fc",
   "metadata": {},
   "outputs": [],
   "source": [
    "cols = ['class name', 'left-weight', 'left-distance', 'right-weight', 'right-distance']\n",
    "df = pd.read_table('data/balance-scale.txt', delimiter=',', names=cols)\n",
    "print(\"Shape:\", df.shape)\n",
    "df.head()"
   ]
  },
  {
   "cell_type": "code",
   "execution_count": null,
   "id": "b9f866da-69f2-44d9-a628-431cdb81d41e",
   "metadata": {},
   "outputs": [],
   "source": [
    "df.describe()"
   ]
  },
  {
   "cell_type": "code",
   "execution_count": null,
   "id": "f23c78cb-422f-492d-ab8c-00ba1ac8a4b2",
   "metadata": {},
   "outputs": [],
   "source": [
    "df.info()"
   ]
  },
  {
   "cell_type": "code",
   "execution_count": null,
   "id": "d2a5b059-df8f-4495-bee8-57031cce0a78",
   "metadata": {},
   "outputs": [],
   "source": [
    "sns.countplot(df, x='class name', hue='class name')\n",
    "plt.title(\"Count Plot ['B', 'R', 'L']\")\n",
    "plt.show()"
   ]
  },
  {
   "cell_type": "code",
   "execution_count": null,
   "id": "5da4b529-7f9f-4fa4-b251-7daf2a285c15",
   "metadata": {},
   "outputs": [],
   "source": [
    "features = ['left-weight', 'left-distance', 'right-weight', 'right-distance']\n",
    "x = df.loc[:, features]\n",
    "y = df.loc[:, 'class name']"
   ]
  },
  {
   "cell_type": "code",
   "execution_count": null,
   "id": "bacac77a-5b5f-480c-8e4d-8172980baea7",
   "metadata": {},
   "outputs": [],
   "source": [
    "x = StandardScaler().fit_transform(x)\n",
    "pca = PCA(n_components=2)\n",
    "pct = pca.fit_transform(x)"
   ]
  },
  {
   "cell_type": "code",
   "execution_count": null,
   "id": "ffdcdf85-56c8-4b02-bad8-05f9654805ef",
   "metadata": {},
   "outputs": [],
   "source": [
    "principal_df = pd.DataFrame(pct, columns=['pc1', 'pc2'])\n",
    "principal_df['class name'] = df['class name']\n",
    "principal_df.head()"
   ]
  },
  {
   "cell_type": "code",
   "execution_count": null,
   "id": "db3dae54-3134-4d41-998e-0cf46ae16714",
   "metadata": {},
   "outputs": [],
   "source": [
    "fig = plt.figure(figsize=(8,8))\n",
    "ax = fig.add_subplot(1, 1, 1)\n",
    "\n",
    "targets = ['L','B','R']\n",
    "colors = ['r', 'g','b']\n",
    "for target, color in zip(targets, colors):\n",
    "    selected = principal_df[principal_df['class name'] == target]\n",
    "    ax.scatter(selected['pc1'], selected['pc2'], c=color, s=50)\n",
    "\n",
    "ax.set_xlabel('Principal Component 1')\n",
    "ax.set_ylabel('Principal Component 2')\n",
    "ax.set_title('2 component PCA')\n",
    "ax.legend(targets)\n",
    "ax.grid()"
   ]
  }
 ],
 "metadata": {
  "kernelspec": {
   "display_name": "Python 3 (ipykernel)",
   "language": "python",
   "name": "python3"
  },
  "language_info": {
   "codemirror_mode": {
    "name": "ipython",
    "version": 3
   },
   "file_extension": ".py",
   "mimetype": "text/x-python",
   "name": "python",
   "nbconvert_exporter": "python",
   "pygments_lexer": "ipython3",
   "version": "3.12.4"
  }
 },
 "nbformat": 4,
 "nbformat_minor": 5
}
