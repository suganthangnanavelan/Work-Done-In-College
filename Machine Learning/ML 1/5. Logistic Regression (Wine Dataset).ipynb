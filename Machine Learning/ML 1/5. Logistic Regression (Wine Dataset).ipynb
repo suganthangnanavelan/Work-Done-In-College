{
 "cells": [
  {
   "cell_type": "code",
   "execution_count": null,
   "id": "0fcc8bb7-4d22-4d3b-b58a-302bb24f8f2e",
   "metadata": {},
   "outputs": [],
   "source": [
    "import itertools\n",
    "import numpy as np\n",
    "import pandas as pd\n",
    "import matplotlib.pyplot as plt\n",
    "from sklearn import linear_model,datasets\n",
    "from sklearn.model_selection import train_test_split\n",
    "from sklearn.metrics import confusion_matrix, ConfusionMatrixDisplay\n",
    "\n",
    "import warnings\n",
    "warnings.filterwarnings('ignore')"
   ]
  },
  {
   "cell_type": "code",
   "execution_count": null,
   "id": "d28e507b-fb15-4058-a161-656859a27c65",
   "metadata": {},
   "outputs": [],
   "source": [
    "wine = pd.read_csv('data/wine-dataset.csv')\n",
    "print(\"Shape:\", wine.shape)\n",
    "wine.head()"
   ]
  },
  {
   "cell_type": "code",
   "execution_count": null,
   "id": "c4e953da-6941-43f2-a9ce-aab907876d45",
   "metadata": {},
   "outputs": [],
   "source": [
    "wine.columns"
   ]
  },
  {
   "cell_type": "code",
   "execution_count": null,
   "id": "9ee44a66-dc4a-4c79-9dab-eec60669dd8b",
   "metadata": {},
   "outputs": [],
   "source": [
    "X = wine.iloc[:, :13]\n",
    "y = wine.iloc[:, 13]"
   ]
  },
  {
   "cell_type": "code",
   "execution_count": null,
   "id": "bd9d60dd-8272-46b4-8335-69d9751ed0c7",
   "metadata": {},
   "outputs": [],
   "source": [
    "X_train,X_test,y_train,y_test = train_test_split(X, y, test_size=0.30, random_state=7)\n",
    "\n",
    "log_reg_model = linear_model.LogisticRegression()\n",
    "log_reg_model.fit(X_train,y_train)"
   ]
  },
  {
   "cell_type": "code",
   "execution_count": null,
   "id": "7c8fca42-c8d8-4334-9cc4-da4f5e1b0a1e",
   "metadata": {},
   "outputs": [],
   "source": [
    "log_reg_base_score = log_reg_model.score(X_test,y_test)\n",
    "print(\"The score for the Logistic Regression Model is : \", log_reg_base_score)"
   ]
  },
  {
   "cell_type": "code",
   "execution_count": null,
   "id": "61bbb23e-cb29-41ae-9ea3-82e8d465c7f2",
   "metadata": {},
   "outputs": [],
   "source": [
    "cm = confusion_matrix(y_test, log_reg_model.predict(X_test))\n",
    "ConfusionMatrixDisplay(cm).plot()"
   ]
  }
 ],
 "metadata": {
  "kernelspec": {
   "display_name": "Python 3 (ipykernel)",
   "language": "python",
   "name": "python3"
  },
  "language_info": {
   "codemirror_mode": {
    "name": "ipython",
    "version": 3
   },
   "file_extension": ".py",
   "mimetype": "text/x-python",
   "name": "python",
   "nbconvert_exporter": "python",
   "pygments_lexer": "ipython3",
   "version": "3.12.4"
  }
 },
 "nbformat": 4,
 "nbformat_minor": 5
}
