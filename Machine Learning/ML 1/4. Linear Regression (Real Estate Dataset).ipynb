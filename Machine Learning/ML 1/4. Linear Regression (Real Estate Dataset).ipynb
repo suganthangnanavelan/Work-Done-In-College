{
 "cells": [
  {
   "cell_type": "code",
   "execution_count": null,
   "id": "c885166e-e06f-46c2-bfe0-bc9b64e7e1e5",
   "metadata": {},
   "outputs": [],
   "source": [
    "import numpy as np\n",
    "import pandas as pd\n",
    "import seaborn as sns\n",
    "import matplotlib.pyplot as plt\n",
    "from sklearn.model_selection import train_test_split"
   ]
  },
  {
   "cell_type": "code",
   "execution_count": null,
   "id": "b00fd97c-b199-41f0-825a-4b9574967f5f",
   "metadata": {},
   "outputs": [],
   "source": [
    "df = pd.read_excel(\"data/real-estate.xlsx\")\n",
    "df.head()"
   ]
  },
  {
   "cell_type": "code",
   "execution_count": null,
   "id": "90bb7a26-1e9b-4cc1-b104-ee76588ae090",
   "metadata": {},
   "outputs": [],
   "source": [
    "df.isnull().sum()"
   ]
  },
  {
   "cell_type": "code",
   "execution_count": null,
   "id": "9be23824-cb35-4c3c-9173-8dd99a3a2ec4",
   "metadata": {},
   "outputs": [],
   "source": [
    "sns.pairplot(df)\n",
    "plt.show()"
   ]
  },
  {
   "cell_type": "code",
   "execution_count": null,
   "id": "517a7b77-ba3b-42d4-9941-c386c1d5b8f6",
   "metadata": {},
   "outputs": [],
   "source": [
    "sns.heatmap(df.corr(), annot=True, fmt='.2f', cmap='coolwarm')\n",
    "plt.title('Correlation Heatmap')\n",
    "plt.show()"
   ]
  },
  {
   "cell_type": "code",
   "execution_count": null,
   "id": "7b3b0dc7-366e-4d69-a537-27856bc39643",
   "metadata": {},
   "outputs": [],
   "source": [
    "def lin_reg(colX):\n",
    "    X = df[colX].values\n",
    "    y = df['Y house price of unit area'].values\n",
    "\n",
    "    X_train, X_test, y_train, y_test = train_test_split(X, y, test_size=0.2, random_state=42)\n",
    "\n",
    "    N = len(X_train)\n",
    "    beta1 = (N * np.sum(X_train * y_train) - np.sum(X_train) * np.sum(y_train)) / (N * np.sum(X_train ** 2) - (np.sum(X_train)) ** 2)\n",
    "    beta0 = (np.sum(y_train) - beta1 * np.sum(X_train)) / N\n",
    "\n",
    "    y_pred_train = beta1 * X_train + beta0\n",
    "    y_pred_test = beta1 * X_test + beta0\n",
    "\n",
    "    plt.figure(figsize=(8, 5))\n",
    "    plt.scatter(X_train, y_train, color='blue', label='Train Data')\n",
    "    plt.scatter(X_test, y_test, color='green', label='Test Data')\n",
    "    x_line = np.linspace(min(X.min(), X_test.min()), max(X.max(), X_test.max()), 100)\n",
    "    y_line = beta1 * x_line + beta0\n",
    "    plt.plot(x_line, y_line, color='red', linewidth=2, label='Fitted Line')\n",
    "    plt.xlabel(colX)\n",
    "    plt.ylabel('Y house price of unit area')\n",
    "    plt.title(f'Linear Regression: {colX} vs Y')\n",
    "    plt.legend()\n",
    "    plt.grid(True)\n",
    "    plt.show()\n",
    "\n",
    "    mse_train = np.mean((y_train - beta1 * X_train - beta0) ** 2)\n",
    "    mse_test = np.mean((y_test - beta1 * X_test - beta0) ** 2)\n",
    "\n",
    "    return mse_train, mse_test"
   ]
  },
  {
   "cell_type": "code",
   "execution_count": null,
   "id": "341f4931-35d0-4a8b-a971-81e2376ad1a1",
   "metadata": {},
   "outputs": [],
   "source": [
    "mse1 = lin_reg('X3 distance to the nearest MRT station')\n",
    "mse2 = lin_reg('X5 latitude')\n",
    "mse3 = lin_reg('X6 longitude')"
   ]
  },
  {
   "cell_type": "code",
   "execution_count": null,
   "id": "6e5e18a2-00bf-4443-900d-b470ff4bd150",
   "metadata": {},
   "outputs": [],
   "source": [
    "print(mse1)\n",
    "print(mse2)\n",
    "print(mse3)"
   ]
  }
 ],
 "metadata": {
  "kernelspec": {
   "display_name": "Python 3 (ipykernel)",
   "language": "python",
   "name": "python3"
  },
  "language_info": {
   "codemirror_mode": {
    "name": "ipython",
    "version": 3
   },
   "file_extension": ".py",
   "mimetype": "text/x-python",
   "name": "python",
   "nbconvert_exporter": "python",
   "pygments_lexer": "ipython3",
   "version": "3.12.4"
  }
 },
 "nbformat": 4,
 "nbformat_minor": 5
}
