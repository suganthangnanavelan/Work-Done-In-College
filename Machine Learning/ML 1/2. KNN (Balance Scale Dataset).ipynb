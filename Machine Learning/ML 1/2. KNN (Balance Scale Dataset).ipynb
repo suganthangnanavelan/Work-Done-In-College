{
 "cells": [
  {
   "cell_type": "code",
   "execution_count": null,
   "id": "b4a8b5dc",
   "metadata": {},
   "outputs": [],
   "source": [
    "import numpy as np\n",
    "import pandas as pd\n",
    "import matplotlib.pyplot as plt\n",
    "import sklearn\n",
    "from sklearn.neighbors import KNeighborsClassifier\n",
    "from sklearn.model_selection import train_test_split\n",
    "from sklearn import metrics\n",
    "from sklearn.preprocessing import StandardScaler"
   ]
  },
  {
   "cell_type": "code",
   "execution_count": null,
   "id": "1c308767",
   "metadata": {},
   "outputs": [],
   "source": [
    "cols = ['class name','left-weight','left-distance','right-weight','right-distance']\n",
    "df = pd.read_csv('data/balance-scale.txt', delimiter=',', names=cols)\n",
    "print(\"Shape:\", df.shape)\n",
    "df.head()"
   ]
  },
  {
   "cell_type": "code",
   "execution_count": null,
   "id": "c5dc6788-f131-4b3e-8b39-0f83c117e2cd",
   "metadata": {},
   "outputs": [],
   "source": [
    "features = ['left-weight', 'left-distance', 'right-weight', 'right-distance']\n",
    "x = df.loc[:, features]\n",
    "y = df.loc[:, 'class name']"
   ]
  },
  {
   "cell_type": "code",
   "execution_count": null,
   "id": "59450a6f-db40-4b8c-b294-d427f0792c26",
   "metadata": {},
   "outputs": [],
   "source": [
    "x = StandardScaler().fit_transform(x)\n",
    "X_train, X_test, y_train, y_test = train_test_split(x, y, test_size=0.4, \n",
    "                                                    random_state=4)\n",
    "print (X_train.shape)\n",
    "print (X_test.shape)\n",
    "knn = KNeighborsClassifier(n_neighbors=15)\n",
    "knn.fit(X_train, y_train)                  "
   ]
  },
  {
   "cell_type": "code",
   "execution_count": null,
   "id": "22e96c2a",
   "metadata": {},
   "outputs": [],
   "source": [
    "y_pred = knn.predict(np.array([1,1,1,1]).reshape(1, -1))[0]\n",
    "print(\"Class Predicted [1,1,1,1]:\", y_pred)"
   ]
  },
  {
   "cell_type": "code",
   "execution_count": null,
   "id": "366c003d",
   "metadata": {},
   "outputs": [],
   "source": [
    "y_pred = knn.predict(X_test)\n",
    "print(\"Accuracy:\", metrics.accuracy_score(y_test, y_pred))"
   ]
  },
  {
   "cell_type": "code",
   "execution_count": null,
   "id": "517c6e56-afc6-481c-a48c-b1a0435537bd",
   "metadata": {},
   "outputs": [],
   "source": [
    "cm = metrics.confusion_matrix(y_test, knn.predict(X_test))\n",
    "metrics.ConfusionMatrixDisplay(cm, display_labels=['B','L','R']).plot()\n",
    "plt.show()"
   ]
  }
 ],
 "metadata": {
  "kernelspec": {
   "display_name": "Python 3 (ipykernel)",
   "language": "python",
   "name": "python3"
  },
  "language_info": {
   "codemirror_mode": {
    "name": "ipython",
    "version": 3
   },
   "file_extension": ".py",
   "mimetype": "text/x-python",
   "name": "python",
   "nbconvert_exporter": "python",
   "pygments_lexer": "ipython3",
   "version": "3.12.4"
  }
 },
 "nbformat": 4,
 "nbformat_minor": 5
}
