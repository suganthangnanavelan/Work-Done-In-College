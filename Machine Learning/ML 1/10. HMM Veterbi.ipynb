{
 "cells": [
  {
   "cell_type": "code",
   "execution_count": null,
   "metadata": {},
   "outputs": [],
   "source": [
    "transition = {\"AtoA\": 0.7, \"AtoB\": 0.3, \"BtoA\": 0.5, \"BtoB\": 0.5}\n",
    "emission = {\"A\": {\"S1\": 0.6, \"S2\": 0.1, \"S3\": 0.3}, \"B\": {\"S1\": 0.1, \"S2\": 0.7, \"S3\": 0.2}}\n",
    "pi = (1, 0)\n",
    "\n",
    "a, b = pi\n",
    "alpha1, alpha2 = [a], [b]\n",
    "\n",
    "for obs in [\"S3\", \"S2\", \"S1\"]:\n",
    "    a_new = (a * transition[\"AtoA\"] * emission[\"A\"][obs] + \n",
    "             b * transition[\"BtoA\"] * emission[\"B\"][obs])\n",
    "    b_new = (a * transition[\"AtoB\"] * emission[\"A\"][obs] + \n",
    "             b * transition[\"BtoB\"] * emission[\"B\"][obs])\n",
    "    a, b = a_new, b_new\n",
    "    alpha1.append(a)\n",
    "    alpha2.append(b)\n",
    "    if obs == \"S1\":\n",
    "        print(\"Using Forward Chaining:\", round(a + b, 4))\n",
    "\n",
    "print(alpha1, \"\\n\", alpha2)\n"
   ]
  },
  {
   "cell_type": "code",
   "execution_count": null,
   "metadata": {},
   "outputs": [],
   "source": [
    "transition = {\"AtoA\": 0.7, \"AtoB\": 0.3, \"BtoA\": 0.5, \"BtoB\": 0.5}\n",
    "emission = {\"A\": {\"S1\": 0.6, \"S2\": 0.1, \"S3\": 0.3}, \"B\": {\"S1\": 0.1, \"S2\": 0.7, \"S3\": 0.2}}\n",
    "pi = (1, 1)\n",
    "\n",
    "a, b = pi\n",
    "beta1, beta2 = [], []\n",
    "\n",
    "for obs in reversed([\"S3\", \"S2\", \"S1\"]):\n",
    "    a_new = (a * transition[\"AtoA\"] * emission[\"A\"][obs] +\n",
    "             b * transition[\"AtoB\"] * emission[\"A\"][obs])\n",
    "    b_new = (a * transition[\"BtoA\"] * emission[\"B\"][obs] +\n",
    "             b * transition[\"BtoB\"] * emission[\"B\"][obs])\n",
    "    a, b = a_new, b_new\n",
    "    beta1.append(a)\n",
    "    beta2.append(b)\n",
    "    if obs == \"S3\":\n",
    "        print(\"Using Backward Chaining:\", round(a, 4))\n",
    "\n",
    "print(beta1, \"\\n\", beta2)"
   ]
  },
  {
   "cell_type": "code",
   "execution_count": null,
   "metadata": {},
   "outputs": [],
   "source": [
    "transition = {\"AtoA\": 0.7, \"AtoB\": 0.3, \"BtoA\": 0.5, \"BtoB\": 0.5}\n",
    "emission = {\"A\": {\"S1\": 0.6, \"S2\": 0.1, \"S3\": 0.3}, \"B\": {\"S1\": 0.1, \"S2\": 0.7, \"S3\": 0.2}}\n",
    "pi = (1, 0)\n",
    "\n",
    "a, b = pi\n",
    "delta1, delta2, chi = [a], [b], []\n",
    "\n",
    "for obs in [\"S3\", \"S2\", \"S1\"]:\n",
    "    a_new = max(a * transition[\"AtoA\"] * emission[\"A\"][obs],\n",
    "                b * transition[\"BtoA\"] * emission[\"B\"][obs])\n",
    "    b_new = max(a * transition[\"AtoB\"] * emission[\"A\"][obs],\n",
    "                b * transition[\"BtoB\"] * emission[\"B\"][obs])\n",
    "    \n",
    "    chi.append('A' if a_new > b_new else 'B')\n",
    "    a, b = a_new, b_new\n",
    "    delta1.append(a)\n",
    "    delta2.append(b)\n",
    "\n",
    "    if obs == \"S1\":\n",
    "        print(\"Using Viterbi Algorithm:\", round(max(a, b), 4))\n",
    "        print(\"Best Sequence:\")\n",
    "        print('->'.join(chi + [chi[-1]]))  # printing path\n",
    "\n",
    "print(delta1)\n",
    "print(delta2)"
   ]
  },
  {
   "cell_type": "code",
   "execution_count": null,
   "metadata": {
    "colab": {
     "base_uri": "https://localhost:8080/",
     "height": 513
    },
    "id": "qBU_NokB_679",
    "outputId": "d3b086cb-92d6-4941-de26-137888b1a2d1"
   },
   "outputs": [],
   "source": [
    "import networkx as nx\n",
    "import matplotlib.pyplot as plt\n",
    "\n",
    "states = ['A', 'B']\n",
    "observations = ['S1', 'S2', 'S3']\n",
    "\n",
    "graph = nx.DiGraph()\n",
    "\n",
    "for from_state in states:\n",
    "    for to_state in states:\n",
    "        graph.add_edge(from_state, to_state, weight=transition[from_state + 'to' + to_state],\n",
    "                       label=str(transition[from_state + 'to' + to_state]))\n",
    "    for obs in observations:\n",
    "        graph.add_edge(from_state, obs, weight=emission[from_state][obs],\n",
    "                       label=str(emission[from_state][obs]), style='dashed')\n",
    "\n",
    "pos = nx.spring_layout(graph)\n",
    "nx.draw(graph, pos, with_labels=True, node_size=1500, node_color=\"skyblue\", font_size=12, font_weight='bold')\n",
    "nx.draw_networkx_edge_labels(graph, pos, edge_labels=nx.get_edge_attributes(graph, 'label'), font_size=10)\n",
    "\n",
    "plt.title(\"Hidden Markov Model\")\n",
    "plt.show()"
   ]
  }
 ],
 "metadata": {
  "colab": {
   "provenance": []
  },
  "kernelspec": {
   "display_name": "Python 3 (ipykernel)",
   "language": "python",
   "name": "python3"
  },
  "language_info": {
   "codemirror_mode": {
    "name": "ipython",
    "version": 3
   },
   "file_extension": ".py",
   "mimetype": "text/x-python",
   "name": "python",
   "nbconvert_exporter": "python",
   "pygments_lexer": "ipython3",
   "version": "3.12.4"
  }
 },
 "nbformat": 4,
 "nbformat_minor": 4
}
