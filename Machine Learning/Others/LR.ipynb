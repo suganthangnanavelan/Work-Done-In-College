{
 "cells": [
  {
   "cell_type": "code",
   "execution_count": null,
   "id": "99ea2146-3157-4adc-b656-2f01685a91eb",
   "metadata": {},
   "outputs": [],
   "source": [
    "import pandas as pd\n",
    "import numpy as np\n",
    "from sklearn.model_selection import train_test_split\n",
    "from sklearn.linear_model import LinearRegression\n",
    "from sklearn.decomposition import PCA\n",
    "from sklearn.metrics import mean_squared_error\n",
    "\n",
    "# Load the dataset\n",
    "data = pd.read_csv('/mnt/data/Q4 LR.csv')\n",
    "\n",
    "# Assuming the last column is the target variable\n",
    "y = data.iloc[:, -1]\n",
    "X = data.iloc[:, :-1]\n",
    "\n",
    "# Split into training and testing sets\n",
    "X_train, X_test, y_train, y_test = train_test_split(X, y, test_size=0.2, random_state=42)\n",
    "\n",
    "# Linear Regression without PCA\n",
    "lr = LinearRegression()\n",
    "lr.fit(X_train, y_train)\n",
    "y_pred = lr.predict(X_test)\n",
    "mse_without_pca = mean_squared_error(y_test, y_pred)\n",
    "print(f'MSE without PCA: {mse_without_pca}')\n",
    "\n",
    "# Applying PCA (reducing to 2 principal components for simplicity)\n",
    "pca = PCA(n_components=2)\n",
    "X_train_pca = pca.fit_transform(X_train)\n",
    "X_test_pca = pca.transform(X_test)\n",
    "\n",
    "# Linear Regression with PCA\n",
    "lr_pca = LinearRegression()\n",
    "lr_pca.fit(X_train_pca, y_train)\n",
    "y_pred_pca = lr_pca.predict(X_test_pca)\n",
    "mse_with_pca = mean_squared_error(y_test, y_pred_pca)\n",
    "print(f'MSE with PCA: {mse_with_pca}')\n"
   ]
  }
 ],
 "metadata": {
  "kernelspec": {
   "display_name": "Python 3 (ipykernel)",
   "language": "python",
   "name": "python3"
  },
  "language_info": {
   "codemirror_mode": {
    "name": "ipython",
    "version": 3
   },
   "file_extension": ".py",
   "mimetype": "text/x-python",
   "name": "python",
   "nbconvert_exporter": "python",
   "pygments_lexer": "ipython3",
   "version": "3.12.4"
  }
 },
 "nbformat": 4,
 "nbformat_minor": 5
}
