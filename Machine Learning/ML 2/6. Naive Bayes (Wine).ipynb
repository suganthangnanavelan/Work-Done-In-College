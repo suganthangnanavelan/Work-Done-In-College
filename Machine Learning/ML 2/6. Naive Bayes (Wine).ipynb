{
 "cells": [
  {
   "cell_type": "code",
   "execution_count": null,
   "metadata": {
    "colab": {
     "base_uri": "https://localhost:8080/",
     "height": 468
    },
    "executionInfo": {
     "elapsed": 35,
     "status": "ok",
     "timestamp": 1740464645333,
     "user": {
      "displayName": "Jaison A",
      "userId": "07006398627763032071"
     },
     "user_tz": -330
    },
    "id": "v_4SXAGau-F-",
    "outputId": "a4d3c4c5-4e90-4d7c-d82e-743600472c63"
   },
   "outputs": [],
   "source": [
    "from sklearn import datasets\n",
    "from sklearn.metrics import confusion_matrix\n",
    "from sklearn.model_selection import train_test_split\n",
    "win = datasets.load_wine()\n",
    "X = win.data\n",
    "display(X)\n",
    "y = win.target\n",
    "display(y)\n",
    "\n",
    "X_train, X_test, y_train, y_test = train_test_split(X, y, random_state =0)\n",
    "from sklearn.naive_bayes import GaussianNB\n",
    "gnb = GaussianNB().fit(X_train, y_train)\n",
    "gnb_predictions = gnb.predict(X_test)\n",
    "accuracy = gnb.score(X_test, y_test)\n",
    "display(accuracy)\n",
    "cm = confusion_matrix(y_test, gnb_predictions)\n",
    "print(cm)"
   ]
  },
  {
   "cell_type": "code",
   "execution_count": null,
   "metadata": {
    "colab": {
     "base_uri": "https://localhost:8080/",
     "height": 989
    },
    "executionInfo": {
     "elapsed": 50,
     "status": "ok",
     "timestamp": 1740464655299,
     "user": {
      "displayName": "Jaison A",
      "userId": "07006398627763032071"
     },
     "user_tz": -330
    },
    "id": "EhHE3W9Rxlrr",
    "outputId": "cdb28b95-d0b8-496a-97c8-59190599363f"
   },
   "outputs": [],
   "source": [
    "win=datasets.load_wine()\n",
    "display(win)"
   ]
  }
 ],
 "metadata": {
  "colab": {
   "authorship_tag": "ABX9TyMW6RGa7T9gSVJv4lb9rc4X",
   "provenance": []
  },
  "kernelspec": {
   "display_name": "Python 3 (ipykernel)",
   "language": "python",
   "name": "python3"
  },
  "language_info": {
   "codemirror_mode": {
    "name": "ipython",
    "version": 3
   },
   "file_extension": ".py",
   "mimetype": "text/x-python",
   "name": "python",
   "nbconvert_exporter": "python",
   "pygments_lexer": "ipython3",
   "version": "3.12.4"
  }
 },
 "nbformat": 4,
 "nbformat_minor": 4
}
