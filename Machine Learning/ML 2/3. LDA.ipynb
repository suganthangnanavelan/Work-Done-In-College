{
 "cells": [
  {
   "cell_type": "markdown",
   "id": "0e55f86f-412e-466f-bba9-25f0f0e6a4cf",
   "metadata": {},
   "source": [
    "LDA- Linear Discriminant Analysis."
   ]
  },
  {
   "cell_type": "code",
   "execution_count": null,
   "id": "530aa877-bc4c-4705-9558-c3699fddcb48",
   "metadata": {},
   "outputs": [],
   "source": [
    "#required packages.\n",
    "\n",
    "import pandas as pd\n",
    "import matplotlib.pyplot as plt\n",
    "import seaborn as sns\n",
    "import numpy as np\n",
    "from sklearn.preprocessing import StandardScaler\n",
    "from sklearn.discriminant_analysis import LinearDiscriminantAnalysis as LDA"
   ]
  },
  {
   "cell_type": "code",
   "execution_count": null,
   "id": "dc60a6db-5b8e-4915-9d54-41fd24137b78",
   "metadata": {},
   "outputs": [],
   "source": [
    "#load dataset.\n",
    "\n",
    "df=pd.read_csv(\"E:/126156055/dataset.csv\",names=['class name',\"left-weight\",\"left-distance\",'right-weight','right-distance'])\n",
    "print(\"First Five rows : \\n\",df.head())\n",
    "print(\"\\nInfo : \\n\",df.info)\n",
    "print(\"\\nDescribe : \\n\",df.describe())"
   ]
  },
  {
   "cell_type": "code",
   "execution_count": null,
   "id": "65db7f61-68a6-44e1-8cc7-59d4598ea56a",
   "metadata": {},
   "outputs": [],
   "source": [
    "features=[\"left-weight\",\"left-distance\",'right-weight','right-distance']\n",
    "x=df.loc[:,features]\n",
    "x"
   ]
  },
  {
   "cell_type": "code",
   "execution_count": null,
   "id": "07a4edf8-e592-4ccb-b433-17f2054b5a60",
   "metadata": {},
   "outputs": [],
   "source": [
    "y=df.loc[:,'class name']\n",
    "y"
   ]
  },
  {
   "cell_type": "code",
   "execution_count": null,
   "id": "4888333a-ac2c-4310-ad2f-6cf3786cbcf6",
   "metadata": {},
   "outputs": [],
   "source": [
    "lda=LDA(n_components=2)\n",
    "lda"
   ]
  },
  {
   "cell_type": "code",
   "execution_count": null,
   "id": "c6904766-9fea-4f83-8fe8-9b225f118afe",
   "metadata": {},
   "outputs": [],
   "source": [
    "lda_x=lda.fit(x,y).transform(x)\n",
    "lda_x"
   ]
  },
  {
   "cell_type": "code",
   "execution_count": null,
   "id": "94165d9a-5825-4b5b-804b-4a41b9353f9e",
   "metadata": {},
   "outputs": [],
   "source": [
    "plt.scatter(lda_x[y == 'L', 0], lda_x[y == 'L', 1], s =50, c = 'orange',label = 'L')\n",
    "plt.scatter(lda_x[y == 'B', 0], lda_x[y == 'B', 1], s =50, c = 'blue',label = 'B')\n",
    "plt.scatter(lda_x[y == 'R', 0], lda_x[y == 'R', 1], s =50, c = 'green',label = 'R')\n",
    "plt.title('LDA plot for cmc DataSet')\n",
    "plt.show()"
   ]
  },
  {
   "cell_type": "code",
   "execution_count": null,
   "id": "7c0f9c23-7a44-4194-b5dd-5c6524b44bb9",
   "metadata": {},
   "outputs": [],
   "source": []
  }
 ],
 "metadata": {
  "kernelspec": {
   "display_name": "Python 3 (ipykernel)",
   "language": "python",
   "name": "python3"
  },
  "language_info": {
   "codemirror_mode": {
    "name": "ipython",
    "version": 3
   },
   "file_extension": ".py",
   "mimetype": "text/x-python",
   "name": "python",
   "nbconvert_exporter": "python",
   "pygments_lexer": "ipython3",
   "version": "3.12.4"
  }
 },
 "nbformat": 4,
 "nbformat_minor": 5
}
