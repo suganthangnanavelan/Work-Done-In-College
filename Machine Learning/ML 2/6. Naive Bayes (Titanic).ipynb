{
 "cells": [
  {
   "cell_type": "markdown",
   "metadata": {
    "id": "ZiSQi85mwJak"
   },
   "source": [
    "## ***Reqiuired Packages***"
   ]
  },
  {
   "cell_type": "code",
   "execution_count": null,
   "metadata": {
    "executionInfo": {
     "elapsed": 6,
     "status": "ok",
     "timestamp": 1740466961205,
     "user": {
      "displayName": "Jaison A",
      "userId": "07006398627763032071"
     },
     "user_tz": -330
    },
    "id": "s0sHSKMhwF4e"
   },
   "outputs": [],
   "source": [
    "import pandas as pd\n",
    "import numpy as np\n",
    "from sklearn.model_selection import train_test_split\n",
    "from sklearn.metrics import confusion_matrix\n",
    "from sklearn.preprocessing import LabelEncoder\n"
   ]
  },
  {
   "cell_type": "markdown",
   "metadata": {
    "id": "xNrDbVDgwSc0"
   },
   "source": [
    "## ***Load Dataset***"
   ]
  },
  {
   "cell_type": "code",
   "execution_count": null,
   "metadata": {
    "colab": {
     "base_uri": "https://localhost:8080/"
    },
    "executionInfo": {
     "elapsed": 1905,
     "status": "ok",
     "timestamp": 1740466963116,
     "user": {
      "displayName": "Jaison A",
      "userId": "07006398627763032071"
     },
     "user_tz": -330
    },
    "id": "MtmRoNj4wYOr",
    "outputId": "0dc7b706-181e-4bb2-f37e-9fd1f7220c51"
   },
   "outputs": [],
   "source": [
    "from google.colab import drive\n",
    "drive.mount('/content/drive')"
   ]
  },
  {
   "cell_type": "markdown",
   "metadata": {
    "id": "_lLnxu9a4vsX"
   },
   "source": [
    "## ***Create Input Data and Output Data***"
   ]
  },
  {
   "cell_type": "code",
   "execution_count": null,
   "metadata": {
    "colab": {
     "base_uri": "https://localhost:8080/",
     "height": 1000
    },
    "executionInfo": {
     "elapsed": 123,
     "status": "ok",
     "timestamp": 1740466963241,
     "user": {
      "displayName": "Jaison A",
      "userId": "07006398627763032071"
     },
     "user_tz": -330
    },
    "id": "g99uRIRSxLer",
    "outputId": "250bfcff-a08d-420a-b72d-c297f9108cb2"
   },
   "outputs": [],
   "source": [
    "data=pd.read_csv('/content/drive/MyDrive/sem 6/Lab/ML Lab/Lab 6/titanic.csv')\n",
    "display(data.head())\n",
    "\n",
    "\n",
    "inputs=data.get(['Pclass','Sex','Age','SibSp','Fare','Cabin','Parch'])\n",
    "\n",
    "\n",
    "inputs['Sex'].replace(['male','female'],[1,2],inplace=True)\n",
    "\n",
    "le=LabelEncoder()\n",
    "inputs['Cabin']=le.fit_transform(inputs['Cabin'].astype(str))\n",
    "#inputs['Embarked']=le.fit_transform(inputs['Embarked'].astype(str))\n",
    "inputs['Age'].fillna(inputs['Age'].mean(),inplace=True)\n",
    "inputs['Cabin'].fillna(inputs['Cabin'].mean(),inplace=True)\n",
    "#inputs['Embarked'].fillna(inputs['Embarked'].mean(),inplace=True)\n",
    "display(inputs.head())\n",
    "\n",
    "\n",
    "targets=data.get(['Survived'])\n",
    "display(targets)"
   ]
  },
  {
   "cell_type": "markdown",
   "metadata": {
    "id": "xRVUOPSQ41xw"
   },
   "source": [
    "## ***Perform Naive Bayes***"
   ]
  },
  {
   "cell_type": "code",
   "execution_count": null,
   "metadata": {
    "colab": {
     "base_uri": "https://localhost:8080/"
    },
    "executionInfo": {
     "elapsed": 9,
     "status": "ok",
     "timestamp": 1740466963249,
     "user": {
      "displayName": "Jaison A",
      "userId": "07006398627763032071"
     },
     "user_tz": -330
    },
    "id": "fjoKWEbI4e_H",
    "outputId": "a5bb1d20-21ea-4f32-9c46-5a2f91abee91"
   },
   "outputs": [],
   "source": [
    "X=inputs\n",
    "y=targets\n",
    "\n",
    "X_train, X_test, y_train, y_test = train_test_split(X, y,test_size=0.3, random_state =42)\n",
    "from sklearn.naive_bayes import GaussianNB\n",
    "gnb = GaussianNB().fit(X_train, y_train)\n",
    "gnb_predictions = gnb.predict(X_test)\n",
    "accuracy = gnb.score(X_test, y_test)\n",
    "print(f'Accuracy : {accuracy}')\n",
    "cm = confusion_matrix(y_test, gnb_predictions)\n",
    "print(f'\\n\\nConfusion Matrix : \\n{cm}')"
   ]
  }
 ],
 "metadata": {
  "colab": {
   "authorship_tag": "ABX9TyP8FfIQ/MJ/dOh6Q/ByMUQd",
   "provenance": []
  },
  "kernelspec": {
   "display_name": "Python 3 (ipykernel)",
   "language": "python",
   "name": "python3"
  },
  "language_info": {
   "codemirror_mode": {
    "name": "ipython",
    "version": 3
   },
   "file_extension": ".py",
   "mimetype": "text/x-python",
   "name": "python",
   "nbconvert_exporter": "python",
   "pygments_lexer": "ipython3",
   "version": "3.12.4"
  }
 },
 "nbformat": 4,
 "nbformat_minor": 4
}
