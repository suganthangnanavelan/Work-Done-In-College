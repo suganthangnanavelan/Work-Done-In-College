{
 "cells": [
  {
   "cell_type": "code",
   "execution_count": null,
   "metadata": {
    "executionInfo": {
     "elapsed": 9,
     "status": "ok",
     "timestamp": 1740322226638,
     "user": {
      "displayName": "Jaison A",
      "userId": "07006398627763032071"
     },
     "user_tz": -330
    },
    "id": "bbUA3qg5SCrE"
   },
   "outputs": [],
   "source": [
    "import pandas as pd\n",
    "from sklearn.preprocessing import StandardScaler\n",
    "from sklearn.neighbors import KNeighborsClassifier\n",
    "from sklearn.model_selection import train_test_split\n",
    "from sklearn.metrics import accuracy_score,classification_report"
   ]
  },
  {
   "cell_type": "code",
   "execution_count": null,
   "metadata": {
    "colab": {
     "base_uri": "https://localhost:8080/",
     "height": 327
    },
    "executionInfo": {
     "elapsed": 97,
     "status": "ok",
     "timestamp": 1740322228224,
     "user": {
      "displayName": "Jaison A",
      "userId": "07006398627763032071"
     },
     "user_tz": -330
    },
    "id": "hNhWJ01kSF2W",
    "outputId": "9a86b0be-6836-4b37-9ed9-1e8593126884"
   },
   "outputs": [],
   "source": [
    "data2=pd.read_csv('/content/dataset2.csv',names=['Class name','Left weight','Left distance','Right weight','Right distance'])\n",
    "display(data2.head())\n",
    "\n",
    "x=data2.loc[:,['Left weight','Left distance','Right weight','Right distance']]  #input features.\n",
    "y=data2.loc[:,'Class name'] #output feature.\n",
    "\n",
    "Standardized_x=StandardScaler().fit_transform(x)#statndardize the dataset.\n",
    "display(Standardized_x)\n",
    "\n",
    "X_train,X_test,y_train,y_test=train_test_split(Standardized_x,y,test_size=0.4,random_state=4)#split data for training and prediction.\n"
   ]
  },
  {
   "cell_type": "code",
   "execution_count": null,
   "metadata": {
    "colab": {
     "base_uri": "https://localhost:8080/"
    },
    "executionInfo": {
     "elapsed": 17,
     "status": "ok",
     "timestamp": 1740322230944,
     "user": {
      "displayName": "Jaison A",
      "userId": "07006398627763032071"
     },
     "user_tz": -330
    },
    "id": "7eEwp2cZSI8M",
    "outputId": "3f03a6b2-b582-4d6b-abbb-5fd695636f71"
   },
   "outputs": [],
   "source": [
    "# shape of each terms.\n",
    "\n",
    "print(\"Shape of X_train : \",X_train.shape)\n",
    "print(\"Shape of y_train : \",y_train.shape)\n",
    "print(\"Shape of X_test : \",X_test.shape)\n",
    "print(\"Shape of y_test : \",y_test.shape)"
   ]
  },
  {
   "cell_type": "code",
   "execution_count": null,
   "metadata": {
    "colab": {
     "base_uri": "https://localhost:8080/"
    },
    "executionInfo": {
     "elapsed": 11,
     "status": "ok",
     "timestamp": 1740322232987,
     "user": {
      "displayName": "Jaison A",
      "userId": "07006398627763032071"
     },
     "user_tz": -330
    },
    "id": "iXrVxshWSK2Y",
    "outputId": "be67027b-e257-43dc-c8b3-125d12de519a"
   },
   "outputs": [],
   "source": [
    "knn=KNeighborsClassifier(n_neighbors=15)  #n_neighbors indicates no of clusters to be formed.\n",
    "knn.fit(X_train,y_train)  #training the knn model with training data.\n",
    "\n",
    "y_pred=knn.predict(X_test)  #prediction using test data.\n",
    "print(f\"Accuracy Score : {accuracy_score(y_test,y_pred)}\")  #comparing original output with predicted output.\n",
    "print(\"\\n\\nClassification Report : \\n\",classification_report(y_test,y_pred,zero_division=0))  #classification report."
   ]
  }
 ],
 "metadata": {
  "colab": {
   "authorship_tag": "ABX9TyOAjGoDOV/8NCJ7O3AdF9qL",
   "provenance": []
  },
  "kernelspec": {
   "display_name": "Python 3 (ipykernel)",
   "language": "python",
   "name": "python3"
  },
  "language_info": {
   "codemirror_mode": {
    "name": "ipython",
    "version": 3
   },
   "file_extension": ".py",
   "mimetype": "text/x-python",
   "name": "python",
   "nbconvert_exporter": "python",
   "pygments_lexer": "ipython3",
   "version": "3.12.4"
  }
 },
 "nbformat": 4,
 "nbformat_minor": 4
}
