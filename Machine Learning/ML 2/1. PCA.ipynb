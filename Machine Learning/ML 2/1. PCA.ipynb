{
 "cells": [
  {
   "cell_type": "markdown",
   "id": "cfbb1d58-7c8f-4a0c-b6e2-914469a7e49d",
   "metadata": {},
   "source": [
    "Principal Component Analysis & Exploratory Data Analysis"
   ]
  },
  {
   "cell_type": "code",
   "execution_count": null,
   "id": "d3b0a49d-a326-4bb3-b868-cfeaaaa50d3e",
   "metadata": {},
   "outputs": [],
   "source": [
    "#required packages.\n",
    "\n",
    "import pandas as pd\n",
    "import matplotlib.pyplot as plt\n",
    "import numpy as np\n",
    "from sklearn.preprocessing import StandardScaler\n",
    "from sklearn.decomposition import PCA"
   ]
  },
  {
   "cell_type": "code",
   "execution_count": null,
   "id": "e1c8f709-35bc-4eec-987e-cd1e6780d877",
   "metadata": {},
   "outputs": [],
   "source": [
    "#Load dataset, print few rows, get info, describe dataset.\n",
    "\n",
    "df=pd.read_csv(\"E:/126156055/dataset_ex_1.csv\",names=[\"class name\",'left-weight','left-distance','right-weight','right-distance'])\n",
    "print(\"First Five rows : \\n\",df.head())\n",
    "print(\"\\nInfo : \\n\",df.info)\n",
    "print(\"\\nDescribe : \\n\",df.describe())"
   ]
  },
  {
   "cell_type": "markdown",
   "id": "ee7c0104-4a32-4c28-b3fc-080c77461100",
   "metadata": {},
   "source": [
    "PCA"
   ]
  },
  {
   "cell_type": "code",
   "execution_count": null,
   "id": "6af99020-e017-478a-9e18-ed098f4167ed",
   "metadata": {},
   "outputs": [],
   "source": [
    "features=['left-weight','left-distance','right-weight','right-distance']\n",
    "x=df.loc[:,features]\n",
    "y=df.loc[:,'class name']\n",
    "x=StandardScaler().fit_transform(x)\n",
    "x"
   ]
  },
  {
   "cell_type": "code",
   "execution_count": null,
   "id": "ff575de1-483a-48c2-be39-2cf91b082aff",
   "metadata": {},
   "outputs": [],
   "source": [
    "pca=PCA(n_components=2)\n",
    "pca_x=pca.fit_transform(x)\n",
    "pca_x"
   ]
  },
  {
   "cell_type": "code",
   "execution_count": null,
   "id": "9f7d8296-1c1e-47ed-a2c5-cf499423dbfa",
   "metadata": {},
   "outputs": [],
   "source": [
    "principal_df=pd.DataFrame(pca_x,columns=['pc1','pc2'])\n",
    "principal_df"
   ]
  },
  {
   "cell_type": "code",
   "execution_count": null,
   "id": "f1481c63-6fbf-4028-a88f-3ef492e44119",
   "metadata": {},
   "outputs": [],
   "source": [
    "final_df=pd.concat([principal_df,df['class name']],axis=1)\n",
    "final_df"
   ]
  },
  {
   "cell_type": "code",
   "execution_count": null,
   "id": "72d8f4bc-0db2-4a1a-bac2-403455b6b3a3",
   "metadata": {},
   "outputs": [],
   "source": [
    "plt.xlabel(\"Component 1\")\n",
    "plt.ylabel(\"Component 2\")\n",
    "plt.title(\"2 Component PCA\")\n",
    "targets=['L','B','R']\n",
    "colors=['r','g','b']\n",
    "for target,color in zip(targets,colors):\n",
    "    indicesToKeep=final_df['class name']==target\n",
    "    plt.scatter(final_df.loc[indicesToKeep,'pc1'],final_df.loc[indicesToKeep,\"pc2\"],c=color,s=20)\n",
    "\n",
    "plt.legend(targets)\n",
    "plt.grid()\n",
    "    "
   ]
  },
  {
   "cell_type": "markdown",
   "id": "58a3f3db-1a05-4dd7-b428-b28ef3061b3b",
   "metadata": {},
   "source": [
    "EDA"
   ]
  },
  {
   "cell_type": "code",
   "execution_count": null,
   "id": "9ad2b51e-4a22-4285-959e-38d3c7ec55a0",
   "metadata": {},
   "outputs": [],
   "source": [
    "df2=df.copy()\n",
    "print(\"\\nShape : \",df2.shape)\n",
    "print('\\nColumns : ',df2.columns)\n",
    "print('\\nDtype : ',df2.dtypes)"
   ]
  }
 ],
 "metadata": {
  "kernelspec": {
   "display_name": "Python 3 (ipykernel)",
   "language": "python",
   "name": "python3"
  },
  "language_info": {
   "codemirror_mode": {
    "name": "ipython",
    "version": 3
   },
   "file_extension": ".py",
   "mimetype": "text/x-python",
   "name": "python",
   "nbconvert_exporter": "python",
   "pygments_lexer": "ipython3",
   "version": "3.12.4"
  }
 },
 "nbformat": 4,
 "nbformat_minor": 5
}
