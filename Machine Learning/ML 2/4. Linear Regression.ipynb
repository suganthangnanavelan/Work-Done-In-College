{
 "cells": [
  {
   "cell_type": "code",
   "execution_count": null,
   "id": "cb7109b3-2133-4346-99cd-af7ed09252be",
   "metadata": {},
   "outputs": [],
   "source": [
    "import sys\n",
    "import pandas as pd\n",
    "df2 = pd.read_csv (\"E:/126156055/dataset4.csv\")\n",
    "df2.to_csv ('machine.csv', index=None)\n",
    "x=df2.iloc[:,3:4].values\n",
    "y=df2.iloc[:,8].values\n",
    "\n",
    "\n",
    "from sklearn.model_selection import train_test_split\n",
    "X_train, X_test, y_train, y_test = train_test_split(x, y, test_size = 0.2,\n",
    "random_state = 0)\n",
    "from sklearn.linear_model import LinearRegression\n",
    "regressor = LinearRegression()\n",
    "regressor.fit(X_train, y_train)\n",
    "#LinearRegression(copy_X=True, fit_intercept=True, n_jobs=None,normalize=False)\n",
    "y_pred = regressor.predict(X_test)\n",
    "y_pred_train = regressor.predict(X_train)\n",
    "print(\"Model Score: \", regressor.score(X_test, y_test))\n",
    "from sklearn.metrics import r2_score\n",
    "print(\"R_square score: \", r2_score(y_test,y_pred))\n",
    "import matplotlib.pyplot as plt\n",
    "plt.scatter(X_train, y_train, color = 'red')\n",
    "plt.plot(X_train, regressor.predict(X_train), color = 'blue')\n",
    "plt.title('Y vs X (Training set)')\n",
    "plt.xlabel('X')\n",
    "plt.ylabel('Y')\n",
    "plt.show()\n",
    "plt.scatter(X_test, y_test, color = 'red')\n",
    "plt.plot(X_train, regressor.predict(X_train), color = 'blue')\n",
    "plt.title('Y vs X (Test set)')\n",
    "plt.xlabel('X')\n",
    "\n",
    "\n",
    "plt.ylabel('Y')\n",
    "plt.show()\n",
    "X_future_expereince = [[2],[4]]\n",
    "print (\"Prediction :\", regressor.predict(X_future_expereince))\n",
    "plt.scatter(X_future_expereince, regressor.predict(X_future_expereince),\n",
    "color = 'red')\n",
    "plt.plot(X_train, regressor.predict(X_train), color = 'blue')\n",
    "plt.title('Y vs X (Test set)')\n",
    "plt.xlabel('X')\n",
    "plt.ylabel('Y')\n",
    "plt.show()"
   ]
  },
  {
   "cell_type": "code",
   "execution_count": null,
   "id": "a39458d3-d8b7-44c9-8dfd-931a004a898a",
   "metadata": {},
   "outputs": [],
   "source": []
  }
 ],
 "metadata": {
  "kernelspec": {
   "display_name": "Python 3 (ipykernel)",
   "language": "python",
   "name": "python3"
  },
  "language_info": {
   "codemirror_mode": {
    "name": "ipython",
    "version": 3
   },
   "file_extension": ".py",
   "mimetype": "text/x-python",
   "name": "python",
   "nbconvert_exporter": "python",
   "pygments_lexer": "ipython3",
   "version": "3.12.4"
  }
 },
 "nbformat": 4,
 "nbformat_minor": 5
}
