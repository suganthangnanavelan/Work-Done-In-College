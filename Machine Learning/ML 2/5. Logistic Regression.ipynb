{
 "cells": [
  {
   "cell_type": "code",
   "execution_count": null,
   "id": "a305f157-3894-4887-a6e7-8f62d4269f69",
   "metadata": {},
   "outputs": [],
   "source": [
    "from sklearn import linear_model,datasets\n",
    "from sklearn.model_selection import train_test_split\n",
    "from sklearn.metrics import confusion_matrix\n",
    "import numpy as np\n",
    "import matplotlib.pyplot as plt\n",
    "import itertools"
   ]
  },
  {
   "cell_type": "code",
   "execution_count": null,
   "id": "edf3ad16-3eab-47e8-9424-155e2702f607",
   "metadata": {},
   "outputs": [],
   "source": [
    "win = datasets.load_wine()\n",
    "type(win)\n",
    "win.data[:5,:]"
   ]
  },
  {
   "cell_type": "code",
   "execution_count": null,
   "id": "1070132c-d4c7-474d-b569-481b63209e84",
   "metadata": {},
   "outputs": [],
   "source": [
    "print(type(win.feature_names))\n",
    "win.feature_names\n",
    "X_train,X_test,y_train,y_test =train_test_split(win.data,win.target,test_size=0.30,random_state=7)"
   ]
  },
  {
   "cell_type": "code",
   "execution_count": null,
   "id": "9b53bde4-67e3-45ff-a733-5d4856cc8a6a",
   "metadata": {},
   "outputs": [],
   "source": [
    "log_reg_model = linear_model.LogisticRegression()\n",
    "log_reg_model.fit(X_train,y_train)\n",
    "log_reg_base_score = log_reg_model.score(X_test,y_test)\n",
    "print(\"The score for the Logistic Regression Model is : \",log_reg_base_score)"
   ]
  },
  {
   "cell_type": "code",
   "execution_count": null,
   "id": "f9f0c932-0ea8-4c0d-9c09-fdf14b6b10d2",
   "metadata": {},
   "outputs": [],
   "source": [
    "cm = confusion_matrix(y_test,log_reg_model.predict(X_test))\n",
    "print(cm)\n",
    "X = win.data[:,:2]\n",
    "Y = win.target\n",
    "log_reg_model.fit(X,Y)\n",
    "x_min, x_max = X[:, 0].min() - .5, X[:, 0].max() + .5\n",
    "y_min, y_max = X[:, 1].min() - .5, X[:, 1].max() + .5\n",
    "xx, yy = np.meshgrid(np.arange(x_min, x_max, .01), np.arange(y_min, y_max,\n",
    ".01))\n",
    "Z = log_reg_model.predict(np.c_[xx.ravel(), yy.ravel()])\n",
    "Z = Z.reshape(xx.shape)\n",
    "plt.figure(1, figsize=(4, 3))\n",
    "plt.pcolormesh(xx, yy, Z, cmap=plt.cm.Paired)\n",
    "plt.scatter(X[:, 0], X[:, 1], c=Y, edgecolors='k', cmap=plt.cm.Paired)\n",
    "plt.xlabel('X')\n",
    "plt.ylabel('Y')\n",
    "plt.xlim(xx.min(), xx.max())\n",
    "plt.ylim(yy.min(), yy.max())\n",
    "plt.xticks(())\n",
    "plt.yticks(())\n",
    "plt.show()"
   ]
  },
  {
   "cell_type": "code",
   "execution_count": null,
   "id": "4739ed30-654d-4b0f-82eb-fafa8cf857d7",
   "metadata": {},
   "outputs": [],
   "source": []
  }
 ],
 "metadata": {
  "kernelspec": {
   "display_name": "Python 3 (ipykernel)",
   "language": "python",
   "name": "python3"
  },
  "language_info": {
   "codemirror_mode": {
    "name": "ipython",
    "version": 3
   },
   "file_extension": ".py",
   "mimetype": "text/x-python",
   "name": "python",
   "nbconvert_exporter": "python",
   "pygments_lexer": "ipython3",
   "version": "3.12.4"
  }
 },
 "nbformat": 4,
 "nbformat_minor": 5
}
