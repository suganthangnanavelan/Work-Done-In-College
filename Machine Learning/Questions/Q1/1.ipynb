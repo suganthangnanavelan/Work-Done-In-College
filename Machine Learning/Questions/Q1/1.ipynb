{
 "cells": [
  {
   "cell_type": "code",
   "execution_count": null,
   "id": "31067fce-1168-4c6e-97c2-bfc4fb40904b",
   "metadata": {},
   "outputs": [],
   "source": [
    "import pandas as pd\n",
    "import numpy as np\n",
    "import matplotlib.pyplot as plt\n",
    "import seaborn as sns\n",
    "from sklearn.decomposition import PCA\n",
    "from sklearn.linear_model import LinearRegression\n",
    "from sklearn.model_selection import train_test_split\n",
    "from sklearn.preprocessing import StandardScaler\n",
    "from sklearn.metrics import r2_score, mean_squared_error"
   ]
  },
  {
   "cell_type": "code",
   "execution_count": null,
   "id": "30e4ba93-9e95-4b51-a3e4-89931c193a3a",
   "metadata": {},
   "outputs": [],
   "source": [
    "file_path = \"airfoil_self_noise.dat\"\n",
    "columns = [\"Frequency\", \"Angle of Attack\", \"Chord Length\", \"Free-stream Velocity\", \"Suction Side Thickness\", \"Scaled SPL\"]\n",
    "df = pd.read_csv(file_path, sep=\"\\t\", header=None, names=columns)\n",
    "df.head()"
   ]
  },
  {
   "cell_type": "code",
   "execution_count": null,
   "id": "c99f7732-9da4-4f2e-8ad2-16722962c435",
   "metadata": {},
   "outputs": [],
   "source": [
    "df.columns = df.columns.str.strip()\n",
    "X = df.iloc[:, :-1].values  # Features\n",
    "y = df.iloc[:, -1].values   # Target"
   ]
  },
  {
   "cell_type": "code",
   "execution_count": null,
   "id": "15940be7-1bdd-497e-81b4-eccd14424881",
   "metadata": {},
   "outputs": [],
   "source": [
    "scaler = StandardScaler()\n",
    "X_scaled = scaler.fit_transform(X)\n",
    "\n",
    "pca = PCA(n_components=2)\n",
    "X_pca = pca.fit_transform(X_scaled)\n",
    "\n",
    "X_train, X_test, y_train, y_test = train_test_split(X_scaled, y, test_size=0.2, random_state=42)\n",
    "X_pca_train, X_pca_test, _, _ = train_test_split(X_pca, y, test_size=0.2, random_state=42)\n",
    "\n",
    "lr_original = LinearRegression()\n",
    "lr_original.fit(X_train, y_train)\n",
    "y_pred_original = lr_original.predict(X_test)\n",
    "\n",
    "lr_pca = LinearRegression()\n",
    "lr_pca.fit(X_pca_train, y_train)\n",
    "y_pred_pca = lr_pca.predict(X_pca_test)"
   ]
  },
  {
   "cell_type": "code",
   "execution_count": null,
   "id": "617f4fdf-6722-4caf-bef3-66240c3cbc0e",
   "metadata": {},
   "outputs": [],
   "source": [
    "print(\"R2 Original:\", r2_score(y_test, y_pred_original))\n",
    "print(\"RMSE Original:\", np.sqrt(mean_squared_error(y_test, y_pred_original)))\n",
    "print(\"R2 PCA:\", r2_score(y_test, y_pred_pca))\n",
    "print(\"RMSE PCA:\", np.sqrt(mean_squared_error(y_test, y_pred_pca)))"
   ]
  },
  {
   "cell_type": "code",
   "execution_count": null,
   "id": "83ed2bce-0dfe-4bc4-b24b-356113eb6be3",
   "metadata": {},
   "outputs": [],
   "source": [
    "plt.figure(figsize=(12, 5))\n",
    "\n",
    "plt.subplot(1, 2, 1)\n",
    "sns.scatterplot(x=y_test, y=y_pred_original, alpha=0.5)\n",
    "plt.plot([min(y_test), max(y_test)], [min(y_test), max(y_test)], '--', color='red')\n",
    "plt.xlabel(\"Actual\")\n",
    "plt.ylabel(\"Predicted\")\n",
    "plt.title(\"Linear Regression on Original Data\")\n",
    "\n",
    "plt.subplot(1, 2, 2)\n",
    "sns.scatterplot(x=y_test, y=y_pred_pca, alpha=0.5)\n",
    "plt.plot([min(y_test), max(y_test)], [min(y_test), max(y_test)], '--', color='red')\n",
    "plt.xlabel(\"Actual\")\n",
    "plt.ylabel(\"Predicted\")\n",
    "plt.title(\"Linear Regression on PCA-Reduced Data\")\n",
    "\n",
    "plt.tight_layout()\n",
    "plt.show()"
   ]
  }
 ],
 "metadata": {
  "kernelspec": {
   "display_name": "Python 3 (ipykernel)",
   "language": "python",
   "name": "python3"
  },
  "language_info": {
   "codemirror_mode": {
    "name": "ipython",
    "version": 3
   },
   "file_extension": ".py",
   "mimetype": "text/x-python",
   "name": "python",
   "nbconvert_exporter": "python",
   "pygments_lexer": "ipython3",
   "version": "3.12.4"
  }
 },
 "nbformat": 4,
 "nbformat_minor": 5
}
