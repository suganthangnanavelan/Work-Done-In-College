{
 "cells": [
  {
   "cell_type": "code",
   "execution_count": null,
   "id": "5bd9b810-1eef-4f1c-8b46-86e8e8f013d1",
   "metadata": {},
   "outputs": [],
   "source": [
    "import pandas as pd\n",
    "import numpy as np\n",
    "import matplotlib.pyplot as plt\n",
    "from sklearn.decomposition import PCA\n",
    "from sklearn.linear_model import LinearRegression\n",
    "from sklearn.model_selection import train_test_split\n",
    "from sklearn.preprocessing import StandardScaler\n",
    "from sklearn.metrics import r2_score, mean_squared_error"
   ]
  },
  {
   "cell_type": "code",
   "execution_count": null,
   "id": "733faa11-400f-4160-8292-e8bd90948264",
   "metadata": {},
   "outputs": [],
   "source": [
    "file_path = \"go_track_tracks.csv\"\n",
    "df = pd.read_csv(file_path)\n",
    "df.head()"
   ]
  },
  {
   "cell_type": "code",
   "execution_count": null,
   "id": "bd1254cc-242c-439b-9baf-8c0b08daf597",
   "metadata": {},
   "outputs": [],
   "source": [
    "df = df.select_dtypes(include=[np.number]).dropna()\n",
    "\n",
    "X = df.iloc[:, :-1].values  # Features\n",
    "y = df.iloc[:, -1].values   # Target\n",
    "\n",
    "scaler = StandardScaler()\n",
    "X_scaled = scaler.fit_transform(X)\n",
    "\n",
    "pca = PCA(n_components=2)\n",
    "X_pca = pca.fit_transform(X_scaled)\n",
    "\n",
    "X_train, X_test, y_train, y_test = train_test_split(X_scaled, y, test_size=0.2, random_state=42)\n",
    "X_pca_train, X_pca_test, _, _ = train_test_split(X_pca, y, test_size=0.2, random_state=42)\n",
    "\n",
    "lr_original = LinearRegression()\n",
    "lr_original.fit(X_train, y_train)\n",
    "y_pred_original = lr_original.predict(X_test)\n",
    "\n",
    "lr_pca = LinearRegression()\n",
    "lr_pca.fit(X_pca_train, y_train)\n",
    "y_pred_pca = lr_pca.predict(X_pca_test)"
   ]
  },
  {
   "cell_type": "code",
   "execution_count": null,
   "id": "e0116213-f55e-4512-95a0-e1983bddcd30",
   "metadata": {},
   "outputs": [],
   "source": [
    "r2_original = r2_score(y_test, y_pred_original)\n",
    "rmse_original = np.sqrt(mean_squared_error(y_test, y_pred_original))\n",
    "\n",
    "r2_pca = r2_score(y_test, y_pred_pca)\n",
    "rmse_pca = np.sqrt(mean_squared_error(y_test, y_pred_pca))\n",
    "\n",
    "print(\"R2 Original:\", r2_original)\n",
    "print(\"RMSE Original:\", rmse_original)\n",
    "print(\"R2 PCA:\", r2_pca)\n",
    "print(\"RMSE PCA:\", rmse_pca)"
   ]
  },
  {
   "cell_type": "code",
   "execution_count": null,
   "id": "ba2a1ef3-1554-4164-9966-3bc59fdb69e3",
   "metadata": {},
   "outputs": [],
   "source": [
    "plt.figure(figsize=(10, 5))\n",
    "\n",
    "plt.subplot(1, 2, 1)\n",
    "plt.scatter(y_test, y_pred_original, alpha=0.5)\n",
    "plt.plot([min(y_test), max(y_test)], [min(y_test), max(y_test)], '--', color='red')\n",
    "plt.xlabel(\"Actual\")\n",
    "plt.ylabel(\"Predicted\")\n",
    "plt.title(\"Linear Regression on Original Data\")\n",
    "\n",
    "plt.subplot(1, 2, 2)\n",
    "plt.scatter(y_test, y_pred_pca, alpha=0.5)\n",
    "plt.plot([min(y_test), max(y_test)], [min(y_test), max(y_test)], '--', color='red')\n",
    "plt.xlabel(\"Actual\")\n",
    "plt.ylabel(\"Predicted\")\n",
    "plt.title(\"Linear Regression on PCA-Reduced Data\")\n",
    "\n",
    "plt.tight_layout()\n",
    "plt.show()"
   ]
  }
 ],
 "metadata": {
  "kernelspec": {
   "display_name": "Python 3 (ipykernel)",
   "language": "python",
   "name": "python3"
  },
  "language_info": {
   "codemirror_mode": {
    "name": "ipython",
    "version": 3
   },
   "file_extension": ".py",
   "mimetype": "text/x-python",
   "name": "python",
   "nbconvert_exporter": "python",
   "pygments_lexer": "ipython3",
   "version": "3.12.4"
  }
 },
 "nbformat": 4,
 "nbformat_minor": 5
}
