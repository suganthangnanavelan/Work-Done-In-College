{
 "cells": [
  {
   "cell_type": "code",
   "execution_count": null,
   "id": "4be5c15a-adaa-4a0a-b378-c416ee136765",
   "metadata": {},
   "outputs": [],
   "source": [
    "import numpy as np\n",
    "import pandas as pd\n",
    "import networkx as network\n",
    "import matplotlib.pyplot as plot\n",
    "from hmmlearn.hmm import CategoricalHMM"
   ]
  },
  {
   "cell_type": "code",
   "execution_count": null,
   "id": "eebd9858-a356-448d-bc92-646a1871dd5a",
   "metadata": {},
   "outputs": [],
   "source": [
    "visibleStates = ['early', 'mid', 'late']\n",
    "hiddenStates = ['Genuine User', 'Intruder']\n",
    "\n",
    "hiddenInitial = [0.9, 0.1]\n",
    "visibleInitial = [0.33, 0.33, 0.33]\n",
    "\n",
    "hiddenTransition = pd.DataFrame([\n",
    "    [0.7, 0.3],\n",
    "    [0.4, 0.6]\n",
    "], columns=hiddenStates, index=hiddenStates)\n",
    "\n",
    "emissionMatrix = pd.DataFrame([\n",
    "    [0.8, 0.1, 0.1],\n",
    "    [0.1, 0.3, 0.6]\n",
    "], columns=visibleStates, index=hiddenStates)"
   ]
  },
  {
   "cell_type": "code",
   "execution_count": null,
   "id": "d2f7f001-0f8a-4c26-a457-4319606b41d6",
   "metadata": {},
   "outputs": [],
   "source": [
    "hiddenTransition"
   ]
  },
  {
   "cell_type": "code",
   "execution_count": null,
   "id": "a58b0543-e154-42e5-819f-dfd70be0916b",
   "metadata": {},
   "outputs": [],
   "source": [
    "emissionMatrix"
   ]
  },
  {
   "cell_type": "code",
   "execution_count": null,
   "id": "c1cad5e7-a61e-4c04-98cc-920fdf763a1c",
   "metadata": {},
   "outputs": [],
   "source": [
    "transitionArray = hiddenTransition.values\n",
    "emissionArray = emissionMatrix.values"
   ]
  },
  {
   "cell_type": "code",
   "execution_count": null,
   "id": "06f63c03-c3af-4183-8be6-d04e8614976c",
   "metadata": {},
   "outputs": [],
   "source": [
    "def edgeDictionary(dataframe):\n",
    "    return {(row, column): dataframe.loc[row, column] \n",
    "            for row in dataframe.index \n",
    "            for column in dataframe.columns}"
   ]
  },
  {
   "cell_type": "code",
   "execution_count": null,
   "id": "fb957ff2-a6ad-4900-b7a3-0f87bb845d1a",
   "metadata": {},
   "outputs": [],
   "source": [
    "hiddenEdges = edgeDictionary(hiddenTransition)\n",
    "emissionEdges = edgeDictionary(emissionMatrix)"
   ]
  },
  {
   "cell_type": "code",
   "execution_count": null,
   "id": "80df443e-cf00-4030-8e46-de748aeb461d",
   "metadata": {},
   "outputs": [],
   "source": [
    "graph = network.DiGraph()\n",
    "graph.add_nodes_from(visibleStates + hiddenStates)\n",
    "\n",
    "for key, value in {**hiddenEdges, **emissionEdges}.items():\n",
    "    graph.add_edge(key[0], key[1], weight=value, label=f\"{value:.2f}\")\n",
    "\n",
    "position = network.circular_layout(graph)"
   ]
  },
  {
   "cell_type": "code",
   "execution_count": null,
   "id": "7dfcedd7-4298-4526-8b45-638237720b35",
   "metadata": {},
   "outputs": [],
   "source": [
    "nodeColors = ['skyblue' if node in hiddenStates else 'lightgreen' for node in graph]\n",
    "network.draw(graph, position, with_labels=True, arrows=True, node_color=nodeColors, node_size=1000, font_size=7, font_weight='bold')\n",
    "network.draw_networkx_edge_labels(graph, position, edge_labels=network.get_edge_attributes(graph, 'label'), font_size=8)\n",
    "plot.title(\"HMM State and Emission Graph\")\n",
    "plot.show()"
   ]
  },
  {
   "cell_type": "code",
   "execution_count": null,
   "id": "5bb756d0-c0d8-4509-b95b-182f30dd4a13",
   "metadata": {},
   "outputs": [],
   "source": [
    "observations = ['early', 'early', 'late', 'mid', 'early', 'late']\n",
    "observationMap = {'early': 0, 'mid': 1, 'late': 2}\n",
    "mappedSequence = np.array([observationMap[value.lower()] for value in observations]).reshape(-1, 1)"
   ]
  },
  {
   "cell_type": "code",
   "execution_count": null,
   "id": "307fdcc3-aa78-4125-a37c-67f69fa5d6ea",
   "metadata": {},
   "outputs": [],
   "source": [
    "model = CategoricalHMM(n_components=len(hiddenStates), init_params=\"\")\n",
    "model.startprob_ = np.array(hiddenInitial)\n",
    "model.transmat_ = transitionArray\n",
    "model.emissionprob_ = emissionArray\n",
    "model.n_features = len(visibleStates)"
   ]
  },
  {
   "cell_type": "code",
   "execution_count": null,
   "id": "4779218b-a7f8-4832-b5ba-b5979ba13389",
   "metadata": {},
   "outputs": [],
   "source": [
    "logValue, bestPath = model.decode(mappedSequence, algorithm=\"viterbi\")\n",
    "\n",
    "stateMap = {index: state for index, state in enumerate(hiddenStates)}\n",
    "decodedPath = [stateMap[state] for state in bestPath]"
   ]
  },
  {
   "cell_type": "code",
   "execution_count": null,
   "id": "b89319aa-b567-443c-98a9-60198caf1882",
   "metadata": {},
   "outputs": [],
   "source": [
    "resultFrame = pd.DataFrame({'Observation': observations, 'Predicted State': decodedPath})\n",
    "print(\"\\nDecoded Path with Observations:\")\n",
    "print(resultFrame)\n",
    "\n",
    "print(\"\\nLog Probability of Best Path:\", logValue)"
   ]
  }
 ],
 "metadata": {
  "kernelspec": {
   "display_name": "NEW-VENV-1",
   "language": "python",
   "name": "new-venv-1"
  },
  "language_info": {
   "codemirror_mode": {
    "name": "ipython",
    "version": 3
   },
   "file_extension": ".py",
   "mimetype": "text/x-python",
   "name": "python",
   "nbconvert_exporter": "python",
   "pygments_lexer": "ipython3",
   "version": "3.11.5"
  }
 },
 "nbformat": 4,
 "nbformat_minor": 5
}
