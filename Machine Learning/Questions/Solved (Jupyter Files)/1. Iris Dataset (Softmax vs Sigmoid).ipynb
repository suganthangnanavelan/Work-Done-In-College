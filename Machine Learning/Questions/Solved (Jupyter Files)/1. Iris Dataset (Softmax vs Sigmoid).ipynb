{
 "cells": [
  {
   "cell_type": "code",
   "execution_count": null,
   "id": "d9e9837e-70fc-47f0-9198-9c0bd862aa26",
   "metadata": {},
   "outputs": [],
   "source": [
    "import numpy as np\n",
    "import pandas as pd\n",
    "import seaborn as sns\n",
    "import matplotlib.pyplot as plt\n",
    "import tensorflow as tf\n",
    "from tensorflow.keras.models import Sequential\n",
    "from tensorflow.keras.layers import Dense, Input\n",
    "from sklearn.model_selection import train_test_split\n",
    "from sklearn.preprocessing import LabelEncoder, StandardScaler, label_binarize\n",
    "from sklearn.metrics import classification_report, confusion_matrix \n",
    "from sklearn.metrics import ConfusionMatrixDisplay, roc_curve, auc"
   ]
  },
  {
   "cell_type": "code",
   "execution_count": null,
   "id": "5d5852fb-929b-4e10-b71a-2806723e538c",
   "metadata": {},
   "outputs": [],
   "source": [
    "names = ['Sepal Length', 'Sepal Width', 'Petal Length', 'Petal Width', 'target']\n",
    "df = pd.read_csv('iris.data', names=names)\n",
    "df.head()"
   ]
  },
  {
   "cell_type": "code",
   "execution_count": null,
   "id": "6944dd0f-23ad-4966-b9bd-93ea91f9ce02",
   "metadata": {},
   "outputs": [],
   "source": [
    "sns.countplot(df, x='target', hue='target', palette='viridis')\n",
    "plt.show()"
   ]
  },
  {
   "cell_type": "code",
   "execution_count": null,
   "id": "790b368d-c13f-4f2d-971d-71cb0649e64e",
   "metadata": {},
   "outputs": [],
   "source": [
    "X = df.drop(columns='target')\n",
    "y = df['target']\n",
    "\n",
    "X = StandardScaler().fit_transform(X)\n",
    "y = LabelEncoder().fit_transform(y)"
   ]
  },
  {
   "cell_type": "code",
   "execution_count": null,
   "id": "c1bce7c1-f370-4f04-9663-64e3386baccb",
   "metadata": {},
   "outputs": [],
   "source": [
    "def build_model(output_activation):\n",
    "    model = Sequential([\n",
    "        Input(shape=(4,)),\n",
    "        Dense(64, activation='relu'),\n",
    "        Dense(32, activation='relu'),\n",
    "        Dense(3, activation=output_activation)\n",
    "    ])\n",
    "    model.compile(optimizer='adam', loss='sparse_categorical_crossentropy', metrics=['accuracy'])\n",
    "    return model"
   ]
  },
  {
   "cell_type": "code",
   "execution_count": null,
   "id": "998082ab-6ab5-4df2-99f6-53b5c304a818",
   "metadata": {
    "scrolled": true
   },
   "outputs": [],
   "source": [
    "X_train, X_test, y_train, y_test = train_test_split(X, y, test_size=0.3, random_state=2)\n",
    "model_softmax = build_model('softmax')\n",
    "history_softmax = model_softmax.fit(X_train, y_train, \n",
    "                                    validation_data=(X_test, y_test), \n",
    "                                    epochs=25, verbose=1)"
   ]
  },
  {
   "cell_type": "code",
   "execution_count": null,
   "id": "f0dd395f-0831-4d78-9f06-0bb20d9bfdb7",
   "metadata": {
    "scrolled": true
   },
   "outputs": [],
   "source": [
    "X_train, X_test, y_train, y_test = train_test_split(X, y, test_size=0.3, random_state=2)\n",
    "model_sigmoid = build_model('sigmoid')\n",
    "history_sigmoid = model_sigmoid.fit(X_train, y_train, \n",
    "                                    validation_data=(X_test, y_test), \n",
    "                                    epochs=25, verbose=1)"
   ]
  },
  {
   "cell_type": "code",
   "execution_count": null,
   "id": "8c1c01d7-d783-438b-834b-2820c6ed1afc",
   "metadata": {},
   "outputs": [],
   "source": [
    "plt.figure(figsize=(10,6))\n",
    "\n",
    "plt.plot(history_softmax.history['accuracy'], label='Softmax - Train Accuracy', color='blue', linewidth=2)\n",
    "plt.plot(history_softmax.history['val_accuracy'], label='Softmax - Val Accuracy', color='blue', linestyle='--')\n",
    "\n",
    "plt.plot(history_sigmoid.history['accuracy'], label='Sigmoid - Train Accuracy', color='green', linewidth=2)\n",
    "plt.plot(history_sigmoid.history['val_accuracy'], label='Sigmoid - Val Accuracy', color='green', linestyle='--')\n",
    "\n",
    "plt.title('Training and Validation Accuracy Comparison')\n",
    "plt.xlabel('Epoch')\n",
    "plt.ylabel('Accuracy')\n",
    "plt.legend()\n",
    "plt.grid(True)\n",
    "plt.show()"
   ]
  },
  {
   "cell_type": "code",
   "execution_count": null,
   "id": "51329ded-8ea8-4404-94c7-65f968170e0c",
   "metadata": {},
   "outputs": [],
   "source": [
    "softmax_score = model_softmax.evaluate(X_test, y_test, verbose=0)\n",
    "sigmoid_score = model_sigmoid.evaluate(X_test, y_test, verbose=0)\n",
    "\n",
    "print(f\"Test Accuracy with Softmax: {softmax_score[1]:.4f}\")\n",
    "print(f\"Test Accuracy with Sigmoid: {sigmoid_score[1]:.4f}\")"
   ]
  },
  {
   "cell_type": "code",
   "execution_count": null,
   "id": "9eb9a3f8-4d1b-46fd-b7f0-c860c884ce5e",
   "metadata": {},
   "outputs": [],
   "source": [
    "plt.bar(['Softmax', 'Sigmoid'], [softmax_score[1], sigmoid_score[1]], color=['blue','green'])\n",
    "plt.ylabel('Test Accuracy')\n",
    "plt.title('Final Test Accuracy Comparison')\n",
    "plt.ylim(0, 1)\n",
    "plt.show()"
   ]
  },
  {
   "cell_type": "code",
   "execution_count": null,
   "id": "f6af8884-54fa-4fbe-905c-e9bb2ce85d8f",
   "metadata": {},
   "outputs": [],
   "source": [
    "y_pred_softmax = np.argmax(model_softmax.predict(X_test), axis=1)\n",
    "y_pred_sigmoid = np.argmax(model_sigmoid.predict(X_test), axis=1)"
   ]
  },
  {
   "cell_type": "code",
   "execution_count": null,
   "id": "0c6dbf0c-b52d-4560-844d-f78562585cca",
   "metadata": {},
   "outputs": [],
   "source": [
    "labels = df['target'].unique()\n",
    "print(\"Classification Report for Softmax:\")\n",
    "print(classification_report(y_test, y_pred_softmax, target_names=labels))\n",
    "\n",
    "print(\"\\nClassification Report for Sigmoid:\")\n",
    "print(classification_report(y_test, y_pred_sigmoid, target_names=labels))"
   ]
  },
  {
   "cell_type": "code",
   "execution_count": null,
   "id": "246d7e32-f654-43f9-8535-caa20e613016",
   "metadata": {},
   "outputs": [],
   "source": [
    "cm_softmax = confusion_matrix(y_test, y_pred_softmax)\n",
    "cm_sigmoid = confusion_matrix(y_test, y_pred_sigmoid)\n",
    "\n",
    "fig, ax = plt.subplots(1, 2, figsize=(14, 6))\n",
    "\n",
    "ConfusionMatrixDisplay(cm_softmax, display_labels=labels).plot(ax=ax[0])\n",
    "ax[0].set_title(\"Softmax Confusion Matrix\", size=25)\n",
    "\n",
    "ConfusionMatrixDisplay(cm_sigmoid, display_labels=labels).plot(ax=ax[1])\n",
    "ax[1].set_title(\"Sigmoid Confusion Matrix\", size=25)\n",
    "\n",
    "plt.tight_layout()\n",
    "plt.show()"
   ]
  }
 ],
 "metadata": {
  "kernelspec": {
   "display_name": "NEW-VENV-1",
   "language": "python",
   "name": "new-venv-1"
  },
  "language_info": {
   "codemirror_mode": {
    "name": "ipython",
    "version": 3
   },
   "file_extension": ".py",
   "mimetype": "text/x-python",
   "name": "python",
   "nbconvert_exporter": "python",
   "pygments_lexer": "ipython3",
   "version": "3.11.5"
  }
 },
 "nbformat": 4,
 "nbformat_minor": 5
}
