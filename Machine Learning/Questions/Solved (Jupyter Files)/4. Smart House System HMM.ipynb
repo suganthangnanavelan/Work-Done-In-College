{
 "cells": [
  {
   "cell_type": "code",
   "execution_count": null,
   "id": "2d6993c0-6499-43e5-bb2e-66de7de4c05c",
   "metadata": {},
   "outputs": [],
   "source": [
    "import numpy as np\n",
    "import pandas as pd\n",
    "import networkx as nx\n",
    "from pprint import pprint\n",
    "import matplotlib.pyplot as plt\n",
    "from hmmlearn.hmm import CategoricalHMM"
   ]
  },
  {
   "cell_type": "code",
   "execution_count": null,
   "id": "8809eb33-e876-4f7b-b61e-9eb9c93be95e",
   "metadata": {},
   "outputs": [],
   "source": [
    "states = ['Kitchen', 'Bedroom', 'Living Room']\n",
    "hidden_states = ['Cooking', 'Sleeping', 'Watching TV']"
   ]
  },
  {
   "cell_type": "code",
   "execution_count": null,
   "id": "d6570caa-6d4a-436b-802f-24d39e83b79f",
   "metadata": {},
   "outputs": [],
   "source": [
    "pi_states = [0.4, 0.3, 0.3]\n",
    "pi_hidden = [0.1, 0.2, 0.7]"
   ]
  },
  {
   "cell_type": "code",
   "execution_count": null,
   "id": "5f265573-be69-4218-b7af-dea81b1b80b6",
   "metadata": {},
   "outputs": [],
   "source": [
    "state_space = pd.Series(pi_states, index=states)\n",
    "hidden_state_space = pd.Series(pi_hidden, index=hidden_states)"
   ]
  },
  {
   "cell_type": "code",
   "execution_count": null,
   "id": "1e72ab96-f199-40c8-a074-1d7cced28bd3",
   "metadata": {},
   "outputs": [],
   "source": [
    "q_df = pd.DataFrame([[0.4, 0.2, 0.4], [0.45, 0.45, 0.1], [0.45, 0.25, 0.3]], \n",
    "                    columns=states, index=states)\n",
    "a_df = pd.DataFrame([[0.3, 0.5, 0.2], [0.1, 0.7, 0.2], [0.2, 0.3, 0.5]], \n",
    "                    columns=hidden_states, index=hidden_states)\n",
    "b_df = pd.DataFrame([[0.8, 0.1, 0.1], [0.1, 0.8, 0.1], [0.2, 0.1, 0.7]], \n",
    "                    columns=states, index=hidden_states)"
   ]
  },
  {
   "cell_type": "code",
   "execution_count": null,
   "id": "5cc63a43-7265-4804-b9ec-fe5c41712778",
   "metadata": {},
   "outputs": [],
   "source": [
    "q_df"
   ]
  },
  {
   "cell_type": "code",
   "execution_count": null,
   "id": "d5fb306d-957d-4fcb-a0bb-9f92791e4f6f",
   "metadata": {},
   "outputs": [],
   "source": [
    "a_df"
   ]
  },
  {
   "cell_type": "code",
   "execution_count": null,
   "id": "e33cb732-da75-4a7e-ba03-d15ba0b9b157",
   "metadata": {},
   "outputs": [],
   "source": [
    "b_df"
   ]
  },
  {
   "cell_type": "code",
   "execution_count": null,
   "id": "a30892b0-f44b-4c2e-b3d9-93997a3884ed",
   "metadata": {},
   "outputs": [],
   "source": [
    "q = q_df.values\n",
    "a = a_df.values\n",
    "b = b_df.values"
   ]
  },
  {
   "cell_type": "code",
   "execution_count": null,
   "id": "7f65fbf1-9b59-400b-8fe2-eedcc3153268",
   "metadata": {},
   "outputs": [],
   "source": [
    "def add_edges(df):\n",
    "    return {(idx, col): df.loc[idx, col] for idx in df.index for col in df.columns}"
   ]
  },
  {
   "cell_type": "code",
   "execution_count": null,
   "id": "67b48793-859b-4628-9f12-b3345040e788",
   "metadata": {},
   "outputs": [],
   "source": [
    "edge_wts = add_edges(q_df)\n",
    "hidden_edge_wts = add_edges(a_df)\n",
    "emit_edge_wts = add_edges(b_df)"
   ]
  },
  {
   "cell_type": "code",
   "execution_count": null,
   "id": "d9dd66a3-a331-43c6-8699-2bf81a03e600",
   "metadata": {},
   "outputs": [],
   "source": [
    "G = nx.DiGraph()\n",
    "G.add_nodes_from(states + hidden_states)\n",
    "\n",
    "for k, v in {**hidden_edge_wts, **emit_edge_wts}.items():\n",
    "    G.add_edge(k[0], k[1], weight=v, label=f\"{v:.2f}\")\n",
    "\n",
    "pos = nx.circular_layout(G)\n",
    "node_colors = ['skyblue' if node in hidden_states else 'lightgreen' for node in G]\n",
    "nx.draw(G, pos, with_labels=True, arrows=True, node_color=node_colors, node_size=1000, font_size=5, font_weight='bold')\n",
    "nx.draw_networkx_edge_labels(G, pos, edge_labels=nx.get_edge_attributes(G, 'label'), font_size=8)\n",
    "plt.show()"
   ]
  },
  {
   "cell_type": "code",
   "execution_count": null,
   "id": "01ba9e94-fc32-4a71-aab7-35ec817dcd62",
   "metadata": {},
   "outputs": [],
   "source": [
    "obs_seq = ['kitchen', 'bedroom', 'living room', 'kitchen', 'bedroom']\n",
    "obs_map = {'kitchen': 0, 'bedroom': 1, 'living room': 2}\n",
    "obs_idx = np.array([obs_map[o.lower()] for o in obs_seq]).reshape(-1, 1)\n",
    "\n",
    "model = CategoricalHMM(n_components=len(hidden_states))\n",
    "model.startprob_ = pi_hidden\n",
    "model.transmat_ = a\n",
    "model.emissionprob_ = b\n",
    "\n",
    "logprob, path = model.decode(obs_idx, algorithm=\"viterbi\")\n",
    "state_map = {0: 'Cooking', 1: 'Sleeping', 2: 'Watching TV'}\n",
    "state_path = [state_map[v] for v in path]\n",
    "\n",
    "# Display result\n",
    "result = pd.DataFrame({'Observation': obs_seq, 'Best_path': state_path})\n",
    "print(result)"
   ]
  }
 ],
 "metadata": {
  "kernelspec": {
   "display_name": "NEW-VENV-1",
   "language": "python",
   "name": "new-venv-1"
  },
  "language_info": {
   "codemirror_mode": {
    "name": "ipython",
    "version": 3
   },
   "file_extension": ".py",
   "mimetype": "text/x-python",
   "name": "python",
   "nbconvert_exporter": "python",
   "pygments_lexer": "ipython3",
   "version": "3.11.5"
  }
 },
 "nbformat": 4,
 "nbformat_minor": 5
}
