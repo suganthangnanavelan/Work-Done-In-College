{
 "cells": [
  {
   "cell_type": "code",
   "execution_count": null,
   "id": "55832f35-459a-4a0e-a379-35484f92d1c5",
   "metadata": {},
   "outputs": [],
   "source": [
    "import numpy as np\n",
    "import pandas as pd\n",
    "import matplotlib.pyplot as plt\n",
    "import tensorflow as tf\n",
    "from tensorflow.keras.models import Sequential\n",
    "from tensorflow.keras.layers import Dense, Dropout\n",
    "from tensorflow.keras.optimizers import Adam\n",
    "from tensorflow.keras import regularizers\n",
    "from sklearn.preprocessing import LabelEncoder\n",
    "from sklearn.model_selection import train_test_split\n",
    "from sklearn.metrics import classification_report, confusion_matrix \n",
    "from sklearn.metrics import ConfusionMatrixDisplay, accuracy_score, roc_curve, auc\n",
    "\n",
    "import warnings\n",
    "warnings.filterwarnings('ignore')"
   ]
  },
  {
   "cell_type": "code",
   "execution_count": null,
   "id": "f3344d11-95e5-481b-93e4-318bf834d2c0",
   "metadata": {},
   "outputs": [],
   "source": [
    "df = pd.read_csv(\"insurance.csv\")\n",
    "df.head()"
   ]
  },
  {
   "cell_type": "code",
   "execution_count": null,
   "id": "62045487-f95d-402a-b18e-85009ff58903",
   "metadata": {},
   "outputs": [],
   "source": [
    "labels = ['Low', 'Medium', 'High', 'Very High']\n",
    "df['charges'] = pd.qcut(df['charges'], q=4, labels=labels)\n",
    "df.head()"
   ]
  },
  {
   "cell_type": "code",
   "execution_count": null,
   "id": "eb3bd408-f8a3-41fd-a778-e7608071e5e4",
   "metadata": {},
   "outputs": [],
   "source": [
    "cols = ['sex', 'smoker', 'region', 'charges']\n",
    "df[cols] = df[cols].apply(LabelEncoder().fit_transform)\n",
    "df.head()"
   ]
  },
  {
   "cell_type": "code",
   "execution_count": null,
   "id": "c07602a7-b504-4d9b-a3c6-68bceee8280b",
   "metadata": {},
   "outputs": [],
   "source": [
    "X = df.drop(columns=['charges'])\n",
    "y = tf.keras.utils.to_categorical(df['charges'], num_classes=4)"
   ]
  },
  {
   "cell_type": "code",
   "execution_count": null,
   "id": "89d7dd41-4d03-4f50-8639-9065bd17b7f6",
   "metadata": {},
   "outputs": [],
   "source": [
    "overfit = Sequential([\n",
    "    Dense(64, activation='relu', input_shape=(6,)),\n",
    "    Dense(64, activation='relu'),\n",
    "    Dense(4, activation='softmax')\n",
    "])\n",
    "\n",
    "overfit.compile(optimizer='adam', loss='categorical_crossentropy', metrics=['accuracy'])"
   ]
  },
  {
   "cell_type": "code",
   "execution_count": null,
   "id": "8d55f010-fe99-40a4-a7f7-8fbe26e15e71",
   "metadata": {},
   "outputs": [],
   "source": [
    "x_train, x_test, y_train, y_test = train_test_split(X, y, test_size=0.4, random_state=0)\n",
    "history1 = overfit.fit(x_train, y_train, epochs=25, \n",
    "                    batch_size=16, validation_split=0.2,\n",
    "                    verbose=1)"
   ]
  },
  {
   "cell_type": "code",
   "execution_count": null,
   "id": "1151c540-a049-4cde-b6ec-51e214cf52ba",
   "metadata": {},
   "outputs": [],
   "source": [
    "regularized = Sequential([\n",
    "    Dense(128, activation='relu', input_shape=(6,), kernel_regularizer=regularizers.l2(0.001)),\n",
    "    Dropout(0.1),\n",
    "    Dense(64, activation='relu', kernel_regularizer=regularizers.l2(0.001)),\n",
    "    Dropout(0.1),\n",
    "    Dense(4, activation='softmax')\n",
    "])\n",
    "\n",
    "regularized.compile(optimizer='adam', loss='categorical_crossentropy', metrics=['accuracy'])"
   ]
  },
  {
   "cell_type": "code",
   "execution_count": null,
   "id": "88058b99-e8cd-47b6-a4bb-bc626996deca",
   "metadata": {},
   "outputs": [],
   "source": [
    "early_stopping = tf.keras.callbacks.EarlyStopping(monitor='val_loss', \n",
    "                                                  patience=10, \n",
    "                                                  restore_best_weights=True)"
   ]
  },
  {
   "cell_type": "code",
   "execution_count": null,
   "id": "22964de8-9838-4f7c-9141-bffdf4def8b1",
   "metadata": {},
   "outputs": [],
   "source": [
    "x_train, x_test, y_train, y_test = train_test_split(X, y, test_size=0.1, random_state=1)\n",
    "history2 = regularized.fit(x_train, y_train, epochs=25, \n",
    "                    batch_size=16, validation_split=0.3,\n",
    "                    callbacks=[early_stopping], verbose=1)"
   ]
  },
  {
   "cell_type": "code",
   "execution_count": null,
   "id": "829e7156-0ce9-4e48-becc-48d8c607fc4d",
   "metadata": {},
   "outputs": [],
   "source": [
    "def plot_history(history1, history2):\n",
    "    plt.figure(figsize=(12, 5))\n",
    "    plt.subplot(1, 2, 1)\n",
    "    plt.plot(history1.history['accuracy'], label='Overfit Model Validation Accuracy')\n",
    "    plt.plot(history2.history['accuracy'], label='Regularized Model Validation Accuracy')\n",
    "    plt.title('Training Accuracy')\n",
    "    plt.xlabel('Epoch')\n",
    "    plt.ylabel('Accuracy')\n",
    "    plt.legend()\n",
    "\n",
    "    plt.subplot(1, 2, 2)\n",
    "    plt.plot(history1.history['val_accuracy'], label='Overfit Model Validation Accuracy')\n",
    "    plt.plot(history2.history['val_accuracy'], label='Regularized Model Validation Accuracy')\n",
    "    plt.title('Validation Accuracy')\n",
    "    plt.xlabel('Epoch')\n",
    "    plt.ylabel('Accuracy')\n",
    "    plt.legend()\n",
    "\n",
    "    plt.tight_layout()\n",
    "    plt.show()\n",
    "\n",
    "plot_history(history1, history2)"
   ]
  },
  {
   "cell_type": "code",
   "execution_count": null,
   "id": "6ff519cf-eca6-48fe-923c-aaa18721608e",
   "metadata": {},
   "outputs": [],
   "source": [
    "loss1, accuracy1 = overfit.evaluate(x_train, y_train)\n",
    "loss2, accuracy2 = overfit.evaluate(x_test, y_test)\n",
    "print(f'Train accuracy Overfit Model: {accuracy1:.4f}')\n",
    "print(f'Test accuracy Overfit Model: {accuracy2:.4f}')"
   ]
  },
  {
   "cell_type": "code",
   "execution_count": null,
   "id": "0aa14e69-14d8-4566-a532-59d17b89dd04",
   "metadata": {},
   "outputs": [],
   "source": [
    "loss1, accuracy1 = regularized.evaluate(x_train, y_train)\n",
    "loss2, accuracy2 = regularized.evaluate(x_test, y_test)\n",
    "print(f'Train accuracy Regularized Model: {accuracy1:.4f}')\n",
    "print(f'Test accuracy Regularized Model: {accuracy2:.4f}')"
   ]
  },
  {
   "cell_type": "code",
   "execution_count": null,
   "id": "d1aadc08-5ef6-4285-b889-d4dad9ddb3fd",
   "metadata": {},
   "outputs": [],
   "source": [
    "y_pred1 = np.argmax(overfit.predict(x_test), axis=1)\n",
    "y_test1 = np.argmax(y_test, axis=1)\n",
    "y_pred2 = np.argmax(regularized.predict(x_test), axis=1)\n",
    "y_test2 = np.argmax(y_test, axis=1)"
   ]
  },
  {
   "cell_type": "code",
   "execution_count": null,
   "id": "c36a9495-2a6b-47da-b50a-060d0166412c",
   "metadata": {},
   "outputs": [],
   "source": [
    "print(\"Classification Report for Overfit:\")\n",
    "print(classification_report(y_test1, y_pred1))\n",
    "\n",
    "print(\"\\nClassification Report for Regularized:\")\n",
    "print(classification_report(y_test2, y_pred2))"
   ]
  },
  {
   "cell_type": "code",
   "execution_count": null,
   "id": "8dec9763-db18-4476-9f2a-acfc3bd5b63b",
   "metadata": {},
   "outputs": [],
   "source": [
    "labels = df['charges'].unique()\n",
    "cm1 = confusion_matrix(y_test1, y_pred1)\n",
    "cm2 = confusion_matrix(y_test2, y_pred2)\n",
    "\n",
    "fig, ax = plt.subplots(1, 2, figsize=(14, 6))\n",
    "\n",
    "ConfusionMatrixDisplay(cm1, display_labels=labels).plot(ax=ax[0])\n",
    "ax[0].set_title(\"Overfit Confusion Matrix\", size=25)\n",
    "\n",
    "ConfusionMatrixDisplay(cm2, display_labels=labels).plot(ax=ax[1])\n",
    "ax[1].set_title(\"Regularized Confusion Matrix\", size=25)\n",
    "\n",
    "plt.tight_layout()\n",
    "plt.show()"
   ]
  }
 ],
 "metadata": {
  "kernelspec": {
   "display_name": "NEW-VENV-1",
   "language": "python",
   "name": "new-venv-1"
  },
  "language_info": {
   "codemirror_mode": {
    "name": "ipython",
    "version": 3
   },
   "file_extension": ".py",
   "mimetype": "text/x-python",
   "name": "python",
   "nbconvert_exporter": "python",
   "pygments_lexer": "ipython3",
   "version": "3.11.5"
  }
 },
 "nbformat": 4,
 "nbformat_minor": 5
}
