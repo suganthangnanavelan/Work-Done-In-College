{
 "cells": [
  {
   "cell_type": "code",
   "execution_count": null,
   "id": "8b01d639-7417-4a71-a735-d519043691ac",
   "metadata": {},
   "outputs": [],
   "source": [
    "import pandas as pd\n",
    "import numpy as np\n",
    "import matplotlib.pyplot as plt\n",
    "from sklearn.decomposition import PCA\n",
    "from sklearn.neighbors import KNeighborsClassifier\n",
    "from sklearn.model_selection import train_test_split\n",
    "from sklearn.preprocessing import StandardScaler, LabelEncoder\n",
    "from sklearn.metrics import accuracy_score"
   ]
  },
  {
   "cell_type": "code",
   "execution_count": null,
   "id": "03cbb0a7-0a95-4e08-94a9-028c664ecbe1",
   "metadata": {},
   "outputs": [],
   "source": [
    "file_path = \"Wilt.csv\"\n",
    "df = pd.read_csv(file_path)\n",
    "df.head()"
   ]
  },
  {
   "cell_type": "code",
   "execution_count": null,
   "id": "0a4961c3-0fea-401b-a7f0-5f6fd0eb9e69",
   "metadata": {},
   "outputs": [],
   "source": [
    "y = df.iloc[:, 0]\n",
    "X = df.iloc[:, 1:]"
   ]
  },
  {
   "cell_type": "code",
   "execution_count": null,
   "id": "d6699a1a-5436-40d7-84b9-f2c3d5e87850",
   "metadata": {},
   "outputs": [],
   "source": [
    "if y.dtype == 'object':\n",
    "    class_mapping = {label: idx for idx, label in enumerate(y.unique())}\n",
    "    y = y.map(class_mapping)\n",
    "\n",
    "scaler = StandardScaler()\n",
    "X_scaled = scaler.fit_transform(X)\n",
    "\n",
    "pca = PCA(n_components=2)\n",
    "X_pca = pca.fit_transform(X_scaled)\n",
    "\n",
    "X_train, X_test, y_train, y_test = train_test_split(X_scaled, y, test_size=0.2, random_state=42)\n",
    "X_pca_train, X_pca_test, _, _ = train_test_split(X_pca, y, test_size=0.2, random_state=42)"
   ]
  },
  {
   "cell_type": "code",
   "execution_count": null,
   "id": "0c6c271e-3725-4472-b082-a96aa9850ec6",
   "metadata": {},
   "outputs": [],
   "source": [
    "knn_original = KNeighborsClassifier(n_neighbors=5)\n",
    "knn_original.fit(X_train, y_train)\n",
    "y_pred_original = knn_original.predict(X_test)\n",
    "accuracy_original = accuracy_score(y_test, y_pred_original)\n",
    "\n",
    "knn_pca = KNeighborsClassifier(n_neighbors=5)\n",
    "knn_pca.fit(X_pca_train, y_train)\n",
    "y_pred_pca = knn_pca.predict(X_pca_test)\n",
    "accuracy_pca = accuracy_score(y_test, y_pred_pca)\n",
    "\n",
    "print(\"Accuracy without PCA:\", accuracy_original)\n",
    "print(\"Accuracy with PCA:\", accuracy_pca)"
   ]
  },
  {
   "cell_type": "code",
   "execution_count": null,
   "id": "5b129aaa-8fba-4dac-a4be-e94c277d40ae",
   "metadata": {},
   "outputs": [],
   "source": [
    "plt.figure(figsize=(6, 4))\n",
    "plt.scatter(X_pca[:, 0], X_pca[:, 1], c=y, cmap='coolwarm', alpha=0.5)\n",
    "plt.xlabel(\"Principal Component 1\")\n",
    "plt.ylabel(\"Principal Component 2\")\n",
    "plt.title(\"PCA Visualization of Wilt Dataset\")\n",
    "plt.colorbar(label=\"Class\")\n",
    "plt.show()"
   ]
  },
  {
   "cell_type": "code",
   "execution_count": null,
   "id": "a4b9dcf0-d091-4ece-9651-e84932fb1eba",
   "metadata": {},
   "outputs": [],
   "source": [
    "labels = ['Without PCA', 'With PCA']\n",
    "accuracies = [accuracy_original, accuracy_pca]\n",
    "plt.figure(figsize=(6, 4))\n",
    "plt.bar(labels, accuracies, color=['blue', 'orange'])\n",
    "plt.xlabel(\"Model\")\n",
    "plt.ylabel(\"Accuracy\")\n",
    "plt.title(\"KNN Classification Accuracy Comparison\")\n",
    "plt.ylim(0, 1)\n",
    "plt.show()"
   ]
  }
 ],
 "metadata": {
  "kernelspec": {
   "display_name": "Python 3 (ipykernel)",
   "language": "python",
   "name": "python3"
  },
  "language_info": {
   "codemirror_mode": {
    "name": "ipython",
    "version": 3
   },
   "file_extension": ".py",
   "mimetype": "text/x-python",
   "name": "python",
   "nbconvert_exporter": "python",
   "pygments_lexer": "ipython3",
   "version": "3.12.4"
  }
 },
 "nbformat": 4,
 "nbformat_minor": 5
}
