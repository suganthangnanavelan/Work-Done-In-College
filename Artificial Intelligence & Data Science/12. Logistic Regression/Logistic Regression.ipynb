{
 "cells": [
  {
   "cell_type": "code",
   "execution_count": 46,
   "id": "48961c1d-3e9b-430d-b529-956467a3194c",
   "metadata": {},
   "outputs": [
    {
     "name": "stdout",
     "output_type": "stream",
     "text": [
      "(100, 2)\n"
     ]
    },
    {
     "data": {
      "text/html": [
       "<div>\n",
       "<style scoped>\n",
       "    .dataframe tbody tr th:only-of-type {\n",
       "        vertical-align: middle;\n",
       "    }\n",
       "\n",
       "    .dataframe tbody tr th {\n",
       "        vertical-align: top;\n",
       "    }\n",
       "\n",
       "    .dataframe thead th {\n",
       "        text-align: right;\n",
       "    }\n",
       "</style>\n",
       "<table border=\"1\" class=\"dataframe\">\n",
       "  <thead>\n",
       "    <tr style=\"text-align: right;\">\n",
       "      <th></th>\n",
       "      <th>Hours</th>\n",
       "      <th>Scores</th>\n",
       "    </tr>\n",
       "  </thead>\n",
       "  <tbody>\n",
       "    <tr>\n",
       "      <th>0</th>\n",
       "      <td>2.5</td>\n",
       "      <td>21.0</td>\n",
       "    </tr>\n",
       "    <tr>\n",
       "      <th>1</th>\n",
       "      <td>5.1</td>\n",
       "      <td>47.0</td>\n",
       "    </tr>\n",
       "    <tr>\n",
       "      <th>2</th>\n",
       "      <td>3.2</td>\n",
       "      <td>27.0</td>\n",
       "    </tr>\n",
       "    <tr>\n",
       "      <th>3</th>\n",
       "      <td>8.5</td>\n",
       "      <td>74.0</td>\n",
       "    </tr>\n",
       "    <tr>\n",
       "      <th>4</th>\n",
       "      <td>3.5</td>\n",
       "      <td>30.0</td>\n",
       "    </tr>\n",
       "  </tbody>\n",
       "</table>\n",
       "</div>"
      ],
      "text/plain": [
       "   Hours  Scores\n",
       "0    2.5    21.0\n",
       "1    5.1    47.0\n",
       "2    3.2    27.0\n",
       "3    8.5    74.0\n",
       "4    3.5    30.0"
      ]
     },
     "execution_count": 46,
     "metadata": {},
     "output_type": "execute_result"
    }
   ],
   "source": [
    "import pandas as pd\n",
    "data = pd.read_csv(\"hours_scores_records.csv\")\n",
    "print(data.shape)\n",
    "data.head()"
   ]
  },
  {
   "cell_type": "code",
   "execution_count": 47,
   "id": "f3117a88-f1f0-45b6-8890-0893d84264a5",
   "metadata": {},
   "outputs": [
    {
     "name": "stdout",
     "output_type": "stream",
     "text": [
      "Hours Mean: 5.093\n",
      "Scores Mean: 51.94\n"
     ]
    }
   ],
   "source": [
    "mean_hours = data['Hours'].mean()\n",
    "print(\"Hours Mean:\", mean_hours)\n",
    "mean_scores = data['Scores'].mean()\n",
    "print(\"Scores Mean:\", mean_scores)"
   ]
  },
  {
   "cell_type": "code",
   "execution_count": 48,
   "id": "3e023a56-1fbc-4a7d-9565-49efb6a66074",
   "metadata": {},
   "outputs": [
    {
     "data": {
      "text/plain": [
       "3.1086244689504386e-17"
      ]
     },
     "execution_count": 48,
     "metadata": {},
     "output_type": "execute_result"
    }
   ],
   "source": [
    "data['Hours - Mean_Hours'] = round(data['Hours'] - mean_hours, 3)\n",
    "mean1 = data['Hours - Mean_Hours'].mean()\n",
    "mean1"
   ]
  },
  {
   "cell_type": "code",
   "execution_count": 49,
   "id": "f4574bdb-b5e4-4541-978c-ceea8d30f453",
   "metadata": {},
   "outputs": [
    {
     "data": {
      "text/plain": [
       "5.995204332975846e-16"
      ]
     },
     "execution_count": 49,
     "metadata": {},
     "output_type": "execute_result"
    }
   ],
   "source": [
    "data['Scores - Mean_Scores'] = round(data['Scores'] - mean_scores, 3)\n",
    "mean2 = data['Scores - Mean_Scores'].mean()\n",
    "mean2"
   ]
  },
  {
   "cell_type": "code",
   "execution_count": 50,
   "id": "da2a298f-e92b-4161-8c5d-c38accb83eda",
   "metadata": {},
   "outputs": [
    {
     "data": {
      "text/plain": [
       "1.8165800000000007"
      ]
     },
     "execution_count": 50,
     "metadata": {},
     "output_type": "execute_result"
    }
   ],
   "source": [
    "data['product'] = data['Hours - Mean_Hours']*data['Scores - Mean_Scores']\n",
    "mean3 = data['product'].mean()\n",
    "mean3"
   ]
  },
  {
   "cell_type": "code",
   "execution_count": 51,
   "id": "e322b3a6-89ea-4cce-bce4-45f53fefa439",
   "metadata": {},
   "outputs": [],
   "source": [
    "data['mean_x_squared'] = data['Scores - Mean_Scores']**2\n",
    "data['mean_x2_squared'] = data['Hours - Mean_Hours']**2"
   ]
  },
  {
   "cell_type": "code",
   "execution_count": 52,
   "id": "86d7a11a-7c35-4c8e-881d-37861322cafe",
   "metadata": {},
   "outputs": [
    {
     "data": {
      "text/plain": [
       "3.8624510000000005"
      ]
     },
     "execution_count": 52,
     "metadata": {},
     "output_type": "execute_result"
    }
   ],
   "source": [
    "mean_x2 = data['mean_x2_squared'].mean()\n",
    "mean_x2"
   ]
  },
  {
   "cell_type": "code",
   "execution_count": 53,
   "id": "107dba29-8e26-4b9d-8ec7-179999a025a1",
   "metadata": {},
   "outputs": [
    {
     "data": {
      "text/plain": [
       "0.47031794060300064"
      ]
     },
     "execution_count": 53,
     "metadata": {},
     "output_type": "execute_result"
    }
   ],
   "source": [
    "slope = mean3/mean_x2\n",
    "slope"
   ]
  },
  {
   "cell_type": "code",
   "execution_count": 54,
   "id": "77514aa2-58be-4c7d-aebc-2cfd1f9e2474",
   "metadata": {},
   "outputs": [
    {
     "data": {
      "text/plain": [
       "5.849000147141359e-16"
      ]
     },
     "execution_count": 54,
     "metadata": {},
     "output_type": "execute_result"
    }
   ],
   "source": [
    "c = mean2 - (slope*mean1)\n",
    "c"
   ]
  },
  {
   "cell_type": "code",
   "execution_count": 63,
   "id": "f991039c-5805-430d-952e-9012b8f4c783",
   "metadata": {},
   "outputs": [
    {
     "data": {
      "text/html": [
       "<div>\n",
       "<style scoped>\n",
       "    .dataframe tbody tr th:only-of-type {\n",
       "        vertical-align: middle;\n",
       "    }\n",
       "\n",
       "    .dataframe tbody tr th {\n",
       "        vertical-align: top;\n",
       "    }\n",
       "\n",
       "    .dataframe thead th {\n",
       "        text-align: right;\n",
       "    }\n",
       "</style>\n",
       "<table border=\"1\" class=\"dataframe\">\n",
       "  <thead>\n",
       "    <tr style=\"text-align: right;\">\n",
       "      <th></th>\n",
       "      <th>Hours</th>\n",
       "      <th>Scores</th>\n",
       "      <th>Hours - Mean_Hours</th>\n",
       "      <th>Scores - Mean_Scores</th>\n",
       "      <th>product</th>\n",
       "      <th>mean_x_squared</th>\n",
       "      <th>mean_x2_squared</th>\n",
       "      <th>y</th>\n",
       "    </tr>\n",
       "  </thead>\n",
       "  <tbody>\n",
       "    <tr>\n",
       "      <th>0</th>\n",
       "      <td>2.5</td>\n",
       "      <td>21.0</td>\n",
       "      <td>-2.593</td>\n",
       "      <td>-30.94</td>\n",
       "      <td>80.22742</td>\n",
       "      <td>957.2836</td>\n",
       "      <td>6.723649</td>\n",
       "      <td>0.764191</td>\n",
       "    </tr>\n",
       "    <tr>\n",
       "      <th>1</th>\n",
       "      <td>5.1</td>\n",
       "      <td>47.0</td>\n",
       "      <td>0.007</td>\n",
       "      <td>-4.94</td>\n",
       "      <td>-0.03458</td>\n",
       "      <td>24.4036</td>\n",
       "      <td>0.000049</td>\n",
       "      <td>0.916722</td>\n",
       "    </tr>\n",
       "    <tr>\n",
       "      <th>2</th>\n",
       "      <td>3.2</td>\n",
       "      <td>27.0</td>\n",
       "      <td>-1.893</td>\n",
       "      <td>-24.94</td>\n",
       "      <td>47.21142</td>\n",
       "      <td>622.0036</td>\n",
       "      <td>3.583449</td>\n",
       "      <td>0.818322</td>\n",
       "    </tr>\n",
       "    <tr>\n",
       "      <th>3</th>\n",
       "      <td>8.5</td>\n",
       "      <td>74.0</td>\n",
       "      <td>3.407</td>\n",
       "      <td>22.06</td>\n",
       "      <td>75.15842</td>\n",
       "      <td>486.6436</td>\n",
       "      <td>11.607649</td>\n",
       "      <td>0.981973</td>\n",
       "    </tr>\n",
       "    <tr>\n",
       "      <th>4</th>\n",
       "      <td>3.5</td>\n",
       "      <td>30.0</td>\n",
       "      <td>-1.593</td>\n",
       "      <td>-21.94</td>\n",
       "      <td>34.95042</td>\n",
       "      <td>481.3636</td>\n",
       "      <td>2.537649</td>\n",
       "      <td>0.838365</td>\n",
       "    </tr>\n",
       "  </tbody>\n",
       "</table>\n",
       "</div>"
      ],
      "text/plain": [
       "   Hours  Scores  Hours - Mean_Hours  Scores - Mean_Scores   product  \\\n",
       "0    2.5    21.0              -2.593                -30.94  80.22742   \n",
       "1    5.1    47.0               0.007                 -4.94  -0.03458   \n",
       "2    3.2    27.0              -1.893                -24.94  47.21142   \n",
       "3    8.5    74.0               3.407                 22.06  75.15842   \n",
       "4    3.5    30.0              -1.593                -21.94  34.95042   \n",
       "\n",
       "   mean_x_squared  mean_x2_squared         y  \n",
       "0        957.2836         6.723649  0.764191  \n",
       "1         24.4036         0.000049  0.916722  \n",
       "2        622.0036         3.583449  0.818322  \n",
       "3        486.6436        11.607649  0.981973  \n",
       "4        481.3636         2.537649  0.838365  "
      ]
     },
     "execution_count": 63,
     "metadata": {},
     "output_type": "execute_result"
    }
   ],
   "source": [
    "import numpy as np\n",
    "z = (slope*(data['Hours'].astype(float))) + c\n",
    "data[\"y\"] = 1/(1+np.exp(-z))\n",
    "data.to_csv('score_updated.csv', index = False)\n",
    "data.head()"
   ]
  }
 ],
 "metadata": {
  "kernelspec": {
   "display_name": "Python 3 (ipykernel)",
   "language": "python",
   "name": "python3"
  },
  "language_info": {
   "codemirror_mode": {
    "name": "ipython",
    "version": 3
   },
   "file_extension": ".py",
   "mimetype": "text/x-python",
   "name": "python",
   "nbconvert_exporter": "python",
   "pygments_lexer": "ipython3",
   "version": "3.12.4"
  }
 },
 "nbformat": 4,
 "nbformat_minor": 5
}
