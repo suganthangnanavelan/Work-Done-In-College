{
 "cells": [
  {
   "cell_type": "code",
   "execution_count": 42,
   "id": "f43264da-0303-4aef-9da7-de21df5c5c0a",
   "metadata": {},
   "outputs": [
    {
     "name": "stdout",
     "output_type": "stream",
     "text": [
      "(8388, 4)\n"
     ]
    },
    {
     "data": {
      "text/html": [
       "<div>\n",
       "<style scoped>\n",
       "    .dataframe tbody tr th:only-of-type {\n",
       "        vertical-align: middle;\n",
       "    }\n",
       "\n",
       "    .dataframe tbody tr th {\n",
       "        vertical-align: top;\n",
       "    }\n",
       "\n",
       "    .dataframe thead th {\n",
       "        text-align: right;\n",
       "    }\n",
       "</style>\n",
       "<table border=\"1\" class=\"dataframe\">\n",
       "  <thead>\n",
       "    <tr style=\"text-align: right;\">\n",
       "      <th></th>\n",
       "      <th>Unnamed: 0</th>\n",
       "      <th>Weight (kg)</th>\n",
       "      <th>Standing Height (cm)</th>\n",
       "      <th>BMI(kg/m**2)</th>\n",
       "    </tr>\n",
       "  </thead>\n",
       "  <tbody>\n",
       "    <tr>\n",
       "      <th>0</th>\n",
       "      <td>0</td>\n",
       "      <td>97.1</td>\n",
       "      <td>160.2</td>\n",
       "      <td>37.8</td>\n",
       "    </tr>\n",
       "    <tr>\n",
       "      <th>1</th>\n",
       "      <td>1</td>\n",
       "      <td>98.8</td>\n",
       "      <td>182.3</td>\n",
       "      <td>29.7</td>\n",
       "    </tr>\n",
       "    <tr>\n",
       "      <th>2</th>\n",
       "      <td>2</td>\n",
       "      <td>74.3</td>\n",
       "      <td>184.2</td>\n",
       "      <td>21.9</td>\n",
       "    </tr>\n",
       "    <tr>\n",
       "      <th>3</th>\n",
       "      <td>3</td>\n",
       "      <td>103.7</td>\n",
       "      <td>185.3</td>\n",
       "      <td>30.2</td>\n",
       "    </tr>\n",
       "    <tr>\n",
       "      <th>4</th>\n",
       "      <td>4</td>\n",
       "      <td>83.3</td>\n",
       "      <td>177.1</td>\n",
       "      <td>26.6</td>\n",
       "    </tr>\n",
       "  </tbody>\n",
       "</table>\n",
       "</div>"
      ],
      "text/plain": [
       "   Unnamed: 0  Weight (kg)  Standing Height (cm)  BMI(kg/m**2)\n",
       "0           0         97.1                 160.2          37.8\n",
       "1           1         98.8                 182.3          29.7\n",
       "2           2         74.3                 184.2          21.9\n",
       "3           3        103.7                 185.3          30.2\n",
       "4           4         83.3                 177.1          26.6"
      ]
     },
     "execution_count": 42,
     "metadata": {},
     "output_type": "execute_result"
    }
   ],
   "source": [
    "import pandas as pd\n",
    "import random\n",
    "from scipy import stats\n",
    "df = pd.read_csv('height_weight_bmi.csv')\n",
    "print(df.shape)\n",
    "df.head()"
   ]
  },
  {
   "cell_type": "code",
   "execution_count": 43,
   "id": "c3bd6e36-e4a0-4aa3-981a-bc7b1762c980",
   "metadata": {},
   "outputs": [
    {
     "data": {
      "text/plain": [
       "[160.2, 182.3, 184.2, 185.3, 177.1, 152.7, 158.4, 161.2, 161.3, 167.8]"
      ]
     },
     "execution_count": 43,
     "metadata": {},
     "output_type": "execute_result"
    }
   ],
   "source": [
    "population = df['Standing Height (cm)'].to_list()\n",
    "population_mean = sum(population)/len(population)\n",
    "population[:10]"
   ]
  },
  {
   "cell_type": "code",
   "execution_count": 44,
   "id": "5c7225f9-2f97-4745-92e9-7e9e258f521c",
   "metadata": {},
   "outputs": [
    {
     "data": {
      "text/plain": [
       "[1, 11, 17, 3, 8, 13, 16, 6, 7, 14]"
      ]
     },
     "execution_count": 44,
     "metadata": {},
     "output_type": "execute_result"
    }
   ],
   "source": [
    "hashed = []\n",
    "for x in population:\n",
    "    h = int(((x%3) + (x%5)*4)%len(population))\n",
    "    hashed.append(h)\n",
    "hashed[:10]"
   ]
  },
  {
   "cell_type": "code",
   "execution_count": 45,
   "id": "2e06c8e2-f1c9-48b6-9cdc-aa25c1a03b9d",
   "metadata": {},
   "outputs": [
    {
     "data": {
      "text/plain": [
       "[160.2, 159.2, 157.4, 162.5, 177.1, 172.6, 161.2, 160.2, 172.6, 161.3]"
      ]
     },
     "execution_count": 45,
     "metadata": {},
     "output_type": "execute_result"
    }
   ],
   "source": [
    "sample_size = 10\n",
    "sample = [population[i] for i in random.choices(hashed, k = sample_size)]\n",
    "sample"
   ]
  },
  {
   "cell_type": "code",
   "execution_count": 46,
   "id": "453e2b4e-dc20-4dc4-bd0b-244e1fa3c3bc",
   "metadata": {},
   "outputs": [
    {
     "name": "stdout",
     "output_type": "stream",
     "text": [
      "Population Mean: 166.64118979494518\n",
      "Sample Mean: 164.43\n"
     ]
    }
   ],
   "source": [
    "sample_mean = sum(sample)/sample_size\n",
    "print(\"Population Mean:\",population_mean)\n",
    "print(\"Sample Mean:\",sample_mean)"
   ]
  },
  {
   "cell_type": "code",
   "execution_count": 68,
   "id": "b38f69db-87ed-4849-abec-889da7de8a3b",
   "metadata": {},
   "outputs": [
    {
     "data": {
      "text/plain": [
       "6.9164939737477455"
      ]
     },
     "execution_count": 68,
     "metadata": {},
     "output_type": "execute_result"
    }
   ],
   "source": [
    "std = (sum([(x-sample_mean)**2 for x in sample])/(sample_size - 1))**0.5\n",
    "std"
   ]
  },
  {
   "cell_type": "code",
   "execution_count": 74,
   "id": "70aa8b35-bdf1-44c0-9178-d8b663fd0d78",
   "metadata": {},
   "outputs": [
    {
     "name": "stdout",
     "output_type": "stream",
     "text": [
      "T Statistic: -1.0109740740739108\n"
     ]
    }
   ],
   "source": [
    "t = (sample_mean - population_mean)/(std/(sample_size**0.5))\n",
    "print(\"T Statistic:\",t)"
   ]
  },
  {
   "cell_type": "code",
   "execution_count": 82,
   "id": "fc8896a4-1a79-4f01-9f7b-3bbc85a4ecfb",
   "metadata": {},
   "outputs": [
    {
     "name": "stdout",
     "output_type": "stream",
     "text": [
      "Critical Value: 1.8331129326536337\n"
     ]
    }
   ],
   "source": [
    "tail = 1 #1 left tail, 2 two tail, 3 right tail\n",
    "alpha = 0.05\n",
    "area = alpha/2 if tail == 2 else alpha\n",
    "dof = sample_size - 1\n",
    "critical = abs(stats.t.ppf(area, dof))\n",
    "print(\"Critical Value:\",critical)"
   ]
  },
  {
   "cell_type": "code",
   "execution_count": 83,
   "id": "361b3b98-bce9-439e-bf06-9747f464c08a",
   "metadata": {},
   "outputs": [
    {
     "name": "stdout",
     "output_type": "stream",
     "text": [
      "T Statistic: -1.0109740740739108\n",
      "Absolute |Critical Value|: 1.8331129326536337\n",
      "Fail to reject the null hypothesis.\n"
     ]
    }
   ],
   "source": [
    "print(\"T Statistic:\",t)\n",
    "print(\"Absolute |Critical Value|:\",critical)\n",
    "if abs(t) > critical:\n",
    "    print(\"Reject the null hypothesis.\")\n",
    "else:\n",
    "    print(\"Fail to reject the null hypothesis.\")"
   ]
  }
 ],
 "metadata": {
  "kernelspec": {
   "display_name": "Python 3 (ipykernel)",
   "language": "python",
   "name": "python3"
  },
  "language_info": {
   "codemirror_mode": {
    "name": "ipython",
    "version": 3
   },
   "file_extension": ".py",
   "mimetype": "text/x-python",
   "name": "python",
   "nbconvert_exporter": "python",
   "pygments_lexer": "ipython3",
   "version": "3.12.4"
  }
 },
 "nbformat": 4,
 "nbformat_minor": 5
}
