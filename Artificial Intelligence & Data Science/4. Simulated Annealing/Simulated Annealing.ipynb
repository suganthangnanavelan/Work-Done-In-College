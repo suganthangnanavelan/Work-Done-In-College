{
 "cells": [
  {
   "cell_type": "code",
   "execution_count": 1,
   "id": "1fbe1abb-5a71-4dce-99dc-efbab49656dd",
   "metadata": {},
   "outputs": [
    {
     "name": "stdout",
     "output_type": "stream",
     "text": [
      "Best Solution: [237.898457820143, 305.2266374716799]\n",
      "Best Cost: 149758.97645547066\n"
     ]
    }
   ],
   "source": [
    "import math\n",
    "import random\n",
    "def simulated_annealing(initsol, inittemp, alpha, iters):\n",
    "    currsol = initsol\n",
    "    cost = fcost(currsol)\n",
    "    sol = currsol\n",
    "    mincost = cost\n",
    "    temp = inittemp\n",
    "    for iteration in range(iters):\n",
    "        neighbor = successors(currsol)\n",
    "        ncost = fcost(neighbor)\n",
    "        costdiff = ncost - cost\n",
    "        if costdiff < 0 or random.random() < math.exp(-costdiff/temp):\n",
    "            currsol = neighbor\n",
    "            cost = ncost\n",
    "            if cost < mincost:\n",
    "                sol = currsol\n",
    "                mincost = cost\n",
    "        temp *= alpha\n",
    "    return sol, mincost\n",
    "def fcost(sol):\n",
    "    return sum([i**2 for i in sol])\n",
    "def successors(sol, step = 1.0):\n",
    "    succ = [x + random.uniform(-step,step) for x in sol]\n",
    "    return succ\n",
    "\n",
    "def main():\n",
    "    initsol = [300.0, 400.0]\n",
    "    inittemp = 1000.0\n",
    "    alpha = 0.95\n",
    "    iters = 500\n",
    "    \n",
    "    bestsol, cost = simulated_annealing(initsol, inittemp, alpha, iters)\n",
    "    print(\"Best Solution:\",bestsol)\n",
    "    print(\"Best Cost:\",cost)\n",
    "\n",
    "    #Sample input/output (can change due to the use of random)\n",
    "    #Best Solution: [225.56303970871514, 294.69364950481685]\n",
    "    #Best Cost: 137723.03194110325\n",
    "main()"
   ]
  }
 ],
 "metadata": {
  "kernelspec": {
   "display_name": "Python 3 (ipykernel)",
   "language": "python",
   "name": "python3"
  },
  "language_info": {
   "codemirror_mode": {
    "name": "ipython",
    "version": 3
   },
   "file_extension": ".py",
   "mimetype": "text/x-python",
   "name": "python",
   "nbconvert_exporter": "python",
   "pygments_lexer": "ipython3",
   "version": "3.12.4"
  }
 },
 "nbformat": 4,
 "nbformat_minor": 5
}
