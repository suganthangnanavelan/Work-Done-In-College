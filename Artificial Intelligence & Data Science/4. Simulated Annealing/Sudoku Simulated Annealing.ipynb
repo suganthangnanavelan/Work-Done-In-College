{
 "cells": [
  {
   "cell_type": "code",
   "execution_count": 1,
   "id": "3686dceb-7ecd-40c8-8f9c-eab71bd40f11",
   "metadata": {
    "scrolled": true
   },
   "outputs": [
    {
     "name": "stdout",
     "output_type": "stream",
     "text": [
      "Sudoku (Best Possible State | Attacks = 7)\n",
      "5 3 9 8 7 6 4 1 2\n",
      "6 7 2 1 9 5 3 4 8\n",
      "1 9 8 2 4 3 5 6 7\n",
      "8 1 5 9 6 4 7 2 3\n",
      "4 2 6 8 7 3 9 5 1\n",
      "7 9 3 5 2 1 8 4 6\n",
      "9 6 1 3 5 7 2 8 4\n",
      "2 8 7 4 1 9 6 3 5\n",
      "3 5 4 6 8 2 1 7 9\n",
      "\n"
     ]
    }
   ],
   "source": [
    "import math \n",
    "import random\n",
    "def display(board):\n",
    "    for row in board:\n",
    "        print(' '.join(str(num) if num != 0 else '.' for num in row))\n",
    "    print()\n",
    "def fill(board):\n",
    "    for i in range(9):\n",
    "        choices = list(set(range(1,10)) - set(board[i]) - {0})\n",
    "        random.shuffle(choices)\n",
    "        for j in range(9):\n",
    "            if board[i][j] == 0:\n",
    "                board[i][j] = choices.pop()\n",
    "def cost(board):\n",
    "    conflicts = 0\n",
    "    for n in range(9):\n",
    "        row = board[n]\n",
    "        col = [x[n] for x in board]\n",
    "        conflicts += len(row) - len(set(row))\n",
    "        conflicts += len(col) - len(set(col))\n",
    "    for l in [0,3,6]:\n",
    "        for k in [0,3,6]:\n",
    "            block = []\n",
    "            for i in range(0+l,3+l):\n",
    "                for j in range(0+k,3+k):\n",
    "                    block.append(board[i][j])\n",
    "            conflicts += 9 - len(set(block))\n",
    "    return conflicts\n",
    "def next(board, fixed):\n",
    "    neighbor = [[x for x in row] for row in board]\n",
    "    i = random.randint(0,8)\n",
    "    cols = [j for j in range(9) if (i,j) not in fixed]\n",
    "    if len(cols) >= 2:\n",
    "        j1, j2 = random.sample(cols, 2)\n",
    "        neighbor[i][j1], neighbor[i][j2] = neighbor[i][j2], neighbor[i][j1]\n",
    "    return neighbor\n",
    "def simulated_annealing(board, initial_temp = 1.0, cooling_rate = 0.99, min_temp = 0.001):\n",
    "    fixed = [(x,y) for x in range(9) for y in range(9) if board[x][y] != 0]\n",
    "    fill(board)\n",
    "    current = best = board\n",
    "    temp = initial_temp\n",
    "    while temp > min_temp:\n",
    "        neighbor = next(current,fixed)\n",
    "        delta = cost(neighbor) - cost(current)\n",
    "        if delta < 0:\n",
    "            current = neighbor\n",
    "            if cost(neighbor) < cost(best):\n",
    "                best = neighbor\n",
    "        else:\n",
    "            if random.random() < math.exp(-delta/temp):\n",
    "                current = neighbor\n",
    "        temp *= cooling_rate\n",
    "    print(f\"Sudoku ({'Best Possible State | Attacks = '+str(cost(best)) if cost(best) else 'Solved'})\") \n",
    "    display(best)\n",
    "\n",
    "def main():\n",
    "    board =[[5, 3, 0, 0, 7, 0, 0, 0, 0],\n",
    "            [6, 0, 0, 1, 9, 5, 0, 0, 0],\n",
    "            [0, 9, 8, 0, 0, 0, 0, 6, 0],\n",
    "            [8, 0, 0, 0, 6, 0, 0, 0, 3],\n",
    "            [4, 0, 0, 8, 0, 3, 0, 0, 1],\n",
    "            [7, 0, 0, 0, 2, 0, 0, 0, 6],\n",
    "            [0, 6, 0, 0, 0, 0, 2, 8, 0],\n",
    "            [0, 0, 0, 4, 1, 9, 0, 0, 5],\n",
    "            [0, 0, 0, 0, 8, 0, 0, 7, 9]]\n",
    "    simulated_annealing(board)                                       \n",
    "main()"
   ]
  }
 ],
 "metadata": {
  "kernelspec": {
   "display_name": "Python 3 (ipykernel)",
   "language": "python",
   "name": "python3"
  },
  "language_info": {
   "codemirror_mode": {
    "name": "ipython",
    "version": 3
   },
   "file_extension": ".py",
   "mimetype": "text/x-python",
   "name": "python",
   "nbconvert_exporter": "python",
   "pygments_lexer": "ipython3",
   "version": "3.12.4"
  }
 },
 "nbformat": 4,
 "nbformat_minor": 5
}
