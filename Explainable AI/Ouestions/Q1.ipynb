{
 "cells": [
  {
   "cell_type": "markdown",
   "id": "b4680af5-77e8-4743-8acb-b60446e0a4d4",
   "metadata": {},
   "source": [
    "<h1>Download the Credit Card Fraud Detection dataset. Use the SMOTE (Synthetic\n",
    "Minority Oversampling Technique) algorithm to balance the dataset. Then, train\n",
    "and evaluate a Logistic Regression model on the data before and after applying\n",
    "SMOTE. Compare the models performance in both cases.</h1>"
   ]
  },
  {
   "cell_type": "markdown",
   "id": "ac8b845d-dc46-426d-a390-a7361b68685c",
   "metadata": {},
   "source": [
    "<h1>dataset link</h1>"
   ]
  },
  {
   "cell_type": "markdown",
   "id": "16013e87-7144-4430-8f08-306d0a4ba365",
   "metadata": {},
   "source": [
    "<h1>https://www.kaggle.com/datasets/mlg-ulb/creditcardfraud</h1>"
   ]
  },
  {
   "cell_type": "code",
   "execution_count": null,
   "id": "25445452",
   "metadata": {},
   "outputs": [],
   "source": [
    "#!pip install pandas matplotlib seaborn scikit-learn imbalanced-learn --quiet\n"
   ]
  },
  {
   "cell_type": "code",
   "execution_count": null,
   "id": "e7899e39",
   "metadata": {},
   "outputs": [],
   "source": [
    "#pip install -U scikit-learn imbalanced-learn\n"
   ]
  },
  {
   "cell_type": "code",
   "execution_count": null,
   "id": "e1255b28-ef76-4019-80c6-8f8d57b142d0",
   "metadata": {},
   "outputs": [],
   "source": [
    "import pandas as pd\n",
    "import matplotlib.pyplot as plt\n",
    "import seaborn as sns\n",
    "from sklearn.model_selection import train_test_split\n",
    "from sklearn.linear_model import LogisticRegression\n",
    "from sklearn.metrics import classification_report, confusion_matrix, roc_curve, auc\n",
    "from imblearn.over_sampling import SMOTE\n",
    "import warnings\n",
    "warnings.filterwarnings('ignore')\n",
    "# Load dataset\n",
    "df = pd.read_csv(\"creditcard.csv\")\n",
    "\n",
    "# Features and target\n",
    "X = df.drop(columns=[\"Class\"])\n",
    "y = df[\"Class\"]\n",
    "\n",
    "# Train-test split\n",
    "X_train, X_test, y_train, y_test = train_test_split(X, y, test_size=0.3, random_state=42)\n",
    "\n",
    "# Class distribution before SMOTE\n",
    "plt.figure(figsize=(5, 4))\n",
    "sns.countplot(x=y)\n",
    "plt.title(\"Class Distribution Before SMOTE\")\n",
    "plt.xlabel(\"Class\")\n",
    "plt.ylabel(\"Count\")\n",
    "plt.show()\n",
    "\n"
   ]
  },
  {
   "cell_type": "code",
   "execution_count": null,
   "id": "83bd4937",
   "metadata": {},
   "outputs": [],
   "source": [
    "df['Class'].value_counts()"
   ]
  },
  {
   "cell_type": "code",
   "execution_count": null,
   "id": "03293d81-832c-40ce-bfa8-9b83183aeaa0",
   "metadata": {},
   "outputs": [],
   "source": [
    "# Logistic Regression without SMOTE\n",
    "model = LogisticRegression(max_iter=1000)\n",
    "model.fit(X_train, y_train)\n",
    "y_pred = model.predict(X_test)\n"
   ]
  },
  {
   "cell_type": "code",
   "execution_count": null,
   "id": "8d13d00e-4b51-4984-aa8a-bed9bdb28d9a",
   "metadata": {},
   "outputs": [],
   "source": [
    "plt.title(\"Confusion Matrix Before SMOTE\")\n",
    "sns.heatmap(confusion_matrix(y_test, y_pred), annot=True, fmt=\"d\")\n",
    "plt.show()"
   ]
  },
  {
   "cell_type": "code",
   "execution_count": null,
   "id": "3bdc518e-3080-4866-a26f-b20b7411f3c3",
   "metadata": {},
   "outputs": [],
   "source": [
    "# Apply SMOTE\n",
    "smote = SMOTE(random_state=42)\n",
    "X_train_smote, y_train_smote = smote.fit_resample(X_train, y_train)\n",
    "\n",
    "# Class distribution after SMOTE\n",
    "plt.figure(figsize=(5, 4))\n",
    "sns.countplot(x=y_train_smote)\n",
    "plt.title(\"Class Distribution After SMOTE\")\n",
    "plt.xlabel(\"Class\")\n",
    "plt.ylabel(\"Count\")\n",
    "plt.show()\n",
    "\n",
    "# Logistic Regression with SMOTE\n",
    "model_smote = LogisticRegression(max_iter=1000)\n",
    "model_smote.fit(X_train_smote, y_train_smote)\n",
    "y_pred_smote = model_smote.predict(X_test)\n"
   ]
  },
  {
   "cell_type": "code",
   "execution_count": null,
   "id": "43dd7ca8-d47f-4695-b67a-5759f08245ef",
   "metadata": {},
   "outputs": [],
   "source": [
    "plt.title(\"Confusion Matrix After SMOTE\")\n",
    "sns.heatmap(confusion_matrix(y_test, y_pred_smote), annot=True, fmt=\"d\")\n",
    "plt.show()"
   ]
  },
  {
   "cell_type": "code",
   "execution_count": null,
   "id": "b362b271-4469-4da2-a692-9961234f0024",
   "metadata": {},
   "outputs": [],
   "source": [
    "\n",
    "fpr1, tpr1, _ = roc_curve(y_test, model.predict_proba(X_test)[:, 1])\n",
    "fpr2, tpr2, _ = roc_curve(y_test, model_smote.predict_proba(X_test)[:, 1])\n",
    "plt.figure(figsize=(6, 4))\n",
    "plt.plot(fpr1, tpr1, label=f\"Before SMOTE (AUC = {auc(fpr1, tpr1):.2f})\")\n",
    "plt.plot(fpr2, tpr2, label=f\"After SMOTE (AUC = {auc(fpr2, tpr2):.2f})\")\n",
    "plt.plot([0, 1], [0, 1], 'k--')\n",
    "plt.xlabel(\"False Positive Rate\")\n",
    "plt.ylabel(\"True Positive Rate\")\n",
    "plt.title(\"ROC Curve Comparison\")\n",
    "plt.legend()\n",
    "plt.show()\n",
    "\n",
    "# Classification reports\n",
    "print(\"Before SMOTE:\\n\", classification_report(y_test, y_pred))\n",
    "print(\"After SMOTE:\\n\", classification_report(y_test, y_pred_smote))\n"
   ]
  },
  {
   "cell_type": "markdown",
   "id": "00d7baa5-b1a1-4bb5-b8c3-2552f5572af1",
   "metadata": {},
   "source": [
    "<h1>Load minist data set using the following code:\n",
    "from tensorflow.keras.datasets import mnist\n",
    "# Loads the MNIST dataset\n",
    "(x_train, y_train), (x_test, y_test) = mnist.load_data()\n",
    "Perform minimum of five EDA on the above mentioned data set.</h1>"
   ]
  },
  {
   "cell_type": "code",
   "execution_count": null,
   "id": "6860aef9-f583-44d1-a538-b8f8adc3026f",
   "metadata": {},
   "outputs": [],
   "source": [
    "import numpy as np\n",
    "import matplotlib.pyplot as plt\n",
    "import seaborn as sns\n",
    "from tensorflow.keras.datasets import mnist\n",
    "from tensorflow.image import flip_left_right, rot90"
   ]
  },
  {
   "cell_type": "code",
   "execution_count": null,
   "id": "17ce9851-25fb-40e7-ac3b-27c3f386fe49",
   "metadata": {},
   "outputs": [],
   "source": [
    "(x_train, y_train), (x_test, y_test) = mnist.load_data()"
   ]
  },
  {
   "cell_type": "code",
   "execution_count": null,
   "id": "a48e2cfb-5f35-4350-b62b-3e63a446c646",
   "metadata": {},
   "outputs": [],
   "source": [
    "# 1. Function to plot images from the dataset\n",
    "def plot_sample_images(images, labels, count=10):\n",
    "    plt.figure(figsize=(15, 2))\n",
    "    for i in range(count):\n",
    "        plt.subplot(1, count, i+1)\n",
    "        plt.imshow(images[i], cmap='gray')\n",
    "        plt.title(f\"Label: {labels[i]}\")\n",
    "        plt.axis('off')\n",
    "    plt.show()\n",
    "\n",
    "plot_sample_images(x_train, y_train)"
   ]
  },
  {
   "cell_type": "code",
   "execution_count": null,
   "id": "0f97abbe-26ce-421f-9dc4-e3c86a6deb45",
   "metadata": {},
   "outputs": [],
   "source": [
    "# 2.Visualize class distribution\n",
    "sns.countplot(x=y_train)\n",
    "plt.title(\"Class Distribution\")\n",
    "plt.xlabel(\"Digit\")\n",
    "plt.ylabel(\"Count\")\n",
    "plt.show()\n"
   ]
  },
  {
   "cell_type": "code",
   "execution_count": null,
   "id": "686a47bc-374b-4a92-a3b3-53455700643d",
   "metadata": {},
   "outputs": [],
   "source": [
    "# 3.Plot the distribution of image sizes\n",
    "sizes = [(img.shape[0], img.shape[1]) for img in x_train]\n",
    "sns.histplot(sizes)\n",
    "plt.title(\"Image Size Distribution\")\n",
    "plt.xlabel(\"Size\")\n",
    "plt.ylabel(\"Frequency\")\n",
    "plt.show()"
   ]
  },
  {
   "cell_type": "code",
   "execution_count": null,
   "id": "afe4ceee-437a-40ca-ba7b-79dab6f8e668",
   "metadata": {},
   "outputs": [],
   "source": [
    "# 4.Plot the distribution of pixel values (RGB channels) for a sample image\n",
    "sample_img = x_train[0]\n",
    "plt.hist(sample_img.ravel(), bins=50, color='blue', alpha=0.7)\n",
    "plt.title(\"Pixel Value Distribution\")\n",
    "plt.xlabel(\"Pixel Intensity\")\n",
    "plt.ylabel(\"Count\")\n",
    "plt.show()\n"
   ]
  },
  {
   "cell_type": "code",
   "execution_count": null,
   "id": "492d7e9f-a98e-43f0-9a08-c2bed7fec88f",
   "metadata": {},
   "outputs": [],
   "source": [
    "#5. Function to apply basic augmentation techniques\n",
    "def augment_image(img):\n",
    "    flipped = flip_left_right(img[..., np.newaxis])\n",
    "    rotated = rot90(img[..., np.newaxis])\n",
    "    return flipped.numpy().squeeze(), rotated.numpy().squeeze()\n",
    "\n",
    "flip, rot = augment_image(x_train[0])\n",
    "plt.subplot(1, 3, 1)\n",
    "plt.imshow(x_train[0], cmap='gray')\n",
    "plt.title(\"Original\")\n",
    "plt.axis('off')\n",
    "plt.subplot(1, 3, 2)\n",
    "plt.imshow(flip, cmap='gray')\n",
    "plt.title(\"Flipped\")\n",
    "plt.axis('off')\n",
    "plt.subplot(1, 3, 3)\n",
    "plt.imshow(rot, cmap='gray')\n",
    "plt.title(\"Rotated\")\n",
    "plt.axis('off')\n",
    "plt.show()"
   ]
  },
  {
   "cell_type": "code",
   "execution_count": null,
   "id": "cbb73cd8-3006-4962-bb82-da6cb38aed10",
   "metadata": {},
   "outputs": [],
   "source": [
    "# 6.Calculate mean and standard deviation of pixel values\n",
    "mean = np.mean(x_train)\n",
    "std = np.std(x_train)\n",
    "print(f\"Mean pixel value: {mean:.2f}, Standard deviation: {std:.2f}\")\n"
   ]
  },
  {
   "cell_type": "code",
   "execution_count": null,
   "id": "881c91f4-5d2b-4538-85d4-9607ee130c85",
   "metadata": {},
   "outputs": [],
   "source": [
    "#7. Display one image from each class\n",
    "plt.figure(figsize=(12, 4))\n",
    "for digit in range(10):\n",
    "    idx = np.where(y_train == digit)[0][0]\n",
    "    plt.subplot(2, 5, digit+1)\n",
    "    plt.imshow(x_train[idx], cmap='gray')\n",
    "    plt.title(f\"Digit: {digit}\")\n",
    "    plt.axis('off')\n",
    "plt.tight_layout()\n",
    "plt.show()\n"
   ]
  },
  {
   "cell_type": "code",
   "execution_count": null,
   "id": "14cfcbec-306a-4996-9cb7-d73d32fb2d54",
   "metadata": {},
   "outputs": [],
   "source": []
  }
 ],
 "metadata": {
  "kernelspec": {
   "display_name": "Python 3 (ipykernel)",
   "language": "python",
   "name": "python3"
  },
  "language_info": {
   "codemirror_mode": {
    "name": "ipython",
    "version": 3
   },
   "file_extension": ".py",
   "mimetype": "text/x-python",
   "name": "python",
   "nbconvert_exporter": "python",
   "pygments_lexer": "ipython3",
   "version": "3.12.4"
  }
 },
 "nbformat": 4,
 "nbformat_minor": 5
}
