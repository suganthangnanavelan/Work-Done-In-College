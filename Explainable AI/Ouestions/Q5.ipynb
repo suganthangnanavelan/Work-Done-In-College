{
 "cells": [
  {
   "cell_type": "raw",
   "id": "8162b3fe-ad19-43cb-bfcc-e82ded327445",
   "metadata": {},
   "source": [
    "1.\tPerform a counterfactual explanation on the Iris dataset. Analyze how the model’s prediction would change by modifying certain feature values and explain which feature alterations have the most significant impact on the outcome.\n",
    "2.\t Conduct a feature importance analysis on the Diabetes dataset. Use an appropriate technique to evaluate the contribution of each feature to the model's predictions, and identify which features are the most influential in determining the outcome"
   ]
  },
  {
   "cell_type": "markdown",
   "id": "8ac58536",
   "metadata": {},
   "source": [
    "DATASET LINK-https://drive.google.com/drive/folders/1fcTn5rc-CcqX40JzVq4qwPkeRo3_fzGa?usp=sharing"
   ]
  },
  {
   "cell_type": "markdown",
   "id": "e0cc5c1d",
   "metadata": {},
   "source": [
    "### 1)Perform a counterfactual explanation on the Iris dataset. Analyze how the model’sprediction would change by modifying certain feature values and explain whichfeature alterations have the most significant impact on the outcome"
   ]
  },
  {
   "cell_type": "markdown",
   "id": "cacd38ba",
   "metadata": {},
   "source": [
    "Install Required Libraries"
   ]
  },
  {
   "cell_type": "code",
   "execution_count": null,
   "id": "d140f733",
   "metadata": {},
   "outputs": [],
   "source": [
    "#!pip install scikit-learn pandas matplotlib seaborn --quiet\n"
   ]
  },
  {
   "cell_type": "markdown",
   "id": "dda2c1ac",
   "metadata": {},
   "source": [
    "Load and Preprocess the Dataset"
   ]
  },
  {
   "cell_type": "code",
   "execution_count": null,
   "id": "4a181dfe",
   "metadata": {},
   "outputs": [],
   "source": [
    "import pandas as pd\n",
    "from sklearn.preprocessing import LabelEncoder\n",
    "\n",
    "# Load the data\n",
    "df = pd.read_csv('Iris.csv')\n",
    "df = df.drop(columns=['Id'])\n",
    "\n",
    "# Encode species\n",
    "le = LabelEncoder()\n",
    "df['Species'] = le.fit_transform(df['Species'])\n",
    "\n",
    "df.head()\n"
   ]
  },
  {
   "cell_type": "markdown",
   "id": "b4388b9e",
   "metadata": {},
   "source": [
    "Train a Random Forest Classifier"
   ]
  },
  {
   "cell_type": "code",
   "execution_count": null,
   "id": "75acbf55",
   "metadata": {},
   "outputs": [],
   "source": [
    "from sklearn.model_selection import train_test_split\n",
    "from sklearn.ensemble import RandomForestClassifier\n",
    "\n",
    "X = df.drop('Species', axis=1)\n",
    "y = df['Species']\n",
    "\n",
    "X_train, X_test, y_train, y_test = train_test_split(X, y, test_size=0.2, random_state=42)\n",
    "\n",
    "model = RandomForestClassifier(random_state=42)\n",
    "model.fit(X_train, y_train)\n"
   ]
  },
  {
   "cell_type": "markdown",
   "id": "43dc471b",
   "metadata": {},
   "source": [
    "Choose a Sample and Predict Original Class"
   ]
  },
  {
   "cell_type": "code",
   "execution_count": null,
   "id": "63f18f66",
   "metadata": {
    "scrolled": true
   },
   "outputs": [],
   "source": [
    "# Choose one instance to explain\n",
    "query_instance = X_test.iloc[[0]]\n",
    "original_pred = model.predict(query_instance)[0]\n",
    "\n",
    "print(\"Original Class:\", original_pred, \"-\", le.inverse_transform([original_pred])[0])\n",
    "query_instance\n"
   ]
  },
  {
   "cell_type": "markdown",
   "id": "4c46391c",
   "metadata": {},
   "source": [
    "Generate Manual Counterfactuals (Systematic Perturbation)"
   ]
  },
  {
   "cell_type": "code",
   "execution_count": null,
   "id": "b1cac1c2",
   "metadata": {},
   "outputs": [],
   "source": [
    "import numpy as np\n",
    "\n",
    "# Define steps for perturbation\n",
    "steps = 20\n",
    "feature_changes = {}\n",
    "\n",
    "# Store counterfactual predictions\n",
    "for feature in X.columns:\n",
    "    values = np.linspace(X[feature].min(), X[feature].max(), steps)\n",
    "    predictions = []\n",
    "\n",
    "    for val in values:\n",
    "        modified_instance = query_instance.copy()\n",
    "        modified_instance[feature] = val\n",
    "        pred = model.predict(modified_instance)[0]\n",
    "        predictions.append(pred)\n",
    "    \n",
    "    feature_changes[feature] = {\n",
    "        'values': values,\n",
    "        'predictions': predictions\n",
    "    }\n"
   ]
  },
  {
   "cell_type": "markdown",
   "id": "1453dedc",
   "metadata": {},
   "source": [
    "Visualize Counterfactual Impact (Prediction vs. Feature Value)"
   ]
  },
  {
   "cell_type": "code",
   "execution_count": null,
   "id": "2da50a26",
   "metadata": {},
   "outputs": [],
   "source": [
    "import matplotlib.pyplot as plt\n",
    "import seaborn as sns\n",
    "\n",
    "# Plot how prediction changes with each feature\n",
    "plt.figure(figsize=(12, 8))\n",
    "for i, (feature, data) in enumerate(feature_changes.items()):\n",
    "    plt.subplot(2, 2, i+1)\n",
    "    sns.scatterplot(x=data['values'], y=data['predictions'])\n",
    "    plt.title(f\"{feature} vs. Predicted Class\")\n",
    "    plt.xlabel(feature)\n",
    "    plt.ylabel(\"Predicted Class\")\n",
    "\n",
    "plt.tight_layout()\n",
    "plt.show()\n"
   ]
  },
  {
   "cell_type": "markdown",
   "id": "67c98c45",
   "metadata": {},
   "source": [
    "Identify Most Impactful Features"
   ]
  },
  {
   "cell_type": "code",
   "execution_count": null,
   "id": "dd73bf4b",
   "metadata": {},
   "outputs": [],
   "source": [
    "# Count how many times each feature caused a class change\n",
    "impact_score = {}\n",
    "for feature, data in feature_changes.items():\n",
    "    transitions = sum(np.array(data['predictions']) != original_pred)\n",
    "    impact_score[feature] = transitions\n",
    "\n",
    "# Sort by impact\n",
    "sorted_impact = dict(sorted(impact_score.items(), key=lambda x: x[1], reverse=True))\n",
    "\n",
    "print(\"Feature Impact Scores (higher = more influence):\")\n",
    "for feature, score in sorted_impact.items():\n",
    "    print(f\"- {feature}: {score} transitions\")\n"
   ]
  },
  {
   "cell_type": "markdown",
   "id": "f836f808",
   "metadata": {},
   "source": [
    "Visualize Most Influential Features (Bar Plot)"
   ]
  },
  {
   "cell_type": "code",
   "execution_count": null,
   "id": "8c35c0b4",
   "metadata": {},
   "outputs": [],
   "source": [
    "plt.figure(figsize=(8, 4))\n",
    "sns.barplot(x=list(sorted_impact.keys()), y=list(sorted_impact.values()))\n",
    "plt.title(\"Feature Impact on Class Change\")\n",
    "plt.xlabel(\"Feature\")\n",
    "plt.ylabel(\"Number of Prediction Changes\")\n",
    "plt.show()\n"
   ]
  },
  {
   "cell_type": "markdown",
   "id": "49e6ebba",
   "metadata": {},
   "source": [
    "Heatmap of Prediction Changes"
   ]
  },
  {
   "cell_type": "code",
   "execution_count": null,
   "id": "02c1db52",
   "metadata": {
    "scrolled": true
   },
   "outputs": [],
   "source": [
    "import numpy as np\n",
    "import seaborn as sns\n",
    "import matplotlib.pyplot as plt\n",
    "\n",
    "# Create a matrix: features x steps\n",
    "heatmap_data = []\n",
    "for feature in X.columns:\n",
    "    pred_labels = feature_changes[feature]['predictions']\n",
    "    heatmap_data.append(pred_labels)\n",
    "\n",
    "# Convert to numpy array\n",
    "heatmap_array = np.array(heatmap_data)\n",
    "\n",
    "# Plot\n",
    "plt.figure(figsize=(10, 5))\n",
    "sns.heatmap(heatmap_array, cmap=\"viridis\", xticklabels=False, yticklabels=list(X.columns))\n",
    "plt.title(\"Prediction Change Heatmap Across Feature Perturbations\")\n",
    "plt.xlabel(\"Steps\")\n",
    "plt.ylabel(\"Features\")\n",
    "plt.show()\n"
   ]
  },
  {
   "cell_type": "markdown",
   "id": "8205bebb",
   "metadata": {},
   "source": [
    "Line Plot of Predictions per Feature"
   ]
  },
  {
   "cell_type": "code",
   "execution_count": null,
   "id": "8354eb84",
   "metadata": {},
   "outputs": [],
   "source": [
    "plt.figure(figsize=(12, 8))\n",
    "for i, (feature, data) in enumerate(feature_changes.items()):\n",
    "    plt.subplot(2, 2, i+1)\n",
    "    plt.plot(data['values'], data['predictions'], marker='o')\n",
    "    plt.title(f\"{feature} Influence on Prediction\")\n",
    "    plt.xlabel(feature)\n",
    "    plt.ylabel(\"Predicted Class\")\n",
    "    plt.grid(True)\n",
    "\n",
    "plt.tight_layout()\n",
    "plt.show()\n"
   ]
  },
  {
   "cell_type": "markdown",
   "id": "87eebb6c",
   "metadata": {},
   "source": [
    "Feature Perturbation Transition Steps Plot"
   ]
  },
  {
   "cell_type": "code",
   "execution_count": null,
   "id": "4838cf9e",
   "metadata": {},
   "outputs": [],
   "source": [
    "# Track transition steps for each feature where prediction changes\n",
    "transition_steps = []\n",
    "\n",
    "for feature, data in feature_changes.items():\n",
    "    preds = np.array(data['predictions'])\n",
    "    original = preds[0]\n",
    "    transition_point = np.where(preds != original)[0]\n",
    "    if len(transition_point) > 0:\n",
    "        transition_steps.append({'Feature': feature, 'Step': transition_point[0]})  # first transition\n",
    "\n",
    "# Plotting the results using a DataFrame\n",
    "if transition_steps:\n",
    "    transition_df = pd.DataFrame(transition_steps)\n",
    "\n",
    "    plt.figure(figsize=(8, 4))\n",
    "    sns.barplot(data=transition_df,hue='Feature',x='Feature', y='Step', palette='coolwarm',legend=False)\n",
    "    plt.title(\"Feature Perturbation Step Causing First Class Change\")\n",
    "    plt.ylabel(\"Step Index (Lower = More Sensitive)\")\n",
    "    plt.xticks(rotation=45)\n",
    "    plt.tight_layout()\n",
    "    plt.show()\n",
    "else:\n",
    "    print(\"No class transitions detected during feature perturbation.\")\n"
   ]
  },
  {
   "cell_type": "markdown",
   "id": "9f8b8f95",
   "metadata": {},
   "source": [
    "Parallel Coordinates Plot (Optional - Multifeature View)"
   ]
  },
  {
   "cell_type": "code",
   "execution_count": null,
   "id": "00312184",
   "metadata": {
    "scrolled": true
   },
   "outputs": [],
   "source": [
    "from pandas.plotting import parallel_coordinates\n",
    "\n",
    "# Combine and label original + a few variations\n",
    "combined_df = query_instance.copy()\n",
    "for feature in X.columns:\n",
    "    alt = query_instance.copy()\n",
    "    alt[feature] += (X[feature].max() - X[feature].min()) * 0.2  # 20% bump\n",
    "    combined_df = pd.concat([combined_df, alt], axis=0)\n",
    "\n",
    "# Add prediction labels for visualization\n",
    "combined_df['Prediction'] = model.predict(combined_df)\n",
    "\n",
    "# Convert numeric class to label\n",
    "combined_df['Prediction'] = le.inverse_transform(combined_df['Prediction'])\n",
    "\n",
    "# Add label for original vs modified\n",
    "combined_df['Type'] = ['Original'] + ['Modified'] * (len(combined_df)-1)\n",
    "\n",
    "# Parallel coordinates plot\n",
    "plt.figure(figsize=(10, 6))\n",
    "parallel_coordinates(combined_df.drop(columns=['Type']), class_column='Prediction', color=('#1f77b4', '#ff7f0e', '#2ca02c'))\n",
    "plt.title(\"Parallel Coordinates Plot: Feature Impact on Prediction\")\n",
    "plt.xticks(rotation=45)\n",
    "plt.grid(True)\n",
    "plt.show()\n"
   ]
  },
  {
   "cell_type": "markdown",
   "id": "6085e06e",
   "metadata": {},
   "source": [
    "Confusion Matrix"
   ]
  },
  {
   "cell_type": "code",
   "execution_count": null,
   "id": "752d34d6",
   "metadata": {},
   "outputs": [],
   "source": [
    "from sklearn.metrics import confusion_matrix, ConfusionMatrixDisplay\n",
    "\n",
    "# Predictions on test set\n",
    "y_pred = model.predict(X_test)\n",
    "\n",
    "# Plot confusion matrix\n",
    "cm = confusion_matrix(y_test, y_pred)\n",
    "disp = ConfusionMatrixDisplay(confusion_matrix=cm, display_labels=le.classes_)\n",
    "disp.plot(cmap='Blues')\n",
    "plt.title(\"Confusion Matrix\")\n",
    "plt.show()\n"
   ]
  },
  {
   "cell_type": "markdown",
   "id": "12137965",
   "metadata": {},
   "source": [
    "Feature Importance Plot"
   ]
  },
  {
   "cell_type": "code",
   "execution_count": null,
   "id": "f2a6d755",
   "metadata": {
    "scrolled": true
   },
   "outputs": [],
   "source": [
    "import numpy as np\n",
    "\n",
    "importances = model.feature_importances_\n",
    "indices = np.argsort(importances)[::-1]\n",
    "\n",
    "plt.figure(figsize=(8, 4))\n",
    "sns.barplot(x=[X.columns[i] for i in indices], y=importances[indices])\n",
    "plt.title(\"Feature Importances (Random Forest)\")\n",
    "plt.xlabel(\"Feature\")\n",
    "plt.ylabel(\"Importance\")\n",
    "plt.show()\n"
   ]
  },
  {
   "cell_type": "markdown",
   "id": "7455f044",
   "metadata": {},
   "source": [
    "Pair Plot (Colored by Predicted Class)"
   ]
  },
  {
   "cell_type": "code",
   "execution_count": null,
   "id": "ea47af82",
   "metadata": {
    "scrolled": true
   },
   "outputs": [],
   "source": [
    "import warnings\n",
    "import seaborn as sns\n",
    "import matplotlib.pyplot as plt\n",
    "\n",
    "# Add predicted labels for visualization\n",
    "viz_df = X_test.copy()\n",
    "viz_df['True'] = le.inverse_transform(y_test)\n",
    "viz_df['Predicted'] = le.inverse_transform(y_pred)\n",
    "\n",
    "# Suppress layout warnings temporarily\n",
    "with warnings.catch_warnings():\n",
    "    warnings.filterwarnings(\"ignore\", message=\".*figure layout has changed to tight.*\")\n",
    "\n",
    "    # Create pairplot\n",
    "    sns.set(style=\"ticks\")\n",
    "    g = sns.pairplot(viz_df, hue='Predicted', corner=True, palette='Set1')\n",
    "    g.fig.suptitle(\"Pair Plot by Predicted Class\", y=1.02)\n",
    "\n",
    "    plt.show()\n"
   ]
  },
  {
   "cell_type": "markdown",
   "id": "412e6b11",
   "metadata": {},
   "source": [
    "Decision Boundary (2D Projection)"
   ]
  },
  {
   "cell_type": "code",
   "execution_count": null,
   "id": "8aca69c1",
   "metadata": {},
   "outputs": [],
   "source": [
    "import numpy as np\n",
    "import matplotlib.pyplot as plt\n",
    "import seaborn as sns\n",
    "\n",
    "# Choose two features for 2D projection\n",
    "feature1 = 'SepalLengthCm'  # Change as needed\n",
    "feature2 = 'SepalWidthCm'   # Change as needed\n",
    "\n",
    "# Create a mesh grid to evaluate model predictions over a 2D space\n",
    "x_min, x_max = X[feature1].min() - 1, X[feature1].max() + 1\n",
    "y_min, y_max = X[feature2].min() - 1, X[feature2].max() + 1\n",
    "\n",
    "xx, yy = np.meshgrid(np.linspace(x_min, x_max, 100),\n",
    "                     np.linspace(y_min, y_max, 100))\n",
    "\n",
    "# Prepare the input for the model (take only the two features for prediction)\n",
    "grid_points = np.c_[xx.ravel(), yy.ravel()]\n",
    "\n",
    "# Create a DataFrame with the same structure as the training data\n",
    "# Fill the other features (PetalLengthCm, PetalWidthCm) with their mean values\n",
    "grid_df = pd.DataFrame(grid_points, columns=[feature1, feature2])\n",
    "grid_df['PetalLengthCm'] = X['PetalLengthCm'].mean()\n",
    "grid_df['PetalWidthCm'] = X['PetalWidthCm'].mean()\n",
    "\n",
    "# Make predictions on the grid points\n",
    "predictions = model.predict(grid_df)\n",
    "\n",
    "# Reshape predictions to match the grid shape\n",
    "Z = predictions.reshape(xx.shape)\n",
    "\n",
    "# Plot the decision boundary\n",
    "plt.figure(figsize=(10, 8))\n",
    "plt.contourf(xx, yy, Z, alpha=0.3, cmap=plt.cm.RdYlBu)\n",
    "\n",
    "# Plot the training points\n",
    "sns.scatterplot(x=X[feature1], y=X[feature2], hue=y, palette=\"deep\", s=100, edgecolor=\"k\")\n",
    "\n",
    "# Highlight the query instance\n",
    "sns.scatterplot(x=query_instance[feature1], y=query_instance[feature2], color=\"black\", marker=\"*\", s=200, label=\"Query Instance\")\n",
    "\n",
    "# Labeling the plot\n",
    "plt.title(f\"Decision Boundary for {feature1} vs {feature2}\")\n",
    "plt.xlabel(feature1)\n",
    "plt.ylabel(feature2)\n",
    "plt.legend()\n",
    "plt.tight_layout()\n",
    "plt.show()\n"
   ]
  },
  {
   "cell_type": "code",
   "execution_count": null,
   "id": "ccc422a7",
   "metadata": {},
   "outputs": [],
   "source": []
  },
  {
   "cell_type": "markdown",
   "id": "76b8511d",
   "metadata": {},
   "source": [
    "### 2)Conduct a feature importance analysis on the Diabetes dataset. Use an appropriatetechnique to evaluate the contribution of each feature to the model's predictions, andidentify which features are the most influential in determining the outcome."
   ]
  },
  {
   "cell_type": "markdown",
   "id": "1e28323c",
   "metadata": {},
   "source": [
    "Install necessary libraries"
   ]
  },
  {
   "cell_type": "code",
   "execution_count": null,
   "id": "5e573730",
   "metadata": {},
   "outputs": [],
   "source": [
    "#!pip install pandas matplotlib seaborn scikit-learn --quiet\n"
   ]
  },
  {
   "cell_type": "markdown",
   "id": "8ce0f9d4",
   "metadata": {},
   "source": [
    "Import Libraries"
   ]
  },
  {
   "cell_type": "code",
   "execution_count": null,
   "id": "79f02371",
   "metadata": {},
   "outputs": [],
   "source": [
    "import pandas as pd\n",
    "import matplotlib.pyplot as plt\n",
    "import seaborn as sns\n",
    "import shap\n",
    "from sklearn.ensemble import RandomForestClassifier\n",
    "from sklearn.model_selection import train_test_split\n",
    "from sklearn.metrics import confusion_matrix, classification_report, ConfusionMatrixDisplay\n",
    "import warnings\n",
    "warnings.filterwarnings('ignore')\n"
   ]
  },
  {
   "cell_type": "markdown",
   "id": "2afc266e",
   "metadata": {},
   "source": [
    "Load and Inspect the Dataset"
   ]
  },
  {
   "cell_type": "code",
   "execution_count": null,
   "id": "47b7f945",
   "metadata": {},
   "outputs": [],
   "source": [
    "# Load dataset\n",
    "df = pd.read_csv('diabetes.csv')\n",
    "\n",
    "# Display basic information\n",
    "print(df.info())\n",
    "\n",
    "# Check for missing values\n",
    "print(\"\\nMissing values:\\n\", df.isnull().sum())\n",
    "\n",
    "# Display first few rows of the dataset\n",
    "df.head()\n"
   ]
  },
  {
   "cell_type": "markdown",
   "id": "9c3cb2cb",
   "metadata": {},
   "source": [
    "Prepare Features and Target Variable"
   ]
  },
  {
   "cell_type": "code",
   "execution_count": null,
   "id": "fa93825e",
   "metadata": {},
   "outputs": [],
   "source": [
    "# Features and target\n",
    "X = df.drop('Outcome', axis=1)\n",
    "y = df['Outcome']\n",
    "\n",
    "# Split the data into training and testing sets\n",
    "X_train, X_test, y_train, y_test = train_test_split(X, y, test_size=0.2, random_state=42)\n"
   ]
  },
  {
   "cell_type": "markdown",
   "id": "6182d006",
   "metadata": {},
   "source": [
    "Train the Random Forest Model"
   ]
  },
  {
   "cell_type": "code",
   "execution_count": null,
   "id": "c3e6d1ff",
   "metadata": {},
   "outputs": [],
   "source": [
    "# Train the Random Forest model\n",
    "model = RandomForestClassifier(random_state=42)\n",
    "model.fit(X_train, y_train)\n"
   ]
  },
  {
   "cell_type": "markdown",
   "id": "7c1347cb",
   "metadata": {},
   "source": [
    "Feature Importance Visualization"
   ]
  },
  {
   "cell_type": "code",
   "execution_count": null,
   "id": "09fb9e62",
   "metadata": {},
   "outputs": [],
   "source": [
    "# Get feature importances\n",
    "importances = model.feature_importances_\n",
    "feature_names = X.columns\n",
    "\n",
    "# Create a DataFrame for visualizing feature importances\n",
    "feature_imp_df = pd.DataFrame({\n",
    "    'Feature': feature_names,\n",
    "    'Importance': importances\n",
    "}).sort_values(by='Importance', ascending=False)\n",
    "\n",
    "# Plot Feature Importance\n",
    "plt.figure(figsize=(10, 6))\n",
    "sns.barplot(x='Importance', y='Feature', data=feature_imp_df, palette='viridis')\n",
    "plt.title('Feature Importance - Random Forest')\n",
    "plt.xlabel('Importance Score')\n",
    "plt.ylabel('Features')\n",
    "plt.tight_layout()\n",
    "plt.show()\n"
   ]
  },
  {
   "cell_type": "markdown",
   "id": "4abb043b",
   "metadata": {},
   "source": [
    "Display Top 3 Important Features"
   ]
  },
  {
   "cell_type": "code",
   "execution_count": null,
   "id": "597afccf",
   "metadata": {},
   "outputs": [],
   "source": [
    "# Display top 3 important features\n",
    "top_features = feature_imp_df.head(3)\n",
    "top_features\n"
   ]
  },
  {
   "cell_type": "markdown",
   "id": "a9c73329",
   "metadata": {},
   "source": [
    "Confusion Matrix and Classification Report"
   ]
  },
  {
   "cell_type": "code",
   "execution_count": null,
   "id": "9738ebae",
   "metadata": {},
   "outputs": [],
   "source": [
    "# Predict on test data\n",
    "y_pred = model.predict(X_test)\n",
    "\n",
    "# Confusion matrix\n",
    "cm = confusion_matrix(y_test, y_pred)\n",
    "disp = ConfusionMatrixDisplay(confusion_matrix=cm, display_labels=model.classes_)\n",
    "disp.plot(cmap='Blues')\n",
    "plt.title('Confusion Matrix')\n",
    "plt.show()\n",
    "# Classification report\n",
    "print(classification_report(y_test, y_pred))\n"
   ]
  },
  {
   "cell_type": "markdown",
   "id": "a4f200cd",
   "metadata": {},
   "source": [
    "Not Needed SHAP (Optional Advanced Feature Importance)"
   ]
  },
  {
   "cell_type": "code",
   "execution_count": null,
   "id": "d8b2d842",
   "metadata": {
    "scrolled": true
   },
   "outputs": [],
   "source": [
    "#!pip install shap"
   ]
  },
  {
   "cell_type": "markdown",
   "id": "75f1ea72",
   "metadata": {},
   "source": [
    "SHAP Analysis for Feature Contribution"
   ]
  },
  {
   "cell_type": "raw",
   "id": "011f0fda",
   "metadata": {
    "scrolled": true
   },
   "source": [
    "# Initialize SHAP\n",
    "shap.initjs()\n",
    "\n",
    "# Create TreeExplainer and compute SHAP values\n",
    "explainer = shap.TreeExplainer(model)\n",
    "shap_values = explainer.shap_values(X_test)\n",
    "\n",
    "# If there's a shape mismatch, fix it\n",
    "if isinstance(shap_values, list):\n",
    "    shap_vals = shap_values[1]  # Class 1 (diabetic)\n",
    "else:\n",
    "    shap_vals = shap_values\n",
    "\n",
    "# Plot SHAP Summary Plot\n",
    "shap.summary_plot(shap_vals, X_test, plot_type=\"bar\")\n"
   ]
  },
  {
   "cell_type": "raw",
   "id": "a2bd5991",
   "metadata": {},
   "source": [
    "print(\"SHAP values shape:\", shap_values[1].shape)\n",
    "print(\"X_test shape:\", X_test.shape)\n"
   ]
  },
  {
   "cell_type": "markdown",
   "id": "7c98a7eb",
   "metadata": {},
   "source": [
    "Correlation Heatmap"
   ]
  },
  {
   "cell_type": "code",
   "execution_count": null,
   "id": "fc857f1a",
   "metadata": {},
   "outputs": [],
   "source": [
    "# Correlation Heatmap to understand relationships between features\n",
    "plt.figure(figsize=(10, 8))\n",
    "corr = df.corr()\n",
    "sns.heatmap(corr, annot=True, cmap='coolwarm', fmt='.2f')\n",
    "plt.title(\"Correlation Heatmap\")\n",
    "plt.tight_layout()\n",
    "plt.show()\n"
   ]
  },
  {
   "cell_type": "markdown",
   "id": "ed6205f3",
   "metadata": {},
   "source": [
    "Pairplot of Top 3 Important Features"
   ]
  },
  {
   "cell_type": "code",
   "execution_count": null,
   "id": "66f0a3cf",
   "metadata": {},
   "outputs": [],
   "source": [
    "# Extract the top 3 features\n",
    "top_3_features = top_features['Feature'].tolist()\n",
    "\n",
    "# Pairplot for top 3 features\n",
    "sns.pairplot(df[top_3_features + ['Outcome']], hue='Outcome', palette='Set2')\n",
    "plt.suptitle(\"Pairplot of Top 3 Features by Importance\", y=1.02)\n",
    "plt.show()\n"
   ]
  },
  {
   "cell_type": "markdown",
   "id": "167f3ed8",
   "metadata": {},
   "source": [
    "Boxplots of Top 3 Features"
   ]
  },
  {
   "cell_type": "code",
   "execution_count": null,
   "id": "f4c03946",
   "metadata": {},
   "outputs": [],
   "source": [
    "# Boxplots to visualize the distribution of top 3 features against the outcome\n",
    "plt.figure(figsize=(15, 5))\n",
    "for i, feature in enumerate(top_3_features):\n",
    "    plt.subplot(1, 3, i+1)\n",
    "    sns.boxplot(x='Outcome', y=feature, data=df, palette='Set1')\n",
    "    plt.title(f'{feature} vs Outcome')\n",
    "    plt.tight_layout()\n",
    "plt.show()\n"
   ]
  },
  {
   "cell_type": "markdown",
   "id": "f661f7c2",
   "metadata": {},
   "source": [
    "Pairwise Correlation Matrix"
   ]
  },
  {
   "cell_type": "code",
   "execution_count": null,
   "id": "ddfe5f1c",
   "metadata": {
    "scrolled": true
   },
   "outputs": [],
   "source": [
    "# Create a pairwise correlation matrix to visualize relationships between all features\n",
    "sns.pairplot(df, hue='Outcome', palette='Set2', plot_kws={'alpha': 0.7})\n",
    "plt.suptitle(\"Pairwise Correlation Matrix\", y=1.02)\n",
    "plt.show()\n"
   ]
  },
  {
   "cell_type": "markdown",
   "id": "0396fa2a",
   "metadata": {},
   "source": [
    " ROC Curve for Model Evaluation "
   ]
  },
  {
   "cell_type": "code",
   "execution_count": null,
   "id": "28bb1256",
   "metadata": {},
   "outputs": [],
   "source": [
    "from sklearn.metrics import roc_curve, auc\n",
    "\n",
    "# Compute ROC curve\n",
    "fpr, tpr, thresholds = roc_curve(y_test, y_pred)\n",
    "roc_auc = auc(fpr, tpr)\n",
    "\n",
    "# Plot ROC curve\n",
    "plt.figure(figsize=(8, 6))\n",
    "plt.plot(fpr, tpr, color='blue', label=f'ROC curve (area = {roc_auc:.2f})')\n",
    "plt.plot([0, 1], [0, 1], color='gray', linestyle='--')\n",
    "plt.xlabel('False Positive Rate')\n",
    "plt.ylabel('True Positive Rate')\n",
    "plt.title('Receiver Operating Characteristic (ROC) Curve')\n",
    "plt.legend(loc='lower right')\n",
    "plt.tight_layout()\n",
    "plt.show()\n"
   ]
  },
  {
   "cell_type": "markdown",
   "id": "68fba66a",
   "metadata": {},
   "source": [
    "Feature Distribution for Top 3 Features"
   ]
  },
  {
   "cell_type": "code",
   "execution_count": null,
   "id": "0b5d695f",
   "metadata": {},
   "outputs": [],
   "source": [
    "# Visualize distribution of top 3 features\n",
    "plt.figure(figsize=(15, 5))\n",
    "for i, feature in enumerate(top_3_features):\n",
    "    plt.subplot(1, 3, i+1)\n",
    "    sns.histplot(df[feature], kde=True, color='skyblue')\n",
    "    plt.title(f'Distribution of {feature}')\n",
    "    plt.tight_layout()\n",
    "plt.show()\n"
   ]
  },
  {
   "cell_type": "code",
   "execution_count": null,
   "id": "43110782",
   "metadata": {},
   "outputs": [],
   "source": []
  }
 ],
 "metadata": {
  "kernelspec": {
   "display_name": "Python 3 (ipykernel)",
   "language": "python",
   "name": "python3"
  },
  "language_info": {
   "codemirror_mode": {
    "name": "ipython",
    "version": 3
   },
   "file_extension": ".py",
   "mimetype": "text/x-python",
   "name": "python",
   "nbconvert_exporter": "python",
   "pygments_lexer": "ipython3",
   "version": "3.12.4"
  }
 },
 "nbformat": 4,
 "nbformat_minor": 5
}
